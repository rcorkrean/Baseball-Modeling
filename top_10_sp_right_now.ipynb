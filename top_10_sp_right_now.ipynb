{
 "cells": [
  {
   "cell_type": "code",
   "execution_count": 8,
   "id": "initial_id",
   "metadata": {
    "collapsed": true,
    "ExecuteTime": {
     "end_time": "2024-01-11T21:24:52.637017Z",
     "start_time": "2024-01-11T21:24:52.437863Z"
    }
   },
   "outputs": [
    {
     "data": {
      "text/plain": "                      PlayerName     IP SwStr%  K-BB%  xERA  SIERA  FIP-  \\\nSeason PlayerID                                                            \n2023   27552     Graham Ashcraft  145.2   9.6%   9.5%  5.00   4.80   110   \n       19361       Corbin Burnes  193.2  12.2%  17.1%  3.40   4.02    87   \n       24586        Kyle Bradish  168.2  11.0%  18.5%  3.82   3.76    78   \n       27498     Spencer Strider  186.2  18.9%  29.2%  3.09   2.86    66   \n       22182       Hunter Greene  112.0  13.4%  20.9%  3.82   3.74    92   \n...                          ...    ...    ...    ...   ...    ...   ...   \n       14361            Ty Blach   64.2   7.7%   8.0%   NaN   5.17   124   \n       6902         Martin Perez  108.1   7.0%   5.9%   NaN   5.43   120   \n       16256       Kyle Freeland  155.2   7.8%   7.7%  5.74   5.24   115   \n       27472       Jared Shuster   52.2   9.0%   1.7%  5.44   6.12   125   \n       12049      Kyle Hendricks  137.0   9.2%  11.4%  4.18   4.63    88   \n\n                 xFIP-  Stuff+  Pitching+  WAR  aWAR  \nSeason PlayerID                                       \n2023   27552       104     128        103  1.5   1.9  \n       19361        87     127        107  3.4   4.1  \n       24586        82     126        105  3.8   4.6  \n       27498        67     125        112  5.5   4.6  \n       22182        91     124        107  2.0   1.6  \n...                ...     ...        ...  ...   ...  \n       14361       116      75         87  0.2   0.6  \n       6902        123      73         94  0.3   0.4  \n       16256       117      70         94  1.2   1.6  \n       27472       140      64         87  0.1   0.1  \n       12049       101      60         93  2.8   2.4  \n\n[177 rows x 12 columns]",
      "text/html": "<div>\n<style scoped>\n    .dataframe tbody tr th:only-of-type {\n        vertical-align: middle;\n    }\n\n    .dataframe tbody tr th {\n        vertical-align: top;\n    }\n\n    .dataframe thead th {\n        text-align: right;\n    }\n</style>\n<table border=\"1\" class=\"dataframe\">\n  <thead>\n    <tr style=\"text-align: right;\">\n      <th></th>\n      <th></th>\n      <th>PlayerName</th>\n      <th>IP</th>\n      <th>SwStr%</th>\n      <th>K-BB%</th>\n      <th>xERA</th>\n      <th>SIERA</th>\n      <th>FIP-</th>\n      <th>xFIP-</th>\n      <th>Stuff+</th>\n      <th>Pitching+</th>\n      <th>WAR</th>\n      <th>aWAR</th>\n    </tr>\n    <tr>\n      <th>Season</th>\n      <th>PlayerID</th>\n      <th></th>\n      <th></th>\n      <th></th>\n      <th></th>\n      <th></th>\n      <th></th>\n      <th></th>\n      <th></th>\n      <th></th>\n      <th></th>\n      <th></th>\n      <th></th>\n    </tr>\n  </thead>\n  <tbody>\n    <tr>\n      <th rowspan=\"11\" valign=\"top\">2023</th>\n      <th>27552</th>\n      <td>Graham Ashcraft</td>\n      <td>145.2</td>\n      <td>9.6%</td>\n      <td>9.5%</td>\n      <td>5.00</td>\n      <td>4.80</td>\n      <td>110</td>\n      <td>104</td>\n      <td>128</td>\n      <td>103</td>\n      <td>1.5</td>\n      <td>1.9</td>\n    </tr>\n    <tr>\n      <th>19361</th>\n      <td>Corbin Burnes</td>\n      <td>193.2</td>\n      <td>12.2%</td>\n      <td>17.1%</td>\n      <td>3.40</td>\n      <td>4.02</td>\n      <td>87</td>\n      <td>87</td>\n      <td>127</td>\n      <td>107</td>\n      <td>3.4</td>\n      <td>4.1</td>\n    </tr>\n    <tr>\n      <th>24586</th>\n      <td>Kyle Bradish</td>\n      <td>168.2</td>\n      <td>11.0%</td>\n      <td>18.5%</td>\n      <td>3.82</td>\n      <td>3.76</td>\n      <td>78</td>\n      <td>82</td>\n      <td>126</td>\n      <td>105</td>\n      <td>3.8</td>\n      <td>4.6</td>\n    </tr>\n    <tr>\n      <th>27498</th>\n      <td>Spencer Strider</td>\n      <td>186.2</td>\n      <td>18.9%</td>\n      <td>29.2%</td>\n      <td>3.09</td>\n      <td>2.86</td>\n      <td>66</td>\n      <td>67</td>\n      <td>125</td>\n      <td>112</td>\n      <td>5.5</td>\n      <td>4.6</td>\n    </tr>\n    <tr>\n      <th>22182</th>\n      <td>Hunter Greene</td>\n      <td>112.0</td>\n      <td>13.4%</td>\n      <td>20.9%</td>\n      <td>3.82</td>\n      <td>3.74</td>\n      <td>92</td>\n      <td>91</td>\n      <td>124</td>\n      <td>107</td>\n      <td>2.0</td>\n      <td>1.6</td>\n    </tr>\n    <tr>\n      <th>...</th>\n      <td>...</td>\n      <td>...</td>\n      <td>...</td>\n      <td>...</td>\n      <td>...</td>\n      <td>...</td>\n      <td>...</td>\n      <td>...</td>\n      <td>...</td>\n      <td>...</td>\n      <td>...</td>\n      <td>...</td>\n    </tr>\n    <tr>\n      <th>14361</th>\n      <td>Ty Blach</td>\n      <td>64.2</td>\n      <td>7.7%</td>\n      <td>8.0%</td>\n      <td>NaN</td>\n      <td>5.17</td>\n      <td>124</td>\n      <td>116</td>\n      <td>75</td>\n      <td>87</td>\n      <td>0.2</td>\n      <td>0.6</td>\n    </tr>\n    <tr>\n      <th>6902</th>\n      <td>Martin Perez</td>\n      <td>108.1</td>\n      <td>7.0%</td>\n      <td>5.9%</td>\n      <td>NaN</td>\n      <td>5.43</td>\n      <td>120</td>\n      <td>123</td>\n      <td>73</td>\n      <td>94</td>\n      <td>0.3</td>\n      <td>0.4</td>\n    </tr>\n    <tr>\n      <th>16256</th>\n      <td>Kyle Freeland</td>\n      <td>155.2</td>\n      <td>7.8%</td>\n      <td>7.7%</td>\n      <td>5.74</td>\n      <td>5.24</td>\n      <td>115</td>\n      <td>117</td>\n      <td>70</td>\n      <td>94</td>\n      <td>1.2</td>\n      <td>1.6</td>\n    </tr>\n    <tr>\n      <th>27472</th>\n      <td>Jared Shuster</td>\n      <td>52.2</td>\n      <td>9.0%</td>\n      <td>1.7%</td>\n      <td>5.44</td>\n      <td>6.12</td>\n      <td>125</td>\n      <td>140</td>\n      <td>64</td>\n      <td>87</td>\n      <td>0.1</td>\n      <td>0.1</td>\n    </tr>\n    <tr>\n      <th>12049</th>\n      <td>Kyle Hendricks</td>\n      <td>137.0</td>\n      <td>9.2%</td>\n      <td>11.4%</td>\n      <td>4.18</td>\n      <td>4.63</td>\n      <td>88</td>\n      <td>101</td>\n      <td>60</td>\n      <td>93</td>\n      <td>2.8</td>\n      <td>2.4</td>\n    </tr>\n  </tbody>\n</table>\n<p>177 rows × 12 columns</p>\n</div>"
     },
     "execution_count": 8,
     "metadata": {},
     "output_type": "execute_result"
    }
   ],
   "source": [
    "import re\n",
    "\n",
    "import numpy as np\n",
    "import pandas as pd\n",
    "\n",
    "LEAGUE_LOB_PCT = {2021: 0.721, 2022: 0.7257, 2023: 0.7188}\n",
    "LEAGUE_BABIP = {2021: 0.296522719, 2022: 0.290404678, 2023: 0.291664854}\n",
    "\n",
    "def load_leaderboard(fp: str) -> pd.DataFrame:\n",
    "    df = (pd.read_csv(fp)\n",
    "          .drop(['Name', 'Team', 'MLBAMID'], axis=1)\n",
    "          .rename({'NameASCII': 'PlayerName', 'PlayerId': 'PlayerID'}, axis=1)\n",
    "          .set_index('PlayerName')\n",
    "          .reset_index())\n",
    "    df['IP'] = df['IP'].round() + (df['IP'] - df['IP'].round()).div(0.3)\n",
    "    df['aWAR'] = df[['WAR', 'RA9-WAR']].mean(axis=1)\n",
    "    df[['Stuff+', 'Location+', 'Pitching+']] = df[['Stuff+', 'Location+', 'Pitching+']].fillna(0.0)\n",
    "    if '-' in fp:\n",
    "        df = df.set_index('PlayerID')\n",
    "    else:\n",
    "        season = int(re.search('[0-9]+', fp)[0])\n",
    "        df['Season'] = season\n",
    "        df['LOB%+'] = df['LOB%+'].fillna(df['LOB%'].apply(lambda x: np.round(x * 100.0 / LEAGUE_LOB_PCT[season])))\n",
    "        df['BABIP+'] = df['BABIP+'].fillna(df['BABIP'].apply(lambda x: np.round(x * 100.0 / LEAGUE_BABIP[season])))\n",
    "        df = df.set_index(['Season', 'PlayerID'])\n",
    "    \n",
    "    return df\n",
    "\n",
    "def display_leaderboard(df: pd.DataFrame, *args: str) -> pd.DataFrame:\n",
    "    cdf = df.copy()\n",
    "    int_cols = [col for col in cdf if col[-1] in ['+', '-']]\n",
    "    single_digit_cols = ['LA', 'WAR', 'RA9-WAR', 'aWAR']\n",
    "    double_digit_cols = ['ERA', 'xERA', 'FIP', 'xFIP', 'SIERA']\n",
    "    pct_cols = [col for col in cdf if col.endswith('%') or col == 'HR/FB']\n",
    "    \n",
    "    cdf[int_cols] = cdf[int_cols].round().astype(int)\n",
    "    cdf[single_digit_cols] = cdf[single_digit_cols].round(1)\n",
    "    cdf[double_digit_cols] = cdf[double_digit_cols].round(2)\n",
    "    cdf[pct_cols] = cdf[pct_cols].mul(100).round(1).astype(str) + '%'\n",
    "    cdf['IP'] = cdf['IP'].astype(int) + (cdf['IP'] - cdf['IP'].astype(int)).mul(0.3)\n",
    "    return cdf[['PlayerName'] + list(args)] if len(args) > 0 else cdf\n",
    "\n",
    "pd.set_option('display.max_columns', None)\n",
    "\n",
    "sp2021 = load_leaderboard('sp2021.csv')\n",
    "sp2022 = load_leaderboard('sp2022.csv')\n",
    "sp2023 = load_leaderboard('sp2023.csv')\n",
    "sp = pd.concat([sp2021, sp2022, sp2023]).swaplevel().sort_index()\n",
    "\n",
    "display_leaderboard(sp2023, 'IP', 'SwStr%', 'K-BB%', 'xERA', 'SIERA', 'FIP-', 'xFIP-', 'Stuff+', 'Pitching+', 'WAR', 'aWAR').query('IP >= 50.0').sort_values('Stuff+', ascending=False)"
   ]
  },
  {
   "cell_type": "code",
   "execution_count": 2,
   "outputs": [
    {
     "data": {
      "text/plain": "                PlayerName     IP SwStr%  K-BB%  xERA  SIERA  FIP-  xFIP-  \\\nPlayerID                                                                    \n10310         Zack Wheeler  558.1  12.4%  22.4%  3.01   3.31    66     74   \n14107        Kevin Gausman  551.2  14.6%  23.7%  3.58   3.24    67     74   \n27498      Spencer Strider  293.3  17.6%  29.6%  1.97   2.69    60     63   \n16149           Aaron Nola  579.1  12.4%  23.3%  3.28   3.27    77     77   \n13125          Gerrit Cole  591.0  13.4%  24.9%  3.30   3.12    76     74   \n...                    ...    ...    ...    ...   ...    ...   ...    ...   \n25386          Jhony Brito   52.2   8.6%   7.3%  0.00   5.26   146    126   \n20132           Adam Oller   68.1   9.0%   3.5%  0.00   5.77   179    153   \n10811     Mike Foltynewicz  130.0   8.0%  10.5%  0.00   4.94   139    120   \n20253          Griffin Jax   69.1  10.2%   9.9%  0.00   5.17   147    134   \n4153          Jake Arrieta   98.2   7.1%   8.3%  6.19   5.00   147    114   \n\n          Stuff+  Pitching+  WAR  aWAR  \nPlayerID                                \n10310        112        110  5.6   5.3  \n14107        108        107  5.3   4.8  \n27498        127        111  5.0   4.2  \n16149        105        107  4.8   4.1  \n13125        126        111  4.6   5.0  \n...          ...        ...  ...   ...  \n25386         93        104 -0.5  -0.5  \n20132         89         94 -0.5  -0.6  \n10811         95         99 -0.6  -0.1  \n20253         95        101 -0.6  -0.6  \n4153          92         93 -0.8  -1.6  \n\n[301 rows x 12 columns]",
      "text/html": "<div>\n<style scoped>\n    .dataframe tbody tr th:only-of-type {\n        vertical-align: middle;\n    }\n\n    .dataframe tbody tr th {\n        vertical-align: top;\n    }\n\n    .dataframe thead th {\n        text-align: right;\n    }\n</style>\n<table border=\"1\" class=\"dataframe\">\n  <thead>\n    <tr style=\"text-align: right;\">\n      <th></th>\n      <th>PlayerName</th>\n      <th>IP</th>\n      <th>SwStr%</th>\n      <th>K-BB%</th>\n      <th>xERA</th>\n      <th>SIERA</th>\n      <th>FIP-</th>\n      <th>xFIP-</th>\n      <th>Stuff+</th>\n      <th>Pitching+</th>\n      <th>WAR</th>\n      <th>aWAR</th>\n    </tr>\n    <tr>\n      <th>PlayerID</th>\n      <th></th>\n      <th></th>\n      <th></th>\n      <th></th>\n      <th></th>\n      <th></th>\n      <th></th>\n      <th></th>\n      <th></th>\n      <th></th>\n      <th></th>\n      <th></th>\n    </tr>\n  </thead>\n  <tbody>\n    <tr>\n      <th>10310</th>\n      <td>Zack Wheeler</td>\n      <td>558.1</td>\n      <td>12.4%</td>\n      <td>22.4%</td>\n      <td>3.01</td>\n      <td>3.31</td>\n      <td>66</td>\n      <td>74</td>\n      <td>112</td>\n      <td>110</td>\n      <td>5.6</td>\n      <td>5.3</td>\n    </tr>\n    <tr>\n      <th>14107</th>\n      <td>Kevin Gausman</td>\n      <td>551.2</td>\n      <td>14.6%</td>\n      <td>23.7%</td>\n      <td>3.58</td>\n      <td>3.24</td>\n      <td>67</td>\n      <td>74</td>\n      <td>108</td>\n      <td>107</td>\n      <td>5.3</td>\n      <td>4.8</td>\n    </tr>\n    <tr>\n      <th>27498</th>\n      <td>Spencer Strider</td>\n      <td>293.3</td>\n      <td>17.6%</td>\n      <td>29.6%</td>\n      <td>1.97</td>\n      <td>2.69</td>\n      <td>60</td>\n      <td>63</td>\n      <td>127</td>\n      <td>111</td>\n      <td>5.0</td>\n      <td>4.2</td>\n    </tr>\n    <tr>\n      <th>16149</th>\n      <td>Aaron Nola</td>\n      <td>579.1</td>\n      <td>12.4%</td>\n      <td>23.3%</td>\n      <td>3.28</td>\n      <td>3.27</td>\n      <td>77</td>\n      <td>77</td>\n      <td>105</td>\n      <td>107</td>\n      <td>4.8</td>\n      <td>4.1</td>\n    </tr>\n    <tr>\n      <th>13125</th>\n      <td>Gerrit Cole</td>\n      <td>591.0</td>\n      <td>13.4%</td>\n      <td>24.9%</td>\n      <td>3.30</td>\n      <td>3.12</td>\n      <td>76</td>\n      <td>74</td>\n      <td>126</td>\n      <td>111</td>\n      <td>4.6</td>\n      <td>5.0</td>\n    </tr>\n    <tr>\n      <th>...</th>\n      <td>...</td>\n      <td>...</td>\n      <td>...</td>\n      <td>...</td>\n      <td>...</td>\n      <td>...</td>\n      <td>...</td>\n      <td>...</td>\n      <td>...</td>\n      <td>...</td>\n      <td>...</td>\n      <td>...</td>\n    </tr>\n    <tr>\n      <th>25386</th>\n      <td>Jhony Brito</td>\n      <td>52.2</td>\n      <td>8.6%</td>\n      <td>7.3%</td>\n      <td>0.00</td>\n      <td>5.26</td>\n      <td>146</td>\n      <td>126</td>\n      <td>93</td>\n      <td>104</td>\n      <td>-0.5</td>\n      <td>-0.5</td>\n    </tr>\n    <tr>\n      <th>20132</th>\n      <td>Adam Oller</td>\n      <td>68.1</td>\n      <td>9.0%</td>\n      <td>3.5%</td>\n      <td>0.00</td>\n      <td>5.77</td>\n      <td>179</td>\n      <td>153</td>\n      <td>89</td>\n      <td>94</td>\n      <td>-0.5</td>\n      <td>-0.6</td>\n    </tr>\n    <tr>\n      <th>10811</th>\n      <td>Mike Foltynewicz</td>\n      <td>130.0</td>\n      <td>8.0%</td>\n      <td>10.5%</td>\n      <td>0.00</td>\n      <td>4.94</td>\n      <td>139</td>\n      <td>120</td>\n      <td>95</td>\n      <td>99</td>\n      <td>-0.6</td>\n      <td>-0.1</td>\n    </tr>\n    <tr>\n      <th>20253</th>\n      <td>Griffin Jax</td>\n      <td>69.1</td>\n      <td>10.2%</td>\n      <td>9.9%</td>\n      <td>0.00</td>\n      <td>5.17</td>\n      <td>147</td>\n      <td>134</td>\n      <td>95</td>\n      <td>101</td>\n      <td>-0.6</td>\n      <td>-0.6</td>\n    </tr>\n    <tr>\n      <th>4153</th>\n      <td>Jake Arrieta</td>\n      <td>98.2</td>\n      <td>7.1%</td>\n      <td>8.3%</td>\n      <td>6.19</td>\n      <td>5.00</td>\n      <td>147</td>\n      <td>114</td>\n      <td>92</td>\n      <td>93</td>\n      <td>-0.8</td>\n      <td>-1.6</td>\n    </tr>\n  </tbody>\n</table>\n<p>301 rows × 12 columns</p>\n</div>"
     },
     "execution_count": 2,
     "metadata": {},
     "output_type": "execute_result"
    }
   ],
   "source": [
    "weighted_tbf = pd.DataFrame(data={'WeightedTBF': sp.reset_index()[['Season', 'TBF']].apply(lambda x: x['Season'] // 2020 * x['TBF'], axis=1).tolist()}, index=sp.index)\n",
    "\n",
    "display_leaderboard(pd.concat([sp.reset_index(level='Season')['PlayerName'].drop_duplicates(), sp.loc[:, 'G':'TBF'].groupby('PlayerID').sum(), sp.loc[:, 'O-Swing%':'Pitching+'].mul(weighted_tbf.squeeze(), axis=0).groupby('PlayerID').sum().div(weighted_tbf.groupby('PlayerID').sum().squeeze(), axis=0), sp.loc[:, 'WAR':].mul(pd.Series([1, 2, 3], index=[2021, 2022, 2023]), axis='index', level=1).groupby('PlayerID').sum().div(pd.DataFrame([(pk, year % 2020) for pk, year in sp.index], columns=['PlayerID', 'Weight']).groupby('PlayerID')['Weight'].sum(), axis=0)], axis=1), 'IP', 'SwStr%', 'K-BB%', 'xERA', 'SIERA', 'FIP-', 'xFIP-', 'Stuff+', 'Pitching+', 'WAR', 'aWAR').query('IP >= 50.0').sort_values('WAR', ascending=False)"
   ],
   "metadata": {
    "collapsed": false,
    "ExecuteTime": {
     "end_time": "2024-01-11T21:11:42.862821Z",
     "start_time": "2024-01-11T21:11:42.695974Z"
    }
   },
   "id": "c4359dca915ecb84"
  }
 ],
 "metadata": {
  "kernelspec": {
   "display_name": "Python 3",
   "language": "python",
   "name": "python3"
  },
  "language_info": {
   "codemirror_mode": {
    "name": "ipython",
    "version": 2
   },
   "file_extension": ".py",
   "mimetype": "text/x-python",
   "name": "python",
   "nbconvert_exporter": "python",
   "pygments_lexer": "ipython2",
   "version": "2.7.6"
  }
 },
 "nbformat": 4,
 "nbformat_minor": 5
}
