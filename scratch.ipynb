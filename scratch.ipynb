{
 "cells": [
  {
   "cell_type": "markdown",
   "source": [
    "# Database Creation"
   ],
   "metadata": {
    "collapsed": false
   },
   "id": "f26f275e83bccf88"
  },
  {
   "cell_type": "code",
   "execution_count": 1,
   "id": "c9989f3afe71c721",
   "metadata": {
    "collapsed": true,
    "ExecuteTime": {
     "end_time": "2024-03-01T03:43:41.308326Z",
     "start_time": "2024-03-01T03:43:34.915110Z"
    }
   },
   "outputs": [],
   "source": [
    "import calendar\n",
    "import glob\n",
    "import json\n",
    "import os\n",
    "import re\n",
    "import sys\n",
    "from collections import defaultdict, namedtuple\n",
    "from datetime import datetime\n",
    "from functools import partial\n",
    "from io import StringIO\n",
    "from time import sleep, time\n",
    "from typing import Callable\n",
    "\n",
    "import numpy as np\n",
    "import pandas as pd\n",
    "import pandasql as ps\n",
    "import requests\n",
    "from bs4 import BeautifulSoup, Comment\n",
    "from geopy.geocoders import Nominatim\n",
    "from geopy.location import Location\n",
    "from pybaseball import playerid_reverse_lookup, team_ids\n",
    "from selenium import webdriver\n",
    "from tqdm.auto import trange, tqdm\n",
    "from unidecode import unidecode"
   ]
  },
  {
   "cell_type": "markdown",
   "source": [
    "## Franchises and Teams"
   ],
   "metadata": {
    "collapsed": false
   },
   "id": "a5541edd5a2595c6"
  },
  {
   "cell_type": "code",
   "execution_count": 2,
   "outputs": [],
   "source": [
    "SCRAPE = False\n",
    "\n",
    "STATE_DICT = {'AL': 'Alabama', 'AK': 'Alaska', 'AZ': 'Arizona', 'AR': 'Arkansas', 'CA': 'California', 'CO': 'Colorado', 'CT': 'Connecticut', 'DE': 'Delaware', 'FL': 'Florida', 'GA': 'Georgia', 'HI': 'Hawaii', 'ID': 'Idaho', 'IL': 'Illinois', 'IN': 'Indiana', 'IA': 'Iowa', 'KS': 'Kansas', 'KY': 'Kentucky', 'LA': 'Louisiana', 'ME': 'Maine', 'MD': 'Maryland', 'MA': 'Massachusetts', 'MI': 'Michigan', 'MN': 'Minnesota', 'MS': 'Mississippi', 'MO': 'Missouri', 'MT': 'Montana', 'NE': 'Nebraska', 'NV': 'Nevada', 'NH': 'New Hampshire', 'NJ': 'New Jersey', 'NM': 'New Mexico', 'NY': 'New York', 'NC': 'North Carolina', 'ND': 'North Dakota', 'OH': 'Ohio', 'OK': 'Oklahoma', 'OR': 'Oregon', 'PA': 'Pennsylvania', 'RI': 'Rhode Island', 'SC': 'South Carolina', 'SD': 'South Dakota', 'TN': 'Tennessee', 'TX': 'Texas', 'UT': 'Utah', 'VT': 'Vermont', 'VA': 'Virginia', 'WA': 'Washington', 'WV': 'West Virginia', 'WI': 'Wisconsin', 'WY': 'Wyoming', 'DC': 'District of Columbia', 'AS': 'American Samoa', 'GU': 'Guam', 'MP': 'Northern Mariana Islands', 'PR': 'Puerto Rico', 'UM': 'United States Minor Outlying Islands', 'VI': 'U.S. Virgin Islands', 'NSW': 'New South Wales', 'QLD': 'Queensland', 'AB': 'Alberta', 'BC': 'British Columbia', 'MB': 'Manitoba', 'NB': 'New Brunswick', 'ON': 'Ontario', 'PE': 'Prince Edward Island', 'PQ': 'Quebec', 'QC': 'Quebec', 'SK': 'Saskatchewan', 'SL': 'San Luis Potosí', 'SO': 'Sonora', 'VE': 'Veracruz'}\n",
    "\n",
    "COUNTRY_DICT = {'USA': 'United States', 'VEN': 'Venezuela', 'DOM': 'Dominican Republic', 'MEX': 'Mexico', 'NIR': 'Northern Ireland', 'USSR': 'Soviet Union', 'NCA': 'Nicaragua', 'CUB': 'Cuba', 'PUR': 'Puerto Rico'}\n",
    "\n",
    "FG_TO_LAHMAN_FRANCH_MAPPING = {16: 'ATL', 17: 'CHC', 1002: 'PNA', 1005: 'BLC', 1010: 'BRA', 1019: 'CEN', 1020: 'CFC', 1032: 'ECK', 1033: 'HAR', 1042: 'KEK', 1045: 'MAN', 1046: 'MAR', 1050: 'NAT', 1052: 'NHV', 1053: 'NYU', 1057: 'OLY', 1065: 'PWS', 1066: 'RES', 1069: 'ROK', 1070: 'SBS', 1073: 'SLR', 1080: 'TRO', 1083: 'WBL', 1084: 'WES', 1088: 'WNT'}\n",
    "\n",
    "FG_TO_BR_FRANCH_MAPPING = FG_TO_LAHMAN_FRANCH_MAPPING | {1033: 'HNA', 1053: 'NNA', 1070: 'SNA'}\n",
    "\n",
    "FG_TO_BR_NA_TEAM_MAPPING = pd.DataFrame.from_dict({16: 'BOS', 17: 'CHI', 1002: 'ATH', 1005: 'BAL', 1010: 'BRA', 1019: 'CEN', 1020: 'CLE', 1032: 'ECK', 1033: 'HAR', 1042: 'KEK', 1045: 'MAN', 1046: 'MAR', 1050: 'NAT', 1052: 'NHV', 1053: 'NYU', 1057: 'OLY', 1065: 'PHI', 1066: 'RES', 1069: 'ROK', 1070: 'STL', 1073: 'SLR', 1080: 'TRO', 1083: 'WAS', 1084: 'WES', 1088: 'WAS'}, orient='index', columns=['teamAbrBR'])\n",
    "\n",
    "LAHMAN_CORRECTIONS = {'ATH': 'PNA', 'BNA': 'ATL', 'CNA': 'CHC', 'HNA': 'HAR', 'NNA': 'NYU', 'SNA': 'SBS'}\n",
    "\n",
    "BR_FRANCH_CORRECTIONS = {'NYU': 'NNA', 'HAR': 'HNA', 'STL': 'SNA'}\n",
    "\n",
    "BR_TO_LAHMAN = [1003, 1004, 1007, 1011, 1013, 1017, 1018, 1021, 1022, 1024, 1025, 1028, 1035, 1036, 1041, 1043, 1047, 1049, 1062, 1071, 1077, 1078, 1081, 1082, 1086, 1087, 1090]\n",
    "\n",
    "BREF_HANDEDNESS = defaultdict(lambda: 'R')\n",
    "BREF_HANDEDNESS['*'] = 'L'\n",
    "BREF_HANDEDNESS['#'] = 'B'\n",
    "BREF_HANDEDNESS['?'] = np.nan\n",
    "\n",
    "INT_COLS = {'Year', 'Age', 'G', 'PA', 'AB', 'R', 'H', '2B', '3B', 'HR', 'RBI', 'SB', 'CS', 'BB', 'SO', 'OPS+', 'TB', 'GDP', 'HBP', 'SH', 'SF', 'IBB', 'W', 'L', 'GS', 'GF', 'CG', 'SHO', 'SV', 'H', 'R', 'ER', 'HR', 'BB', 'IBB', 'SO', 'HBP', 'BK', 'WP', 'BF', 'ERA+', 'Ch', 'PO', 'A', 'E', 'DP', 'Rtot', 'Rdrs', 'Rtot/yr', 'Rdrs/yr', 'PK', 'Rbat', 'Rbaser', 'Rdp', 'Rfield', 'Rpos', 'RAA', 'Rrep', 'RAR', 'oRAR', 'Rbat+'}\n",
    "FLOAT_COLS = {'BA', 'OBP', 'SLG', 'OPS', 'W-L%', 'ERA', 'IP', 'FIP', 'WHIP', 'H9', 'HR9', 'BB9', 'SO9', 'SO/W', 'Inn', 'Fld%', 'RF/9', 'RF/G', 'WAA', 'WAR', 'waaWL%', '162WL%', 'oWAR', 'dWAR', 'RA9', 'RA9opp', 'RA9def', 'RA9role', 'PPFp', 'RA9avg', 'gmLI', 'WAAadj', 'rOBA', 'BAbip', 'ISO', 'GB/FB', 'WPA', 'RE24'}\n",
    "\n",
    "\n",
    "def match_location(loc_dict: dict[str, str], location: str | None = None, geocode: Callable[[str], Location] | None = None, raw_address: dict[str, str] | None = None) -> dict[str, str]:\n",
    "    if not raw_address:\n",
    "        if location and geocode:\n",
    "            raw_address = geocode(location).raw['address']\n",
    "        else:\n",
    "            return\n",
    "\n",
    "    for city in {'city', 'town', 'village'} & raw_address.keys():\n",
    "        loc_dict['city'] = raw_address[city]\n",
    "    for state in {'state', 'province'} & raw_address.keys():\n",
    "        loc_dict['state'] = raw_address[state]\n",
    "    for country in {'country', 'place'} & raw_address.keys():\n",
    "        loc_dict['country'] = raw_address[country]\n",
    "        \n",
    "\n",
    "def fangraphs_team_scrape(stats: str = 'bat') -> pd.DataFrame:\n",
    "    url = f'https://www.fangraphs.com/leaders/major-league?pos=all&stats={stats}&lg=aa&lg=al&lg=fl&lg=na&lg=nl&lg=pl&lg=ua&qual=0&type=8&month=0&ind=0&team=0%2Cts&rost=&age=&filter=&players=0&startdate=&enddate=' + '&season1={season}&season={season}&pagenum=1&pageitems=2000000000'\n",
    "    df = []\n",
    "\n",
    "    for season in trange(1871, 2024):\n",
    "        tdf = pd.DataFrame()\n",
    "        while tdf.empty:\n",
    "            try:\n",
    "                tdf = pd.DataFrame(json.loads(BeautifulSoup(requests.get(url.format(season=season)).content, 'html.parser', from_encoding='utf_8').find('script', type='application/json').text)['props']['pageProps']['dehydratedState']['queries'][0]['state']['data']['data']).replace('- - -', np.nan).drop(['Name', 'PlayerName', 'PlayerNameRoute', 'Team', 'TeamNameAbb', 'SeasonMin', 'SeasonMax', 'Bats', 'Throws', 'xMLBAMID', 'playerid', 'Age', 'AgeR', 'G', 'GS', 'PA', 'IP', 'Pos', 'Inn'], axis=1, errors='ignore').rename({'TG': 'G', 'TPA': 'PA', 'TIP': 'IP', 'TInn': 'Inn'}, axis=1)\n",
    "            except AttributeError:\n",
    "                pass\n",
    "            sleep(3)\n",
    "\n",
    "        df.append(tdf)\n",
    "    \n",
    "    df = pd.concat(df, ignore_index=True)\n",
    "\n",
    "    for col in {'IP', 'Inn'} & set(df.columns):\n",
    "        df[col] = df[col].mul(3).round().div(3)\n",
    "\n",
    "    return df\n",
    "\n",
    "def scrape_table(io: str, match: str = '.+', index_col: str | None = None, extract_links: bool = True, commented: bool = False) -> pd.DataFrame:\n",
    "    if commented:\n",
    "        io = StringIO(str(BeautifulSoup([comment.strip() for comment in BeautifulSoup(requests.get(io).content, 'html.parser', from_encoding='utf_8').find_all(string=lambda text: isinstance(text, Comment)) if 'table' in comment and bool(re.search(match, comment))][0]).find('table')))\n",
    "    return pd.read_html(io=io, match=match, flavor='bs4', index_col=index_col, extract_links='body' if extract_links else None)[0]\n",
    "\n",
    "\n",
    "def bref_leaderboard_scrape(table: str, start: int = 1871, end: int = 2023, drop_tot: bool = True, commented: bool = False) -> pd.DataFrame:\n",
    "    def scrape_page(table: str, season: int, league: str | None = None, commented: bool = False) -> pd.DataFrame:\n",
    "        url = f'https://www.baseball-reference.com/leagues/{league if league else 'majors'}/{season}-{table.lower().replace(' ', '-')}.shtml'\n",
    "        tdf = pd.DataFrame()\n",
    "        while tdf.empty:\n",
    "            try:\n",
    "                if not commented:\n",
    "                    try:\n",
    "                        tdf = scrape_table(io=url, match=f'Player {table} Table', commented=commented)\n",
    "                    except ValueError:\n",
    "                        commented = True\n",
    "                if commented:\n",
    "                    tdf = scrape_table(io=url, match=f'Player {table} Table', commented=commented)\n",
    "\n",
    "                tdf.insert(loc=tdf.columns.get_loc('Name') + 1, column='Season', value=[(season, None)] * tdf.shape[0])\n",
    "            except AttributeError:\n",
    "                pass\n",
    "            sleep(3)\n",
    "            \n",
    "        return tdf\n",
    "        \n",
    "    df = []\n",
    "    for season in trange(start, end + 1):\n",
    "        if 1920 <= season <= 1948:\n",
    "            df.extend([scrape_page(table=table, season=season, league='AL', commented=commented), scrape_page(table=table, season=season, league='NL', commented=commented)])\n",
    "        else:\n",
    "            df.append(scrape_page(table=table, season=season, commented=commented))\n",
    "\n",
    "    df = pd.concat(df, ignore_index=True).drop(('Rk', None), errors='ignore').reset_index(drop=True)\n",
    "    df.columns = [col.replace('\\xa0', ' ') for col in df.columns]\n",
    "    df = pd.concat([pd.DataFrame(df['Name'].tolist(), columns=['PlayerName', 'PlayerID']), df.drop(['Name', 'Age'], axis=1).apply(lambda col: col.str[0])], axis=1).rename({'Tm': 'Team', 'Lg': 'League', 'Pos Summary': 'Position'}, axis=1).query(\"Team != '\" + ('TOT' if drop_tot else '') + \"'\").dropna(subset='PlayerID').apply(pd.to_numeric, errors='ignore')  # errors='ignore' is deprecated\n",
    "\n",
    "    if not table.lower().endswith('fielding'):\n",
    "        df.insert(loc=df.columns.get_loc('League') + 1, column='Bats' if table.lower().endswith('hitting') else 'Throws', value=df['PlayerName'].str[-1].map(BREF_HANDEDNESS))\n",
    "    df['PlayerName'] = df['PlayerName'].str.replace('\\xa0', ' ').str.strip('*#?')\n",
    "    df['PlayerID'] = df['PlayerID'].str.extract(r'(?<=/[a-z]/)(.*)(?=\\.shtml)')\n",
    "\n",
    "    for col in {'IP', 'Inn'} & set(df.columns):\n",
    "        df[col] = df[col].mul(3).round().div(3)\n",
    "\n",
    "    return df"
   ],
   "metadata": {
    "collapsed": false,
    "ExecuteTime": {
     "end_time": "2024-03-01T03:43:41.411474Z",
     "start_time": "2024-03-01T03:43:41.347080Z"
    }
   },
   "id": "b027e0189f8e3592"
  },
  {
   "cell_type": "code",
   "execution_count": 3,
   "outputs": [],
   "source": [
    "fields = {\n",
    "    'name': {\n",
    "        'roster_first': str,\n",
    "        'roster_last': str,\n",
    "        'given_first': str,\n",
    "        'given_last': str,\n",
    "        'middle': str\n",
    "    }, \n",
    "    'bats': str, \n",
    "    'throws': str, \n",
    "    'height': {\n",
    "        'feet': float, \n",
    "        'inches': int, \n",
    "        'meters': float\n",
    "    }, \n",
    "    'weight': {\n",
    "        'lbs': int,\n",
    "        'kg': float\n",
    "    }, \n",
    "    'born': {\n",
    "        'year': int, \n",
    "        'month': int, \n",
    "        'day': int, \n",
    "        'country': str, \n",
    "        'state_province': str, \n",
    "        'city': str\n",
    "    },\n",
    "    'died': {\n",
    "        'death_year': int,\n",
    "        'death_month': int,\n",
    "        'death_day': int,\n",
    "        'death_country': str,\n",
    "        'death_state_province': str,\n",
    "        'death_city': str,\n",
    "        'buried': {\n",
    "                      'cemetery': str,\n",
    "                      'city': str,\n",
    "                      'state_province': str,\n",
    "                      'country': str\n",
    "                  }\n",
    "    },\n",
    "    'drafted': [\n",
    "        {\n",
    "            'team': str,\n",
    "            'round': int,\n",
    "            'pick': int,\n",
    "            'year': int\n",
    "        }\n",
    "    ],\n",
    "    'secondary_school': [\n",
    "        {\n",
    "            'name': str,\n",
    "            'country': str,\n",
    "            'state_province': str,\n",
    "            'city': str\n",
    "        }\n",
    "    ],\n",
    "    'tertiary_school': [\n",
    "        {\n",
    "            'name': str,\n",
    "            'country': str,\n",
    "            'state_province': str,\n",
    "            'city': str\n",
    "        }\n",
    "    ],\n",
    "    'debut': {\n",
    "        'year': int, \n",
    "        'month': int, \n",
    "        'day': int\n",
    "    },\n",
    "    'finale': {\n",
    "        'year': int,\n",
    "        'month': int,\n",
    "        'day': int\n",
    "    },\n",
    "    'year_rookie_eligibility_lost': int,\n",
    "    'agency': [\n",
    "        {\n",
    "            'name': str,\n",
    "            'current': bool\n",
    "        }\n",
    "    ]\n",
    "}"
   ],
   "metadata": {
    "collapsed": false,
    "ExecuteTime": {
     "end_time": "2024-03-01T03:43:41.415593Z",
     "start_time": "2024-03-01T03:43:41.357805Z"
    }
   },
   "id": "c110a40da33c4bf0"
  },
  {
   "cell_type": "code",
   "execution_count": 6,
   "outputs": [
    {
     "data": {
      "text/plain": "                                  Year                                 Age  \\\n0                                 2017                                  23   \n1                                 2018                                  24   \n2                                 2019                                  25   \n3                                 2020                                  26   \n4                                 2021                                  27   \n5                                 2022                                  28   \n6                                 2023                                  29   \n8                                 2024                                  30   \n9                                 2025                                  31   \n10                                2026                                  32   \n11                                2027                                  33   \n12                                2028                                  34   \n13                                2029                                  35   \n14                                 NaN                                 NaN   \n15  Career to date (may be incomplete)  Career to date (may be incomplete)   \n\n                                    Tm                     Salary  Confirmed  \\\n0                       Atlanta Braves                     540000       True   \n1                       Atlanta Braves                     565000       True   \n2                       Atlanta Braves                     585000       True   \n3                       Atlanta Braves                    3150000       True   \n4                       Atlanta Braves                    6000000       True   \n5                       Atlanta Braves                   10000000       True   \n6                         Chicago Cubs                   14000000       True   \n8                         Chicago Cubs                   26000000       True   \n9                         Chicago Cubs                   28000000       True   \n10                        Chicago Cubs                   28000000       True   \n11                        Chicago Cubs                   28000000       True   \n12                        Chicago Cubs                   27000000       True   \n13                        Chicago Cubs                   26000000       True   \n14           Earliest Free Agent: 2030  Earliest Free Agent: 2030       True   \n15  Career to date (may be incomplete)                   34840000       True   \n\n                                       SrvTm  \\\n0                                      0.047   \n1                                      1.045   \n2                                      2.047   \n3                                      3.047   \n4                                      4.047   \n5                                      5.047   \n6                                      6.047   \n8                                      7.047   \n9                                        NaN   \n10                                       NaN   \n11                                       NaN   \n12                                       NaN   \n13                                       NaN   \n14                 Earliest Free Agent: 2030   \n15  Does not include future salaries ($163M)   \n\n                                     Sources  \\\n0                                  contracts   \n1                                        NaN   \n2                                   contract   \n3                                   contract   \n4                                   contract   \n5                                   contract   \n6                                        NaN   \n8                                        NaN   \n9                                        NaN   \n10                                       NaN   \n11                                       NaN   \n12                                       NaN   \n13                                       NaN   \n14                 Earliest Free Agent: 2030   \n15  Does not include future salaries ($163M)   \n\n                         Notes/Other Sources  \n0                                        NaN  \n1                                        NaN  \n2                                        NaN  \n3                                        NaN  \n4                                        NaN  \n5                                        NaN  \n6                                        NaN  \n8                                        NaN  \n9                                        NaN  \n10                                       NaN  \n11                                       NaN  \n12                                       NaN  \n13                                       NaN  \n14                 Earliest Free Agent: 2030  \n15  Does not include future salaries ($163M)  ",
      "text/html": "<div>\n<style scoped>\n    .dataframe tbody tr th:only-of-type {\n        vertical-align: middle;\n    }\n\n    .dataframe tbody tr th {\n        vertical-align: top;\n    }\n\n    .dataframe thead th {\n        text-align: right;\n    }\n</style>\n<table border=\"1\" class=\"dataframe\">\n  <thead>\n    <tr style=\"text-align: right;\">\n      <th></th>\n      <th>Year</th>\n      <th>Age</th>\n      <th>Tm</th>\n      <th>Salary</th>\n      <th>Confirmed</th>\n      <th>SrvTm</th>\n      <th>Sources</th>\n      <th>Notes/Other Sources</th>\n    </tr>\n  </thead>\n  <tbody>\n    <tr>\n      <th>0</th>\n      <td>2017</td>\n      <td>23</td>\n      <td>Atlanta Braves</td>\n      <td>540000</td>\n      <td>True</td>\n      <td>0.047</td>\n      <td>contracts</td>\n      <td>NaN</td>\n    </tr>\n    <tr>\n      <th>1</th>\n      <td>2018</td>\n      <td>24</td>\n      <td>Atlanta Braves</td>\n      <td>565000</td>\n      <td>True</td>\n      <td>1.045</td>\n      <td>NaN</td>\n      <td>NaN</td>\n    </tr>\n    <tr>\n      <th>2</th>\n      <td>2019</td>\n      <td>25</td>\n      <td>Atlanta Braves</td>\n      <td>585000</td>\n      <td>True</td>\n      <td>2.047</td>\n      <td>contract</td>\n      <td>NaN</td>\n    </tr>\n    <tr>\n      <th>3</th>\n      <td>2020</td>\n      <td>26</td>\n      <td>Atlanta Braves</td>\n      <td>3150000</td>\n      <td>True</td>\n      <td>3.047</td>\n      <td>contract</td>\n      <td>NaN</td>\n    </tr>\n    <tr>\n      <th>4</th>\n      <td>2021</td>\n      <td>27</td>\n      <td>Atlanta Braves</td>\n      <td>6000000</td>\n      <td>True</td>\n      <td>4.047</td>\n      <td>contract</td>\n      <td>NaN</td>\n    </tr>\n    <tr>\n      <th>5</th>\n      <td>2022</td>\n      <td>28</td>\n      <td>Atlanta Braves</td>\n      <td>10000000</td>\n      <td>True</td>\n      <td>5.047</td>\n      <td>contract</td>\n      <td>NaN</td>\n    </tr>\n    <tr>\n      <th>6</th>\n      <td>2023</td>\n      <td>29</td>\n      <td>Chicago Cubs</td>\n      <td>14000000</td>\n      <td>True</td>\n      <td>6.047</td>\n      <td>NaN</td>\n      <td>NaN</td>\n    </tr>\n    <tr>\n      <th>8</th>\n      <td>2024</td>\n      <td>30</td>\n      <td>Chicago Cubs</td>\n      <td>26000000</td>\n      <td>True</td>\n      <td>7.047</td>\n      <td>NaN</td>\n      <td>NaN</td>\n    </tr>\n    <tr>\n      <th>9</th>\n      <td>2025</td>\n      <td>31</td>\n      <td>Chicago Cubs</td>\n      <td>28000000</td>\n      <td>True</td>\n      <td>NaN</td>\n      <td>NaN</td>\n      <td>NaN</td>\n    </tr>\n    <tr>\n      <th>10</th>\n      <td>2026</td>\n      <td>32</td>\n      <td>Chicago Cubs</td>\n      <td>28000000</td>\n      <td>True</td>\n      <td>NaN</td>\n      <td>NaN</td>\n      <td>NaN</td>\n    </tr>\n    <tr>\n      <th>11</th>\n      <td>2027</td>\n      <td>33</td>\n      <td>Chicago Cubs</td>\n      <td>28000000</td>\n      <td>True</td>\n      <td>NaN</td>\n      <td>NaN</td>\n      <td>NaN</td>\n    </tr>\n    <tr>\n      <th>12</th>\n      <td>2028</td>\n      <td>34</td>\n      <td>Chicago Cubs</td>\n      <td>27000000</td>\n      <td>True</td>\n      <td>NaN</td>\n      <td>NaN</td>\n      <td>NaN</td>\n    </tr>\n    <tr>\n      <th>13</th>\n      <td>2029</td>\n      <td>35</td>\n      <td>Chicago Cubs</td>\n      <td>26000000</td>\n      <td>True</td>\n      <td>NaN</td>\n      <td>NaN</td>\n      <td>NaN</td>\n    </tr>\n    <tr>\n      <th>14</th>\n      <td>NaN</td>\n      <td>NaN</td>\n      <td>Earliest Free Agent: 2030</td>\n      <td>Earliest Free Agent: 2030</td>\n      <td>True</td>\n      <td>Earliest Free Agent: 2030</td>\n      <td>Earliest Free Agent: 2030</td>\n      <td>Earliest Free Agent: 2030</td>\n    </tr>\n    <tr>\n      <th>15</th>\n      <td>Career to date (may be incomplete)</td>\n      <td>Career to date (may be incomplete)</td>\n      <td>Career to date (may be incomplete)</td>\n      <td>34840000</td>\n      <td>True</td>\n      <td>Does not include future salaries ($163M)</td>\n      <td>Does not include future salaries ($163M)</td>\n      <td>Does not include future salaries ($163M)</td>\n    </tr>\n  </tbody>\n</table>\n</div>"
     },
     "execution_count": 6,
     "metadata": {},
     "output_type": "execute_result"
    }
   ],
   "source": [
    "tdf = pd.read_html(StringIO(str(BeautifulSoup([comment.strip() for comment in soup.find_all(string=lambda text: isinstance(text, Comment)) if 'table' in comment and bool(re.search('id=\"br-salaries\"', comment))][0]).find('table'))))[0].dropna(how='all', subset='Tm')  #.query('Year.str.isnumeric()')\n",
    "tdf.insert(loc=tdf.columns.get_loc('Salary') + 1, column='Confirmed', value=tdf['Salary'].str[-1].map({'*': False}).astype(bool))\n",
    "tdf['Tm'] = tdf['Tm'].str.replace('\\xa0', ' ')\n",
    "tdf['Salary'] = tdf['Salary'].str.lstrip('$').str.rstrip('*').str.replace(',', '')\n",
    "tdf  #.loc[tdf['Year'].isna(), 'Tm'].max()"
   ],
   "metadata": {
    "collapsed": false,
    "ExecuteTime": {
     "end_time": "2024-02-22T03:04:10.491873Z",
     "start_time": "2024-02-22T03:04:10.408017Z"
    }
   },
   "id": "b00caa360095e4ab"
  },
  {
   "cell_type": "code",
   "execution_count": 97,
   "outputs": [
    {
     "name": "stdout",
     "output_type": "stream",
     "text": [
      "True\n"
     ]
    },
    {
     "data": {
      "text/plain": "defaultdict(<function __main__.<lambda>()>,\n            {'name': defaultdict(<function __main__.<lambda>()>,\n                         {'roster_first': 'Eric',\n                          'roster_last': 'Young Sr.',\n                          'first': 'Eric',\n                          'middle': 'Orlando',\n                          'middle_init': 'O',\n                          'last': 'Young'})})"
     },
     "execution_count": 97,
     "metadata": {},
     "output_type": "execute_result"
    }
   ],
   "source": [
    "geolocator = Nominatim(user_agent='google')\n",
    "geocode = partial(geolocator.geocode, exactly_one=True, addressdetails=True, language='en', timeout=10)\n",
    "suffixes = ['Jr.', 'Sr.', 'II', 'III', 'IV', 'V']\n",
    "\n",
    "nested_dict = lambda: defaultdict(nested_dict)\n",
    "test_dict = nested_dict()\n",
    "player_id = 'younger01'\n",
    "url = f'https://www.baseball-reference.com/players/{player_id[0]}/{player_id}.shtml'\n",
    "\n",
    "soup = BeautifulSoup(requests.get(url).content, 'html.parser', from_encoding='utf_8')\n",
    "header = json.loads(soup.find(type='application/ld+json').string)\n",
    "name = header['name'].strip().split()\n",
    "\n",
    "if len(name) == 1:\n",
    "    test_dict['name']['roster_last'] = name[0]\n",
    "elif len(name) == 2:\n",
    "    test_dict['name']['roster_first'], test_dict['name']['roster_last'] = name\n",
    "elif len(name) == 3 and name[-1] in suffixes:\n",
    "    test_dict['name']['roster_first'], test_dict['name']['roster_last'] = name[0], ' '.join(name[1:])\n",
    "else:\n",
    "    try:\n",
    "        idx = len(name) - [name.startswith(''.join([char for char in player_id if char.isalpha()])[:-2]) for name in [unidecode(name.lower()) for name in name]][::-1].index(True) - 1\n",
    "    except ValueError:\n",
    "        m = [char for char in player_id if char.isalpha()][:-2]\n",
    "        idx = (np.cumsum([len(n) for n in name]) > re.search(''.join([e for tup in list(zip(m, [r'\\W*'] * len(m))) for e in tup]), ''.join([unidecode(name.lower()) for name in name])).start()).argmax()\n",
    "    test_dict['name']['roster_first'], test_dict['name']['roster_last'] = ' '.join(name[:idx]), ' '.join(name[idx:])\n",
    "    \n",
    "name_full = soup.find('strong', string='Full Name:').next_sibling.strip().split()\n",
    "\n",
    "if name_full[-1] in suffixes:\n",
    "    name_full, name_suffix = name_full[:-1], name_full[-1]\n",
    "else:\n",
    "    name_suffix = ''\n",
    "\n",
    "if ' '.join(name_full) == ' '.join([n for n in name if n not in suffixes]):\n",
    "    test_dict['name']['first'], test_dict['name']['last'] = test_dict['name']['roster_first'], test_dict['name']['roster_last']\n",
    "    if name_suffix and name_suffix not in test_dict['name']['last']:\n",
    "        test_dict['name']['last'] += ' ' + name_suffix\n",
    "elif len(name_full) == 2:\n",
    "    test_dict['name']['first'], test_dict['name']['last'] = name_full[0], name_full[-1] + ' ' + name_suffix\n",
    "else:\n",
    "    if ' '.join(name_full).endswith(re.sub('( ' + '| '.join(suffixes).replace('.', r'\\.') + ')$', '', test_dict['name']['roster_last'])):\n",
    "        print('True')\n",
    "        last = test_dict['name']['roster_last']\n",
    "        if any(last.endswith(s) for s in suffixes) and not name_suffix:\n",
    "            last = re.sub('( ' + '| '.join(suffixes).replace('.', r'\\.') + ')$', '', last)\n",
    "        elif name_suffix and not last.endswith(name_suffix):\n",
    "            last += ' ' + name_suffix\n",
    "        name_full.reverse()\n",
    "        for n in test_dict['name']['roster_last'].split():\n",
    "            if n not in suffixes:\n",
    "                name_full.remove(n)\n",
    "        name_full.reverse()\n",
    "    else:\n",
    "        last = name_full.pop(-1) + ' ' + name_suffix\n",
    "    test_dict['name']['first'] = name_full.pop(0)\n",
    "    if name_full:\n",
    "        # print(name_full)\n",
    "        middle = ' '.join(name_full)\n",
    "        if not re.match(r'[A-Z]\\.', middle):\n",
    "            test_dict['name']['middle'] = middle\n",
    "        test_dict['name']['middle_init'] = middle[0]\n",
    "    test_dict['name']['last'] = last\n",
    "\n",
    "test_dict"
   ],
   "metadata": {
    "collapsed": false,
    "ExecuteTime": {
     "end_time": "2024-03-01T06:59:40.159956Z",
     "start_time": "2024-03-01T06:59:39.112975Z"
    }
   },
   "id": "9a6e939b65d384ba"
  },
  {
   "cell_type": "code",
   "execution_count": 92,
   "outputs": [
    {
     "data": {
      "text/plain": "2"
     },
     "execution_count": 92,
     "metadata": {},
     "output_type": "execute_result"
    }
   ],
   "source": [
    "idx"
   ],
   "metadata": {
    "collapsed": false,
    "ExecuteTime": {
     "end_time": "2024-03-01T06:33:52.457941Z",
     "start_time": "2024-03-01T06:33:52.417684Z"
    }
   },
   "id": "114a248a90362d5e"
  },
  {
   "cell_type": "code",
   "execution_count": 161,
   "outputs": [
    {
     "ename": "ValueError",
     "evalue": "time data 'January, 2022' does not match format '%B %d, %Y'",
     "output_type": "error",
     "traceback": [
      "\u001B[0;31m---------------------------------------------------------------------------\u001B[0m",
      "\u001B[0;31mValueError\u001B[0m                                Traceback (most recent call last)",
      "Cell \u001B[0;32mIn[161], line 1\u001B[0m\n\u001B[0;32m----> 1\u001B[0m \u001B[43mdatetime\u001B[49m\u001B[38;5;241;43m.\u001B[39;49m\u001B[43mstrptime\u001B[49m\u001B[43m(\u001B[49m\u001B[38;5;124;43m'\u001B[39;49m\u001B[38;5;124;43mJanuary, 2022\u001B[39;49m\u001B[38;5;124;43m'\u001B[39;49m\u001B[43m,\u001B[49m\u001B[43m \u001B[49m\u001B[38;5;124;43m'\u001B[39;49m\u001B[38;5;124;43m%\u001B[39;49m\u001B[38;5;124;43mB \u001B[39;49m\u001B[38;5;132;43;01m%d\u001B[39;49;00m\u001B[38;5;124;43m, \u001B[39;49m\u001B[38;5;124;43m%\u001B[39;49m\u001B[38;5;124;43mY\u001B[39;49m\u001B[38;5;124;43m'\u001B[39;49m\u001B[43m)\u001B[49m\u001B[38;5;241m.\u001B[39myear\n",
      "File \u001B[0;32m/usr/local/Caskroom/miniforge/base/envs/default/lib/python3.12/_strptime.py:554\u001B[0m, in \u001B[0;36m_strptime_datetime\u001B[0;34m(cls, data_string, format)\u001B[0m\n\u001B[1;32m    551\u001B[0m \u001B[38;5;28;01mdef\u001B[39;00m \u001B[38;5;21m_strptime_datetime\u001B[39m(\u001B[38;5;28mcls\u001B[39m, data_string, \u001B[38;5;28mformat\u001B[39m\u001B[38;5;241m=\u001B[39m\u001B[38;5;124m\"\u001B[39m\u001B[38;5;132;01m%a\u001B[39;00m\u001B[38;5;124m \u001B[39m\u001B[38;5;124m%\u001B[39m\u001B[38;5;124mb \u001B[39m\u001B[38;5;132;01m%d\u001B[39;00m\u001B[38;5;124m \u001B[39m\u001B[38;5;124m%\u001B[39m\u001B[38;5;124mH:\u001B[39m\u001B[38;5;124m%\u001B[39m\u001B[38;5;124mM:\u001B[39m\u001B[38;5;124m%\u001B[39m\u001B[38;5;124mS \u001B[39m\u001B[38;5;124m%\u001B[39m\u001B[38;5;124mY\u001B[39m\u001B[38;5;124m\"\u001B[39m):\n\u001B[1;32m    552\u001B[0m \u001B[38;5;250m    \u001B[39m\u001B[38;5;124;03m\"\"\"Return a class cls instance based on the input string and the\u001B[39;00m\n\u001B[1;32m    553\u001B[0m \u001B[38;5;124;03m    format string.\"\"\"\u001B[39;00m\n\u001B[0;32m--> 554\u001B[0m     tt, fraction, gmtoff_fraction \u001B[38;5;241m=\u001B[39m \u001B[43m_strptime\u001B[49m\u001B[43m(\u001B[49m\u001B[43mdata_string\u001B[49m\u001B[43m,\u001B[49m\u001B[43m \u001B[49m\u001B[38;5;28;43mformat\u001B[39;49m\u001B[43m)\u001B[49m\n\u001B[1;32m    555\u001B[0m     tzname, gmtoff \u001B[38;5;241m=\u001B[39m tt[\u001B[38;5;241m-\u001B[39m\u001B[38;5;241m2\u001B[39m:]\n\u001B[1;32m    556\u001B[0m     args \u001B[38;5;241m=\u001B[39m tt[:\u001B[38;5;241m6\u001B[39m] \u001B[38;5;241m+\u001B[39m (fraction,)\n",
      "File \u001B[0;32m/usr/local/Caskroom/miniforge/base/envs/default/lib/python3.12/_strptime.py:333\u001B[0m, in \u001B[0;36m_strptime\u001B[0;34m(data_string, format)\u001B[0m\n\u001B[1;32m    331\u001B[0m found \u001B[38;5;241m=\u001B[39m format_regex\u001B[38;5;241m.\u001B[39mmatch(data_string)\n\u001B[1;32m    332\u001B[0m \u001B[38;5;28;01mif\u001B[39;00m \u001B[38;5;129;01mnot\u001B[39;00m found:\n\u001B[0;32m--> 333\u001B[0m     \u001B[38;5;28;01mraise\u001B[39;00m \u001B[38;5;167;01mValueError\u001B[39;00m(\u001B[38;5;124m\"\u001B[39m\u001B[38;5;124mtime data \u001B[39m\u001B[38;5;132;01m%r\u001B[39;00m\u001B[38;5;124m does not match format \u001B[39m\u001B[38;5;132;01m%r\u001B[39;00m\u001B[38;5;124m\"\u001B[39m \u001B[38;5;241m%\u001B[39m\n\u001B[1;32m    334\u001B[0m                      (data_string, \u001B[38;5;28mformat\u001B[39m))\n\u001B[1;32m    335\u001B[0m \u001B[38;5;28;01mif\u001B[39;00m \u001B[38;5;28mlen\u001B[39m(data_string) \u001B[38;5;241m!=\u001B[39m found\u001B[38;5;241m.\u001B[39mend():\n\u001B[1;32m    336\u001B[0m     \u001B[38;5;28;01mraise\u001B[39;00m \u001B[38;5;167;01mValueError\u001B[39;00m(\u001B[38;5;124m\"\u001B[39m\u001B[38;5;124munconverted data remains: \u001B[39m\u001B[38;5;132;01m%s\u001B[39;00m\u001B[38;5;124m\"\u001B[39m \u001B[38;5;241m%\u001B[39m\n\u001B[1;32m    337\u001B[0m                       data_string[found\u001B[38;5;241m.\u001B[39mend():])\n",
      "\u001B[0;31mValueError\u001B[0m: time data 'January, 2022' does not match format '%B %d, %Y'"
     ]
    }
   ],
   "source": [
    "datetime.strptime('August 26, 2022', '%B %d, %Y').year"
   ],
   "metadata": {
    "collapsed": false,
    "ExecuteTime": {
     "end_time": "2024-02-27T05:15:02.013150Z",
     "start_time": "2024-02-27T05:15:01.813350Z"
    }
   },
   "id": "9c07ce3f9cff7eec"
  },
  {
   "cell_type": "code",
   "execution_count": 107,
   "outputs": [
    {
     "data": {
      "text/plain": "['Kansas City Athletics in the 1st round (1st) of the 1966 MLB August Legion Draft',\n 'Houston Astros in the 1st round (1st) of the 1967 MLB January Draft-Secondary Phase from Deerfield Academy (Deerfield, MA)',\n 'Houston Astros in the 3rd round of the 1967 MLB June Draft-Secondary Phase from Deerfield Academy (Deerfield, MA)',\n 'Washington Senators in the 2nd round of the 1969 MLB June Draft-Secondary Phase from Harvard University (Cambridge, MA)',\n 'San Francisco Giants in the 2nd round of the 1970 MLB June Draft-Secondary Phase from Harvard University (Cambridge, MA)',\n 'Atlanta Braves in the 1st round (20th) of the 1971 MLB January Draft-Secondary Phase from Harvard University (Cambridge, MA)',\n 'Chicago White Sox in the 1st round (1st) of the 1971 MLB June Draft-Secondary Phase from Harvard University (Cambridge, MA)']"
     },
     "execution_count": 107,
     "metadata": {},
     "output_type": "execute_result"
    }
   ],
   "source": [
    "drafts = re.split(', the | and the ', ' '.join(soup.find('strong', string='Draft').parent.text.split()).replace('Draft: Drafted by the ', '')[:-1])\n",
    "drafts"
   ],
   "metadata": {
    "collapsed": false,
    "ExecuteTime": {
     "end_time": "2024-02-26T23:46:56.752622Z",
     "start_time": "2024-02-26T23:46:56.704614Z"
    }
   },
   "id": "babe95a72286b137"
  },
  {
   "cell_type": "code",
   "execution_count": 132,
   "outputs": [
    {
     "data": {
      "text/plain": "[{'team': 'Kansas City Athletics',\n  'round': 1,\n  'pick': 1,\n  'year': 1966,\n  'month': 8,\n  'secondary_phase': False},\n {'team': 'Houston Astros',\n  'round': 1,\n  'pick': 1,\n  'year': 1967,\n  'month': 1,\n  'secondary_phase': True,\n  'school': {'name': 'Deerfield Academy',\n   'city': 'Deerfield',\n   'state': 'Massachusetts',\n   'country': 'United States'}},\n {'team': 'Houston Astros',\n  'round': 3,\n  'year': 1967,\n  'month': 6,\n  'secondary_phase': True,\n  'school': {'name': 'Deerfield Academy',\n   'city': 'Deerfield',\n   'state': 'Massachusetts',\n   'country': 'United States'}},\n {'team': 'Washington Senators',\n  'round': 2,\n  'year': 1969,\n  'month': 6,\n  'secondary_phase': True,\n  'school': {'name': 'Harvard University',\n   'city': 'Cambridge',\n   'state': 'Massachusetts',\n   'country': 'United States'}},\n {'team': 'San Francisco Giants',\n  'round': 2,\n  'year': 1970,\n  'month': 6,\n  'secondary_phase': True,\n  'school': {'name': 'Harvard University',\n   'city': 'Cambridge',\n   'state': 'Massachusetts',\n   'country': 'United States'}},\n {'team': 'Atlanta Braves',\n  'round': 1,\n  'pick': 20,\n  'year': 1971,\n  'month': 1,\n  'secondary_phase': True,\n  'school': {'name': 'Harvard University',\n   'city': 'Cambridge',\n   'state': 'Massachusetts',\n   'country': 'United States'}},\n {'team': 'Chicago White Sox',\n  'round': 1,\n  'pick': 1,\n  'year': 1971,\n  'month': 6,\n  'secondary_phase': True,\n  'school': {'name': 'Harvard University',\n   'city': 'Cambridge',\n   'state': 'Massachusetts',\n   'country': 'United States'}}]"
     },
     "execution_count": 132,
     "metadata": {},
     "output_type": "execute_result"
    }
   ],
   "source": [
    "geolocator = Nominatim(user_agent='google')\n",
    "geocode = partial(geolocator.geocode, exactly_one=True, addressdetails=True, language='en', timeout=10)\n",
    "raw_drafts = re.split(', the | and the ', ' '.join(soup.find('strong', string='Draft').parent.text.split()).replace('Draft: Drafted by the ', '')[:-1])\n",
    "drafts = []\n",
    "for draft in raw_drafts:\n",
    "    m = re.match(r'(?P<team>.+) in the (?P<round>\\d+)[a-z]{2} round(?: \\((?P<pick>\\d+)[a-z]{2}\\))? of the (?P<year>\\d{4}) MLB (?P<month>January|June|August).* Draft(?:-(?P<secondary_phase>Secondary Phase))?(?: from (?P<school>.+) \\((?P<city>.+), (?P<state>[A-Z]{2})\\))?', draft).groupdict()\n",
    "    m['month'] = list(calendar.month_name).index(m['month'])\n",
    "    m['secondary_phase'] = 'Secondary Phase' in draft\n",
    "    if m['school']:\n",
    "        try:\n",
    "            raw_address = geocode(f\"{m['city']}, {m['state']}\").raw['address']\n",
    "        except AttributeError:\n",
    "            try:\n",
    "                raw_address = geocode(m['school']).raw['address']\n",
    "            except AttributeError:\n",
    "                raw_address = geocode(STATE_DICT[m['state']]).raw['address']\n",
    "                raw_address['city'] = m['city']\n",
    "        \n",
    "        m['school'] = {'name': m['school']}\n",
    "        match_location(loc_dict=m['school'], raw_address=raw_address)\n",
    "        del m['city'], m['state']\n",
    "            \n",
    "    drafts.append({key: int(value) if key in {'round', 'pick', 'year'} else value for key, value in m.items() if key == 'secondary_phase' or value})\n",
    "\n",
    "drafts"
   ],
   "metadata": {
    "collapsed": false,
    "ExecuteTime": {
     "end_time": "2024-02-27T03:43:57.333713Z",
     "start_time": "2024-02-27T03:43:50.974810Z"
    }
   },
   "id": "58493eb0896a0099"
  },
  {
   "cell_type": "code",
   "execution_count": 0,
   "outputs": [],
   "source": [
    "player_id = 'swansda01'\n",
    "url = f'https://www.baseball-reference.com/players/{player_id[0]}/{player_id}.shtml'\n",
    "\n",
    "geolocator = Nominatim(user_agent='google')\n",
    "geocode = partial(geolocator.geocode, exactly_one=True, addressdetails=True, language='en')\n",
    "soup = BeautifulSoup(requests.get(url).content, 'html.parser', from_encoding='utf_8')\n",
    "\n",
    "nested_dict = lambda: defaultdict(nested_dict)\n",
    "test_dict = nested_dict()\n",
    "\n",
    "header = json.loads(soup.find(type='application/ld+json').string)\n",
    "name = header['name'].strip().split()\n",
    "if len(name) == 1:\n",
    "    test_dict['name']['last'] = name[0]\n",
    "elif len(name) == 2:\n",
    "    test_dict['name']['first'], test_dict['name']['last'] = name\n",
    "elif len(name) == 3 and name[-1] in ['Jr.', 'Sr.', 'II', 'III', 'IV', 'V']:\n",
    "    test_dict['name']['first'], test_dict['name']['last'] = name[0], ' '.join(name[1:])\n",
    "else:\n",
    "    idx = len(name) - [name.startswith(''.join([char for char in player_id if char.isalpha()])[:-2]) for name in [unidecode(name.lower()) for name in name]][::-1].index(True) - 1\n",
    "    test_dict['name']['first'], test_dict['name']['last'] = ' '.join(name[:idx]), ' '.join(name[idx:])\n",
    "\n",
    "try:\n",
    "    birth_date = [int(d) for d in header['birthDate'].split('-')]\n",
    "    for i, date_part in enumerate(['year', 'month', 'day']):\n",
    "        if birth_date[i] > 0:\n",
    "            test_dict['born'][date_part] = birth_date[i]\n",
    "except KeyError:\n",
    "    pass\n",
    "\n",
    "try:\n",
    "    match_location(location=header['birthPlace'], loc_dict=test_dict['born'], geocode=geocode)\n",
    "except KeyError:\n",
    "    pass\n",
    "\n",
    "try:\n",
    "    test_dict['height']['inches'] = (np.array(header['height']['value'].split('-'), dtype=int) * np.array([12, 1])).sum()\n",
    "    test_dict['height']['feet'] = test_dict['height']['inches'] / 12.0\n",
    "    test_dict['height']['meters'] = test_dict['height']['feet'] * 0.3048\n",
    "except KeyError:\n",
    "    pass\n",
    "\n",
    "try:\n",
    "    test_dict['weight']['lbs'] = int(header['weight']['value'].replace(' lbs', ''))\n",
    "    test_dict['weight']['kg'] = test_dict['weight']['lbs'] * 0.453592\n",
    "except KeyError:\n",
    "    pass\n",
    "\n",
    "with soup.find('strong', string='Bats: ').next_sibling.strip()[0] as bats:\n",
    "    if bats != 'U':\n",
    "        test_dict['bats'] = bats\n",
    "\n",
    "with soup.find('strong', string='Bats: ').next_sibling.strip()[0] as throws:\n",
    "    if throws != 'U':\n",
    "        test_dict['bats'] = bats\n",
    "\n",
    "try:\n",
    "    death_date = [int(d) for d in soup.find('span', id='necro-death')['data-death'].split('-')]\n",
    "    for i, date_part in enumerate(['year', 'month', 'day']):\n",
    "        if death_date[i] > 0:\n",
    "            test_dict['died'][date_part] = death_date[i]\n",
    "except KeyError:\n",
    "    pass\n",
    "\n",
    "try:\n",
    "    match_location(location=soup.find('span', id='necro-death').find_next_sibling('span').text.replace('in', '').replace('\\xa0', ' ').strip(), loc_dict=test_dict['died'], geocode=geocode)\n",
    "except AttributeError:\n",
    "    pass\n",
    "\n",
    "if player_id == 'kleinnu01':\n",
    "    test_dict['died']['cemetery'] = 'Atlantic Ocean'\n",
    "else:\n",
    "    try:\n",
    "        location = list(soup.find('a', string='Buried').next_elements)[2].strip()\n",
    "        if location[0] != 'Unknown Cemetery':\n",
    "            test_dict['died']['cemetery'] = location[0]\n",
    "        if location != 'Cremated':\n",
    "            try:\n",
    "                match_location(location=', '.join(location.split(', ')[1:]), loc_dict=test_dict['died']['buried'], geocode=geocode)\n",
    "            except AttributeError:\n",
    "                pass\n",
    "    except AttributeError:\n",
    "        pass\n",
    "try:\n",
    "    raw_drafts = re.split(', the | and the ', ' '.join(soup.find('strong', string='Draft').parent.text.split()).replace('Draft: Drafted by the ', '')[:-1])\n",
    "    drafts = []\n",
    "    for draft in raw_drafts:\n",
    "        m = re.match(r'(?P<team>.+) in the (?P<round>\\d+)[a-z]{2} round(?: \\((?P<pick>\\d+)[a-z]{2}\\))? of the (?P<year>\\d{4}) MLB (?P<month>January|June|August).* Draft(?:-(?P<secondary_phase>Secondary Phase))?(?: from (?P<school>.+) \\((?P<city>.+), (?P<state>[A-Z]{2})\\))?', draft).groupdict()\n",
    "        m['month'] = list(calendar.month_name).index(m['month'])\n",
    "        m['secondary_phase'] = 'Secondary Phase' in draft\n",
    "        if m['school']:\n",
    "            try:\n",
    "                raw_address = geocode(f\"{m['city']}, {m['state']}\").raw['address']\n",
    "            except AttributeError:\n",
    "                try:\n",
    "                    raw_address = geocode(m['school']).raw['address']\n",
    "                except AttributeError:\n",
    "                    raw_address = geocode(STATE_DICT[m['state']]).raw['address']\n",
    "                    raw_address['city'] = m['city']\n",
    "    \n",
    "            m['school'] = {'name': m['school']}\n",
    "            match_location(loc_dict=m['school'], raw_address=raw_address)\n",
    "            del m['city'], m['state']\n",
    "    \n",
    "        drafts.append({key: int(value) if key in {'round', 'pick', 'year'} else value for key, value in m.items() if key == 'secondary_phase' or value})\n",
    "    \n",
    "    test_dict['drafts'] = drafts\n",
    "except AttributeError:\n",
    "    pass\n",
    "\n",
    "for school_type in ['high_schools', 'colleges']:\n",
    "    try:\n",
    "        schools = [dict(zip(['name', 'city', 'state'], re.split(r' \\(|, (?=[A-Z]{2})', school.rstrip(')')))) for school in re.split(r'(?<=\\)), ', soup.find('strong', string=re.compile(('High ' if school_type == 'high_schools' else '') + 'School(s)?:')).find_next_sibling('a').text)]\n",
    "        for school in schools:\n",
    "            try:\n",
    "                raw_address = geocode(f\"{school['city']}, {school['state']}\").raw['address']\n",
    "            except AttributeError:\n",
    "                try:\n",
    "                    raw_address = geocode(school['school']).raw['address']\n",
    "                except AttributeError:\n",
    "                    raw_address = geocode(STATE_DICT[school['state']]).raw['address']\n",
    "                    raw_address['city'] = school['city']\n",
    "        \n",
    "            match_location(school, raw_address=raw_address)\n",
    "        \n",
    "        test_dict[school_type] = schools\n",
    "    except AttributeError:\n",
    "        pass\n",
    "\n",
    "for event in ['debut', 'finale']:\n",
    "    try:\n",
    "        debut_info = [info.string.strip().replace(',', '').replace('vs. ', '').split() for info in soup.find('strong', string='Debut:' if event == 'debut' else 'Last Game:').find_next_siblings('a')]\n",
    "        debut = [int(d) if d.isnumeric() else list(calendar.month_name).index(d) for d in debut_info[0]]\n",
    "        test_dict[event]['year'] = debut[-1]\n",
    "        if len(debut) > 1:\n",
    "            test_dict[event]['month'] = debut[0]\n",
    "            if len(debut) == 3:\n",
    "                test_dict[event]['day'] = debut[1]\n",
    "        if len(debut_info) > 1:\n",
    "            test_dict[event]['opponent'] = debut_info[1]\n",
    "            \n",
    "    except AttributeError:\n",
    "        pass\n",
    "\n",
    "try:\n",
    "    test_dict['last_rookie_season'] = int(re.search(r'\\d{4}', soup.find('strong', string='Rookie Status:').next_sibling.strip())[0])\n",
    "except AttributeError:\n",
    "    pass\n",
    "\n",
    "try:\n",
    "    test_dict['agents'] = [{'name': agent, 'current': len(agents) == 1} for agents in [a.replace('\\u2022', '').replace(':', '').strip().split(', ') for a in soup.find('strong', string='Agents').next_siblings if isinstance(a, str)] for agent in agents]\n",
    "except AttributeError:\n",
    "    pass"
   ],
   "metadata": {
    "collapsed": false
   },
   "id": "1e7a894eb363afa3"
  },
  {
   "cell_type": "code",
   "execution_count": 4,
   "outputs": [],
   "source": [
    "\n",
    "tdf = soup.find('table')\n",
    "tdf, table_id = pd.read_html(StringIO(str(soup.find('table'))))[0].dropna(subset='Tm').query(\"Year.str.isnumeric() & ~Tm.str.match('.+-min|TOT')\"), tdf['id']\n",
    "tdf = tdf.astype({col: 'Int64' for col in INT_COLS & set(tdf.columns)} | {col: float for col in FLOAT_COLS & set(tdf.columns)})\n",
    "if table_id == 'pitching_standard':\n",
    "    tdf['IP'] = tdf['IP'].mul(3).round().div(3)\n",
    "\n",
    "tdf.insert(loc=0, column='PlayerID', value=player_id)\n",
    "test_dict[table_id] = tdf\n",
    "\n",
    "try:\n",
    "    table_id = 'batting_standard' if table_id == 'pitching_standard' else 'pitching_standard'\n",
    "    tdf = pd.read_html(StringIO(str(BeautifulSoup([comment.strip() for comment in soup.find_all(string=lambda text: isinstance(text, Comment)) if 'table' in comment and bool(re.search(f'id=\"{table_id}\"', comment))][0]).find('table'))))[0].dropna(subset='Tm').query(\"Year.str.isnumeric() & ~Tm.str.match('.+-min|TOT')\")\n",
    "    tdf = tdf.astype({col: 'Int64' for col in INT_COLS & set(tdf.columns)} | {col: float for col in FLOAT_COLS & set(tdf.columns)})\n",
    "    if table_id == 'pitching_standard':\n",
    "        tdf['IP'] = tdf['IP'].mul(3).round().div(3)\n",
    "        \n",
    "    tdf.insert(loc=0, column='PlayerID', value=player_id)\n",
    "    test_dict[table_id] = tdf\n",
    "except IndexError:\n",
    "    pass\n",
    "\n",
    "for player_stats in [ps.replace('_standard', '') for ps in test_dict]:\n",
    "    for suffix in ['_value', '_advanced', '_postseason']:\n",
    "        try:\n",
    "            table_id = player_stats + suffix\n",
    "            tdf = pd.read_html(StringIO(str(BeautifulSoup([comment.strip() for comment in soup.find_all(string=lambda text: isinstance(text, Comment)) if 'table' in comment and bool(re.search(f'id=\"{table_id}\"', comment))][0]).find('table'))))[0]\n",
    "            if suffix == '_advanced':\n",
    "                tdf = tdf.droplevel(0, axis=1)\n",
    "            elif suffix == '_value':\n",
    "                tdf['Salary'] = tdf['Salary'].str.lstrip('$').str.replace(',', '').astype(float)\n",
    "                \n",
    "            tdf = tdf.dropna(subset='Tm').query(\"Year.str.isnumeric() & ~Tm.str.match('TOT')\")\n",
    "            tdf = tdf.astype({col: 'Int64' for col in INT_COLS & set(tdf.columns)} | {col: float for col in FLOAT_COLS & set(tdf.columns)})\n",
    "            tdf[list({'HR%', 'SO%', 'BB%', 'LD%', 'GB%', 'FB%', 'Pull%', 'Cent%', 'Oppo%', 'cWPA', 'RS%', 'SB%', 'XBT%'} & set(tdf.columns))] = tdf[list({'HR%', 'SO%', 'BB%', 'LD%', 'GB%', 'FB%', 'Pull%', 'Cent%', 'Oppo%', 'cWPA', 'RS%', 'SB%', 'XBT%'} & set(tdf.columns))].apply(lambda x: x.astype(str).str.rstrip('%').astype(float).div(100.0))\n",
    "            if player_stats == 'pitching':\n",
    "                tdf['IP'] = tdf['IP'].mul(3).round().div(3)\n",
    "            \n",
    "            tdf.insert(loc=0, column='PlayerID', value=player_id)\n",
    "            test_dict[table_id] = tdf\n",
    "        except IndexError:\n",
    "            continue\n",
    "\n",
    "try:\n",
    "    tdf = pd.read_html(StringIO(str(BeautifulSoup([comment.strip() for comment in soup.find_all(string=lambda text: isinstance(text, Comment)) if 'table' in comment and bool(re.search('id=\"standard_fielding\"', comment))][0]).find('table'))))[0].rename({'PO.1': 'PK'}, axis=1).dropna(subset='Tm').query(\"Year.str.isnumeric() & ~Tm.str.match('TOT')\")\n",
    "    tdf = tdf.astype({col: 'Int64' for col in INT_COLS & set(tdf.columns)} | {col: float for col in FLOAT_COLS & set(tdf.columns)})\n",
    "    try:\n",
    "        tdf[['CS%', 'lgCS%']] = tdf[['CS%', 'lgCS%']].apply(lambda x: x.astype(str).str.rstrip('%').astype(float).div(100.0))\n",
    "    except KeyError:\n",
    "        pass\n",
    "\n",
    "    tdf.insert(loc=0, column='PlayerID', value=player_id)\n",
    "    test_dict['fielding_standard'] = tdf\n",
    "except IndexError:\n",
    "    pass\n",
    "\n",
    "table_id = 'appearances'\n",
    "tdf = pd.read_html(StringIO(str(BeautifulSoup([comment.strip() for comment in soup.find_all(string=lambda text: isinstance(text, Comment)) if 'table' in comment and bool(re.search(f'id=\"{table_id}\"', comment))][0]).find('table'))))[0].dropna(subset='Tm').query(\"Year.str.isnumeric() & ~Tm.str.match('.+-minTOT')\").astype({col: int for col in {'Year', 'Age'}})\n",
    "\n",
    "tdf.insert(loc=0, column='PlayerID', value=player_id)\n",
    "test_dict[table_id] = tdf\n",
    "\n",
    "del tdf"
   ],
   "metadata": {
    "collapsed": false,
    "ExecuteTime": {
     "start_time": "2024-02-22T03:03:57.391808Z"
    }
   },
   "id": "ca824d9a93ed072c"
  },
  {
   "cell_type": "code",
   "execution_count": 5,
   "outputs": [
    {
     "data": {
      "text/plain": "dict_keys(['batting_standard', 'batting_value', 'batting_advanced', 'batting_postseason', 'fielding_standard', 'appearances'])"
     },
     "execution_count": 5,
     "metadata": {},
     "output_type": "execute_result"
    }
   ],
   "source": [
    "test_dict.keys()"
   ],
   "metadata": {
    "collapsed": false,
    "ExecuteTime": {
     "end_time": "2024-02-22T03:04:00.704015Z",
     "start_time": "2024-02-22T03:04:00.630206Z"
    }
   },
   "id": "a34f206b0e8771b"
  },
  {
   "cell_type": "code",
   "execution_count": null,
   "outputs": [
    {
     "data": {
      "text/plain": "Scraping Baseball-Reference player pages:   0%|          | 0/651 [00:00<?, ?players/s]",
      "application/vnd.jupyter.widget-view+json": {
       "version_major": 2,
       "version_minor": 0,
       "model_id": "33ad9fb171c64ae3b24246bd541312b4"
      }
     },
     "metadata": {},
     "output_type": "display_data"
    }
   ],
   "source": [
    "for letter in ['a', 'b', 'c', 'd', 'e', 'f', 'g', 'h', 'i', 'j', 'k', 'l', 'm', 'n', 'o', 'p', 'q', 'r', 's', 't', 'u', 'v', 'w', 'x', 'y', 'z']:\n",
    "    players = {pid for pid in set(pd.read_csv('bref_standard_batting.csv')['PlayerID'].unique()) | set(pd.read_csv('bref_standard_pitching.csv')['PlayerID'].unique()) | set(pd.read_csv('bref_standard_fielding.csv')['PlayerID'].unique()) if pid.startswith(letter)}\n",
    "    player_dict = defaultdict(dict)\n",
    "    \n",
    "    pbar = tqdm(players, desc='Scraping Baseball-Reference player pages', unit='players', dynamic_ncols=True, leave=False)\n",
    "    \n",
    "    for player in pbar:\n",
    "        pbar.set_postfix({'playerIDBR': player})\n",
    "        url = f'https://www.baseball-reference.com/players/{player[0]}/{player}.shtml'\n",
    "        tdf = scrape_table(url, extract_links=False).dropna(how='all', subset='Tm').query(\"Year.str.isnumeric() & ~Tm.str.match('.+-min|TOT')\")\n",
    "        tdf = tdf.astype({col: 'Int64' for col in INT_COLS & set(tdf.columns)} | {col: float for col in FLOAT_COLS & set(tdf.columns)})\n",
    "        tdf.insert(loc=0, column='PlayerID', value=player)\n",
    "\n",
    "        if 'OPS+' in tdf.columns:\n",
    "            batting = True\n",
    "            player_dict[player]['standard_batting'] = tdf\n",
    "        elif 'ERA+' in tdf.columns:\n",
    "            batting = False\n",
    "            tdf['IP'] = tdf['IP'].mul(3).round().div(3)\n",
    "            player_dict[player]['standard_pitching'] = tdf\n",
    "        else:\n",
    "            tdf['Inn'] = tdf['Inn'].mul(3).round().div(3)\n",
    "            if 'SB' in tdf.columns:\n",
    "                tdf = tdf.rename({'PO.1': 'PK'}, axis=1)\n",
    "                tdf[['CS%', 'lgCS%']] = tdf[['CS%', 'lgCS%']].apply(lambda x: x.astype(str).str.rstrip('%').astype(float).div(100.0))\n",
    "            player_dict[player]['standard_fielding'] = tdf\n",
    "            continue\n",
    "\n",
    "        try:\n",
    "            tdf = scrape_table(url, match='Standard Pitching' if batting else 'Standard Batting', extract_links=False, commented=True).dropna(how='all', subset='Tm').query(\"Year.str.isnumeric() & ~Tm.str.match('.+-min|TOT')\")\n",
    "            tdf = tdf.astype({col: 'Int64' for col in INT_COLS & set(tdf.columns)} | {col: float for col in FLOAT_COLS & set(tdf.columns)})\n",
    "            if not batting:\n",
    "                tdf['IP'] = tdf['IP'].mul(3).round().div(3)\n",
    "            tdf.insert(loc=0, column='PlayerID', value=player)\n",
    "            player_dict[player]['standard_pitching' if batting else 'standard_pitching'] = tdf\n",
    "        except IndexError:\n",
    "            player_dict[player]['standard_pitching' if batting else 'standard_pitching'] = pd.DataFrame()\n",
    "    \n",
    "        try:\n",
    "            tdf = scrape_table(url, match='Standard Fielding', extract_links=False, commented=True).dropna(how='all', subset='Tm').query(\"Year.str.isnumeric() & ~Tm.str.match('.+-min|TOT')\")\n",
    "            tdf = tdf.astype({col: 'Int64' for col in INT_COLS & set(tdf.columns)} | {col: float for col in FLOAT_COLS & set(tdf.columns)})\n",
    "            tdf['Inn'] = tdf['Inn'].mul(3).round().div(3)\n",
    "            if 'SB' in tdf.columns:\n",
    "                tdf = tdf.rename({'PO.1': 'PK'}, axis=1)\n",
    "                tdf[['CS%', 'lgCS%']] = tdf[['CS%', 'lgCS%']].apply(lambda x: x.astype(str).str.rstrip('%').astype(float).div(100.0))\n",
    "            tdf.insert(loc=0, column='PlayerID', value=player)\n",
    "            player_dict[player]['standard_fielding'] = tdf\n",
    "        except IndexError:\n",
    "            player_dict[player]['standard_fielding'] = pd.DataFrame()\n",
    "        sleep(3)\n",
    "    \n",
    "    pd.concat([value['standard_fielding'] for value in player_dict.values()], ignore_index=True).to_csv(f'bref_standard_fielding_{letter}.csv', index=False, chunksize=50000)"
   ],
   "metadata": {
    "collapsed": false,
    "is_executing": true,
    "ExecuteTime": {
     "start_time": "2024-02-18T06:54:08.795625Z"
    }
   },
   "id": "516b1a5c356deeb0"
  },
  {
   "cell_type": "code",
   "execution_count": 29,
   "outputs": [
    {
     "data": {
      "text/plain": "     PlayerID  Year  Age   Tm Pos  Lg   G  GS    CG        Inn  ...  lgFld%  \\\n0   amarial01  2011   22  LAA  2B  AL  14   9     7  93.333333  ...    .984   \n1   amarial01  2011   22  LAA  LF  AL   8   4     2  43.000000  ...    .982   \n2   amarial01  2011   22  LAA  OF  AL   8   4     2  43.000000  ...    .986   \n3   amarial01  2011   22  LAA  SS  AL   1   0     0   3.000000  ...     NaN   \n4   amarial01  2012   23  LAA  DH  AL   1   0  <NA>        NaN  ...     NaN   \n..        ...   ...  ...  ...  ..  ..  ..  ..   ...        ...  ...     ...   \n21        NaN  2016   25  TBR  RF  AL  11  10     8  83.000000  ...    .986   \n22        NaN  2016   25  TBR  DH  AL   3   3  <NA>        NaN  ...     NaN   \n23        NaN  2016   25  TBR  LF  AL   3   3     2  24.000000  ...    .983   \n24        NaN  2016   25  SDP  OF  NL  13  11    10  97.333333  ...    .985   \n25        NaN  2016   25  SDP  RF  NL  13  11    10  97.333333  ...    .984   \n\n    lgRF9  lgRFG    SB    CS  CS%  lgCS%    PK  Awards  LF-CF-RF  \n0    4.77   4.73  <NA>  <NA>  NaN    NaN  <NA>     NaN       NaN  \n1    2.12   2.11  <NA>  <NA>  NaN    NaN  <NA>     NaN       NaN  \n2    2.28   2.26  <NA>  <NA>  NaN    NaN  <NA>     NaN       NaN  \n3    4.50   4.30  <NA>  <NA>  NaN    NaN  <NA>     NaN       NaN  \n4     NaN    NaN  <NA>  <NA>  NaN    NaN  <NA>     NaN       NaN  \n..    ...    ...   ...   ...  ...    ...   ...     ...       ...  \n21   2.10   2.08  <NA>  <NA>  NaN    NaN  <NA>     NaN       NaN  \n22    NaN    NaN  <NA>  <NA>  NaN    NaN  <NA>     NaN       NaN  \n23   1.88   1.83  <NA>  <NA>  NaN    NaN  <NA>     NaN       NaN  \n24   2.07   2.05  <NA>  <NA>  NaN    NaN  <NA>     NaN       NaN  \n25   2.01   1.99  <NA>  <NA>  NaN    NaN  <NA>     NaN       NaN  \n\n[129 rows x 32 columns]",
      "text/html": "<div>\n<style scoped>\n    .dataframe tbody tr th:only-of-type {\n        vertical-align: middle;\n    }\n\n    .dataframe tbody tr th {\n        vertical-align: top;\n    }\n\n    .dataframe thead th {\n        text-align: right;\n    }\n</style>\n<table border=\"1\" class=\"dataframe\">\n  <thead>\n    <tr style=\"text-align: right;\">\n      <th></th>\n      <th>PlayerID</th>\n      <th>Year</th>\n      <th>Age</th>\n      <th>Tm</th>\n      <th>Pos</th>\n      <th>Lg</th>\n      <th>G</th>\n      <th>GS</th>\n      <th>CG</th>\n      <th>Inn</th>\n      <th>...</th>\n      <th>lgFld%</th>\n      <th>lgRF9</th>\n      <th>lgRFG</th>\n      <th>SB</th>\n      <th>CS</th>\n      <th>CS%</th>\n      <th>lgCS%</th>\n      <th>PK</th>\n      <th>Awards</th>\n      <th>LF-CF-RF</th>\n    </tr>\n  </thead>\n  <tbody>\n    <tr>\n      <th>0</th>\n      <td>amarial01</td>\n      <td>2011</td>\n      <td>22</td>\n      <td>LAA</td>\n      <td>2B</td>\n      <td>AL</td>\n      <td>14</td>\n      <td>9</td>\n      <td>7</td>\n      <td>93.333333</td>\n      <td>...</td>\n      <td>.984</td>\n      <td>4.77</td>\n      <td>4.73</td>\n      <td>&lt;NA&gt;</td>\n      <td>&lt;NA&gt;</td>\n      <td>NaN</td>\n      <td>NaN</td>\n      <td>&lt;NA&gt;</td>\n      <td>NaN</td>\n      <td>NaN</td>\n    </tr>\n    <tr>\n      <th>1</th>\n      <td>amarial01</td>\n      <td>2011</td>\n      <td>22</td>\n      <td>LAA</td>\n      <td>LF</td>\n      <td>AL</td>\n      <td>8</td>\n      <td>4</td>\n      <td>2</td>\n      <td>43.000000</td>\n      <td>...</td>\n      <td>.982</td>\n      <td>2.12</td>\n      <td>2.11</td>\n      <td>&lt;NA&gt;</td>\n      <td>&lt;NA&gt;</td>\n      <td>NaN</td>\n      <td>NaN</td>\n      <td>&lt;NA&gt;</td>\n      <td>NaN</td>\n      <td>NaN</td>\n    </tr>\n    <tr>\n      <th>2</th>\n      <td>amarial01</td>\n      <td>2011</td>\n      <td>22</td>\n      <td>LAA</td>\n      <td>OF</td>\n      <td>AL</td>\n      <td>8</td>\n      <td>4</td>\n      <td>2</td>\n      <td>43.000000</td>\n      <td>...</td>\n      <td>.986</td>\n      <td>2.28</td>\n      <td>2.26</td>\n      <td>&lt;NA&gt;</td>\n      <td>&lt;NA&gt;</td>\n      <td>NaN</td>\n      <td>NaN</td>\n      <td>&lt;NA&gt;</td>\n      <td>NaN</td>\n      <td>NaN</td>\n    </tr>\n    <tr>\n      <th>3</th>\n      <td>amarial01</td>\n      <td>2011</td>\n      <td>22</td>\n      <td>LAA</td>\n      <td>SS</td>\n      <td>AL</td>\n      <td>1</td>\n      <td>0</td>\n      <td>0</td>\n      <td>3.000000</td>\n      <td>...</td>\n      <td>NaN</td>\n      <td>4.50</td>\n      <td>4.30</td>\n      <td>&lt;NA&gt;</td>\n      <td>&lt;NA&gt;</td>\n      <td>NaN</td>\n      <td>NaN</td>\n      <td>&lt;NA&gt;</td>\n      <td>NaN</td>\n      <td>NaN</td>\n    </tr>\n    <tr>\n      <th>4</th>\n      <td>amarial01</td>\n      <td>2012</td>\n      <td>23</td>\n      <td>LAA</td>\n      <td>DH</td>\n      <td>AL</td>\n      <td>1</td>\n      <td>0</td>\n      <td>&lt;NA&gt;</td>\n      <td>NaN</td>\n      <td>...</td>\n      <td>NaN</td>\n      <td>NaN</td>\n      <td>NaN</td>\n      <td>&lt;NA&gt;</td>\n      <td>&lt;NA&gt;</td>\n      <td>NaN</td>\n      <td>NaN</td>\n      <td>&lt;NA&gt;</td>\n      <td>NaN</td>\n      <td>NaN</td>\n    </tr>\n    <tr>\n      <th>...</th>\n      <td>...</td>\n      <td>...</td>\n      <td>...</td>\n      <td>...</td>\n      <td>...</td>\n      <td>...</td>\n      <td>...</td>\n      <td>...</td>\n      <td>...</td>\n      <td>...</td>\n      <td>...</td>\n      <td>...</td>\n      <td>...</td>\n      <td>...</td>\n      <td>...</td>\n      <td>...</td>\n      <td>...</td>\n      <td>...</td>\n      <td>...</td>\n      <td>...</td>\n      <td>...</td>\n    </tr>\n    <tr>\n      <th>21</th>\n      <td>NaN</td>\n      <td>2016</td>\n      <td>25</td>\n      <td>TBR</td>\n      <td>RF</td>\n      <td>AL</td>\n      <td>11</td>\n      <td>10</td>\n      <td>8</td>\n      <td>83.000000</td>\n      <td>...</td>\n      <td>.986</td>\n      <td>2.10</td>\n      <td>2.08</td>\n      <td>&lt;NA&gt;</td>\n      <td>&lt;NA&gt;</td>\n      <td>NaN</td>\n      <td>NaN</td>\n      <td>&lt;NA&gt;</td>\n      <td>NaN</td>\n      <td>NaN</td>\n    </tr>\n    <tr>\n      <th>22</th>\n      <td>NaN</td>\n      <td>2016</td>\n      <td>25</td>\n      <td>TBR</td>\n      <td>DH</td>\n      <td>AL</td>\n      <td>3</td>\n      <td>3</td>\n      <td>&lt;NA&gt;</td>\n      <td>NaN</td>\n      <td>...</td>\n      <td>NaN</td>\n      <td>NaN</td>\n      <td>NaN</td>\n      <td>&lt;NA&gt;</td>\n      <td>&lt;NA&gt;</td>\n      <td>NaN</td>\n      <td>NaN</td>\n      <td>&lt;NA&gt;</td>\n      <td>NaN</td>\n      <td>NaN</td>\n    </tr>\n    <tr>\n      <th>23</th>\n      <td>NaN</td>\n      <td>2016</td>\n      <td>25</td>\n      <td>TBR</td>\n      <td>LF</td>\n      <td>AL</td>\n      <td>3</td>\n      <td>3</td>\n      <td>2</td>\n      <td>24.000000</td>\n      <td>...</td>\n      <td>.983</td>\n      <td>1.88</td>\n      <td>1.83</td>\n      <td>&lt;NA&gt;</td>\n      <td>&lt;NA&gt;</td>\n      <td>NaN</td>\n      <td>NaN</td>\n      <td>&lt;NA&gt;</td>\n      <td>NaN</td>\n      <td>NaN</td>\n    </tr>\n    <tr>\n      <th>24</th>\n      <td>NaN</td>\n      <td>2016</td>\n      <td>25</td>\n      <td>SDP</td>\n      <td>OF</td>\n      <td>NL</td>\n      <td>13</td>\n      <td>11</td>\n      <td>10</td>\n      <td>97.333333</td>\n      <td>...</td>\n      <td>.985</td>\n      <td>2.07</td>\n      <td>2.05</td>\n      <td>&lt;NA&gt;</td>\n      <td>&lt;NA&gt;</td>\n      <td>NaN</td>\n      <td>NaN</td>\n      <td>&lt;NA&gt;</td>\n      <td>NaN</td>\n      <td>NaN</td>\n    </tr>\n    <tr>\n      <th>25</th>\n      <td>NaN</td>\n      <td>2016</td>\n      <td>25</td>\n      <td>SDP</td>\n      <td>RF</td>\n      <td>NL</td>\n      <td>13</td>\n      <td>11</td>\n      <td>10</td>\n      <td>97.333333</td>\n      <td>...</td>\n      <td>.984</td>\n      <td>2.01</td>\n      <td>1.99</td>\n      <td>&lt;NA&gt;</td>\n      <td>&lt;NA&gt;</td>\n      <td>NaN</td>\n      <td>NaN</td>\n      <td>&lt;NA&gt;</td>\n      <td>NaN</td>\n      <td>NaN</td>\n    </tr>\n  </tbody>\n</table>\n<p>129 rows × 32 columns</p>\n</div>"
     },
     "execution_count": 29,
     "metadata": {},
     "output_type": "execute_result"
    }
   ],
   "source": [
    "pd.concat([value['standard_fielding'] for value in player_dict.values()], ignore_index=True).to_csv('bref_standard_fielding_a.csv', index=False, chunksize=50000)"
   ],
   "metadata": {
    "collapsed": false,
    "ExecuteTime": {
     "end_time": "2024-02-18T06:38:30.983038Z",
     "start_time": "2024-02-18T06:38:30.877750Z"
    }
   },
   "id": "cc95118d9e34b466"
  },
  {
   "cell_type": "code",
   "execution_count": 12,
   "outputs": [
    {
     "data": {
      "text/plain": "   Year  Age   Tm Pos  Lg  G  GS  CG        Inn  Ch  ...  RF/G  lgFld%  lgRF9  \\\n0  2002   25  LAD   P  NL  4   1   0  10.000000   1  ...  0.25    0.96   1.83   \n1  2003   26  LAD   P  NL  5   0   0   5.333333   0  ...  0.00     NaN   1.91   \n\n   lgRFG  SB  CS  CS%  lgCS%  PO.1  Awards  \n0   1.80   0   0  NaN    NaN     0     NaN  \n1   1.84   0   0  NaN    NaN     0     NaN  \n\n[2 rows x 28 columns]",
      "text/html": "<div>\n<style scoped>\n    .dataframe tbody tr th:only-of-type {\n        vertical-align: middle;\n    }\n\n    .dataframe tbody tr th {\n        vertical-align: top;\n    }\n\n    .dataframe thead th {\n        text-align: right;\n    }\n</style>\n<table border=\"1\" class=\"dataframe\">\n  <thead>\n    <tr style=\"text-align: right;\">\n      <th></th>\n      <th>Year</th>\n      <th>Age</th>\n      <th>Tm</th>\n      <th>Pos</th>\n      <th>Lg</th>\n      <th>G</th>\n      <th>GS</th>\n      <th>CG</th>\n      <th>Inn</th>\n      <th>Ch</th>\n      <th>...</th>\n      <th>RF/G</th>\n      <th>lgFld%</th>\n      <th>lgRF9</th>\n      <th>lgRFG</th>\n      <th>SB</th>\n      <th>CS</th>\n      <th>CS%</th>\n      <th>lgCS%</th>\n      <th>PO.1</th>\n      <th>Awards</th>\n    </tr>\n  </thead>\n  <tbody>\n    <tr>\n      <th>0</th>\n      <td>2002</td>\n      <td>25</td>\n      <td>LAD</td>\n      <td>P</td>\n      <td>NL</td>\n      <td>4</td>\n      <td>1</td>\n      <td>0</td>\n      <td>10.000000</td>\n      <td>1</td>\n      <td>...</td>\n      <td>0.25</td>\n      <td>0.96</td>\n      <td>1.83</td>\n      <td>1.80</td>\n      <td>0</td>\n      <td>0</td>\n      <td>NaN</td>\n      <td>NaN</td>\n      <td>0</td>\n      <td>NaN</td>\n    </tr>\n    <tr>\n      <th>1</th>\n      <td>2003</td>\n      <td>26</td>\n      <td>LAD</td>\n      <td>P</td>\n      <td>NL</td>\n      <td>5</td>\n      <td>0</td>\n      <td>0</td>\n      <td>5.333333</td>\n      <td>0</td>\n      <td>...</td>\n      <td>0.00</td>\n      <td>NaN</td>\n      <td>1.91</td>\n      <td>1.84</td>\n      <td>0</td>\n      <td>0</td>\n      <td>NaN</td>\n      <td>NaN</td>\n      <td>0</td>\n      <td>NaN</td>\n    </tr>\n  </tbody>\n</table>\n<p>2 rows × 28 columns</p>\n</div>"
     },
     "execution_count": 12,
     "metadata": {},
     "output_type": "execute_result"
    }
   ],
   "source": [
    "tdf = scrape_table('https://www.baseball-reference.com/players/a/alvarvi01.shtml', match='Standard Fielding', extract_links=False, commented=True).dropna(how='all', subset='Tm').query(\"Year.str.isnumeric() & ~Tm.str.match('.+-min|TOT')\")\n",
    "tdf = tdf.astype({col: 'Int64' for col in int_cols & set(tdf.columns)} | {col: float for col in float_cols & set(tdf.columns)})\n",
    "tdf['Inn'] = tdf['Inn'].mul(3).round().div(3)\n",
    "tdf"
   ],
   "metadata": {
    "collapsed": false,
    "ExecuteTime": {
     "end_time": "2024-02-18T06:23:24.955812Z",
     "start_time": "2024-02-18T06:23:24.077688Z"
    }
   },
   "id": "fbbf8190ef522e84"
  },
  {
   "cell_type": "code",
   "execution_count": 20,
   "outputs": [
    {
     "data": {
      "text/plain": "   CS%  lgCS%\n0  NaN    NaN\n1  NaN    NaN",
      "text/html": "<div>\n<style scoped>\n    .dataframe tbody tr th:only-of-type {\n        vertical-align: middle;\n    }\n\n    .dataframe tbody tr th {\n        vertical-align: top;\n    }\n\n    .dataframe thead th {\n        text-align: right;\n    }\n</style>\n<table border=\"1\" class=\"dataframe\">\n  <thead>\n    <tr style=\"text-align: right;\">\n      <th></th>\n      <th>CS%</th>\n      <th>lgCS%</th>\n    </tr>\n  </thead>\n  <tbody>\n    <tr>\n      <th>0</th>\n      <td>NaN</td>\n      <td>NaN</td>\n    </tr>\n    <tr>\n      <th>1</th>\n      <td>NaN</td>\n      <td>NaN</td>\n    </tr>\n  </tbody>\n</table>\n</div>"
     },
     "execution_count": 20,
     "metadata": {},
     "output_type": "execute_result"
    }
   ],
   "source": [
    "tdf[['CS%', 'lgCS%']].apply(lambda x: x.astype(str).str.rstrip('%').astype(float).div(100.0))"
   ],
   "metadata": {
    "collapsed": false,
    "ExecuteTime": {
     "end_time": "2024-02-18T06:26:19.082917Z",
     "start_time": "2024-02-18T06:26:19.008516Z"
    }
   },
   "id": "367801ae151f570d"
  },
  {
   "cell_type": "code",
   "execution_count": null,
   "outputs": [],
   "source": [
    "tdf = scrape_table(page, match='Standard Pitching', extract_links=False, commented=True).dropna(how='all', subset=['Year', 'Age', 'Tm']).query(\"Year.str.isnumeric() & ~Tm.str.match('.+-min|TOT')\")\n",
    "tdf.astype({col: 'Int64' for col in tdf.columns if col in int_cols} | {col: float for col in tdf.columns if col in float_cols}, errors='ignore')"
   ],
   "metadata": {
    "collapsed": false,
    "ExecuteTime": {
     "start_time": "2024-02-18T05:04:53.631506Z"
    }
   },
   "id": "4fed793170dee9bd"
  },
  {
   "cell_type": "code",
   "execution_count": 111,
   "outputs": [
    {
     "data": {
      "text/plain": "    Year  Age   Tm Pos  Lg    G   GS    CG     Inn    Ch  ...  RF/G  lgFld%  \\\n0   2011   21  SDP  1B  NL   45   37    34   341.2   344  ...  7.60    .994   \n1   2012   22  CHC  1B  NL   85   85    82   730.2   735  ...  8.60    .992   \n2   2013   23  CHC  1B  NL  159  158   158  1415.0  1441  ...  9.03    .994   \n3   2014   24  CHC  1B  NL  140  140   135  1259.0  1311  ...  9.30    .993   \n4   2015   25  CHC  1B  NL  160  160   154  1430.1  1465  ...  9.10    .994   \n5   2016   26  CHC  1B  NL  154  151   140  1337.0  1399  ...  9.05    .994   \n6   2016   26  CHC  2B  NL    1    0     0     0.1     1  ...  1.00    .980   \n7   2017   27  CHC  1B  NL  157  155   130  1341.0  1375  ...  8.74    .994   \n8   2017   27  CHC  2B  NL   10    0     0     4.1     2  ...  0.20    .980   \n9   2017   27  CHC  3B  NL    1    0     0     1.0     0  ...  0.00     NaN   \n10  2017   27  CHC  LF  NL    1    0     0     0.0     0  ...  0.00     NaN   \n11  2017   27  CHC  OF  NL    1    0     0     0.0     0  ...  0.00     NaN   \n12  2018   28  CHC  1B  NL  153  148   133  1326.1  1287  ...  8.37    .994   \n13  2018   28  CHC  2B  NL    1    0     0     0.1     0  ...  0.00     NaN   \n14  2018   28  CHC   P  NL    1    0     0     0.1     0  ...  0.00     NaN   \n15  2019   29  CHC  1B  NL  146  144   126  1226.2  1268  ...  8.65    .993   \n16  2020   30  CHC  1B  NL   57   57    50   474.1   463  ...  8.11    .992   \n17  2020   30  CHC  DH  NL    1    0  <NA>     NaN  <NA>  ...   NaN     NaN   \n19  2021   31  CHC  1B  NL   92   91    82   775.2   757  ...  8.20    .994   \n20  2021   31  CHC  2B  NL    1    0     0     0.0     0  ...  0.00     NaN   \n21  2021   31  CHC   P  NL    1    0     0     0.2     0  ...  0.00     NaN   \n22  2021   31  NYY  1B  AL   47   46    45   414.1   335  ...  7.06    .993   \n23  2022   32  NYY  1B  AL  120  115   110  1034.0   996  ...  8.26    .994   \n24  2022   32  NYY  DH  AL    9    9  <NA>     NaN  <NA>  ...   NaN     NaN   \n25  2023   33  NYY  1B  AL   92   92    87   809.2   762  ...  8.24    .995   \n26  2023   33  NYY  DH  AL    7    7  <NA>     NaN  <NA>  ...   NaN     NaN   \n\n    lgRF9  lgRFG    SB    CS  CS%  lgCS%  PO.1          Awards  \n0    9.33   9.31  <NA>  <NA>  NaN    NaN   NaN             NaN  \n1    9.29   9.18  <NA>  <NA>  NaN    NaN   NaN             NaN  \n2    9.42   9.41  <NA>  <NA>  NaN    NaN   NaN             NaN  \n3    9.29   9.27  <NA>  <NA>  NaN    NaN   NaN       AS,MVP-10  \n4    9.30   9.23  <NA>  <NA>  NaN    NaN   NaN        AS,MVP-4  \n5    9.05   8.99  <NA>  <NA>  NaN    NaN   NaN  AS,MVP-4,GG,SS  \n6    5.40   4.60  <NA>  <NA>  NaN    NaN   NaN  AS,MVP-4,GG,SS  \n7    8.94   8.84  <NA>  <NA>  NaN    NaN   NaN          MVP-13  \n8    4.36   4.36  <NA>  <NA>  NaN    NaN   NaN          MVP-13  \n9    2.70   2.50  <NA>  <NA>  NaN    NaN   NaN          MVP-13  \n10    NaN   1.80  <NA>  <NA>  NaN    NaN   NaN          MVP-13  \n11    NaN   2.00  <NA>  <NA>  NaN    NaN   NaN          MVP-13  \n12   8.66   8.64  <NA>  <NA>  NaN    NaN   NaN       MVP-17,GG  \n13   2.70   4.30  <NA>  <NA>  NaN    NaN   NaN       MVP-17,GG  \n14   2.70   1.60     0     0  NaN    NaN     0       MVP-17,GG  \n15   8.57   8.52  <NA>  <NA>  NaN    NaN   NaN              GG  \n16   8.33   7.92  <NA>  <NA>  NaN    NaN   NaN              GG  \n17    NaN    NaN  <NA>  <NA>  NaN    NaN   NaN              GG  \n19   8.35   8.13  <NA>  <NA>  NaN    NaN   NaN             NaN  \n20    NaN   4.00  <NA>  <NA>  NaN    NaN   NaN             NaN  \n21   1.35   1.50     0     0  NaN    NaN     0             NaN  \n22   8.20   8.01  <NA>  <NA>  NaN    NaN   NaN             NaN  \n23   8.27   8.15  <NA>  <NA>  NaN    NaN   NaN             NaN  \n24    NaN    NaN  <NA>  <NA>  NaN    NaN   NaN             NaN  \n25   8.02   7.91  <NA>  <NA>  NaN    NaN   NaN             NaN  \n26    NaN    NaN  <NA>  <NA>  NaN    NaN   NaN             NaN  \n\n[26 rows x 30 columns]",
      "text/html": "<div>\n<style scoped>\n    .dataframe tbody tr th:only-of-type {\n        vertical-align: middle;\n    }\n\n    .dataframe tbody tr th {\n        vertical-align: top;\n    }\n\n    .dataframe thead th {\n        text-align: right;\n    }\n</style>\n<table border=\"1\" class=\"dataframe\">\n  <thead>\n    <tr style=\"text-align: right;\">\n      <th></th>\n      <th>Year</th>\n      <th>Age</th>\n      <th>Tm</th>\n      <th>Pos</th>\n      <th>Lg</th>\n      <th>G</th>\n      <th>GS</th>\n      <th>CG</th>\n      <th>Inn</th>\n      <th>Ch</th>\n      <th>...</th>\n      <th>RF/G</th>\n      <th>lgFld%</th>\n      <th>lgRF9</th>\n      <th>lgRFG</th>\n      <th>SB</th>\n      <th>CS</th>\n      <th>CS%</th>\n      <th>lgCS%</th>\n      <th>PO.1</th>\n      <th>Awards</th>\n    </tr>\n  </thead>\n  <tbody>\n    <tr>\n      <th>0</th>\n      <td>2011</td>\n      <td>21</td>\n      <td>SDP</td>\n      <td>1B</td>\n      <td>NL</td>\n      <td>45</td>\n      <td>37</td>\n      <td>34</td>\n      <td>341.2</td>\n      <td>344</td>\n      <td>...</td>\n      <td>7.60</td>\n      <td>.994</td>\n      <td>9.33</td>\n      <td>9.31</td>\n      <td>&lt;NA&gt;</td>\n      <td>&lt;NA&gt;</td>\n      <td>NaN</td>\n      <td>NaN</td>\n      <td>NaN</td>\n      <td>NaN</td>\n    </tr>\n    <tr>\n      <th>1</th>\n      <td>2012</td>\n      <td>22</td>\n      <td>CHC</td>\n      <td>1B</td>\n      <td>NL</td>\n      <td>85</td>\n      <td>85</td>\n      <td>82</td>\n      <td>730.2</td>\n      <td>735</td>\n      <td>...</td>\n      <td>8.60</td>\n      <td>.992</td>\n      <td>9.29</td>\n      <td>9.18</td>\n      <td>&lt;NA&gt;</td>\n      <td>&lt;NA&gt;</td>\n      <td>NaN</td>\n      <td>NaN</td>\n      <td>NaN</td>\n      <td>NaN</td>\n    </tr>\n    <tr>\n      <th>2</th>\n      <td>2013</td>\n      <td>23</td>\n      <td>CHC</td>\n      <td>1B</td>\n      <td>NL</td>\n      <td>159</td>\n      <td>158</td>\n      <td>158</td>\n      <td>1415.0</td>\n      <td>1441</td>\n      <td>...</td>\n      <td>9.03</td>\n      <td>.994</td>\n      <td>9.42</td>\n      <td>9.41</td>\n      <td>&lt;NA&gt;</td>\n      <td>&lt;NA&gt;</td>\n      <td>NaN</td>\n      <td>NaN</td>\n      <td>NaN</td>\n      <td>NaN</td>\n    </tr>\n    <tr>\n      <th>3</th>\n      <td>2014</td>\n      <td>24</td>\n      <td>CHC</td>\n      <td>1B</td>\n      <td>NL</td>\n      <td>140</td>\n      <td>140</td>\n      <td>135</td>\n      <td>1259.0</td>\n      <td>1311</td>\n      <td>...</td>\n      <td>9.30</td>\n      <td>.993</td>\n      <td>9.29</td>\n      <td>9.27</td>\n      <td>&lt;NA&gt;</td>\n      <td>&lt;NA&gt;</td>\n      <td>NaN</td>\n      <td>NaN</td>\n      <td>NaN</td>\n      <td>AS,MVP-10</td>\n    </tr>\n    <tr>\n      <th>4</th>\n      <td>2015</td>\n      <td>25</td>\n      <td>CHC</td>\n      <td>1B</td>\n      <td>NL</td>\n      <td>160</td>\n      <td>160</td>\n      <td>154</td>\n      <td>1430.1</td>\n      <td>1465</td>\n      <td>...</td>\n      <td>9.10</td>\n      <td>.994</td>\n      <td>9.30</td>\n      <td>9.23</td>\n      <td>&lt;NA&gt;</td>\n      <td>&lt;NA&gt;</td>\n      <td>NaN</td>\n      <td>NaN</td>\n      <td>NaN</td>\n      <td>AS,MVP-4</td>\n    </tr>\n    <tr>\n      <th>5</th>\n      <td>2016</td>\n      <td>26</td>\n      <td>CHC</td>\n      <td>1B</td>\n      <td>NL</td>\n      <td>154</td>\n      <td>151</td>\n      <td>140</td>\n      <td>1337.0</td>\n      <td>1399</td>\n      <td>...</td>\n      <td>9.05</td>\n      <td>.994</td>\n      <td>9.05</td>\n      <td>8.99</td>\n      <td>&lt;NA&gt;</td>\n      <td>&lt;NA&gt;</td>\n      <td>NaN</td>\n      <td>NaN</td>\n      <td>NaN</td>\n      <td>AS,MVP-4,GG,SS</td>\n    </tr>\n    <tr>\n      <th>6</th>\n      <td>2016</td>\n      <td>26</td>\n      <td>CHC</td>\n      <td>2B</td>\n      <td>NL</td>\n      <td>1</td>\n      <td>0</td>\n      <td>0</td>\n      <td>0.1</td>\n      <td>1</td>\n      <td>...</td>\n      <td>1.00</td>\n      <td>.980</td>\n      <td>5.40</td>\n      <td>4.60</td>\n      <td>&lt;NA&gt;</td>\n      <td>&lt;NA&gt;</td>\n      <td>NaN</td>\n      <td>NaN</td>\n      <td>NaN</td>\n      <td>AS,MVP-4,GG,SS</td>\n    </tr>\n    <tr>\n      <th>7</th>\n      <td>2017</td>\n      <td>27</td>\n      <td>CHC</td>\n      <td>1B</td>\n      <td>NL</td>\n      <td>157</td>\n      <td>155</td>\n      <td>130</td>\n      <td>1341.0</td>\n      <td>1375</td>\n      <td>...</td>\n      <td>8.74</td>\n      <td>.994</td>\n      <td>8.94</td>\n      <td>8.84</td>\n      <td>&lt;NA&gt;</td>\n      <td>&lt;NA&gt;</td>\n      <td>NaN</td>\n      <td>NaN</td>\n      <td>NaN</td>\n      <td>MVP-13</td>\n    </tr>\n    <tr>\n      <th>8</th>\n      <td>2017</td>\n      <td>27</td>\n      <td>CHC</td>\n      <td>2B</td>\n      <td>NL</td>\n      <td>10</td>\n      <td>0</td>\n      <td>0</td>\n      <td>4.1</td>\n      <td>2</td>\n      <td>...</td>\n      <td>0.20</td>\n      <td>.980</td>\n      <td>4.36</td>\n      <td>4.36</td>\n      <td>&lt;NA&gt;</td>\n      <td>&lt;NA&gt;</td>\n      <td>NaN</td>\n      <td>NaN</td>\n      <td>NaN</td>\n      <td>MVP-13</td>\n    </tr>\n    <tr>\n      <th>9</th>\n      <td>2017</td>\n      <td>27</td>\n      <td>CHC</td>\n      <td>3B</td>\n      <td>NL</td>\n      <td>1</td>\n      <td>0</td>\n      <td>0</td>\n      <td>1.0</td>\n      <td>0</td>\n      <td>...</td>\n      <td>0.00</td>\n      <td>NaN</td>\n      <td>2.70</td>\n      <td>2.50</td>\n      <td>&lt;NA&gt;</td>\n      <td>&lt;NA&gt;</td>\n      <td>NaN</td>\n      <td>NaN</td>\n      <td>NaN</td>\n      <td>MVP-13</td>\n    </tr>\n    <tr>\n      <th>10</th>\n      <td>2017</td>\n      <td>27</td>\n      <td>CHC</td>\n      <td>LF</td>\n      <td>NL</td>\n      <td>1</td>\n      <td>0</td>\n      <td>0</td>\n      <td>0.0</td>\n      <td>0</td>\n      <td>...</td>\n      <td>0.00</td>\n      <td>NaN</td>\n      <td>NaN</td>\n      <td>1.80</td>\n      <td>&lt;NA&gt;</td>\n      <td>&lt;NA&gt;</td>\n      <td>NaN</td>\n      <td>NaN</td>\n      <td>NaN</td>\n      <td>MVP-13</td>\n    </tr>\n    <tr>\n      <th>11</th>\n      <td>2017</td>\n      <td>27</td>\n      <td>CHC</td>\n      <td>OF</td>\n      <td>NL</td>\n      <td>1</td>\n      <td>0</td>\n      <td>0</td>\n      <td>0.0</td>\n      <td>0</td>\n      <td>...</td>\n      <td>0.00</td>\n      <td>NaN</td>\n      <td>NaN</td>\n      <td>2.00</td>\n      <td>&lt;NA&gt;</td>\n      <td>&lt;NA&gt;</td>\n      <td>NaN</td>\n      <td>NaN</td>\n      <td>NaN</td>\n      <td>MVP-13</td>\n    </tr>\n    <tr>\n      <th>12</th>\n      <td>2018</td>\n      <td>28</td>\n      <td>CHC</td>\n      <td>1B</td>\n      <td>NL</td>\n      <td>153</td>\n      <td>148</td>\n      <td>133</td>\n      <td>1326.1</td>\n      <td>1287</td>\n      <td>...</td>\n      <td>8.37</td>\n      <td>.994</td>\n      <td>8.66</td>\n      <td>8.64</td>\n      <td>&lt;NA&gt;</td>\n      <td>&lt;NA&gt;</td>\n      <td>NaN</td>\n      <td>NaN</td>\n      <td>NaN</td>\n      <td>MVP-17,GG</td>\n    </tr>\n    <tr>\n      <th>13</th>\n      <td>2018</td>\n      <td>28</td>\n      <td>CHC</td>\n      <td>2B</td>\n      <td>NL</td>\n      <td>1</td>\n      <td>0</td>\n      <td>0</td>\n      <td>0.1</td>\n      <td>0</td>\n      <td>...</td>\n      <td>0.00</td>\n      <td>NaN</td>\n      <td>2.70</td>\n      <td>4.30</td>\n      <td>&lt;NA&gt;</td>\n      <td>&lt;NA&gt;</td>\n      <td>NaN</td>\n      <td>NaN</td>\n      <td>NaN</td>\n      <td>MVP-17,GG</td>\n    </tr>\n    <tr>\n      <th>14</th>\n      <td>2018</td>\n      <td>28</td>\n      <td>CHC</td>\n      <td>P</td>\n      <td>NL</td>\n      <td>1</td>\n      <td>0</td>\n      <td>0</td>\n      <td>0.1</td>\n      <td>0</td>\n      <td>...</td>\n      <td>0.00</td>\n      <td>NaN</td>\n      <td>2.70</td>\n      <td>1.60</td>\n      <td>0</td>\n      <td>0</td>\n      <td>NaN</td>\n      <td>NaN</td>\n      <td>0</td>\n      <td>MVP-17,GG</td>\n    </tr>\n    <tr>\n      <th>15</th>\n      <td>2019</td>\n      <td>29</td>\n      <td>CHC</td>\n      <td>1B</td>\n      <td>NL</td>\n      <td>146</td>\n      <td>144</td>\n      <td>126</td>\n      <td>1226.2</td>\n      <td>1268</td>\n      <td>...</td>\n      <td>8.65</td>\n      <td>.993</td>\n      <td>8.57</td>\n      <td>8.52</td>\n      <td>&lt;NA&gt;</td>\n      <td>&lt;NA&gt;</td>\n      <td>NaN</td>\n      <td>NaN</td>\n      <td>NaN</td>\n      <td>GG</td>\n    </tr>\n    <tr>\n      <th>16</th>\n      <td>2020</td>\n      <td>30</td>\n      <td>CHC</td>\n      <td>1B</td>\n      <td>NL</td>\n      <td>57</td>\n      <td>57</td>\n      <td>50</td>\n      <td>474.1</td>\n      <td>463</td>\n      <td>...</td>\n      <td>8.11</td>\n      <td>.992</td>\n      <td>8.33</td>\n      <td>7.92</td>\n      <td>&lt;NA&gt;</td>\n      <td>&lt;NA&gt;</td>\n      <td>NaN</td>\n      <td>NaN</td>\n      <td>NaN</td>\n      <td>GG</td>\n    </tr>\n    <tr>\n      <th>17</th>\n      <td>2020</td>\n      <td>30</td>\n      <td>CHC</td>\n      <td>DH</td>\n      <td>NL</td>\n      <td>1</td>\n      <td>0</td>\n      <td>&lt;NA&gt;</td>\n      <td>NaN</td>\n      <td>&lt;NA&gt;</td>\n      <td>...</td>\n      <td>NaN</td>\n      <td>NaN</td>\n      <td>NaN</td>\n      <td>NaN</td>\n      <td>&lt;NA&gt;</td>\n      <td>&lt;NA&gt;</td>\n      <td>NaN</td>\n      <td>NaN</td>\n      <td>NaN</td>\n      <td>GG</td>\n    </tr>\n    <tr>\n      <th>19</th>\n      <td>2021</td>\n      <td>31</td>\n      <td>CHC</td>\n      <td>1B</td>\n      <td>NL</td>\n      <td>92</td>\n      <td>91</td>\n      <td>82</td>\n      <td>775.2</td>\n      <td>757</td>\n      <td>...</td>\n      <td>8.20</td>\n      <td>.994</td>\n      <td>8.35</td>\n      <td>8.13</td>\n      <td>&lt;NA&gt;</td>\n      <td>&lt;NA&gt;</td>\n      <td>NaN</td>\n      <td>NaN</td>\n      <td>NaN</td>\n      <td>NaN</td>\n    </tr>\n    <tr>\n      <th>20</th>\n      <td>2021</td>\n      <td>31</td>\n      <td>CHC</td>\n      <td>2B</td>\n      <td>NL</td>\n      <td>1</td>\n      <td>0</td>\n      <td>0</td>\n      <td>0.0</td>\n      <td>0</td>\n      <td>...</td>\n      <td>0.00</td>\n      <td>NaN</td>\n      <td>NaN</td>\n      <td>4.00</td>\n      <td>&lt;NA&gt;</td>\n      <td>&lt;NA&gt;</td>\n      <td>NaN</td>\n      <td>NaN</td>\n      <td>NaN</td>\n      <td>NaN</td>\n    </tr>\n    <tr>\n      <th>21</th>\n      <td>2021</td>\n      <td>31</td>\n      <td>CHC</td>\n      <td>P</td>\n      <td>NL</td>\n      <td>1</td>\n      <td>0</td>\n      <td>0</td>\n      <td>0.2</td>\n      <td>0</td>\n      <td>...</td>\n      <td>0.00</td>\n      <td>NaN</td>\n      <td>1.35</td>\n      <td>1.50</td>\n      <td>0</td>\n      <td>0</td>\n      <td>NaN</td>\n      <td>NaN</td>\n      <td>0</td>\n      <td>NaN</td>\n    </tr>\n    <tr>\n      <th>22</th>\n      <td>2021</td>\n      <td>31</td>\n      <td>NYY</td>\n      <td>1B</td>\n      <td>AL</td>\n      <td>47</td>\n      <td>46</td>\n      <td>45</td>\n      <td>414.1</td>\n      <td>335</td>\n      <td>...</td>\n      <td>7.06</td>\n      <td>.993</td>\n      <td>8.20</td>\n      <td>8.01</td>\n      <td>&lt;NA&gt;</td>\n      <td>&lt;NA&gt;</td>\n      <td>NaN</td>\n      <td>NaN</td>\n      <td>NaN</td>\n      <td>NaN</td>\n    </tr>\n    <tr>\n      <th>23</th>\n      <td>2022</td>\n      <td>32</td>\n      <td>NYY</td>\n      <td>1B</td>\n      <td>AL</td>\n      <td>120</td>\n      <td>115</td>\n      <td>110</td>\n      <td>1034.0</td>\n      <td>996</td>\n      <td>...</td>\n      <td>8.26</td>\n      <td>.994</td>\n      <td>8.27</td>\n      <td>8.15</td>\n      <td>&lt;NA&gt;</td>\n      <td>&lt;NA&gt;</td>\n      <td>NaN</td>\n      <td>NaN</td>\n      <td>NaN</td>\n      <td>NaN</td>\n    </tr>\n    <tr>\n      <th>24</th>\n      <td>2022</td>\n      <td>32</td>\n      <td>NYY</td>\n      <td>DH</td>\n      <td>AL</td>\n      <td>9</td>\n      <td>9</td>\n      <td>&lt;NA&gt;</td>\n      <td>NaN</td>\n      <td>&lt;NA&gt;</td>\n      <td>...</td>\n      <td>NaN</td>\n      <td>NaN</td>\n      <td>NaN</td>\n      <td>NaN</td>\n      <td>&lt;NA&gt;</td>\n      <td>&lt;NA&gt;</td>\n      <td>NaN</td>\n      <td>NaN</td>\n      <td>NaN</td>\n      <td>NaN</td>\n    </tr>\n    <tr>\n      <th>25</th>\n      <td>2023</td>\n      <td>33</td>\n      <td>NYY</td>\n      <td>1B</td>\n      <td>AL</td>\n      <td>92</td>\n      <td>92</td>\n      <td>87</td>\n      <td>809.2</td>\n      <td>762</td>\n      <td>...</td>\n      <td>8.24</td>\n      <td>.995</td>\n      <td>8.02</td>\n      <td>7.91</td>\n      <td>&lt;NA&gt;</td>\n      <td>&lt;NA&gt;</td>\n      <td>NaN</td>\n      <td>NaN</td>\n      <td>NaN</td>\n      <td>NaN</td>\n    </tr>\n    <tr>\n      <th>26</th>\n      <td>2023</td>\n      <td>33</td>\n      <td>NYY</td>\n      <td>DH</td>\n      <td>AL</td>\n      <td>7</td>\n      <td>7</td>\n      <td>&lt;NA&gt;</td>\n      <td>NaN</td>\n      <td>&lt;NA&gt;</td>\n      <td>...</td>\n      <td>NaN</td>\n      <td>NaN</td>\n      <td>NaN</td>\n      <td>NaN</td>\n      <td>&lt;NA&gt;</td>\n      <td>&lt;NA&gt;</td>\n      <td>NaN</td>\n      <td>NaN</td>\n      <td>NaN</td>\n      <td>NaN</td>\n    </tr>\n  </tbody>\n</table>\n<p>26 rows × 30 columns</p>\n</div>"
     },
     "execution_count": 111,
     "metadata": {},
     "output_type": "execute_result"
    }
   ],
   "source": [
    "tdf = scrape_table(page, match='Standard Fielding', extract_links=False, commented=True).dropna(how='all', subset=['Year', 'Age', 'Tm']).query(\"Year.str.isnumeric() & ~Tm.str.match('.+-min|TOT')\")\n",
    "tdf.astype({col: 'Int64' for col in tdf.columns if col in int_cols} | {col: float for col in tdf.columns if col in float_cols}, errors='ignore')"
   ],
   "metadata": {
    "collapsed": false,
    "ExecuteTime": {
     "end_time": "2024-02-17T06:31:23.551783Z",
     "start_time": "2024-02-17T06:31:22.445085Z"
    }
   },
   "id": "c7d4135225199203"
  },
  {
   "cell_type": "code",
   "execution_count": 70,
   "outputs": [
    {
     "data": {
      "text/plain": "'<div class=\"table_container\" id=\"div_pitching_standard\">\\n    \\n    <table class=\"row_summable sortable stats_table\" id=\"pitching_standard\" data-cols-to-freeze=\"1,3\">\\n    <caption>Standard Pitching</caption>\\n    \\n\\n   <colgroup><col><col><col><col><col><col><col><col><col><col><col><col><col><col><col><col><col><col><col><col><col><col><col><col><col><col><col><col><col><col><col><col><col><col><col></colgroup>\\n   <thead>      \\n      <tr>\\n         <th aria-label=\"Year\" data-stat=\"year_ID\" scope=\"col\" class=\" poptip sort_default_asc show_partial_when_sorting left\" data-tip=\"A Star indicates an all-star that season.&lt;br&gt;A Ring indicates the player appeared in WS for winning team.\" >Year</th>\\n         <th aria-label=\"Age\" data-stat=\"age\" scope=\"col\" class=\" poptip sort_default_asc show_partial_when_sorting center\" data-tip=\"Player&#x2019;s age at midnight of June 30th of that year\" >Age</th>\\n         <th aria-label=\"Tm\" data-stat=\"team_ID\" scope=\"col\" class=\" poptip sort_default_asc show_partial_when_sorting center\" >Tm</th>\\n         <th aria-label=\"Lg\" data-stat=\"lg_ID\" scope=\"col\" class=\" poptip sort_default_asc center\" data-tip=\"&lt;strong&gt;League&lt;/strong&gt;&lt;br&gt; &lt;strong&gt;AL&lt;/strong&gt; - American League (1901-present)&lt;br&gt; &lt;strong&gt;NL&lt;/strong&gt; - National League (1876-present)&lt;br&gt; &lt;strong&gt;AA&lt;/strong&gt; - American Association (1882-1891)&lt;br&gt; &lt;strong&gt;UA&lt;/strong&gt; - Union Association (1884)&lt;br&gt; &lt;strong&gt;PL&lt;/strong&gt; - Players League (1890)&lt;br&gt; &lt;strong&gt;FL&lt;/strong&gt; - Federal League (1914-1915)&lt;br&gt; &lt;strong&gt;NA&lt;/strong&gt; - National Association (1871-1875)&lt;br&gt; &lt;strong&gt;ANL&lt;/strong&gt; - American Negro League (1929)&lt;br&gt; &lt;strong&gt;ECL&lt;/strong&gt; - Eastern Colored League (1923-1928)&lt;br&gt; &lt;strong&gt;EWL&lt;/strong&gt; - East-West League (1932)&lt;br&gt; &lt;strong&gt;NAL&lt;/strong&gt; - Negro American League (1937-1948)&lt;br&gt; &lt;strong&gt;NNL&lt;/strong&gt; - Negro National League (1920-1931)&lt;br&gt; &lt;strong&gt;NN2&lt;/strong&gt; - Negro National League 2 (1933-1948)&lt;br&gt; &lt;strong&gt;NSL&lt;/strong&gt; - Negro Southern League (1932)\" >Lg</th>\\n         <th aria-label=\"Wins\" data-stat=\"W\" scope=\"col\" class=\" poptip center\" data-tip=\"Wins\" >W</th>\\n         <th aria-label=\"Losses\" data-stat=\"L\" scope=\"col\" class=\" poptip center\" data-tip=\"Losses\" >L</th>\\n         <th aria-label=\"Win-Loss %\" data-stat=\"win_loss_perc\" scope=\"col\" class=\" poptip hide_non_quals center\" data-tip=\"&lt;strong&gt;Win-Loss Percentage&lt;/strong&gt;&lt;br&gt;W / (W + L)&lt;br&gt;For players, leaders need one decision for every ten team games.&lt;br&gt;For managers, minimum to qualify for leading is 320 games.\" data-filter=\"1\" data-name=\"Win-Loss %\" >W-L%</th>\\n         <th aria-label=\"Earned Run Average\" data-stat=\"earned_run_avg\" scope=\"col\" class=\" poptip sort_default_asc hide_non_quals center\" data-tip=\"&lt;strong&gt;9 * ER / IP&lt;/strong&gt;&lt;br&gt;For recent years, leaders need 1 IP&lt;br&gt;per team game played.&lt;br&gt;Bold indicates lowest ERA using current stats&lt;br&gt;&lt;span class=glimmer&gt;Gold&lt;/span&gt; means awarded ERA title at end of year.\" data-filter=\"1\" data-name=\"Earned Run Average\" >ERA</th>\\n         <th aria-label=\"Games Played\" data-stat=\"G\" scope=\"col\" class=\" poptip center\" data-tip=\"Games Played or Pitched\" >G</th>\\n         <th aria-label=\"Games Started\" data-stat=\"GS\" scope=\"col\" class=\" poptip center\" data-tip=\"Games Started\" >GS</th>\\n         <th aria-label=\"Games Finished\" data-stat=\"GF\" scope=\"col\" class=\" poptip center\" data-tip=\"Games Finished\" >GF</th>\\n         <th aria-label=\"Complete Games\" data-stat=\"CG\" scope=\"col\" class=\" poptip center\" data-tip=\"Complete Game\" >CG</th>\\n         <th aria-label=\"Shutouts\" data-stat=\"SHO\" scope=\"col\" class=\" poptip center\" data-tip=\"Shutouts&lt;br&gt;No runs allowed and a complete game.\" >SHO</th>\\n         <th aria-label=\"Saves\" data-stat=\"SV\" scope=\"col\" class=\" poptip center\" data-tip=\"Saves\" >SV</th>\\n         <th aria-label=\"Innings Pitched\" data-stat=\"IP\" scope=\"col\" class=\" poptip center\" data-tip=\"Innings Pitched\" data-filter=\"1\" data-name=\"Innings Pitched\" >IP</th>\\n         <th aria-label=\"Hits\" data-stat=\"H\" scope=\"col\" class=\" poptip center\" data-tip=\"Hits/Hits Allowed\" >H</th>\\n         <th aria-label=\"Runs Scored\" data-stat=\"R\" scope=\"col\" class=\" poptip center\" data-tip=\"Runs Scored/Allowed\" >R</th>\\n         <th aria-label=\"Earned Runs\" data-stat=\"ER\" scope=\"col\" class=\" poptip center\" data-tip=\"Earned Runs Allowed\" >ER</th>\\n         <th aria-label=\"Home Runs\" data-stat=\"HR\" scope=\"col\" class=\" poptip center\" data-tip=\"Home Runs Hit/Allowed\" >HR</th>\\n         <th aria-label=\"Bases on Balls\" data-stat=\"BB\" scope=\"col\" class=\" poptip center\" data-tip=\"Bases on Balls/Walks\" >BB</th>\\n         <th aria-label=\"Intentional Bases on Balls\" data-stat=\"IBB\" scope=\"col\" class=\" poptip center\" data-tip=\"&lt;strong&gt;Intentional Bases on Balls&lt;/strong&gt;&lt;br&gt;First tracked in 1955.\" >IBB</th>\\n         <th aria-label=\"Strikeouts\" data-stat=\"SO\" scope=\"col\" class=\" poptip center\" data-tip=\"Strikeouts\" >SO</th>\\n         <th aria-label=\"Hit By Pitch\" data-stat=\"HBP\" scope=\"col\" class=\" poptip center\" data-tip=\"Times Hit by a Pitch.\" >HBP</th>\\n         <th aria-label=\"Balks\" data-stat=\"BK\" scope=\"col\" class=\" poptip center\" data-tip=\"Balks\" >BK</th>\\n         <th aria-label=\"Wild Pitches\" data-stat=\"WP\" scope=\"col\" class=\" poptip center\" data-tip=\"Wild Pitches\" >WP</th>\\n         <th aria-label=\"Batters Faced\" data-stat=\"batters_faced\" scope=\"col\" class=\" poptip center\" data-tip=\"Batters Faced\" >BF</th>\\n         <th aria-label=\"Adjusted ERA+\" data-stat=\"earned_run_avg_plus\" scope=\"col\" class=\" poptip hide_non_quals center\" data-tip=\"&lt;strong&gt;ERA+&lt;/strong&gt;&lt;br&gt;100*[lgERA/ERA]&lt;br&gt;Adjusted to the player&amp;#x2019;s ballpark(s).\" >ERA+</th>\\n         <th aria-label=\"Fielding Independent Pitching\" data-stat=\"fip\" scope=\"col\" class=\" poptip sort_default_asc hide_non_quals center\" data-tip=\"&lt;strong&gt;Fielding Independent Pitching&lt;/strong&gt;&lt;br&gt;this stat measures a pitcher&#39;s effectiveness at preventing HR, BB, HBP and causing SO&lt;br&gt;&lt;tt&gt;(13*HR + 3*(BB+HBP) - 2*SO)/IP + Constant&lt;sub&gt;lg&lt;/sub&gt;&lt;/tt&gt;&lt;br&gt;The constant is set so that each season major-league average FIP is the same as the major-league avg ERA\" data-filter=\"1\" data-name=\"Fielding Independent Pitching\" >FIP</th>\\n         <th aria-label=\"Walks &amp; Hits per IP\" data-stat=\"whip\" scope=\"col\" class=\" poptip sort_default_asc hide_non_quals center\" data-tip=\"&lt;strong&gt;(BB + H)/IP&lt;/strong&gt;&lt;br&gt;For recent years, leaders need 1 IP&lt;br&gt;per team game played\" data-filter=\"1\" data-name=\"Walks &amp; Hits per IP\" >WHIP</th>\\n         <th aria-label=\"Hits per 9 IP\" data-stat=\"hits_per_nine\" scope=\"col\" class=\" poptip sort_default_asc hide_non_quals center\" data-tip=\"&lt;strong&gt;9 x H / IP&lt;/strong&gt;&lt;br&gt;For recent years, leaders need 1 IP&lt;br&gt;per team game played\" data-filter=\"1\" data-name=\"Hits per 9 IP\" >H9</th>\\n         <th aria-label=\"Home Runs per 9 IP\" data-stat=\"home_runs_per_nine\" scope=\"col\" class=\" poptip sort_default_asc hide_non_quals center\" data-tip=\"&lt;strong&gt;9 x HR / IP&lt;/strong&gt;&lt;br&gt;For recent years, leaders need 1 IP&lt;br&gt;per team game played\" data-filter=\"1\" data-name=\"Home Runs per 9 IP\" >HR9</th>\\n         <th aria-label=\"Bases On Balls per 9 IP\" data-stat=\"bases_on_balls_per_nine\" scope=\"col\" class=\" poptip sort_default_asc hide_non_quals center\" data-tip=\"&lt;strong&gt;9 x BB / IP&lt;/strong&gt;&lt;br&gt;For recent years, leaders need 1 IP&lt;br&gt;per team game played\" data-filter=\"1\" data-name=\"Bases On Balls per 9 IP\" >BB9</th>\\n         <th aria-label=\"Strikeouts per 9 IP\" data-stat=\"strikeouts_per_nine\" scope=\"col\" class=\" poptip hide_non_quals center\" data-tip=\"&lt;strong&gt;9 x SO / IP&lt;/strong&gt;&lt;br&gt;For recent years, leaders need 1 IP&lt;br&gt;per team game played\" data-filter=\"1\" data-name=\"Strikeouts per 9 IP\" >SO9</th>\\n         <th aria-label=\"Strikeouts / Base On Balls\" data-stat=\"strikeouts_per_base_on_balls\" scope=\"col\" class=\" poptip hide_non_quals center\" data-tip=\"&lt;strong&gt;SO/W or SO/BB&lt;/strong&gt;&lt;br&gt;For recent years, pitching leaders need 1 IP&lt;br&gt;per team game played.&lt;br&gt;No batting leaders computed.\" data-filter=\"1\" data-name=\"Strikeouts / Base On Balls\" >SO/W</th>\\n         <th aria-label=\"Awards\" data-stat=\"award_summary\" scope=\"col\" class=\" poptip sort_default_asc show_partial_when_sorting center\" data-tip=\"Summary of how player did in awards voting that year.&lt;br&gt;GG - Gold Glove&lt;br&gt;SS - Silver Slugger&lt;br&gt;MVP - Most Valuable Player&lt;br&gt;CYA - Cy Young Award&lt;br&gt;ROY - Rookie of the Year\" >Awards</th>\\n      </tr>\\n      </thead>\\n<tbody><tr id=\"pitching_standard.2018\" class=\"full\" ><th scope=\"row\" class=\"left \" data-stat=\"year_ID\" csk=\"2018\" >2018</th><td class=\"right \" data-stat=\"age\" >28</td><td class=\"left \" data-stat=\"team_ID\" ><a href=\"/teams/CHC/2018.shtml\" title=\"Chicago Cubs\">CHC</a></td><td class=\"left \" data-stat=\"lg_ID\" ><a href=\"/leagues/NL/2018.shtml\">NL</a></td><td class=\"right iz\" data-stat=\"W\" >0</td><td class=\"right iz\" data-stat=\"L\" >0</td><td class=\"right iz\" data-stat=\"win_loss_perc\" ></td><td class=\"right poptip iz\" data-stat=\"earned_run_avg\" data-tip=\"&lt;pre class=large_text&gt;ERA: 0.00&lt;br&gt;FIP: 3.16&lt;br&gt;&lt;span class=red_text&gt;Dif: -3.16&lt;/span&gt;&lt;/pre&gt;\" >0.00</td><td class=\"right \" data-stat=\"G\" >1</td><td class=\"right iz\" data-stat=\"GS\" >0</td><td class=\"right \" data-stat=\"GF\" >1</td><td class=\"right iz\" data-stat=\"CG\" >0</td><td class=\"right iz\" data-stat=\"SHO\" >0</td><td class=\"right poptip iz\" data-stat=\"SV\" data-tip=\"&lt;pre&gt;Saves&amp;nbsp;&amp;nbsp;&amp;nbsp;&amp;nbsp;&amp;nbsp;&amp;nbsp;: 0 &lt;br&gt;BlownSaves&amp;nbsp;: 0 &lt;br&gt;Oppor(S+BS): 0 &lt;br&gt;Sv%&amp;nbsp;&amp;nbsp;&amp;nbsp;&amp;nbsp;&amp;nbsp;&amp;nbsp;&amp;nbsp;&amp;nbsp;: undef&lt;br&gt;Holds&amp;nbsp;&amp;nbsp;&amp;nbsp;&amp;nbsp;&amp;nbsp;&amp;nbsp;: 0 &lt;br&gt;SvSit&amp;nbsp;&amp;nbsp;&amp;nbsp;&amp;nbsp;&amp;nbsp;&amp;nbsp;: 0 &lt;br&gt;SvSit is # of times appeared with save&lt;br&gt;in order by rulebook. May have been&lt;br&gt;replaced later in game.&lt;/pre&gt;&lt;/pre&gt;\" >0</td><td class=\"right \" data-stat=\"IP\" >0.1</td><td class=\"right iz\" data-stat=\"H\" >0</td><td class=\"right iz\" data-stat=\"R\" >0</td><td class=\"right iz\" data-stat=\"ER\" >0</td><td class=\"right iz\" data-stat=\"HR\" >0</td><td class=\"right iz\" data-stat=\"BB\" >0</td><td class=\"right iz\" data-stat=\"IBB\" >0</td><td class=\"right iz\" data-stat=\"SO\" >0</td><td class=\"right iz\" data-stat=\"HBP\" >0</td><td class=\"right iz\" data-stat=\"BK\" >0</td><td class=\"right iz\" data-stat=\"WP\" >0</td><td class=\"right \" data-stat=\"batters_faced\" >1</td><td class=\"right iz\" data-stat=\"earned_run_avg_plus\" ></td><td class=\"right poptip\" data-stat=\"fip\" data-tip=\"&lt;pre class=large_text&gt;ERA: 0.00&lt;br&gt;FIP: 3.16&lt;br&gt;&lt;span class=red_text&gt;Dif: -3.16&lt;/span&gt;&lt;/pre&gt;\" >3.16</td><td class=\"right \" data-stat=\"whip\" >0.000</td><td class=\"right iz\" data-stat=\"hits_per_nine\" >0.0</td><td class=\"right iz\" data-stat=\"home_runs_per_nine\" >0.0</td><td class=\"right iz\" data-stat=\"bases_on_balls_per_nine\" >0.0</td><td class=\"right iz\" data-stat=\"strikeouts_per_nine\" >0.0</td><td class=\"right iz\" data-stat=\"strikeouts_per_base_on_balls\" ></td><td class=\"left \" data-stat=\"award_summary\" ><a href=\"/awards/awards_2018.shtml#all_NL_MVP_voting\">MVP-17</a>,<a title=\"Gold Glove\" href=\"/awards/gold_glove_nl.shtml#2018\">GG</a></td></tr>\\n<tr class=\"spacer partial_table\" ><th scope=\"row\" class=\"left iz\" data-stat=\"year_ID\" csk=\"2020\" ></th><td class=\"right iz\" data-stat=\"age\" csk=\"2020\" ></td><td class=\"left iz\" data-stat=\"team_ID\" ></td><td class=\"left iz\" data-stat=\"lg_ID\" ></td><td class=\"right iz\" data-stat=\"W\" ></td><td class=\"right iz\" data-stat=\"L\" ></td><td class=\"right iz\" data-stat=\"win_loss_perc\" ></td><td class=\"right iz\" data-stat=\"earned_run_avg\" ></td><td class=\"right iz\" data-stat=\"G\" ></td><td class=\"right iz\" data-stat=\"GS\" ></td><td class=\"right iz\" data-stat=\"GF\" ></td><td class=\"right iz\" data-stat=\"CG\" ></td><td class=\"right iz\" data-stat=\"SHO\" ></td><td class=\"right iz\" data-stat=\"SV\" ></td><td class=\"right iz\" data-stat=\"IP\" > </td><td class=\"right iz\" data-stat=\"H\" ></td><td class=\"right iz\" data-stat=\"R\" ></td><td class=\"right iz\" data-stat=\"ER\" ></td><td class=\"right iz\" data-stat=\"HR\" ></td><td class=\"right iz\" data-stat=\"BB\" ></td><td class=\"right iz\" data-stat=\"IBB\" ></td><td class=\"right iz\" data-stat=\"SO\" ></td><td class=\"right iz\" data-stat=\"HBP\" ></td><td class=\"right iz\" data-stat=\"BK\" ></td><td class=\"right iz\" data-stat=\"WP\" ></td><td class=\"right iz\" data-stat=\"batters_faced\" ></td><td class=\"right iz\" data-stat=\"earned_run_avg_plus\" ></td><td class=\"right iz\" data-stat=\"fip\" ></td><td class=\"right iz\" data-stat=\"whip\" ></td><td class=\"right iz\" data-stat=\"hits_per_nine\" ></td><td class=\"right iz\" data-stat=\"home_runs_per_nine\" ></td><td class=\"right iz\" data-stat=\"bases_on_balls_per_nine\" ></td><td class=\"right iz\" data-stat=\"strikeouts_per_nine\" ></td><td class=\"right iz\" data-stat=\"strikeouts_per_base_on_balls\" ></td><td class=\"left iz\" data-stat=\"award_summary\" ></td></tr>\\n<tr id=\"pitching_standard.2021\" class=\"full\" ><th scope=\"row\" class=\"left \" data-stat=\"year_ID\" csk=\"2021\" >2021</th><td class=\"right \" data-stat=\"age\" >31</td><td class=\"left \" data-stat=\"team_ID\" ><a href=\"/teams/CHC/2021.shtml\" title=\"Chicago Cubs\">CHC</a></td><td class=\"left \" data-stat=\"lg_ID\" ><a href=\"/leagues/NL/2021.shtml\">NL</a></td><td class=\"right iz\" data-stat=\"W\" >0</td><td class=\"right iz\" data-stat=\"L\" >0</td><td class=\"right iz\" data-stat=\"win_loss_perc\" ></td><td class=\"right poptip iz\" data-stat=\"earned_run_avg\" data-tip=\"&lt;pre class=large_text&gt;ERA: 0.00&lt;br&gt;FIP: 4.67&lt;br&gt;&lt;span class=red_text&gt;Dif: -4.67&lt;/span&gt;&lt;/pre&gt;\" >0.00</td><td class=\"right \" data-stat=\"G\" >1</td><td class=\"right iz\" data-stat=\"GS\" >0</td><td class=\"right iz\" data-stat=\"GF\" >0</td><td class=\"right iz\" data-stat=\"CG\" >0</td><td class=\"right iz\" data-stat=\"SHO\" >0</td><td class=\"right poptip iz\" data-stat=\"SV\" data-tip=\"&lt;pre&gt;Saves&amp;nbsp;&amp;nbsp;&amp;nbsp;&amp;nbsp;&amp;nbsp;&amp;nbsp;: 0 &lt;br&gt;BlownSaves&amp;nbsp;: 0 &lt;br&gt;Oppor(S+BS): 0 &lt;br&gt;Sv%&amp;nbsp;&amp;nbsp;&amp;nbsp;&amp;nbsp;&amp;nbsp;&amp;nbsp;&amp;nbsp;&amp;nbsp;: undef&lt;br&gt;Holds&amp;nbsp;&amp;nbsp;&amp;nbsp;&amp;nbsp;&amp;nbsp;&amp;nbsp;: 0 &lt;br&gt;SvSit&amp;nbsp;&amp;nbsp;&amp;nbsp;&amp;nbsp;&amp;nbsp;&amp;nbsp;: 0 &lt;br&gt;SvSit is # of times appeared with save&lt;br&gt;in order by rulebook. May have been&lt;br&gt;replaced later in game.&lt;/pre&gt;&lt;/pre&gt;\" >0</td><td class=\"right \" data-stat=\"IP\" >0.2</td><td class=\"right iz\" data-stat=\"H\" >0</td><td class=\"right iz\" data-stat=\"R\" >0</td><td class=\"right iz\" data-stat=\"ER\" >0</td><td class=\"right iz\" data-stat=\"HR\" >0</td><td class=\"right \" data-stat=\"BB\" >1</td><td class=\"right iz\" data-stat=\"IBB\" >0</td><td class=\"right \" data-stat=\"SO\" >1</td><td class=\"right iz\" data-stat=\"HBP\" >0</td><td class=\"right iz\" data-stat=\"BK\" >0</td><td class=\"right iz\" data-stat=\"WP\" >0</td><td class=\"right \" data-stat=\"batters_faced\" >3</td><td class=\"right iz\" data-stat=\"earned_run_avg_plus\" ></td><td class=\"right poptip\" data-stat=\"fip\" data-tip=\"&lt;pre class=large_text&gt;ERA: 0.00&lt;br&gt;FIP: 4.67&lt;br&gt;&lt;span class=red_text&gt;Dif: -4.67&lt;/span&gt;&lt;/pre&gt;\" >4.67</td><td class=\"right \" data-stat=\"whip\" >1.500</td><td class=\"right iz\" data-stat=\"hits_per_nine\" >0.0</td><td class=\"right iz\" data-stat=\"home_runs_per_nine\" >0.0</td><td class=\"right \" data-stat=\"bases_on_balls_per_nine\" >13.5</td><td class=\"right \" data-stat=\"strikeouts_per_nine\" >13.5</td><td class=\"right \" data-stat=\"strikeouts_per_base_on_balls\" >1.00</td><td class=\"left iz\" data-stat=\"award_summary\" ></td></tr>\\n</tbody><tfoot><tr ><th scope=\"row\" class=\"left \" data-stat=\"player_stats_summary_explain\" colspan=4 >2 Yrs</th><td class=\"right iz\" data-stat=\"W\" >0</td><td class=\"right iz\" data-stat=\"L\" >0</td><td class=\"right iz\" data-stat=\"win_loss_perc\" ></td><td class=\"right iz\" data-stat=\"earned_run_avg\" >0.00</td><td class=\"right \" data-stat=\"G\" >2</td><td class=\"right iz\" data-stat=\"GS\" >0</td><td class=\"right \" data-stat=\"GF\" >1</td><td class=\"right iz\" data-stat=\"CG\" >0</td><td class=\"right iz\" data-stat=\"SHO\" >0</td><td class=\"right poptip iz\" data-stat=\"SV\" data-tip=\"&lt;pre&gt;Saves&amp;nbsp;&amp;nbsp;&amp;nbsp;&amp;nbsp;&amp;nbsp;&amp;nbsp;: 0 &lt;br&gt;BlownSaves&amp;nbsp;: 0 &lt;br&gt;Oppor(S+BS): 0 &lt;br&gt;Sv%&amp;nbsp;&amp;nbsp;&amp;nbsp;&amp;nbsp;&amp;nbsp;&amp;nbsp;&amp;nbsp;&amp;nbsp;: undef&lt;br&gt;Holds&amp;nbsp;&amp;nbsp;&amp;nbsp;&amp;nbsp;&amp;nbsp;&amp;nbsp;: 0 &lt;br&gt;SvSit&amp;nbsp;&amp;nbsp;&amp;nbsp;&amp;nbsp;&amp;nbsp;&amp;nbsp;: 0 &lt;br&gt;SvSit is # of times appeared with save&lt;br&gt;in order by rulebook. May have been&lt;br&gt;replaced later in game.&lt;/pre&gt;&lt;/pre&gt;\" >0</td><td class=\"right \" data-stat=\"IP\" >1.0</td><td class=\"right iz\" data-stat=\"H\" >0</td><td class=\"right iz\" data-stat=\"R\" >0</td><td class=\"right iz\" data-stat=\"ER\" >0</td><td class=\"right iz\" data-stat=\"HR\" >0</td><td class=\"right \" data-stat=\"BB\" >1</td><td class=\"right iz\" data-stat=\"IBB\" >0</td><td class=\"right \" data-stat=\"SO\" >1</td><td class=\"right iz\" data-stat=\"HBP\" >0</td><td class=\"right iz\" data-stat=\"BK\" >0</td><td class=\"right iz\" data-stat=\"WP\" >0</td><td class=\"right \" data-stat=\"batters_faced\" >4</td><td class=\"right iz\" data-stat=\"earned_run_avg_plus\" ></td><td class=\"right \" data-stat=\"fip\" >4.17</td><td class=\"right \" data-stat=\"whip\" >1.000</td><td class=\"right iz\" data-stat=\"hits_per_nine\" >0.0</td><td class=\"right iz\" data-stat=\"home_runs_per_nine\" >0.0</td><td class=\"right \" data-stat=\"bases_on_balls_per_nine\" >9.0</td><td class=\"right \" data-stat=\"strikeouts_per_nine\" >9.0</td><td class=\"right \" data-stat=\"strikeouts_per_base_on_balls\" >1.00</td><td class=\"left iz\" data-stat=\"award_summary\" ></td></tr>\\n<tr ><th scope=\"row\" class=\"left \" data-append-csv=\"pitch_glossary.shtml#162_avg\" data-stat=\"player_stats_summary_explain\" colspan=4 ><a href=\"https://www.baseball-reference.com/about/pitch_glossary.shtml#162_avg\">162 Game Avg.</a></th><td class=\"right iz\" data-stat=\"W\" >0</td><td class=\"right iz\" data-stat=\"L\" >0</td><td class=\"right iz\" data-stat=\"win_loss_perc\" ></td><td class=\"right iz\" data-stat=\"earned_run_avg\" >0.00</td><td class=\"right \" data-stat=\"G\" >68</td><td class=\"right iz\" data-stat=\"GS\" >0</td><td class=\"right \" data-stat=\"GF\" >34</td><td class=\"right iz\" data-stat=\"CG\" >0</td><td class=\"right iz\" data-stat=\"SHO\" >0</td><td class=\"right iz\" data-stat=\"SV\" >0</td><td class=\"right \" data-stat=\"IP\" >34 </td><td class=\"right iz\" data-stat=\"H\" >0</td><td class=\"right iz\" data-stat=\"R\" >0</td><td class=\"right iz\" data-stat=\"ER\" >0</td><td class=\"right iz\" data-stat=\"HR\" >0</td><td class=\"right \" data-stat=\"BB\" >34</td><td class=\"right iz\" data-stat=\"IBB\" >0</td><td class=\"right \" data-stat=\"SO\" >34</td><td class=\"right iz\" data-stat=\"HBP\" >0</td><td class=\"right iz\" data-stat=\"BK\" >0</td><td class=\"right iz\" data-stat=\"WP\" >0</td><td class=\"right \" data-stat=\"batters_faced\" >136</td><td class=\"right iz\" data-stat=\"earned_run_avg_plus\" ></td><td class=\"right \" data-stat=\"fip\" >4.17</td><td class=\"right \" data-stat=\"whip\" >1.000</td><td class=\"right iz\" data-stat=\"hits_per_nine\" >0.0</td><td class=\"right iz\" data-stat=\"home_runs_per_nine\" >0.0</td><td class=\"right \" data-stat=\"bases_on_balls_per_nine\" >9.0</td><td class=\"right \" data-stat=\"strikeouts_per_nine\" >9.0</td><td class=\"right \" data-stat=\"strikeouts_per_base_on_balls\" >1.00</td><td class=\"left iz\" data-stat=\"award_summary\" ></td></tr>\\n\\n   </tfoot>\\n\\n</table>\\n\\n\\n</div>'"
     },
     "execution_count": 70,
     "metadata": {},
     "output_type": "execute_result"
    }
   ],
   "source": [
    "[comment.strip() for comment in BeautifulSoup(requests.get(page).content, 'html.parser', from_encoding='utf_8').find_all(string=lambda text: isinstance(text, Comment)) if 'table' in comment and 'Standard Pitching' in comment][0]"
   ],
   "metadata": {
    "collapsed": false,
    "ExecuteTime": {
     "end_time": "2024-02-17T05:34:37.115229Z",
     "start_time": "2024-02-17T05:34:36.795353Z"
    }
   },
   "id": "55930d5a53bf9f80"
  },
  {
   "cell_type": "code",
   "execution_count": 23,
   "outputs": [],
   "source": [
    "if SCRAPE:\n",
    "    df = fangraphs_team_scrape()\n",
    "    df.to_csv('team_batting.csv', index=False)\n",
    "else:\n",
    "    df = pd.read_csv('team_batting.csv')[['Season', 'TeamName', 'teamid']].rename({'Season': 'yearID', 'TeamName': 'teamAbrFG', 'teamid': 'franchIDFG'}, axis=1)\n",
    "    teams = team_ids()[['yearID', 'teamIDfg', 'franchID', 'teamIDBR']].rename({'franchID': 'franchIDLahman', 'teamIDfg': 'franchIDFG', 'teamIDBR': 'franchIDBR'}, axis=1)\n",
    "    teams = pd.concat([teams, teams.loc[teams['yearID'] == 2021, ['franchIDFG', 'franchIDLahman', 'franchIDBR']].assign(yearID=2022), teams.loc[teams['yearID'] == 2021, ['franchIDFG', 'franchIDLahman', 'franchIDBR']].assign(yearID=2023)])  # duplicate 2021 data for 2022 and 2023\n",
    "    \n",
    "    df = df.merge(teams, how='left', on=['yearID', 'franchIDFG']).replace(LAHMAN_CORRECTIONS).merge(FG_TO_BR_NA_TEAM_MAPPING, how='left', left_on='franchIDFG', right_index=True)\n",
    "    df['franchIDLahman'] = df['franchIDLahman'].fillna(df['franchIDFG'].map(FG_TO_LAHMAN_FRANCH_MAPPING))\n",
    "    df['franchIDBR'] = df['franchIDBR'].fillna(df['franchIDFG'].map(FG_TO_BR_FRANCH_MAPPING))\n",
    "    df['franchIDBR'] = df['franchIDBR'].where(df['yearID'] > 1877, df['franchIDBR'].replace(BR_FRANCH_CORRECTIONS))\n",
    "    df['teamAbrBR'] = df['teamAbrBR'].fillna(df['franchIDBR'])\n",
    "    \n",
    "    df.loc[(df['yearID'] == 1880) & (df['franchIDFG'] == 1028), ['franchIDFG', 'franchIDLahman', 'franchIDBR']] = [1091, 'CNS', 'CNS']\n",
    "    df.loc[df['yearID'].isin([1901, 1902]) & (df['franchIDFG'] == 9), ['franchIDFG', 'franchIDLahman', 'franchIDBR']] = [1092, 'BLA', 'BLA']\n",
    "    franch_ids = df.loc[df['franchIDFG'].isin(df.groupby('franchIDFG')['franchIDBR'].nunique().sort_values(ascending=False).index.tolist()[:18]), ['yearID', 'franchIDFG', 'franchIDBR']].sort_values(['franchIDFG', 'yearID']).drop_duplicates(subset='franchIDFG', keep='last', ignore_index=True)[['franchIDFG', 'franchIDBR']]\n",
    "    \n",
    "    df = df.merge(franch_ids, how='left', on='franchIDFG', suffixes=('_p', ''))\n",
    "    df['franchIDBR'] = df['franchIDBR'].fillna(df['franchIDBR_p'])\n",
    "    df = df.drop('franchIDBR_p', axis=1)\n",
    "    \n",
    "    df.loc[df['franchIDFG'].isin(BR_TO_LAHMAN), 'franchIDBR'] = df.loc[df['franchIDFG'].isin(BR_TO_LAHMAN), 'franchIDLahman']\n",
    "    \n",
    "franchises = df[['franchIDFG', 'franchIDBR', 'franchIDLahman', 'yearID']].drop_duplicates().sort_values(['franchIDFG', 'yearID'], ignore_index=True)\n",
    "f = franchises.groupby('franchIDFG')['yearID'].agg(['min', 'max', 'size']).rename({'min': 'yearFirst', 'max': 'yearLast', 'size': 'yearsActive'}, axis=1)\n",
    "\n",
    "franchises = franchises[['franchIDFG', 'franchIDBR', 'franchIDLahman']].drop_duplicates(ignore_index=True).merge(f, left_on='franchIDFG', right_index=True).merge(pd.concat([pd.read_csv('baseballdatabank-2022.2/core/TeamsFranchises.csv')[['franchID', 'franchName', 'active']].rename({'active': 'isActive'}, axis=1), pd.DataFrame(data=[['CNS', 'Cincinnati Stars', 'N'], ['BLA', 'Baltimore Orioles', 'N']], columns=['franchID', 'franchName', 'isActive'])], ignore_index=True).fillna('N'), left_on='franchIDLahman', right_on='franchID').drop('franchID', axis=1).sort_values(['isActive', 'yearFirst'], ascending=[False, True]).replace({'franchName': {'Cleveland Indians': 'Cleveland Guardians', 'Los Angeles Angels of Anaheim': 'Los Angeles Angels', 'Florida Marlins': 'Miami Marlins', 'Altoona Mountain City': 'Altoona Mountain Citys'}})\n",
    "franchises['isActive'] = franchises['isActive'].map({'Y': True, 'N': False})\n",
    "\n",
    "franchises.index = pd.Index(data=range(1, franchises.shape[0] + 1), name='franchID')"
   ],
   "metadata": {
    "collapsed": false,
    "ExecuteTime": {
     "end_time": "2024-02-14T07:01:43.232922Z",
     "start_time": "2024-02-14T07:01:42.807205Z"
    }
   },
   "id": "initial_id"
  },
  {
   "cell_type": "code",
   "execution_count": 24,
   "outputs": [],
   "source": [
    "df = franchises[['franchIDFG', 'franchIDBR', 'franchIDLahman']].reset_index().merge(df, on=['franchIDFG', 'franchIDBR', 'franchIDLahman'])"
   ],
   "metadata": {
    "collapsed": false,
    "ExecuteTime": {
     "end_time": "2024-02-14T07:01:44.388225Z",
     "start_time": "2024-02-14T07:01:44.332762Z"
    }
   },
   "id": "3b9bb23f5b2967ff"
  },
  {
   "cell_type": "code",
   "execution_count": 25,
   "outputs": [],
   "source": [
    "lahman = pd.read_csv('baseballdatabank-2022.2/core/Teams.csv')[['yearID', 'lgID', 'divID', 'teamID', 'teamIDBR', 'teamIDlahman45', 'teamIDretro', 'franchID', 'name']].fillna({'lgID': 'NA'}).rename({'teamID': 'teamAbrLahman', 'teamIDBR': 'teamAbrBR', 'teamIDlahman45': 'teamAbrLahman45', 'franchID': 'franchIDLahman', 'teamIDretro': 'teamAbrRetro', 'name': 'teamName'}, axis=1).replace({'franchIDLahman': LAHMAN_CORRECTIONS, 'teamAbrRetro': {'BL5': 'BL2'}, 'teamName': {'Philadelphia Whites': 'Philadelphia White Stockings', 'Chicago/Pittsburgh (Union League)': 'Chicago Browns/Pittsburgh Stogies', 'Pittsburg Alleghenys': 'Pittsburgh Alleghenys', 'Philadelphia Quakers': 'Philadelphia Phillies', 'Buffalo Buffeds': 'Buffalo Blues', 'Chicago Chi-Feds': 'Chicago Whales', 'St. Paul White Caps': 'St. Paul Saints', 'Newark Pepper': 'Newark Peppers', 'Philadelphia Blue Jays': 'Philadelphia Phillies', \"Houston Colt .45's\": 'Houston Colt .45s'}})\n",
    "\n",
    "lahman = pd.concat([lahman, lahman[lahman['yearID'] == 2021].assign(yearID=2022), lahman[lahman['yearID'] == 2021].assign(yearID=2023)])\n",
    "\n",
    "lahman.loc[(lahman['yearID'] == 1880) & (lahman['teamName'] == 'Cincinnati Reds'), 'teamName'] = 'Cincinnati Stars'\n",
    "lahman.loc[(lahman['yearID'] >= 2016) & (lahman['teamName'] == 'Los Angeles Angels of Anaheim'), 'teamName'] = 'Los Angeles Angels'\n",
    "lahman.loc[(lahman['yearID'] >= 2022) & (lahman['teamName'] == 'Cleveland Indians'), 'teamName'] = 'Cleveland Guardians'\n",
    "\n",
    "lahman.loc[(lahman['yearID'] == 1880) & (lahman['franchIDLahman'] == 'CNR'), 'franchIDLahman'] = 'CNS'\n",
    "lahman.loc[lahman['yearID'].isin([1901, 1902]) & (lahman['franchIDLahman'] == 'NYY'), 'franchIDLahman'] = 'BLA'\n",
    "\n",
    "home_parks = pd.read_csv('baseballdatabank-2022.2/core/HomeGames.csv')[['year.key', 'team.key', 'park.key', 'games']].rename({'year.key': 'yearID', 'team.key': 'teamAbrLahman', 'park.key': 'parkID'}, axis=1)\n",
    "home_parks = home_parks[home_parks.groupby(['yearID', 'teamAbrLahman'])['games'].transform('max') == home_parks['games']].drop('games', axis=1)\n",
    "home_parks = pd.concat([home_parks, home_parks[home_parks['yearID'] == 2021].assign(yearID=2022), home_parks[home_parks['yearID'] == 2021].assign(yearID=2023)])\n",
    "\n",
    "abr = pd.read_csv('teamabr.csv', names=['teamID', 'leageID', 'city', 'nickname', 'startYearID', 'endYearID']).rename({'teamID': 'teamAbrRetro', 'city': 'location'}, axis=1).replace({'location': {'Ft. Wayne': 'Fort Wayne', 'St.Louis': 'St. Louis'}, 'nickname': {'Forest Cities': 'Forest Citys', 'Cream Citys': 'Grays', 'New Havens': 'Elm Citys', 'Lord Baltimores': 'Canaries', 'Virginias': 'Virginians', 'Mountain Citys': 'Mountain City', 'Wonders': \"Ward's Wonders\", 'Quakers': 'Athletics', 'Hop Bitters': 'Broncos'}})\n",
    "abr['yearID'] = abr.apply(lambda x: range(x['startYearID'], x['endYearID'] + 1), axis=1)\n",
    "abr = abr.drop(['startYearID', 'endYearID', 'leageID'], axis=1).explode('yearID')\n",
    "abr = abr[(abr['teamAbrRetro'] != 'CN1') | (abr['yearID'] != 1880)]  # Cincinnati Reds did not play in 1880\n",
    "abr = pd.concat([abr, abr[abr['yearID'] == 2021].assign(yearID=2022), abr[abr['yearID'] == 2021].assign(yearID=2023)])  # duplicate 2021 data for 2022 and 2023\n",
    "\n",
    "abr.loc[abr['location'] == 'Chicago-Pittsburgh', ['location', 'nickname']] = ['Chicago/Pittsburgh', 'Browns/Stogies']  # fix Stogies ballpark\n",
    "abr.loc[abr['yearID'].between(1871, 1875) & (abr['nickname'] == 'Braves'), 'nickname'] = 'Red Stockings'\n",
    "abr.loc[abr['yearID'].between(1876, 1882) & (abr['nickname'] == 'Braves'), 'nickname'] = 'Red Caps'\n",
    "abr.loc[abr['yearID'].between(1883, 1906) & (abr['nickname'] == 'Braves'), 'nickname'] = 'Beaneaters'\n",
    "abr.loc[abr['yearID'].between(1907, 1910) & (abr['nickname'] == 'Braves'), 'nickname'] = 'Doves'\n",
    "abr.loc[(abr['yearID'] == 1911) & (abr['nickname'] == 'Braves'), 'nickname'] = 'Rustlers'\n",
    "abr.loc[abr['yearID'].between(1936, 1940) & (abr['nickname'] == 'Braves'), 'nickname'] = 'Bees'\n",
    "abr.loc[abr['yearID'].between(1889, 1891) & (abr['nickname'] == 'Colts'), 'nickname'] = 'Solons'\n",
    "abr.loc[abr['yearID'].between(1876, 1889) & (abr['nickname'] == 'Cubs'), 'nickname'] = 'White Stockings'\n",
    "abr.loc[abr['yearID'].between(1890, 1897) & (abr['nickname'] == 'Cubs'), 'nickname'] = 'Colts'\n",
    "abr.loc[abr['yearID'].between(1898, 1902) & (abr['nickname'] == 'Cubs'), 'nickname'] = 'Orphans'\n",
    "abr.loc[(abr['yearID'] == 1873) & (abr['nickname'] == 'Nationals'), 'nickname'] = 'Blue Legs'\n",
    "abr.loc[(abr['yearID'] == 1875) & (abr['nickname'] == 'Olympics'), 'nickname'] = 'Nationals'\n",
    "abr.loc[abr['yearID'].between(1882, 1889) & (abr['location'] == 'Cincinnati') & (abr['nickname'] == 'Reds'), 'nickname'] = 'Red Stockings'\n",
    "abr.loc[abr['yearID'].between(1954, 1959) & (abr['nickname'] == 'Reds'), 'nickname'] = 'Redlegs'\n",
    "abr.loc[abr['yearID'].between(1883, 1884) & (abr['nickname'] == 'Giants'), 'nickname'] = 'Gothams'\n",
    "abr.loc[(abr['yearID'] == 1884) & (abr['nickname'] == 'Dodgers'), 'nickname'] = 'Atlantics'\n",
    "abr.loc[abr['yearID'].between(1885, 1887) & (abr['nickname'] == 'Dodgers'), 'nickname'] = 'Grays'\n",
    "abr.loc[(abr['yearID'].between(1888, 1890) | abr['yearID'].between(1896, 1898)) & (abr['nickname'] == 'Dodgers'), 'nickname'] = 'Bridegrooms'\n",
    "abr.loc[abr['yearID'].between(1891, 1895) & (abr['nickname'] == 'Dodgers'), 'nickname'] = 'Grooms'\n",
    "abr.loc[(abr['yearID'].between(1899, 1910) | (abr['yearID'] == 1913)) & (abr['nickname'] == 'Dodgers'), 'nickname'] = 'Superbas'\n",
    "abr.loc[abr['yearID'].between(1914, 1931) & (abr['nickname'] == 'Dodgers'), 'nickname'] = 'Robins'\n",
    "abr.loc[abr['yearID'].between(1879, 1888) & (abr['nickname'] == 'Spiders'), 'nickname'] = 'Blues'\n",
    "abr.loc[abr['yearID'].between(1882, 1884) & (abr['nickname'] == 'Colonels'), 'nickname'] = 'Eclipse'\n",
    "abr.loc[abr['yearID'].between(1882, 1890) & (abr['location'] == 'Pittsburgh') & (abr['nickname'] == 'Pirates'), 'nickname'] = 'Alleghenys'\n",
    "abr.loc[abr['yearID'].between(1883, 1884) & (abr['nickname'] == 'Colts'), 'nickname'] = 'Buckeyes'\n",
    "abr.loc[(abr['yearID'] == 1884) & (abr['location'] == 'Indianapolis') & (abr['nickname'] == 'Blues'), 'nickname'] = 'Hoosiers'\n",
    "abr.loc[abr['yearID'].between(1886, 1889) & (abr['nickname'] == 'Senators'), 'nickname'] = 'Nationals'\n",
    "abr.loc[(abr['yearID'] == 1891) & (abr['nickname'] == 'Senators'), 'nickname'] = 'Statesmen'\n",
    "abr.loc[(abr['yearID'] == 1882) & (abr['nickname'] == 'Cardinals'), 'nickname'] = 'Brown Stockings'\n",
    "abr.loc[(abr['yearID'] == 1899) & (abr['nickname'] == 'Cardinals'), 'nickname'] = 'Perfectos'\n",
    "abr.loc[abr['yearID'].between(1883, 1898) & (abr['nickname'] == 'Cardinals'), 'nickname'] = 'Browns'\n",
    "abr.loc[(abr['yearID'] == 1901) & (abr['nickname'] == 'Indians'), 'nickname'] = 'Blues'\n",
    "abr.loc[(abr['yearID'] == 1902) & (abr['nickname'] == 'Indians'), 'nickname'] = 'Bronchos'\n",
    "abr.loc[abr['yearID'].between(1903, 1914) & (abr['nickname'] == 'Indians'), 'nickname'] = 'Naps'\n",
    "abr.loc[abr['yearID'].between(1901, 1907) & (abr['nickname'] == 'Red Sox'), 'nickname'] = 'Americans'\n",
    "abr.loc[abr['yearID'].between(1903, 1912) & (abr['nickname'] == 'Yankees'), 'nickname'] = 'Highlanders'\n",
    "abr.loc[abr['yearID'].between(1962, 1964) & (abr['nickname'] == 'Colts'), 'nickname'] = 'Colt .45s'\n",
    "abr.loc[(abr['yearID'] >= 1965) & (abr['nickname'] == 'Colts'), 'nickname'] = 'Astros'\n",
    "abr.loc[(abr['yearID'] >= 2005) & (abr['location'] == 'Anaheim'), 'location'] = 'Los Angeles'\n",
    "abr.loc[(abr['yearID'] >= 2008) & (abr['nickname'] == 'Devil Rays'), 'nickname'] = 'Rays'\n",
    "abr.loc[(abr['yearID'] >= 2022) & (abr['nickname'] == 'Indians'), 'nickname'] = 'Guardians'\n",
    "\n",
    "teams = lahman.merge(abr, on=['yearID', 'teamAbrRetro']).merge(home_parks, how='left', on=['yearID', 'teamAbrLahman']).merge(df[['yearID', 'franchID', 'teamAbrFG', 'franchIDLahman']], on=['yearID', 'franchIDLahman']).drop('franchIDLahman', axis=1)"
   ],
   "metadata": {
    "collapsed": false,
    "ExecuteTime": {
     "end_time": "2024-02-14T07:01:45.815274Z",
     "start_time": "2024-02-14T07:01:45.653658Z"
    }
   },
   "id": "a2db9cb00305050e"
  },
  {
   "cell_type": "code",
   "execution_count": 26,
   "outputs": [],
   "source": [
    "rdf = pd.read_csv('r_teams.csv', sep=' ').replace({'Milwaukee Cream Citys': 'Milwaukee Grays', 'Cleveland Forest Cities': 'Cleveland Forest Citys', 'Ft. Wayne Kekiongas': 'Fort Wayne Kekiongas', 'Baltimore Lord Baltimores': 'Baltimore Canaries', 'Worcester Brown Stockings': 'Worcester Ruby Legs', 'Richmond Virginias': 'Richmond Virginians', 'Kansas City Unions': 'Kansas City Cowboys', 'Kansas City Blues': 'Kansas City Cowboys', 'New Haven New Havens': 'New Haven Elm Citys', 'Milwaukee Unions': 'Milwaukee Brewers', 'Chicago Unions': 'Chicago Browns/Pittsburgh Stogies', 'Boston Unions': 'Boston Reds', 'Altoona Pride': 'Altoona Mountain City', 'Brooklyn Wonders': \"Brooklyn Ward's Wonders\", 'Philadelphia Quakers': 'Philadelphia Athletics', 'Rochester Hop Bitters': 'Rochester Broncos', 'Indianapolis Hoosier-Feds': 'Indianapolis Hoosiers', 'Buffalo Feds': 'Buffalo Blues', 'Brooklyn Feds': 'Brooklyn Tip-Tops', \"Houston Colt 45's\": 'Houston Colt .45s'})\n",
    "\n",
    "rdf.loc[(rdf['season'] == 1873) & (rdf['team_full_name'] == 'Washington Nationals'), 'team_full_name'] = 'Washington Blue Legs'\n",
    "rdf.loc[rdf['season'].between(1871, 1875) & (rdf['team_full_name'] == 'Boston Braves'), 'team_full_name'] = 'Boston Red Stockings'\n",
    "rdf.loc[(rdf['season'] == 1875) & (rdf['team_full_name'] == 'Washington Olympics'), 'team_full_name'] = 'Washington Nationals'\n",
    "rdf.loc[rdf['season'].between(1879, 1888) & (rdf['team_full_name'] == 'Cleveland Spiders'), 'team_full_name'] = 'Cleveland Blues'\n",
    "rdf.loc[(rdf['season'] == 1880) & (rdf['team_full_name'] == 'Cincinnati Reds'), 'team_full_name'] = 'Cincinnati Stars'\n",
    "rdf.loc[rdf['season'].between(1882, 1884) & (rdf['team_full_name'] == 'Louisville Colonels'), 'team_full_name'] = 'Louisville Eclipse'\n",
    "rdf.loc[rdf['season'].between(1882, 1890) & (rdf['team_full_name'] == 'Pittsburgh Pirates'), 'team_full_name'] = 'Pittsburgh Alleghenys'\n",
    "rdf.loc[(rdf['season'] == 1882) & (rdf['team_full_name'] == 'St. Louis Cardinals'), 'team_full_name'] = 'St. Louis Brown Stockings'\n",
    "rdf.loc[rdf['season'].between(1883, 1898) & (rdf['team_full_name'] == 'St. Louis Cardinals'), 'team_full_name'] = 'St. Louis Browns'\n",
    "rdf.loc[rdf['season'].between(1883, 1884) & (rdf['team_full_name'] == 'Columbus Colts'), 'team_full_name'] = 'Columbus Buckeyes'\n",
    "rdf.loc[(rdf['season'] == 1884) & (rdf['team_full_name'] == 'Indianapolis Blues'), 'team_full_name'] = 'Indianapolis Hoosiers'\n",
    "rdf.loc[(rdf['season'] == 1885) & (rdf['team_full_name'] == 'New York Gothams'), 'team_full_name'] = 'New York Giants'\n",
    "rdf.loc[rdf['season'].between(1886, 1889) & (rdf['team_full_name'] == 'Washington Senators'), 'team_full_name'] = 'Washington Nationals'\n",
    "rdf.loc[rdf['season'].between(1889, 1891) & (rdf['team_full_name'] == 'Columbus Colts'), 'team_full_name'] = 'Columbus Solons'\n",
    "rdf.loc[(rdf['season'] == 1891) & (rdf['team_full_name'] == 'Washington Senators'), 'team_full_name'] = 'Washington Statesmen'\n",
    "rdf.loc[(rdf['season'] == 1907) & (rdf['team_full_name'] == 'Boston Red Sox'), 'team_full_name'] = 'Boston Americans'\n",
    "rdf.loc[(rdf['season'] == 1899) & (rdf['team_full_name'] == 'St. Louis Cardinals'), 'team_full_name'] = 'St. Louis Perfectos'\n",
    "rdf.loc[(rdf['season'] == 1965) & (rdf['team_full_name'] == 'Los Angeles Angels'), 'team_full_name'] = 'California Angels'\n",
    "rdf.loc[rdf['season'].between(2005, 2015) & (rdf['team_full_name'] == 'Los Angeles Angels'), 'team_full_name'] = 'Los Angeles Angels of Anaheim'\n",
    "rdf['lgID'] = rdf['league_id'].map({100: 'AA', 101: 'UA', 102: 'NA', 103: 'AL', 104: 'NL', 105: 'PL', 106: 'FL'})"
   ],
   "metadata": {
    "collapsed": false,
    "ExecuteTime": {
     "end_time": "2024-02-14T07:01:46.714511Z",
     "start_time": "2024-02-14T07:01:46.546520Z"
    }
   },
   "id": "bf00e06734c3f0f4"
  },
  {
   "cell_type": "code",
   "execution_count": 27,
   "outputs": [
    {
     "data": {
      "text/plain": "                lgID divID parkID  lgIDST  parkIDST                 teamName  \\\nyearID franchID                                                                \n1871   1          NA   NaN  BOS01     NaN       NaN     Boston Red Stockings   \n       2          NA   NaN  CHI01     NaN       NaN  Chicago White Stockings   \n       31         NA   NaN  PHI01     NaN       NaN   Philadelphia Athletics   \n       32         NA   NaN  CLE01     NaN       NaN   Cleveland Forest Citys   \n       33         NA   NaN  FOR01     NaN       NaN     Fort Wayne Kekiongas   \n...              ...   ...    ...     ...       ...                      ...   \n2023   26         AL     E  TOR02   115.0    2536.0        Toronto Blue Jays   \n       27         NL     W  DEN02   114.0    4249.0         Colorado Rockies   \n       28         NL     E  MIA02   115.0    2520.0            Miami Marlins   \n       29         AL     E  STP01   115.0    2534.0           Tampa Bay Rays   \n       30         NL     W  PHO01   114.0    4249.0     Arizona Diamondbacks   \n\n                     location         nickname teamAbrFG teamAbrBR  \\\nyearID franchID                                                      \n1871   1               Boston    Red Stockings       BSN       BOS   \n       2              Chicago  White Stockings       CHI       CHI   \n       31        Philadelphia        Athletics       PHN       ATH   \n       32           Cleveland     Forest Citys       CLE       CLE   \n       33          Fort Wayne        Kekiongas       FTW       KEK   \n...                       ...              ...       ...       ...   \n2023   26             Toronto        Blue Jays       TOR       TOR   \n       27            Colorado          Rockies       COL       COL   \n       28               Miami          Marlins       MIA       MIA   \n       29           Tampa Bay             Rays       TBR       TBR   \n       30             Arizona     Diamondbacks       ARI       ARI   \n\n                teamAbrLahman teamAbrLahman45 teamAbrRetro teamAbrMLB  \\\nyearID franchID                                                         \n1871   1                  BS1             BS1          BS1        BSN   \n       2                  CH1             CH1          CH1        CWS   \n       31                 PH1             PH1          PH1        PHN   \n       32                 CL1             CL1          CL1        CLE   \n       33                 FW1             FW1          FW1        FTW   \n...                       ...             ...          ...        ...   \n2023   26                 TOR             TOR          TOR        TOR   \n       27                 COL             COL          COL        COL   \n       28                 MIA             FLO          MIA        MIA   \n       29                 TBA             TBA          TBA         TB   \n       30                 ARI             ARI          ARI         AZ   \n\n                teamCodeMLB  \nyearID franchID              \n1871   1                bs1  \n       2                ch1  \n       31               ph1  \n       32               cl1  \n       33               fw1  \n...                     ...  \n2023   26               tor  \n       27               col  \n       28               mia  \n       29               tba  \n       30               ari  \n\n[3045 rows x 15 columns]",
      "text/html": "<div>\n<style scoped>\n    .dataframe tbody tr th:only-of-type {\n        vertical-align: middle;\n    }\n\n    .dataframe tbody tr th {\n        vertical-align: top;\n    }\n\n    .dataframe thead th {\n        text-align: right;\n    }\n</style>\n<table border=\"1\" class=\"dataframe\">\n  <thead>\n    <tr style=\"text-align: right;\">\n      <th></th>\n      <th></th>\n      <th>lgID</th>\n      <th>divID</th>\n      <th>parkID</th>\n      <th>lgIDST</th>\n      <th>parkIDST</th>\n      <th>teamName</th>\n      <th>location</th>\n      <th>nickname</th>\n      <th>teamAbrFG</th>\n      <th>teamAbrBR</th>\n      <th>teamAbrLahman</th>\n      <th>teamAbrLahman45</th>\n      <th>teamAbrRetro</th>\n      <th>teamAbrMLB</th>\n      <th>teamCodeMLB</th>\n    </tr>\n    <tr>\n      <th>yearID</th>\n      <th>franchID</th>\n      <th></th>\n      <th></th>\n      <th></th>\n      <th></th>\n      <th></th>\n      <th></th>\n      <th></th>\n      <th></th>\n      <th></th>\n      <th></th>\n      <th></th>\n      <th></th>\n      <th></th>\n      <th></th>\n      <th></th>\n    </tr>\n  </thead>\n  <tbody>\n    <tr>\n      <th rowspan=\"5\" valign=\"top\">1871</th>\n      <th>1</th>\n      <td>NA</td>\n      <td>NaN</td>\n      <td>BOS01</td>\n      <td>NaN</td>\n      <td>NaN</td>\n      <td>Boston Red Stockings</td>\n      <td>Boston</td>\n      <td>Red Stockings</td>\n      <td>BSN</td>\n      <td>BOS</td>\n      <td>BS1</td>\n      <td>BS1</td>\n      <td>BS1</td>\n      <td>BSN</td>\n      <td>bs1</td>\n    </tr>\n    <tr>\n      <th>2</th>\n      <td>NA</td>\n      <td>NaN</td>\n      <td>CHI01</td>\n      <td>NaN</td>\n      <td>NaN</td>\n      <td>Chicago White Stockings</td>\n      <td>Chicago</td>\n      <td>White Stockings</td>\n      <td>CHI</td>\n      <td>CHI</td>\n      <td>CH1</td>\n      <td>CH1</td>\n      <td>CH1</td>\n      <td>CWS</td>\n      <td>ch1</td>\n    </tr>\n    <tr>\n      <th>31</th>\n      <td>NA</td>\n      <td>NaN</td>\n      <td>PHI01</td>\n      <td>NaN</td>\n      <td>NaN</td>\n      <td>Philadelphia Athletics</td>\n      <td>Philadelphia</td>\n      <td>Athletics</td>\n      <td>PHN</td>\n      <td>ATH</td>\n      <td>PH1</td>\n      <td>PH1</td>\n      <td>PH1</td>\n      <td>PHN</td>\n      <td>ph1</td>\n    </tr>\n    <tr>\n      <th>32</th>\n      <td>NA</td>\n      <td>NaN</td>\n      <td>CLE01</td>\n      <td>NaN</td>\n      <td>NaN</td>\n      <td>Cleveland Forest Citys</td>\n      <td>Cleveland</td>\n      <td>Forest Citys</td>\n      <td>CLE</td>\n      <td>CLE</td>\n      <td>CL1</td>\n      <td>CL1</td>\n      <td>CL1</td>\n      <td>CLE</td>\n      <td>cl1</td>\n    </tr>\n    <tr>\n      <th>33</th>\n      <td>NA</td>\n      <td>NaN</td>\n      <td>FOR01</td>\n      <td>NaN</td>\n      <td>NaN</td>\n      <td>Fort Wayne Kekiongas</td>\n      <td>Fort Wayne</td>\n      <td>Kekiongas</td>\n      <td>FTW</td>\n      <td>KEK</td>\n      <td>FW1</td>\n      <td>FW1</td>\n      <td>FW1</td>\n      <td>FTW</td>\n      <td>fw1</td>\n    </tr>\n    <tr>\n      <th>...</th>\n      <th>...</th>\n      <td>...</td>\n      <td>...</td>\n      <td>...</td>\n      <td>...</td>\n      <td>...</td>\n      <td>...</td>\n      <td>...</td>\n      <td>...</td>\n      <td>...</td>\n      <td>...</td>\n      <td>...</td>\n      <td>...</td>\n      <td>...</td>\n      <td>...</td>\n      <td>...</td>\n    </tr>\n    <tr>\n      <th rowspan=\"5\" valign=\"top\">2023</th>\n      <th>26</th>\n      <td>AL</td>\n      <td>E</td>\n      <td>TOR02</td>\n      <td>115.0</td>\n      <td>2536.0</td>\n      <td>Toronto Blue Jays</td>\n      <td>Toronto</td>\n      <td>Blue Jays</td>\n      <td>TOR</td>\n      <td>TOR</td>\n      <td>TOR</td>\n      <td>TOR</td>\n      <td>TOR</td>\n      <td>TOR</td>\n      <td>tor</td>\n    </tr>\n    <tr>\n      <th>27</th>\n      <td>NL</td>\n      <td>W</td>\n      <td>DEN02</td>\n      <td>114.0</td>\n      <td>4249.0</td>\n      <td>Colorado Rockies</td>\n      <td>Colorado</td>\n      <td>Rockies</td>\n      <td>COL</td>\n      <td>COL</td>\n      <td>COL</td>\n      <td>COL</td>\n      <td>COL</td>\n      <td>COL</td>\n      <td>col</td>\n    </tr>\n    <tr>\n      <th>28</th>\n      <td>NL</td>\n      <td>E</td>\n      <td>MIA02</td>\n      <td>115.0</td>\n      <td>2520.0</td>\n      <td>Miami Marlins</td>\n      <td>Miami</td>\n      <td>Marlins</td>\n      <td>MIA</td>\n      <td>MIA</td>\n      <td>MIA</td>\n      <td>FLO</td>\n      <td>MIA</td>\n      <td>MIA</td>\n      <td>mia</td>\n    </tr>\n    <tr>\n      <th>29</th>\n      <td>AL</td>\n      <td>E</td>\n      <td>STP01</td>\n      <td>115.0</td>\n      <td>2534.0</td>\n      <td>Tampa Bay Rays</td>\n      <td>Tampa Bay</td>\n      <td>Rays</td>\n      <td>TBR</td>\n      <td>TBR</td>\n      <td>TBA</td>\n      <td>TBA</td>\n      <td>TBA</td>\n      <td>TB</td>\n      <td>tba</td>\n    </tr>\n    <tr>\n      <th>30</th>\n      <td>NL</td>\n      <td>W</td>\n      <td>PHO01</td>\n      <td>114.0</td>\n      <td>4249.0</td>\n      <td>Arizona Diamondbacks</td>\n      <td>Arizona</td>\n      <td>Diamondbacks</td>\n      <td>ARI</td>\n      <td>ARI</td>\n      <td>ARI</td>\n      <td>ARI</td>\n      <td>ARI</td>\n      <td>AZ</td>\n      <td>ari</td>\n    </tr>\n  </tbody>\n</table>\n<p>3045 rows × 15 columns</p>\n</div>"
     },
     "execution_count": 27,
     "metadata": {},
     "output_type": "execute_result"
    }
   ],
   "source": [
    "teams = teams.merge(rdf, how='left', left_on=['yearID', 'teamName', 'lgID'], right_on=['season', 'team_full_name', 'lgID'])[['yearID', 'franchID', 'lgID', 'divID', 'parkID', 'spring_league_id', 'spring_venue_id', 'teamName', 'location', 'nickname', 'teamAbrFG', 'teamAbrBR', 'teamAbrLahman', 'teamAbrLahman45', 'teamAbrRetro', 'team_abbreviation', 'team_code']].rename({'spring_league_id': 'lgIDST', 'spring_venue_id': 'parkIDST', 'team_abbreviation': 'teamAbrMLB', 'team_code': 'teamCodeMLB'}, axis=1).set_index(['yearID', 'franchID']).sort_index()\n",
    "teams"
   ],
   "metadata": {
    "collapsed": false,
    "ExecuteTime": {
     "end_time": "2024-02-14T07:01:47.673207Z",
     "start_time": "2024-02-14T07:01:47.540357Z"
    }
   },
   "id": "fc061f251173dd2b"
  },
  {
   "cell_type": "code",
   "execution_count": 28,
   "outputs": [
    {
     "data": {
      "text/plain": "          franchIDFG franchIDBR franchIDLahman  yearFirst  yearLast  \\\nfranchID                                                              \n1                 16        ATL            ATL       1871      2023   \n2                 17        CHC            CHC       1871      2023   \n3                 18        CIN            CIN       1882      2023   \n4                 27        PIT            PIT       1882      2023   \n5                 28        STL            STL       1882      2023   \n...              ...        ...            ...        ...       ...   \n112             1021        CHH            CHH       1914      1915   \n113             1040        KCP            KCP       1914      1915   \n114             1051        NEW            NEW       1914      1915   \n115             1059        PBS            PBS       1914      1915   \n116             1071        SLI            SLI       1914      1915   \n\n          yearsActive           franchName  isActive  \nfranchID                                              \n1                 153       Atlanta Braves      True  \n2                 151         Chicago Cubs      True  \n3                 142      Cincinnati Reds      True  \n4                 142   Pittsburgh Pirates      True  \n5                 142  St. Louis Cardinals      True  \n...               ...                  ...       ...  \n112                 2       Chicago Whales     False  \n113                 2  Kansas City Packers     False  \n114                 2        Newark Pepper     False  \n115                 2    Pittsburgh Rebels     False  \n116                 2   St. Louis Terriers     False  \n\n[116 rows x 8 columns]",
      "text/html": "<div>\n<style scoped>\n    .dataframe tbody tr th:only-of-type {\n        vertical-align: middle;\n    }\n\n    .dataframe tbody tr th {\n        vertical-align: top;\n    }\n\n    .dataframe thead th {\n        text-align: right;\n    }\n</style>\n<table border=\"1\" class=\"dataframe\">\n  <thead>\n    <tr style=\"text-align: right;\">\n      <th></th>\n      <th>franchIDFG</th>\n      <th>franchIDBR</th>\n      <th>franchIDLahman</th>\n      <th>yearFirst</th>\n      <th>yearLast</th>\n      <th>yearsActive</th>\n      <th>franchName</th>\n      <th>isActive</th>\n    </tr>\n    <tr>\n      <th>franchID</th>\n      <th></th>\n      <th></th>\n      <th></th>\n      <th></th>\n      <th></th>\n      <th></th>\n      <th></th>\n      <th></th>\n    </tr>\n  </thead>\n  <tbody>\n    <tr>\n      <th>1</th>\n      <td>16</td>\n      <td>ATL</td>\n      <td>ATL</td>\n      <td>1871</td>\n      <td>2023</td>\n      <td>153</td>\n      <td>Atlanta Braves</td>\n      <td>True</td>\n    </tr>\n    <tr>\n      <th>2</th>\n      <td>17</td>\n      <td>CHC</td>\n      <td>CHC</td>\n      <td>1871</td>\n      <td>2023</td>\n      <td>151</td>\n      <td>Chicago Cubs</td>\n      <td>True</td>\n    </tr>\n    <tr>\n      <th>3</th>\n      <td>18</td>\n      <td>CIN</td>\n      <td>CIN</td>\n      <td>1882</td>\n      <td>2023</td>\n      <td>142</td>\n      <td>Cincinnati Reds</td>\n      <td>True</td>\n    </tr>\n    <tr>\n      <th>4</th>\n      <td>27</td>\n      <td>PIT</td>\n      <td>PIT</td>\n      <td>1882</td>\n      <td>2023</td>\n      <td>142</td>\n      <td>Pittsburgh Pirates</td>\n      <td>True</td>\n    </tr>\n    <tr>\n      <th>5</th>\n      <td>28</td>\n      <td>STL</td>\n      <td>STL</td>\n      <td>1882</td>\n      <td>2023</td>\n      <td>142</td>\n      <td>St. Louis Cardinals</td>\n      <td>True</td>\n    </tr>\n    <tr>\n      <th>...</th>\n      <td>...</td>\n      <td>...</td>\n      <td>...</td>\n      <td>...</td>\n      <td>...</td>\n      <td>...</td>\n      <td>...</td>\n      <td>...</td>\n    </tr>\n    <tr>\n      <th>112</th>\n      <td>1021</td>\n      <td>CHH</td>\n      <td>CHH</td>\n      <td>1914</td>\n      <td>1915</td>\n      <td>2</td>\n      <td>Chicago Whales</td>\n      <td>False</td>\n    </tr>\n    <tr>\n      <th>113</th>\n      <td>1040</td>\n      <td>KCP</td>\n      <td>KCP</td>\n      <td>1914</td>\n      <td>1915</td>\n      <td>2</td>\n      <td>Kansas City Packers</td>\n      <td>False</td>\n    </tr>\n    <tr>\n      <th>114</th>\n      <td>1051</td>\n      <td>NEW</td>\n      <td>NEW</td>\n      <td>1914</td>\n      <td>1915</td>\n      <td>2</td>\n      <td>Newark Pepper</td>\n      <td>False</td>\n    </tr>\n    <tr>\n      <th>115</th>\n      <td>1059</td>\n      <td>PBS</td>\n      <td>PBS</td>\n      <td>1914</td>\n      <td>1915</td>\n      <td>2</td>\n      <td>Pittsburgh Rebels</td>\n      <td>False</td>\n    </tr>\n    <tr>\n      <th>116</th>\n      <td>1071</td>\n      <td>SLI</td>\n      <td>SLI</td>\n      <td>1914</td>\n      <td>1915</td>\n      <td>2</td>\n      <td>St. Louis Terriers</td>\n      <td>False</td>\n    </tr>\n  </tbody>\n</table>\n<p>116 rows × 8 columns</p>\n</div>"
     },
     "execution_count": 28,
     "metadata": {},
     "output_type": "execute_result"
    }
   ],
   "source": [
    "franchises = franchises.replace({'franchIDFG': {1091: 1028, 1092: 9}, 'franchIDLahman': {'CNS': 'CNR', 'BLA': 'NYY'}})\n",
    "franchises"
   ],
   "metadata": {
    "collapsed": false,
    "ExecuteTime": {
     "end_time": "2024-02-14T07:02:00.072599Z",
     "start_time": "2024-02-14T07:01:59.953881Z"
    }
   },
   "id": "23d5e6f9303acc44"
  },
  {
   "cell_type": "code",
   "execution_count": 29,
   "outputs": [],
   "source": [
    "franchises.to_csv('Database/franchises.csv')\n",
    "teams.to_csv('Database/teams.csv')"
   ],
   "metadata": {
    "collapsed": false,
    "ExecuteTime": {
     "end_time": "2024-02-14T07:17:01.193463Z",
     "start_time": "2024-02-14T07:17:00.191154Z"
    }
   },
   "id": "36e478f266c3fc86"
  },
  {
   "cell_type": "markdown",
   "source": [
    "## Player Biographical Info"
   ],
   "metadata": {
    "collapsed": false
   },
   "id": "caa0569947c54eb6"
  },
  {
   "cell_type": "code",
   "execution_count": 12,
   "outputs": [
    {
     "name": "stderr",
     "output_type": "stream",
     "text": [
      "/var/folders/cf/xvbkm9r16gb4zfcs0bxqrd7m0000gn/T/ipykernel_2486/3996833008.py:76: FutureWarning: The behavior of DataFrame concatenation with empty or all-NA entries is deprecated. In a future version, this will no longer exclude empty or all-NA columns when determining the result dtypes. To retain the old behavior, exclude the relevant entries before the concat operation.\n",
      "  players_seasons_teams = pd.concat([players_seasons_teams.loc[~players_seasons_teams[['playerIDFG', 'yearID', 'franchID']].apply(tuple, axis=1).isin([(1004721, 1875, 39), (1006527, 1882, 66), (1008591, 1874, 44), (1008591, 1877, 50), (1012248, 1914, 109), (1013900, 1886, 88), (1013001, 1884, 85), (1005252, 1875, 52)]), ['playerIDFG', 'playerIDBR', 'playerIDMLBAM', 'playerName', 'yearID', 'franchID', 'franchName']], pd.DataFrame([{'playerIDFG': np.nan, 'playerIDBR': 'crossjo01', 'playerIDMLBAM': np.nan, 'playerName': 'Joe Cross', 'yearID': 1888, 'franchID': 67, 'franchName': 'Louisville Colonels'}, {'playerIDFG': np.nan, 'playerIDBR': 'gilgahu01', 'playerIDMLBAM': np.nan, 'playerName': 'Hugh Gilgan', 'yearID': 1875, 'franchID': 39, 'franchName': 'Brooklyn Atlantics'}, {'playerIDFG': np.nan, 'playerIDBR': 'jonesda06', 'playerIDMLBAM': np.nan, 'playerName': 'David Jones', 'yearID': 1882, 'franchID': 66, 'franchName': 'Baltimore Orioles'}, {'playerIDFG': np.nan, 'playerIDBR': 'mckenfr01', 'playerIDMLBAM': np.nan, 'playerName': 'Frank McKenna', 'yearID': 1874, 'franchID': 44, 'franchName': 'Philadelphia White Stockings'}, {'playerIDFG': np.nan, 'playerIDBR': 'mckenpa01', 'playerIDMLBAM': np.nan, 'playerName': 'Patrick McKenna', 'yearID': 1877, 'franchID': 50, 'franchName': 'St. Louis Brown Stockings'}, {'playerIDFG': np.nan, 'playerIDBR': 'shafffr01', 'playerIDMLBAM': np.nan, 'playerName': 'Frank Shaffer', 'yearID': 1884, 'franchID': 71, 'franchName': 'Altoona Mountain Citys'}, {'playerIDFG': np.nan, 'playerIDBR': 'snydech03', 'playerIDMLBAM': np.nan, 'playerName': 'Chubby Snyder', 'yearID': 1914, 'franchID': 109, 'franchName': 'Buffalo Bisons'}, {'playerIDFG': np.nan, 'playerIDBR': 'sulliwi01', 'playerIDMLBAM': np.nan, 'playerName': 'William Sullivan', 'yearID': 1884, 'franchID': 81, 'franchName': 'St. Louis Maroons'}, {'playerIDFG': np.nan, 'playerIDBR': 'tinneth01', 'playerIDMLBAM': np.nan, 'playerName': 'Thomas Tinney', 'yearID': 1884, 'franchID': 86, 'franchName': 'Washington Nationals'}, {'playerIDFG': np.nan, 'playerIDBR': 'zeihehe01', 'playerIDMLBAM': np.nan, 'playerName': 'Henry Zeiher', 'yearID': 1886, 'franchID': 88, 'franchName': 'Washington Nationals'}])], ignore_index=True)\n"
     ]
    },
    {
     "data": {
      "text/plain": "        playerIDFG playerIDBR  playerIDMLBAM        playerName  yearID  \\\n0          13611.0  bettsmo01         605141      Mookie Betts    2016   \n1           5417.0  altuvjo01         514888       Jose Altuve    2015   \n2           5417.0  altuvjo01         514888       Jose Altuve    2016   \n3           4922.0  inciaen01         542255    Ender Inciarte    2017   \n4          11281.0  merriwh01         593160   Whit Merrifield    2021   \n...            ...        ...            ...               ...     ...   \n113615         NaN  shafffr01           <NA>     Frank Shaffer    1884   \n113616         NaN  snydech03           <NA>     Chubby Snyder    1914   \n113617         NaN  sulliwi01           <NA>  William Sullivan    1884   \n113618         NaN  tinneth01           <NA>     Thomas Tinney    1884   \n113619         NaN  zeihehe01           <NA>      Henry Zeiher    1886   \n\n        franchID              franchName  \n0             10          Boston Red Sox  \n1             19          Houston Astros  \n2             19          Houston Astros  \n3              1          Atlanta Braves  \n4             21      Kansas City Royals  \n...          ...                     ...  \n113615        71  Altoona Mountain Citys  \n113616       109          Buffalo Bisons  \n113617        81       St. Louis Maroons  \n113618        86    Washington Nationals  \n113619        88    Washington Nationals  \n\n[113620 rows x 7 columns]",
      "text/html": "<div>\n<style scoped>\n    .dataframe tbody tr th:only-of-type {\n        vertical-align: middle;\n    }\n\n    .dataframe tbody tr th {\n        vertical-align: top;\n    }\n\n    .dataframe thead th {\n        text-align: right;\n    }\n</style>\n<table border=\"1\" class=\"dataframe\">\n  <thead>\n    <tr style=\"text-align: right;\">\n      <th></th>\n      <th>playerIDFG</th>\n      <th>playerIDBR</th>\n      <th>playerIDMLBAM</th>\n      <th>playerName</th>\n      <th>yearID</th>\n      <th>franchID</th>\n      <th>franchName</th>\n    </tr>\n  </thead>\n  <tbody>\n    <tr>\n      <th>0</th>\n      <td>13611.0</td>\n      <td>bettsmo01</td>\n      <td>605141</td>\n      <td>Mookie Betts</td>\n      <td>2016</td>\n      <td>10</td>\n      <td>Boston Red Sox</td>\n    </tr>\n    <tr>\n      <th>1</th>\n      <td>5417.0</td>\n      <td>altuvjo01</td>\n      <td>514888</td>\n      <td>Jose Altuve</td>\n      <td>2015</td>\n      <td>19</td>\n      <td>Houston Astros</td>\n    </tr>\n    <tr>\n      <th>2</th>\n      <td>5417.0</td>\n      <td>altuvjo01</td>\n      <td>514888</td>\n      <td>Jose Altuve</td>\n      <td>2016</td>\n      <td>19</td>\n      <td>Houston Astros</td>\n    </tr>\n    <tr>\n      <th>3</th>\n      <td>4922.0</td>\n      <td>inciaen01</td>\n      <td>542255</td>\n      <td>Ender Inciarte</td>\n      <td>2017</td>\n      <td>1</td>\n      <td>Atlanta Braves</td>\n    </tr>\n    <tr>\n      <th>4</th>\n      <td>11281.0</td>\n      <td>merriwh01</td>\n      <td>593160</td>\n      <td>Whit Merrifield</td>\n      <td>2021</td>\n      <td>21</td>\n      <td>Kansas City Royals</td>\n    </tr>\n    <tr>\n      <th>...</th>\n      <td>...</td>\n      <td>...</td>\n      <td>...</td>\n      <td>...</td>\n      <td>...</td>\n      <td>...</td>\n      <td>...</td>\n    </tr>\n    <tr>\n      <th>113615</th>\n      <td>NaN</td>\n      <td>shafffr01</td>\n      <td>&lt;NA&gt;</td>\n      <td>Frank Shaffer</td>\n      <td>1884</td>\n      <td>71</td>\n      <td>Altoona Mountain Citys</td>\n    </tr>\n    <tr>\n      <th>113616</th>\n      <td>NaN</td>\n      <td>snydech03</td>\n      <td>&lt;NA&gt;</td>\n      <td>Chubby Snyder</td>\n      <td>1914</td>\n      <td>109</td>\n      <td>Buffalo Bisons</td>\n    </tr>\n    <tr>\n      <th>113617</th>\n      <td>NaN</td>\n      <td>sulliwi01</td>\n      <td>&lt;NA&gt;</td>\n      <td>William Sullivan</td>\n      <td>1884</td>\n      <td>81</td>\n      <td>St. Louis Maroons</td>\n    </tr>\n    <tr>\n      <th>113618</th>\n      <td>NaN</td>\n      <td>tinneth01</td>\n      <td>&lt;NA&gt;</td>\n      <td>Thomas Tinney</td>\n      <td>1884</td>\n      <td>86</td>\n      <td>Washington Nationals</td>\n    </tr>\n    <tr>\n      <th>113619</th>\n      <td>NaN</td>\n      <td>zeihehe01</td>\n      <td>&lt;NA&gt;</td>\n      <td>Henry Zeiher</td>\n      <td>1886</td>\n      <td>88</td>\n      <td>Washington Nationals</td>\n    </tr>\n  </tbody>\n</table>\n<p>113620 rows × 7 columns</p>\n</div>"
     },
     "execution_count": 12,
     "metadata": {},
     "output_type": "execute_result"
    }
   ],
   "source": [
    "players_seasons_teams = pd.concat([pd.read_csv(file)[['PlayerId', 'MLBAMID', 'Name', 'Season', 'Team']].rename({'PlayerId': 'playerIDFG', 'MLBAMID': 'playerIDMLBAM', 'Name': 'playerName', 'Season': 'yearID', 'Team': 'teamAbrFG'}, axis=1).astype({'playerIDMLBAM': 'Int64'}) for file in glob.glob('Hitters/*.csv')] + [pd.read_csv(file)[['PlayerId', 'MLBAMID', 'Name', 'Season', 'Team']].rename({'PlayerId': 'playerIDFG', 'MLBAMID': 'playerIDMLBAM', 'Name': 'playerName', 'Season': 'yearID', 'Team': 'teamAbrFG'}, axis=1).astype({'playerIDMLBAM': 'Int64'}) for file in glob.glob('Pitchers/*.csv')] + [pd.read_csv(file)[['PlayerId', 'MLBAMID', 'Name', 'Season', 'Team']].rename({'PlayerId': 'playerIDFG', 'MLBAMID': 'playerIDMLBAM', 'Name': 'playerName', 'Season': 'yearID', 'Team': 'teamAbrFG'}, axis=1).astype({'playerIDMLBAM': 'Int64'}) for file in glob.glob('Fielders/*.csv')], ignore_index=True).drop_duplicates().merge(pd.read_csv('Database/teams.csv')[['yearID', 'franchID', 'teamAbrFG']], how='left', on=['yearID', 'teamAbrFG'])\n",
    "\n",
    "dupes = players_seasons_teams[players_seasons_teams[['playerIDFG', 'yearID', 'teamAbrFG']].duplicated(keep=False)].sort_values(['yearID', 'teamAbrFG'], ignore_index=True)\n",
    "\n",
    "browns = pd.concat([pd.read_csv(file).dropna(axis=1).drop('Pos', axis=1, errors='ignore') for file in glob.glob('St. Louis Browns/*.csv')]).drop_duplicates().rename({'PlayerId': 'playerIDFG', 'MLBAMID': 'playerIDMLBAM', 'Name': 'playerName', 'Season': 'yearID', 'Team': 'teamAbrFG'}, axis=1)\n",
    "orioles = pd.concat([pd.read_csv(file).dropna(axis=1).drop('Pos', axis=1, errors='ignore') for file in glob.glob('Baltimore Orioles/*.csv')]).drop_duplicates().rename({'PlayerId': 'playerIDFG', 'MLBAMID': 'playerIDMLBAM', 'Name': 'playerName', 'Team': 'teamAbrFG'}, axis=1).assign(yearID=1884)\n",
    "dupes = dupes.merge(pd.concat([browns[['yearID', 'playerIDFG']].assign(franchID=5, valid=True), orioles[['yearID', 'playerIDFG']].assign(franchID=66, valid=True)]), how='left', on=['yearID', 'playerIDFG', 'franchID']).sort_values(['yearID', 'teamAbrFG'], ignore_index=True)\n",
    "\n",
    "players_seasons_teams = players_seasons_teams.merge(dupes.groupby(['yearID', 'playerIDFG', 'teamAbrFG'])[['franchID', 'valid']].apply(lambda x: x['franchID'].iloc[x['valid'].sum()]).reset_index().drop('teamAbrFG', axis=1).rename({0: 'franchID'}, axis=1).assign(valid=False), how='left', on=['yearID', 'playerIDFG', 'franchID']).astype({'valid': bool}).query('valid == True').drop(['teamAbrFG', 'valid'], axis=1).merge(pd.read_csv('Database/franchises.csv')[['franchID', 'franchName']], on='franchID')\n",
    "\n",
    "players_seasons_teams.loc[players_seasons_teams['playerIDFG'] == 1012886, ['playerIDFG', 'playerName']] = [1012883, 'Live Oak Taylor']\n",
    "players_seasons_teams.loc[players_seasons_teams['playerIDFG'] == 1012086, ['playerIDFG', 'playerName']] = [1012196, 'Rex Smith']\n",
    "players_seasons_teams.loc[players_seasons_teams['playerIDFG'] == 1008396, ['playerIDFG', 'playerIDMLBAM', 'playerName']] = [1008397, 118581, 'Bill McCloskey']\n",
    "players_seasons_teams.loc[players_seasons_teams['playerIDFG'] == 1012999, ['playerIDFG', 'playerIDMLBAM', 'playerName']] = [1013006, 123281, 'Frank Thompson']\n",
    "players_seasons_teams.loc[players_seasons_teams['playerIDFG'] == 1013857, ['playerIDFG', 'playerIDMLBAM', 'playerName']] = [1013854, 124192, 'Bill White']\n",
    "# players_seasons_teams.loc[players_seasons_teams['playerIDFG'] == 1013001, ['playerIDFG', 'playerIDMLBAM', 'playerName']] = [1012915, 123187, 'Fred Tenney']\n",
    "players_seasons_teams.loc[players_seasons_teams['playerIDFG'] == 1009694, ['playerIDFG', 'playerIDMLBAM', 'playerName']] = [1009698, 119902, \"Pete O'Brien\"]\n",
    "players_seasons_teams.loc[players_seasons_teams['playerIDFG'] == 1002444, ['playerIDFG', 'playerIDMLBAM', 'playerName']] = [1002445, 112521, 'Bill Collins']\n",
    "players_seasons_teams.loc[players_seasons_teams['playerIDFG'] == 1012419, ['playerIDFG', 'playerIDMLBAM', 'playerName']] = [1012422, 122680, 'Tom Stanton']\n",
    "\n",
    "MISSING_MLBAMS = {1000511: 110535, 1000769: 110789, 1000777: 110797, 1000778: 110798, 1001791: 111832, 1003245: 113308, 1004075: 114157, 1004972: 115064, 1005919: 116046, 1006675: 116818, 1007769: 117936, 1007906: 118075, 1008462: 118644, 1009200: 119402, 1009235: 119428, 1009111: 119301, 1009203: 119396, 1009694: 119902, 1009698: 119902, 1010104: 120330, 1010128: 120356, 1010610: 120846, 1010739: 120968, 1010882: 121130, 1011053: 121323, 1012886: 123141, 1013857: 124192, 1014429: 124756, 1014468: 124756}\n",
    "BREF_NO_MLBAM = {1003504: 'driscde02', 1009181: 'morgapi01', 1010606: 'quinnjo01', 1002190: 'childsa01', 1014137: 'winklge01', 1007482: 'lehanja01', 1010609: 'quinnpa01', 1014470: 'gormato04', 1011344: 'ryanjo03', 1014471: 'mccaf01', 1009686: \"o'brida01\", 1012086: 'smithre01', 1014345: 'yinglch01', 1012879: 'tayloja02', 1014469: 'glaseno01'}\n",
    "\n",
    "PlayerKeys = namedtuple('PlayerKeys', ['key_mlbam', 'key_fangraphs', 'key_bbref'])\n",
    "\n",
    "sparrow_morton = PlayerKeys(119428, 1009235, 'mortosp01')\n",
    "henry_moore = PlayerKeys(119301, 1009111, 'mooreha01')\n",
    "bob_hogan = PlayerKeys(116046, 1005918, 'hoganed01')\n",
    "mortimer_hogan = PlayerKeys(654574, 1005919, 'hoganed02')\n",
    "live_oak_taylor = PlayerKeys([123135, 123141], [1012883, 1012886], 'tayloli01')  # Live Oak and Sandy Taylor are the same person\n",
    "james_morris = PlayerKeys(119396, 1009203, 'morrie.01')\n",
    "denny_driscoll = PlayerKeys(113570, 1003503, 'driscde01')\n",
    "dennis_driscoll = PlayerKeys(np.nan, 1003504, 'driscde02')\n",
    "bill_d_white = PlayerKeys(124192, 1013854, 'whitebi02')\n",
    "bill_e_white = PlayerKeys(124193, 1013853, 'whitebi01')\n",
    "rex_smith = PlayerKeys([np.nan, 122446], [1012086, 1012196], 'smithre01')  # (Unknown Smith) and Rex Smith are the same person\n",
    "james_cavanagh = PlayerKeys(116867, 1006719, 'kavan01')\n",
    "jim_donnelly = PlayerKeys(137200, 1003385, 'donneji02')\n",
    "ben_harrison = PlayerKeys(115541, 1005394, 'harribe01')\n",
    "\n",
    "pid = pd.read_csv('playerIDlookup.csv', delimiter=' ', low_memory=False).drop(['key_sr_nfl', 'key_sr_nba', 'key_sr_nhl', 'key_findagrave'], axis=1).query('mlb_played_first.notna()')\n",
    "\n",
    "pid.loc[pid['key_fangraphs'] == 1014468, 'key_mlbam'] = 1014468\n",
    "pid.loc[pid['key_fangraphs'] == 1005919, 'key_mlbam'] = 654574\n",
    "pid.loc[pid['key_mlbam'] == 119428, 'key_fangraphs'] = 1009235\n",
    "pid.loc[pid['key_mlbam'] == 119301, 'key_fangraphs'] = 1009111\n",
    "pid.loc[pid['key_mlbam'] == 1005919, 'key_fangraphs'] = 1009203\n",
    "pid.loc[pid['key_mlbam'] == 116867, 'key_fangraphs'] = 1006719\n",
    "pid.loc[pid['key_mlbam'] == 137200, 'key_fangraphs'] = 1003385\n",
    "pid.loc[pid['key_mlbam'] == 110535, 'key_fangraphs'] = 1000511\n",
    "pid.loc[pid['key_mlbam'] == 110789, 'key_fangraphs'] = 1000769\n",
    "pid.loc[pid['key_mlbam'] == 110797, 'key_fangraphs'] = 1000777\n",
    "pid.loc[pid['key_mlbam'] == 110798, 'key_fangraphs'] = 1000778\n",
    "pid.loc[pid['key_mlbam'] == 111832, 'key_fangraphs'] = 1001791\n",
    "pid.loc[pid['key_mlbam'] == 113308, 'key_fangraphs'] = 1003245\n",
    "pid.loc[pid['key_mlbam'] == 116818, 'key_fangraphs'] = 1006675\n",
    "pid.loc[pid['key_mlbam'] == 117936, 'key_fangraphs'] = 1007769\n",
    "pid.loc[pid['key_mlbam'] == 118075, 'key_fangraphs'] = 1007906\n",
    "pid.loc[pid['key_mlbam'] == 118644, 'key_fangraphs'] = 1008462\n",
    "pid.loc[pid['key_mlbam'] == 119402, 'key_fangraphs'] = 1009200\n",
    "pid.loc[pid['key_mlbam'] == 119396, 'key_fangraphs'] = 1009203\n",
    "pid.loc[pid['key_mlbam'] == 120330, 'key_fangraphs'] = 1010104\n",
    "pid.loc[pid['key_mlbam'] == 120356, 'key_fangraphs'] = 1010128\n",
    "pid.loc[pid['key_mlbam'] == 120968, 'key_fangraphs'] = 1010739\n",
    "pid.loc[pid['key_mlbam'] == 121130, 'key_fangraphs'] = 1010882\n",
    "pid.loc[pid['key_mlbam'] == 121323, 'key_fangraphs'] = 1011053\n",
    "pid.loc[pid['key_mlbam'] == 124756, 'key_fangraphs'] = 1014429\n",
    "pid.loc[pid['key_mlbam'] == 115541, ['key_bbref', 'name_first']] = ['harribe01', 'Ben']\n",
    "pid.loc[pid['key_bbref'] == 'ryanjo03', ['key_mlbam', 'key_fangraphs']] = [121595, 1011344]\n",
    "pid.loc[pid['key_bbref'] == 'donnejo01', 'key_fangraphs'] = 1003386\n",
    "\n",
    "pid = pd.concat([pid, pd.DataFrame([{'key_person': np.nan, 'key_uuid': np.nan, 'key_mlbam': np.nan, 'key_retro': 'crosj102', 'key_bbref': 'crossjo01', 'key_bbref_minors': np.nan, 'key_fangraphs': np.nan, 'key_npb': np.nan, 'name_last': 'Cross', 'name_first': 'Joe', 'name_given': 'Joseph A.', 'name_suffix': np.nan, 'name_matrilineal': np.nan, 'name_nick': np.nan, 'birth_year': 1858, 'birth_month': 1, 'birth_day': 6, 'death_year': 1933, 'death_month': 4, 'death_day': 6, 'pro_played_first': 1888, 'pro_played_last': 1888, 'mlb_played_first': 1888, 'mlb_played_last': 1888, 'col_played_first': np.nan, 'col_played_last': np.nan, 'pro_managed_first': np.nan, 'pro_managed_last': np.nan, 'mlb_managed_first': np.nan, 'mlb_managed_last': np.nan, 'col_managed_first': np.nan, 'col_managed_last': np.nan, 'pro_umpired_first': np.nan, 'pro_umpired_last': np.nan, 'mlb_umpired_first': np.nan, 'mlb_umpired_last': np.nan}, {'key_person': np.nan, 'key_uuid': np.nan, 'key_mlbam': np.nan, 'key_retro': 'gilgh101', 'key_bbref': 'gilgahu01', 'key_bbref_minors': np.nan, 'key_fangraphs': np.nan, 'key_npb': np.nan, 'name_last': 'Gilgan', 'name_first': 'Hugh', 'name_given': 'Hugh J.', 'name_suffix': np.nan, 'name_matrilineal': np.nan, 'name_nick': np.nan, 'birth_year': 1852, 'birth_month': np.nan, 'birth_day': np.nan, 'death_year': 1887, 'death_month': 6, 'death_day': 17, 'pro_played_first': 1875, 'pro_played_last': 1875, 'mlb_played_first': 1875, 'mlb_played_last': 1875, 'col_played_first': np.nan, 'col_played_last': np.nan, 'pro_managed_first': np.nan, 'pro_managed_last': np.nan, 'mlb_managed_first': np.nan, 'mlb_managed_last': np.nan, 'col_managed_first': np.nan, 'col_managed_last': np.nan, 'pro_umpired_first': np.nan, 'pro_umpired_last': np.nan, 'mlb_umpired_first': np.nan, 'mlb_umpired_last': np.nan}, {'key_person': np.nan, 'key_uuid': np.nan, 'key_mlbam': np.nan, 'key_retro': 'joned108', 'key_bbref': 'jonesda06', 'key_bbref_minors': np.nan, 'key_fangraphs': np.nan, 'key_npb': np.nan, 'name_last': 'Jones', 'name_first': 'David', 'name_given': 'David E.', 'name_suffix': np.nan, 'name_matrilineal': np.nan, 'name_nick': np.nan, 'birth_year': 1861, 'birth_month': 4, 'birth_day': 5, 'death_year': 1937, 'death_month': 5, 'death_day': 1, 'pro_played_first': 1882, 'pro_played_last': 1882, 'mlb_played_first': 1882, 'mlb_played_last': 1882, 'col_played_first': np.nan, 'col_played_last': np.nan, 'pro_managed_first': np.nan, 'pro_managed_last': np.nan, 'mlb_managed_first': np.nan, 'mlb_managed_last': np.nan, 'col_managed_first': np.nan, 'col_managed_last': np.nan, 'pro_umpired_first': np.nan, 'pro_umpired_last': np.nan, 'mlb_umpired_first': np.nan, 'mlb_umpired_last': np.nan}, {'key_person': np.nan, 'key_uuid': np.nan, 'key_mlbam': np.nan, 'key_retro': 'mckee102', 'key_bbref': 'mckenfr01', 'key_bbref_minors': np.nan, 'key_fangraphs': np.nan, 'key_npb': np.nan, 'name_last': 'McKenna', 'name_first': 'Frank', 'name_given': 'Frank', 'name_suffix': np.nan, 'name_matrilineal': np.nan, 'name_nick': np.nan, 'birth_year': np.nan, 'birth_month': np.nan, 'birth_day': np.nan, 'death_year': np.nan, 'death_month': np.nan, 'death_day': np.nan, 'pro_played_first': 1874, 'pro_played_last': 1874, 'mlb_played_first': 1874, 'mlb_played_last': 1874, 'col_played_first': np.nan, 'col_played_last': np.nan, 'pro_managed_first': np.nan, 'pro_managed_last': np.nan, 'mlb_managed_first': np.nan, 'mlb_managed_last': np.nan, 'col_managed_first': np.nan, 'col_managed_last': np.nan, 'pro_umpired_first': np.nan, 'pro_umpired_last': np.nan, 'mlb_umpired_first': np.nan, 'mlb_umpired_last': np.nan}, {'key_person': np.nan, 'key_uuid': np.nan, 'key_mlbam': np.nan, 'key_retro': 'mckep101', 'key_bbref': 'mckenpa01', 'key_bbref_minors': np.nan, 'key_fangraphs': np.nan, 'key_npb': np.nan, 'name_last': 'McKenna', 'name_first': 'Patrick', 'name_given': 'Patrick J.', 'name_suffix': np.nan, 'name_matrilineal': np.nan, 'name_nick': np.nan, 'birth_year': 1854, 'birth_month': 12, 'birth_day': 27, 'death_year': 1922, 'death_month': 10, 'death_day': 27, 'pro_played_first': 1877, 'pro_played_last': 1877, 'mlb_played_first': 1877, 'mlb_played_last': 1877, 'col_played_first': np.nan, 'col_played_last': np.nan, 'pro_managed_first': np.nan, 'pro_managed_last': np.nan, 'mlb_managed_first': np.nan, 'mlb_managed_last': np.nan, 'col_managed_first': np.nan, 'col_managed_last': np.nan, 'pro_umpired_first': np.nan, 'pro_umpired_last': np.nan, 'mlb_umpired_first': np.nan, 'mlb_umpired_last': np.nan}, {'key_person': np.nan, 'key_uuid': np.nan, 'key_mlbam': np.nan, 'key_retro': 'shaff101', 'key_bbref': 'shafffr01', 'key_bbref_minors': np.nan, 'key_fangraphs': np.nan, 'key_npb': np.nan, 'name_last': 'Shaffer', 'name_first': 'Frank', 'name_given': 'Francis X.', 'name_suffix': np.nan, 'name_matrilineal': np.nan, 'name_nick': np.nan, 'birth_year': 1859, 'birth_month': 12, 'birth_day': 6, 'death_year': 1939, 'death_month': 3, 'death_day': 18, 'pro_played_first': 1884, 'pro_played_last': 1884, 'mlb_played_first': 1884, 'mlb_played_last': 1884, 'col_played_first': np.nan, 'col_played_last': np.nan, 'pro_managed_first': np.nan, 'pro_managed_last': np.nan, 'mlb_managed_first': np.nan, 'mlb_managed_last': np.nan, 'col_managed_first': np.nan, 'col_managed_last': np.nan, 'pro_umpired_first': np.nan, 'pro_umpired_last': np.nan, 'mlb_umpired_first': np.nan, 'mlb_umpired_last': np.nan}, {'key_person': np.nan, 'key_uuid': np.nan, 'key_mlbam': np.nan, 'key_retro': 'snydc103', 'key_bbref': 'snydech03', 'key_bbref_minors': np.nan, 'key_fangraphs': np.nan, 'key_npb': np.nan, 'name_last': 'Snyder', 'name_first': 'Chubby', 'name_given': 'Alfred Joseph', 'name_suffix': np.nan, 'name_matrilineal': np.nan, 'name_nick': np.nan, 'birth_year': 1890, 'birth_month': 8, 'birth_day': 20, 'death_year': 1954, 'death_month': 3, 'death_day': 24, 'pro_played_first': 1914, 'pro_played_last': 1914, 'mlb_played_first': 1914, 'mlb_played_last': 1914, 'col_played_first': np.nan, 'col_played_last': np.nan, 'pro_managed_first': np.nan, 'pro_managed_last': np.nan, 'mlb_managed_first': np.nan, 'mlb_managed_last': np.nan, 'col_managed_first': np.nan, 'col_managed_last': np.nan, 'pro_umpired_first': np.nan, 'pro_umpired_last': np.nan, 'mlb_umpired_first': np.nan, 'mlb_umpired_last': np.nan}, {'key_person': np.nan, 'key_uuid': np.nan, 'key_mlbam': np.nan, 'key_retro': 'sullw101', 'key_bbref': 'sulliwi01', 'key_bbref_minors': np.nan, 'key_fangraphs': np.nan, 'key_npb': np.nan, 'name_last': 'Sullivan', 'name_first': 'William', 'name_given': 'William F.', 'name_suffix': np.nan, 'name_matrilineal': np.nan, 'name_nick': np.nan, 'birth_year': 1864, 'birth_month': 3, 'birth_day': 12, 'death_year': 1911, 'death_month': 9, 'death_day': 27, 'pro_played_first': 1884, 'pro_played_last': 1884, 'mlb_played_first': 1884, 'mlb_played_last': 1884, 'col_played_first': np.nan, 'col_played_last': np.nan, 'pro_managed_first': np.nan, 'pro_managed_last': np.nan, 'mlb_managed_first': np.nan, 'mlb_managed_last': np.nan, 'col_managed_first': np.nan, 'col_managed_last': np.nan, 'pro_umpired_first': np.nan, 'pro_umpired_last': np.nan, 'mlb_umpired_first': np.nan, 'mlb_umpired_last': np.nan}, {'key_person': np.nan, 'key_uuid': np.nan, 'key_mlbam': np.nan, 'key_retro': 'tinnt101', 'key_bbref': 'tinneth01', 'key_bbref_minors': np.nan, 'key_fangraphs': np.nan, 'key_npb': np.nan, 'name_last': 'Tinney', 'name_first': 'Thomas', 'name_given': 'Thomas Brown', 'name_suffix': np.nan, 'name_matrilineal': np.nan, 'name_nick': np.nan, 'birth_year': 1855, 'birth_month': np.nan, 'birth_day': np.nan, 'death_year': 1905, 'death_month': 5, 'death_day': 10, 'pro_played_first': 1884, 'pro_played_last': 1884, 'mlb_played_first': 1884, 'mlb_played_last': 1884, 'col_played_first': np.nan, 'col_played_last': np.nan, 'pro_managed_first': np.nan, 'pro_managed_last': np.nan, 'mlb_managed_first': np.nan, 'mlb_managed_last': np.nan, 'col_managed_first': np.nan, 'col_managed_last': np.nan, 'pro_umpired_first': np.nan, 'pro_umpired_last': np.nan, 'mlb_umpired_first': np.nan, 'mlb_umpired_last': np.nan}, {'key_person': np.nan, 'key_uuid': np.nan, 'key_mlbam': np.nan, 'key_retro': 'zeihh101', 'key_bbref': 'zeihehe01', 'key_bbref_minors': np.nan, 'key_fangraphs': np.nan, 'key_npb': np.nan, 'name_last': 'Zeiher', 'name_first': 'Henry', 'name_given': 'Henry', 'name_suffix': np.nan, 'name_matrilineal': np.nan, 'name_nick': np.nan, 'birth_year': 1862, 'birth_month': 8, 'birth_day': 11, 'death_year': 1951, 'death_month': 10, 'death_day': 14, 'pro_played_first': 1886, 'pro_played_last': 1886, 'mlb_played_first': 1886, 'mlb_played_last': 1886, 'col_played_first': np.nan, 'col_played_last': np.nan, 'pro_managed_first': np.nan, 'pro_managed_last': np.nan, 'mlb_managed_first': np.nan, 'mlb_managed_last': np.nan, 'col_managed_first': np.nan, 'col_managed_last': np.nan, 'pro_umpired_first': np.nan, 'pro_umpired_last': np.nan, 'mlb_umpired_first': np.nan, 'mlb_umpired_last': np.nan}])])\n",
    "\n",
    "players_seasons_teams = players_seasons_teams.merge(pid[['key_fangraphs', 'key_bbref']].rename({'key_fangraphs': 'playerIDFG', 'key_bbref': 'playerIDBR'}, axis=1), how='left', on='playerIDFG')\n",
    "players_seasons_teams = players_seasons_teams[(players_seasons_teams['playerIDFG'] != 1003385) | ((players_seasons_teams['playerIDBR'] == 'donneji01') & (players_seasons_teams['franchID'] != 77)) | ((players_seasons_teams['playerIDBR'] == 'donneji02') & (players_seasons_teams['franchID'] == 77))]\n",
    "players_seasons_teams = pd.concat([players_seasons_teams.loc[~players_seasons_teams[['playerIDFG', 'yearID', 'franchID']].apply(tuple, axis=1).isin([(1004721, 1875, 39), (1006527, 1882, 66), (1008591, 1874, 44), (1008591, 1877, 50), (1012248, 1914, 109), (1013900, 1886, 88), (1013001, 1884, 85), (1005252, 1875, 52)]), ['playerIDFG', 'playerIDBR', 'playerIDMLBAM', 'playerName', 'yearID', 'franchID', 'franchName']], pd.DataFrame([{'playerIDFG': np.nan, 'playerIDBR': 'crossjo01', 'playerIDMLBAM': np.nan, 'playerName': 'Joe Cross', 'yearID': 1888, 'franchID': 67, 'franchName': 'Louisville Colonels'}, {'playerIDFG': np.nan, 'playerIDBR': 'gilgahu01', 'playerIDMLBAM': np.nan, 'playerName': 'Hugh Gilgan', 'yearID': 1875, 'franchID': 39, 'franchName': 'Brooklyn Atlantics'}, {'playerIDFG': np.nan, 'playerIDBR': 'jonesda06', 'playerIDMLBAM': np.nan, 'playerName': 'David Jones', 'yearID': 1882, 'franchID': 66, 'franchName': 'Baltimore Orioles'}, {'playerIDFG': np.nan, 'playerIDBR': 'mckenfr01', 'playerIDMLBAM': np.nan, 'playerName': 'Frank McKenna', 'yearID': 1874, 'franchID': 44, 'franchName': 'Philadelphia White Stockings'}, {'playerIDFG': np.nan, 'playerIDBR': 'mckenpa01', 'playerIDMLBAM': np.nan, 'playerName': 'Patrick McKenna', 'yearID': 1877, 'franchID': 50, 'franchName': 'St. Louis Brown Stockings'}, {'playerIDFG': np.nan, 'playerIDBR': 'shafffr01', 'playerIDMLBAM': np.nan, 'playerName': 'Frank Shaffer', 'yearID': 1884, 'franchID': 71, 'franchName': 'Altoona Mountain Citys'}, {'playerIDFG': np.nan, 'playerIDBR': 'snydech03', 'playerIDMLBAM': np.nan, 'playerName': 'Chubby Snyder', 'yearID': 1914, 'franchID': 109, 'franchName': 'Buffalo Bisons'}, {'playerIDFG': np.nan, 'playerIDBR': 'sulliwi01', 'playerIDMLBAM': np.nan, 'playerName': 'William Sullivan', 'yearID': 1884, 'franchID': 81, 'franchName': 'St. Louis Maroons'}, {'playerIDFG': np.nan, 'playerIDBR': 'tinneth01', 'playerIDMLBAM': np.nan, 'playerName': 'Thomas Tinney', 'yearID': 1884, 'franchID': 86, 'franchName': 'Washington Nationals'}, {'playerIDFG': np.nan, 'playerIDBR': 'zeihehe01', 'playerIDMLBAM': np.nan, 'playerName': 'Henry Zeiher', 'yearID': 1886, 'franchID': 88, 'franchName': 'Washington Nationals'}])], ignore_index=True)\n",
    "\n",
    "# players_seasons_teams = players_seasons_teams.sort_values(['yearID', 'franchID', 'playerIDFG'], ignore_index=True)\n",
    "# players_seasons_teams = players_seasons_teams.merge(players_seasons_teams['playerIDFG'].drop_duplicates().to_frame().set_index(pd.RangeIndex(start=1, stop=players_seasons_teams['playerIDFG'].nunique() + 1, name='playerID')).reset_index(), on='playerIDFG')[['yearID', 'franchID', 'playerID', 'playerIDFG', 'playerIDMLBAM', 'playerName', 'franchName']]\n",
    "missing = pid.rename({'key_fangraphs': 'playerIDFG'}, axis=1).loc[~pid['key_fangraphs'].isin(players_seasons_teams['playerIDFG']), 'playerIDFG'].astype(int).tolist()\n",
    "players_seasons_teams\n",
    "# TODO: Deal with Joe/Lave Cross in FanGraphs data on the 1888 Louisville Colonels (67)*\n",
    "# TODO: Deal with Hugh Gilgan in FanGraphs data on the 1875 Brooklyn Atlantics (39); stats currently attributed to Barney Gilligan (1004721)\n",
    "# TODO: Deal with David Jones in FanGraphs data on the 1882 Baltimore Orioles (66); stats currently attributed to Bill Jones (1006527)\n",
    "# TODO: Deal with Frank McKenna in FanGraphs data on the 1874 Philadelphia White Stockings (44); stats currently attributed to Ed McKenna (1008591)\n",
    "# TODO: Deal with Patrick McKenna in FanGraphs data on the 1877 St. Louis Brown Stockings (50); stats currently attributed to Ed McKenna (1008591)\n",
    "# TODO: Deal with Frank Shaffer in FanGraphs data on the 1884 Altoona Mountain Citys (); stats currently attributed to Taylor Shafer (1011784)*\n",
    "# TODO: Deal with Chubby Snyder in FanGraphs data on the 1914 Buffalo Bisons; stats currently attributed to Jack Snyder (1012248)\n",
    "# TODO: Deal with William Sullivan in FanGraphs data on the 1884 St. Louis Maroons; stats currently attributed to Sleeper Sullivan (1012711)*\n",
    "# TODO: Deal with Thomas Tinney in FanGraphs data on the 1884 Washington Nationals; stats currently attributed to Fred Tenney (1012915)*\n",
    "# TODO: Deal with Henry Zeiher in FanGraphs data on the 1886 Washington Nationals; stats currently attributed to Ed Whiting (1013900)"
   ],
   "metadata": {
    "collapsed": false,
    "ExecuteTime": {
     "end_time": "2024-02-17T03:32:04.914065Z",
     "start_time": "2024-02-17T03:31:51.301106Z"
    }
   },
   "id": "1c3614659fdf3619"
  },
  {
   "cell_type": "code",
   "execution_count": 89,
   "outputs": [
    {
     "data": {
      "text/plain": "       playerIDFG playerIDBR  playerIDMLBAM       playerName  yearID  \\\n81861   1001128.0   bohnch01         111157     Charlie Bohn    1882   \n81864   1001191.0  bootham01         111223       Amos Booth    1882   \n81869   1001554.0  brownpe01         111610    Pete Browning    1882   \n81893   1002812.0  crottjo01         112871       Joe Crotty    1882   \n81909   1003620.0  dylerjo01         113687       John Dyler    1882   \n81942   1005573.0  heckegu01         115688       Guy Hecker    1882   \n81972   1007915.0   mackde01         118083       Denny Mack    1882   \n81979   1008213.0  maskrha01         118393    Harry Maskrey    1882   \n81980   1008214.0  maskrle01         118394    Leech Maskrey    1882   \n81983   1008353.0  mccafha01         118534  Harry McCaffery    1882   \n82003   1009291.0  mullato01         119489     Tony Mullane    1882   \n82016   1010328.0  piercgr01         120556    Gracie Pierce    1882   \n82022   1010746.0  reccijo01         120976     John Reccius    1882   \n82023   1010747.0  recciph01         120977   Philip Reccius    1882   \n82037   1011482.0    sayji01         121733        Jimmy Say    1882   \n82042   1011548.0  schenbi01         121798     Bill Schenck    1882   \n82054   1012193.0  smithpo01         122363        Pop Smith    1882   \n82064   1012617.0  stricjo01         122870      John Strick    1882   \n82066   1012687.0  sullida01         122941     Dan Sullivan    1882   \n82097   1014195.0   wolfji01         124509       Jimmy Wolf    1882   \n\n       franchID           franchName  \n81861        67  Louisville Colonels  \n81864        67  Louisville Colonels  \n81869        67  Louisville Colonels  \n81893        67  Louisville Colonels  \n81909        67  Louisville Colonels  \n81942        67  Louisville Colonels  \n81972        67  Louisville Colonels  \n81979        67  Louisville Colonels  \n81980        67  Louisville Colonels  \n81983        67  Louisville Colonels  \n82003        67  Louisville Colonels  \n82016        67  Louisville Colonels  \n82022        67  Louisville Colonels  \n82023        67  Louisville Colonels  \n82037        67  Louisville Colonels  \n82042        67  Louisville Colonels  \n82054        67  Louisville Colonels  \n82064        67  Louisville Colonels  \n82066        67  Louisville Colonels  \n82097        67  Louisville Colonels  ",
      "text/html": "<div>\n<style scoped>\n    .dataframe tbody tr th:only-of-type {\n        vertical-align: middle;\n    }\n\n    .dataframe tbody tr th {\n        vertical-align: top;\n    }\n\n    .dataframe thead th {\n        text-align: right;\n    }\n</style>\n<table border=\"1\" class=\"dataframe\">\n  <thead>\n    <tr style=\"text-align: right;\">\n      <th></th>\n      <th>playerIDFG</th>\n      <th>playerIDBR</th>\n      <th>playerIDMLBAM</th>\n      <th>playerName</th>\n      <th>yearID</th>\n      <th>franchID</th>\n      <th>franchName</th>\n    </tr>\n  </thead>\n  <tbody>\n    <tr>\n      <th>81861</th>\n      <td>1001128.0</td>\n      <td>bohnch01</td>\n      <td>111157</td>\n      <td>Charlie Bohn</td>\n      <td>1882</td>\n      <td>67</td>\n      <td>Louisville Colonels</td>\n    </tr>\n    <tr>\n      <th>81864</th>\n      <td>1001191.0</td>\n      <td>bootham01</td>\n      <td>111223</td>\n      <td>Amos Booth</td>\n      <td>1882</td>\n      <td>67</td>\n      <td>Louisville Colonels</td>\n    </tr>\n    <tr>\n      <th>81869</th>\n      <td>1001554.0</td>\n      <td>brownpe01</td>\n      <td>111610</td>\n      <td>Pete Browning</td>\n      <td>1882</td>\n      <td>67</td>\n      <td>Louisville Colonels</td>\n    </tr>\n    <tr>\n      <th>81893</th>\n      <td>1002812.0</td>\n      <td>crottjo01</td>\n      <td>112871</td>\n      <td>Joe Crotty</td>\n      <td>1882</td>\n      <td>67</td>\n      <td>Louisville Colonels</td>\n    </tr>\n    <tr>\n      <th>81909</th>\n      <td>1003620.0</td>\n      <td>dylerjo01</td>\n      <td>113687</td>\n      <td>John Dyler</td>\n      <td>1882</td>\n      <td>67</td>\n      <td>Louisville Colonels</td>\n    </tr>\n    <tr>\n      <th>81942</th>\n      <td>1005573.0</td>\n      <td>heckegu01</td>\n      <td>115688</td>\n      <td>Guy Hecker</td>\n      <td>1882</td>\n      <td>67</td>\n      <td>Louisville Colonels</td>\n    </tr>\n    <tr>\n      <th>81972</th>\n      <td>1007915.0</td>\n      <td>mackde01</td>\n      <td>118083</td>\n      <td>Denny Mack</td>\n      <td>1882</td>\n      <td>67</td>\n      <td>Louisville Colonels</td>\n    </tr>\n    <tr>\n      <th>81979</th>\n      <td>1008213.0</td>\n      <td>maskrha01</td>\n      <td>118393</td>\n      <td>Harry Maskrey</td>\n      <td>1882</td>\n      <td>67</td>\n      <td>Louisville Colonels</td>\n    </tr>\n    <tr>\n      <th>81980</th>\n      <td>1008214.0</td>\n      <td>maskrle01</td>\n      <td>118394</td>\n      <td>Leech Maskrey</td>\n      <td>1882</td>\n      <td>67</td>\n      <td>Louisville Colonels</td>\n    </tr>\n    <tr>\n      <th>81983</th>\n      <td>1008353.0</td>\n      <td>mccafha01</td>\n      <td>118534</td>\n      <td>Harry McCaffery</td>\n      <td>1882</td>\n      <td>67</td>\n      <td>Louisville Colonels</td>\n    </tr>\n    <tr>\n      <th>82003</th>\n      <td>1009291.0</td>\n      <td>mullato01</td>\n      <td>119489</td>\n      <td>Tony Mullane</td>\n      <td>1882</td>\n      <td>67</td>\n      <td>Louisville Colonels</td>\n    </tr>\n    <tr>\n      <th>82016</th>\n      <td>1010328.0</td>\n      <td>piercgr01</td>\n      <td>120556</td>\n      <td>Gracie Pierce</td>\n      <td>1882</td>\n      <td>67</td>\n      <td>Louisville Colonels</td>\n    </tr>\n    <tr>\n      <th>82022</th>\n      <td>1010746.0</td>\n      <td>reccijo01</td>\n      <td>120976</td>\n      <td>John Reccius</td>\n      <td>1882</td>\n      <td>67</td>\n      <td>Louisville Colonels</td>\n    </tr>\n    <tr>\n      <th>82023</th>\n      <td>1010747.0</td>\n      <td>recciph01</td>\n      <td>120977</td>\n      <td>Philip Reccius</td>\n      <td>1882</td>\n      <td>67</td>\n      <td>Louisville Colonels</td>\n    </tr>\n    <tr>\n      <th>82037</th>\n      <td>1011482.0</td>\n      <td>sayji01</td>\n      <td>121733</td>\n      <td>Jimmy Say</td>\n      <td>1882</td>\n      <td>67</td>\n      <td>Louisville Colonels</td>\n    </tr>\n    <tr>\n      <th>82042</th>\n      <td>1011548.0</td>\n      <td>schenbi01</td>\n      <td>121798</td>\n      <td>Bill Schenck</td>\n      <td>1882</td>\n      <td>67</td>\n      <td>Louisville Colonels</td>\n    </tr>\n    <tr>\n      <th>82054</th>\n      <td>1012193.0</td>\n      <td>smithpo01</td>\n      <td>122363</td>\n      <td>Pop Smith</td>\n      <td>1882</td>\n      <td>67</td>\n      <td>Louisville Colonels</td>\n    </tr>\n    <tr>\n      <th>82064</th>\n      <td>1012617.0</td>\n      <td>stricjo01</td>\n      <td>122870</td>\n      <td>John Strick</td>\n      <td>1882</td>\n      <td>67</td>\n      <td>Louisville Colonels</td>\n    </tr>\n    <tr>\n      <th>82066</th>\n      <td>1012687.0</td>\n      <td>sullida01</td>\n      <td>122941</td>\n      <td>Dan Sullivan</td>\n      <td>1882</td>\n      <td>67</td>\n      <td>Louisville Colonels</td>\n    </tr>\n    <tr>\n      <th>82097</th>\n      <td>1014195.0</td>\n      <td>wolfji01</td>\n      <td>124509</td>\n      <td>Jimmy Wolf</td>\n      <td>1882</td>\n      <td>67</td>\n      <td>Louisville Colonels</td>\n    </tr>\n  </tbody>\n</table>\n</div>"
     },
     "execution_count": 89,
     "metadata": {},
     "output_type": "execute_result"
    }
   ],
   "source": [
    "players_seasons_teams[(players_seasons_teams['yearID'] == 1882) & (players_seasons_teams['franchID'] == 67)]\n",
    "# players_seasons_teams.loc[players_seasons_teams['yearID'] == 1882, 'franchID'].value_counts()"
   ],
   "metadata": {
    "collapsed": false,
    "ExecuteTime": {
     "end_time": "2024-02-16T04:46:14.616696Z",
     "start_time": "2024-02-16T04:46:14.541854Z"
    }
   },
   "id": "2286f839985471c4"
  },
  {
   "cell_type": "code",
   "execution_count": 17,
   "outputs": [
    {
     "data": {
      "text/plain": "        playerIDFG playerIDBR  playerIDMLBAM         playerName  yearID  \\\n0        1000017.0  abercda01       110018.0  Frank Abercrombie    1871   \n1        1000070.0   addybo01       110074.0           Bob Addy    1871   \n2        1000164.0  allisar01       110170.0        Art Allison    1871   \n3        1000168.0  allisdo01       110172.0       Doug Allison    1871   \n4        1000272.0  ansonca01       110284.0          Cap Anson    1871   \n...            ...        ...            ...                ...     ...   \n154881     15094.0  zastrro01       642239.0      Rob Zastryzny    2023   \n154883     22717.0  zerpaan01       672582.0        Angel Zerpa    2023   \n154884     20370.0  zimmebr02       669145.0   Bruce Zimmermann    2023   \n154885     19588.0  zuniggu01       670871.0   Guillermo Zuñiga    2023   \n207263     20391.0  garcilu04       671277.0    Luis García Jr.    2023   \n\n        franchID teamAbrBR     PA  \n0             37       TRO    4.0  \n1             36       ROK  122.0  \n2             32       CLE  139.0  \n3             35       OLY  133.0  \n4             36       ROK  122.0  \n...          ...       ...    ...  \n154881         4       PIT    NaN  \n154883        21       KCR    NaN  \n154884         9       BAL    NaN  \n154885         5       STL    NaN  \n207263        23       WSN    NaN  \n\n[113721 rows x 8 columns]",
      "text/html": "<div>\n<style scoped>\n    .dataframe tbody tr th:only-of-type {\n        vertical-align: middle;\n    }\n\n    .dataframe tbody tr th {\n        vertical-align: top;\n    }\n\n    .dataframe thead th {\n        text-align: right;\n    }\n</style>\n<table border=\"1\" class=\"dataframe\">\n  <thead>\n    <tr style=\"text-align: right;\">\n      <th></th>\n      <th>playerIDFG</th>\n      <th>playerIDBR</th>\n      <th>playerIDMLBAM</th>\n      <th>playerName</th>\n      <th>yearID</th>\n      <th>franchID</th>\n      <th>teamAbrBR</th>\n      <th>PA</th>\n    </tr>\n  </thead>\n  <tbody>\n    <tr>\n      <th>0</th>\n      <td>1000017.0</td>\n      <td>abercda01</td>\n      <td>110018.0</td>\n      <td>Frank Abercrombie</td>\n      <td>1871</td>\n      <td>37</td>\n      <td>TRO</td>\n      <td>4.0</td>\n    </tr>\n    <tr>\n      <th>1</th>\n      <td>1000070.0</td>\n      <td>addybo01</td>\n      <td>110074.0</td>\n      <td>Bob Addy</td>\n      <td>1871</td>\n      <td>36</td>\n      <td>ROK</td>\n      <td>122.0</td>\n    </tr>\n    <tr>\n      <th>2</th>\n      <td>1000164.0</td>\n      <td>allisar01</td>\n      <td>110170.0</td>\n      <td>Art Allison</td>\n      <td>1871</td>\n      <td>32</td>\n      <td>CLE</td>\n      <td>139.0</td>\n    </tr>\n    <tr>\n      <th>3</th>\n      <td>1000168.0</td>\n      <td>allisdo01</td>\n      <td>110172.0</td>\n      <td>Doug Allison</td>\n      <td>1871</td>\n      <td>35</td>\n      <td>OLY</td>\n      <td>133.0</td>\n    </tr>\n    <tr>\n      <th>4</th>\n      <td>1000272.0</td>\n      <td>ansonca01</td>\n      <td>110284.0</td>\n      <td>Cap Anson</td>\n      <td>1871</td>\n      <td>36</td>\n      <td>ROK</td>\n      <td>122.0</td>\n    </tr>\n    <tr>\n      <th>...</th>\n      <td>...</td>\n      <td>...</td>\n      <td>...</td>\n      <td>...</td>\n      <td>...</td>\n      <td>...</td>\n      <td>...</td>\n      <td>...</td>\n    </tr>\n    <tr>\n      <th>154881</th>\n      <td>15094.0</td>\n      <td>zastrro01</td>\n      <td>642239.0</td>\n      <td>Rob Zastryzny</td>\n      <td>2023</td>\n      <td>4</td>\n      <td>PIT</td>\n      <td>NaN</td>\n    </tr>\n    <tr>\n      <th>154883</th>\n      <td>22717.0</td>\n      <td>zerpaan01</td>\n      <td>672582.0</td>\n      <td>Angel Zerpa</td>\n      <td>2023</td>\n      <td>21</td>\n      <td>KCR</td>\n      <td>NaN</td>\n    </tr>\n    <tr>\n      <th>154884</th>\n      <td>20370.0</td>\n      <td>zimmebr02</td>\n      <td>669145.0</td>\n      <td>Bruce Zimmermann</td>\n      <td>2023</td>\n      <td>9</td>\n      <td>BAL</td>\n      <td>NaN</td>\n    </tr>\n    <tr>\n      <th>154885</th>\n      <td>19588.0</td>\n      <td>zuniggu01</td>\n      <td>670871.0</td>\n      <td>Guillermo Zuñiga</td>\n      <td>2023</td>\n      <td>5</td>\n      <td>STL</td>\n      <td>NaN</td>\n    </tr>\n    <tr>\n      <th>207263</th>\n      <td>20391.0</td>\n      <td>garcilu04</td>\n      <td>671277.0</td>\n      <td>Luis García Jr.</td>\n      <td>2023</td>\n      <td>23</td>\n      <td>WSN</td>\n      <td>NaN</td>\n    </tr>\n  </tbody>\n</table>\n<p>113721 rows × 8 columns</p>\n</div>"
     },
     "execution_count": 17,
     "metadata": {},
     "output_type": "execute_result"
    }
   ],
   "source": [
    "bref = pd.concat([pd.read_csv('bref_standard_batting.csv')[['PlayerName', 'PlayerID', 'Season', 'Team', 'PA']], pd.read_csv('bref_standard_pitching.csv')[['PlayerName', 'PlayerID', 'Season', 'Team']], pd.read_csv('bref_standard_fielding.csv')[['PlayerName', 'PlayerID', 'Season', 'Team']]], ignore_index=True).rename({'PlayerName': 'playerName', 'PlayerID': 'playerIDBR', 'Season': 'yearID', 'Team': 'teamAbrBR'}, axis=1).drop_duplicates(ignore_index=True).merge(pid[['key_fangraphs', 'key_bbref', 'key_mlbam']].rename({'key_fangraphs': 'playerIDFG', 'key_bbref': 'playerIDBR', 'key_mlbam': 'playerIDMLBAM'}, axis=1), on='playerIDBR').merge(pd.read_csv('Database/teams.csv')[['yearID', 'franchID', 'teamAbrBR']], on=['yearID', 'teamAbrBR'])[['playerIDFG', 'playerIDBR', 'playerIDMLBAM', 'playerName', 'yearID', 'franchID', 'teamAbrBR', 'PA']].drop_duplicates(subset=['playerIDFG', 'playerIDBR', 'playerIDMLBAM', 'playerName', 'yearID', 'franchID', 'teamAbrBR'])\n",
    "bref"
   ],
   "metadata": {
    "collapsed": false,
    "ExecuteTime": {
     "end_time": "2024-02-17T03:39:27.347522Z",
     "start_time": "2024-02-17T03:39:24.459875Z"
    }
   },
   "id": "6b5650f9e5c5de6f"
  },
  {
   "cell_type": "code",
   "execution_count": 29,
   "outputs": [
    {
     "data": {
      "text/plain": "(20729, 23114)"
     },
     "execution_count": 29,
     "metadata": {},
     "output_type": "execute_result"
    }
   ],
   "source": [
    "len(set(bref['playerIDBR'].dropna().unique())), len(set(pid['key_bbref'].dropna().unique()))"
   ],
   "metadata": {
    "collapsed": false,
    "ExecuteTime": {
     "end_time": "2024-02-17T03:59:18.225300Z",
     "start_time": "2024-02-17T03:59:18.151247Z"
    }
   },
   "id": "29a8a0d9dae62cce"
  },
  {
   "cell_type": "code",
   "execution_count": 21,
   "outputs": [
    {
     "data": {
      "text/plain": "       playerIDFG playerIDBR  playerIDMLBAM    playerNameBR  yearID  franchID  \\\n1570    1008786.0  merried01       118972.0      Ed Merrill    1882        67   \n3263    1006632.0    joyce01       116775.0    George Joyce    1886        88   \n3543    1004186.0  flynnjo02       114267.0     Jocko Flynn    1887         2   \n8760    1007984.0  maharfr01       118156.0     Frank Mahar    1902         6   \n9882    1003916.0  falloch01       113992.0  Charlie Fallon    1905        16   \n...           ...        ...            ...             ...     ...       ...   \n45983   1005373.0  harmote01       115486.0    Terry Harmon    1967         6   \n46144   1008136.0  marshda01       118315.0   Dave Marshall    1967         7   \n48688   1008486.0  mcfadle01       118669.0   Leon McFadden    1970        19   \n49852   1012852.0  taverfr01       123121.0   Frank Taveras    1971         4   \n70763        52.0  counscr01       112736.0  Craig Counsell    1997        27   \n\n      teamAbrBR   PA playerNameFG franchName  \n1570        LOU  0.0          NaN        NaN  \n3263        WHS  0.0          NaN        NaN  \n3543        CHC  0.0          NaN        NaN  \n8760        PHI  0.0          NaN        NaN  \n9882        NYY  0.0          NaN        NaN  \n...         ...  ...          ...        ...  \n45983       PHI  0.0          NaN        NaN  \n46144       SFG  0.0          NaN        NaN  \n48688       HOU  0.0          NaN        NaN  \n49852       PIT  0.0          NaN        NaN  \n70763       COL  0.0          NaN        NaN  \n\n[94 rows x 10 columns]",
      "text/html": "<div>\n<style scoped>\n    .dataframe tbody tr th:only-of-type {\n        vertical-align: middle;\n    }\n\n    .dataframe tbody tr th {\n        vertical-align: top;\n    }\n\n    .dataframe thead th {\n        text-align: right;\n    }\n</style>\n<table border=\"1\" class=\"dataframe\">\n  <thead>\n    <tr style=\"text-align: right;\">\n      <th></th>\n      <th>playerIDFG</th>\n      <th>playerIDBR</th>\n      <th>playerIDMLBAM</th>\n      <th>playerNameBR</th>\n      <th>yearID</th>\n      <th>franchID</th>\n      <th>teamAbrBR</th>\n      <th>PA</th>\n      <th>playerNameFG</th>\n      <th>franchName</th>\n    </tr>\n  </thead>\n  <tbody>\n    <tr>\n      <th>1570</th>\n      <td>1008786.0</td>\n      <td>merried01</td>\n      <td>118972.0</td>\n      <td>Ed Merrill</td>\n      <td>1882</td>\n      <td>67</td>\n      <td>LOU</td>\n      <td>0.0</td>\n      <td>NaN</td>\n      <td>NaN</td>\n    </tr>\n    <tr>\n      <th>3263</th>\n      <td>1006632.0</td>\n      <td>joyce01</td>\n      <td>116775.0</td>\n      <td>George Joyce</td>\n      <td>1886</td>\n      <td>88</td>\n      <td>WHS</td>\n      <td>0.0</td>\n      <td>NaN</td>\n      <td>NaN</td>\n    </tr>\n    <tr>\n      <th>3543</th>\n      <td>1004186.0</td>\n      <td>flynnjo02</td>\n      <td>114267.0</td>\n      <td>Jocko Flynn</td>\n      <td>1887</td>\n      <td>2</td>\n      <td>CHC</td>\n      <td>0.0</td>\n      <td>NaN</td>\n      <td>NaN</td>\n    </tr>\n    <tr>\n      <th>8760</th>\n      <td>1007984.0</td>\n      <td>maharfr01</td>\n      <td>118156.0</td>\n      <td>Frank Mahar</td>\n      <td>1902</td>\n      <td>6</td>\n      <td>PHI</td>\n      <td>0.0</td>\n      <td>NaN</td>\n      <td>NaN</td>\n    </tr>\n    <tr>\n      <th>9882</th>\n      <td>1003916.0</td>\n      <td>falloch01</td>\n      <td>113992.0</td>\n      <td>Charlie Fallon</td>\n      <td>1905</td>\n      <td>16</td>\n      <td>NYY</td>\n      <td>0.0</td>\n      <td>NaN</td>\n      <td>NaN</td>\n    </tr>\n    <tr>\n      <th>...</th>\n      <td>...</td>\n      <td>...</td>\n      <td>...</td>\n      <td>...</td>\n      <td>...</td>\n      <td>...</td>\n      <td>...</td>\n      <td>...</td>\n      <td>...</td>\n      <td>...</td>\n    </tr>\n    <tr>\n      <th>45983</th>\n      <td>1005373.0</td>\n      <td>harmote01</td>\n      <td>115486.0</td>\n      <td>Terry Harmon</td>\n      <td>1967</td>\n      <td>6</td>\n      <td>PHI</td>\n      <td>0.0</td>\n      <td>NaN</td>\n      <td>NaN</td>\n    </tr>\n    <tr>\n      <th>46144</th>\n      <td>1008136.0</td>\n      <td>marshda01</td>\n      <td>118315.0</td>\n      <td>Dave Marshall</td>\n      <td>1967</td>\n      <td>7</td>\n      <td>SFG</td>\n      <td>0.0</td>\n      <td>NaN</td>\n      <td>NaN</td>\n    </tr>\n    <tr>\n      <th>48688</th>\n      <td>1008486.0</td>\n      <td>mcfadle01</td>\n      <td>118669.0</td>\n      <td>Leon McFadden</td>\n      <td>1970</td>\n      <td>19</td>\n      <td>HOU</td>\n      <td>0.0</td>\n      <td>NaN</td>\n      <td>NaN</td>\n    </tr>\n    <tr>\n      <th>49852</th>\n      <td>1012852.0</td>\n      <td>taverfr01</td>\n      <td>123121.0</td>\n      <td>Frank Taveras</td>\n      <td>1971</td>\n      <td>4</td>\n      <td>PIT</td>\n      <td>0.0</td>\n      <td>NaN</td>\n      <td>NaN</td>\n    </tr>\n    <tr>\n      <th>70763</th>\n      <td>52.0</td>\n      <td>counscr01</td>\n      <td>112736.0</td>\n      <td>Craig Counsell</td>\n      <td>1997</td>\n      <td>27</td>\n      <td>COL</td>\n      <td>0.0</td>\n      <td>NaN</td>\n      <td>NaN</td>\n    </tr>\n  </tbody>\n</table>\n<p>94 rows × 10 columns</p>\n</div>"
     },
     "execution_count": 21,
     "metadata": {},
     "output_type": "execute_result"
    }
   ],
   "source": [
    "bref.merge(players_seasons_teams, how='left', on=['playerIDFG', 'playerIDBR', 'playerIDMLBAM', 'yearID', 'franchID'], suffixes=('BR', 'FG')).query('playerNameFG.isna() & PA == 0')"
   ],
   "metadata": {
    "collapsed": false,
    "ExecuteTime": {
     "end_time": "2024-02-17T03:45:31.773776Z",
     "start_time": "2024-02-17T03:45:31.618918Z"
    }
   },
   "id": "54162b50ee6a7c85"
  },
  {
   "cell_type": "code",
   "execution_count": 106,
   "outputs": [
    {
     "data": {
      "text/plain": "          PlayerName   PlayerID  Season Team League Throws  G  PA  AB  R  ...  \\\n0         Ed Merrill  merried01    1882  LOU     AA    NaN  1   0   0  0  ...   \n5    Charlie Bastian  bastich01    1891  PHI     NL      R  1   0   0  0  ...   \n10     Jiggs Donahue  donahji02    1901  PIT     NL      L  2   0   0  0  ...   \n12      Doc Marshall  marshdo01    1904  NYG     NL      R  1   0   0  0  ...   \n13     Frank McManus  mcmanfr01    1904  DET     AL      R  1   0   0  0  ...   \n..               ...        ...     ...  ...    ...    ... ..  ..  .. ..  ...   \n272       Ian Miller  milleia01    2020  CHC     NL      L  1   0   0  0  ...   \n275     Rylan Bannon  bannory01    2022  ATL     NL      R  1   0   0  0  ...   \n277    Matt Reynolds  reynoma03    2022  NYM     NL      R  1   0   0  0  ...   \n278   Yolmer Sanchez  sanchca01    2022  NYM     NL      B  3   0   0  0  ...   \n281       Nick Solak  solakni01    2023  DET     AL      R  1   0   0  0  ...   \n\n     OPS  OPS+  TB  GDP  HBP   SH   SF  IBB  Position  Inn  \n0    NaN   NaN   0  NaN  NaN  NaN  NaN  NaN        /O  NaN  \n5    NaN   NaN   0  NaN  0.0  NaN  NaN  NaN        /6  NaN  \n10   NaN   NaN   0  NaN  0.0  0.0  NaN  NaN       /27  NaN  \n12   NaN   NaN   0  NaN  0.0  0.0  NaN  NaN    /H2479  NaN  \n13   NaN   NaN   0  NaN  0.0  0.0  NaN  NaN        /2  NaN  \n..   ...   ...  ..  ...  ...  ...  ...  ...       ...  ...  \n272  NaN   NaN   0  0.0  0.0  0.0  0.0  0.0        /H  NaN  \n275  NaN   NaN   0  0.0  0.0  0.0  0.0  0.0        /4  NaN  \n277  NaN   NaN   0  0.0  0.0  0.0  0.0  0.0        /9  NaN  \n278  NaN   NaN   0  0.0  0.0  0.0  0.0  0.0      /5H6  NaN  \n281  NaN   NaN   0  0.0  0.0  0.0  0.0  0.0       /DH  NaN  \n\n[118 rows x 32 columns]",
      "text/html": "<div>\n<style scoped>\n    .dataframe tbody tr th:only-of-type {\n        vertical-align: middle;\n    }\n\n    .dataframe tbody tr th {\n        vertical-align: top;\n    }\n\n    .dataframe thead th {\n        text-align: right;\n    }\n</style>\n<table border=\"1\" class=\"dataframe\">\n  <thead>\n    <tr style=\"text-align: right;\">\n      <th></th>\n      <th>PlayerName</th>\n      <th>PlayerID</th>\n      <th>Season</th>\n      <th>Team</th>\n      <th>League</th>\n      <th>Throws</th>\n      <th>G</th>\n      <th>PA</th>\n      <th>AB</th>\n      <th>R</th>\n      <th>...</th>\n      <th>OPS</th>\n      <th>OPS+</th>\n      <th>TB</th>\n      <th>GDP</th>\n      <th>HBP</th>\n      <th>SH</th>\n      <th>SF</th>\n      <th>IBB</th>\n      <th>Position</th>\n      <th>Inn</th>\n    </tr>\n  </thead>\n  <tbody>\n    <tr>\n      <th>0</th>\n      <td>Ed Merrill</td>\n      <td>merried01</td>\n      <td>1882</td>\n      <td>LOU</td>\n      <td>AA</td>\n      <td>NaN</td>\n      <td>1</td>\n      <td>0</td>\n      <td>0</td>\n      <td>0</td>\n      <td>...</td>\n      <td>NaN</td>\n      <td>NaN</td>\n      <td>0</td>\n      <td>NaN</td>\n      <td>NaN</td>\n      <td>NaN</td>\n      <td>NaN</td>\n      <td>NaN</td>\n      <td>/O</td>\n      <td>NaN</td>\n    </tr>\n    <tr>\n      <th>5</th>\n      <td>Charlie Bastian</td>\n      <td>bastich01</td>\n      <td>1891</td>\n      <td>PHI</td>\n      <td>NL</td>\n      <td>R</td>\n      <td>1</td>\n      <td>0</td>\n      <td>0</td>\n      <td>0</td>\n      <td>...</td>\n      <td>NaN</td>\n      <td>NaN</td>\n      <td>0</td>\n      <td>NaN</td>\n      <td>0.0</td>\n      <td>NaN</td>\n      <td>NaN</td>\n      <td>NaN</td>\n      <td>/6</td>\n      <td>NaN</td>\n    </tr>\n    <tr>\n      <th>10</th>\n      <td>Jiggs Donahue</td>\n      <td>donahji02</td>\n      <td>1901</td>\n      <td>PIT</td>\n      <td>NL</td>\n      <td>L</td>\n      <td>2</td>\n      <td>0</td>\n      <td>0</td>\n      <td>0</td>\n      <td>...</td>\n      <td>NaN</td>\n      <td>NaN</td>\n      <td>0</td>\n      <td>NaN</td>\n      <td>0.0</td>\n      <td>0.0</td>\n      <td>NaN</td>\n      <td>NaN</td>\n      <td>/27</td>\n      <td>NaN</td>\n    </tr>\n    <tr>\n      <th>12</th>\n      <td>Doc Marshall</td>\n      <td>marshdo01</td>\n      <td>1904</td>\n      <td>NYG</td>\n      <td>NL</td>\n      <td>R</td>\n      <td>1</td>\n      <td>0</td>\n      <td>0</td>\n      <td>0</td>\n      <td>...</td>\n      <td>NaN</td>\n      <td>NaN</td>\n      <td>0</td>\n      <td>NaN</td>\n      <td>0.0</td>\n      <td>0.0</td>\n      <td>NaN</td>\n      <td>NaN</td>\n      <td>/H2479</td>\n      <td>NaN</td>\n    </tr>\n    <tr>\n      <th>13</th>\n      <td>Frank McManus</td>\n      <td>mcmanfr01</td>\n      <td>1904</td>\n      <td>DET</td>\n      <td>AL</td>\n      <td>R</td>\n      <td>1</td>\n      <td>0</td>\n      <td>0</td>\n      <td>0</td>\n      <td>...</td>\n      <td>NaN</td>\n      <td>NaN</td>\n      <td>0</td>\n      <td>NaN</td>\n      <td>0.0</td>\n      <td>0.0</td>\n      <td>NaN</td>\n      <td>NaN</td>\n      <td>/2</td>\n      <td>NaN</td>\n    </tr>\n    <tr>\n      <th>...</th>\n      <td>...</td>\n      <td>...</td>\n      <td>...</td>\n      <td>...</td>\n      <td>...</td>\n      <td>...</td>\n      <td>...</td>\n      <td>...</td>\n      <td>...</td>\n      <td>...</td>\n      <td>...</td>\n      <td>...</td>\n      <td>...</td>\n      <td>...</td>\n      <td>...</td>\n      <td>...</td>\n      <td>...</td>\n      <td>...</td>\n      <td>...</td>\n      <td>...</td>\n      <td>...</td>\n    </tr>\n    <tr>\n      <th>272</th>\n      <td>Ian Miller</td>\n      <td>milleia01</td>\n      <td>2020</td>\n      <td>CHC</td>\n      <td>NL</td>\n      <td>L</td>\n      <td>1</td>\n      <td>0</td>\n      <td>0</td>\n      <td>0</td>\n      <td>...</td>\n      <td>NaN</td>\n      <td>NaN</td>\n      <td>0</td>\n      <td>0.0</td>\n      <td>0.0</td>\n      <td>0.0</td>\n      <td>0.0</td>\n      <td>0.0</td>\n      <td>/H</td>\n      <td>NaN</td>\n    </tr>\n    <tr>\n      <th>275</th>\n      <td>Rylan Bannon</td>\n      <td>bannory01</td>\n      <td>2022</td>\n      <td>ATL</td>\n      <td>NL</td>\n      <td>R</td>\n      <td>1</td>\n      <td>0</td>\n      <td>0</td>\n      <td>0</td>\n      <td>...</td>\n      <td>NaN</td>\n      <td>NaN</td>\n      <td>0</td>\n      <td>0.0</td>\n      <td>0.0</td>\n      <td>0.0</td>\n      <td>0.0</td>\n      <td>0.0</td>\n      <td>/4</td>\n      <td>NaN</td>\n    </tr>\n    <tr>\n      <th>277</th>\n      <td>Matt Reynolds</td>\n      <td>reynoma03</td>\n      <td>2022</td>\n      <td>NYM</td>\n      <td>NL</td>\n      <td>R</td>\n      <td>1</td>\n      <td>0</td>\n      <td>0</td>\n      <td>0</td>\n      <td>...</td>\n      <td>NaN</td>\n      <td>NaN</td>\n      <td>0</td>\n      <td>0.0</td>\n      <td>0.0</td>\n      <td>0.0</td>\n      <td>0.0</td>\n      <td>0.0</td>\n      <td>/9</td>\n      <td>NaN</td>\n    </tr>\n    <tr>\n      <th>278</th>\n      <td>Yolmer Sanchez</td>\n      <td>sanchca01</td>\n      <td>2022</td>\n      <td>NYM</td>\n      <td>NL</td>\n      <td>B</td>\n      <td>3</td>\n      <td>0</td>\n      <td>0</td>\n      <td>0</td>\n      <td>...</td>\n      <td>NaN</td>\n      <td>NaN</td>\n      <td>0</td>\n      <td>0.0</td>\n      <td>0.0</td>\n      <td>0.0</td>\n      <td>0.0</td>\n      <td>0.0</td>\n      <td>/5H6</td>\n      <td>NaN</td>\n    </tr>\n    <tr>\n      <th>281</th>\n      <td>Nick Solak</td>\n      <td>solakni01</td>\n      <td>2023</td>\n      <td>DET</td>\n      <td>AL</td>\n      <td>R</td>\n      <td>1</td>\n      <td>0</td>\n      <td>0</td>\n      <td>0</td>\n      <td>...</td>\n      <td>NaN</td>\n      <td>NaN</td>\n      <td>0</td>\n      <td>0.0</td>\n      <td>0.0</td>\n      <td>0.0</td>\n      <td>0.0</td>\n      <td>0.0</td>\n      <td>/DH</td>\n      <td>NaN</td>\n    </tr>\n  </tbody>\n</table>\n<p>118 rows × 32 columns</p>\n</div>"
     },
     "execution_count": 106,
     "metadata": {},
     "output_type": "execute_result"
    }
   ],
   "source": [
    "pd.read_csv('bref_standard_batting.csv').query('PA + R == 0').merge(pd.read_csv('bref_standard_pitching.csv')[['PlayerName', 'PlayerID', 'Season', 'Team', 'League', 'BF']], how='left', on=['PlayerName', 'PlayerID', 'Season', 'Team', 'League']).query('BF.isna()').drop('BF', axis=1).merge(pd.read_csv('bref_standard_fielding.csv')[['PlayerName', 'PlayerID', 'Season', 'Team', 'League', 'Inn']], how='left', on=['PlayerName', 'PlayerID', 'Season', 'Team', 'League']).query('Inn.isna()')"
   ],
   "metadata": {
    "collapsed": false,
    "ExecuteTime": {
     "end_time": "2024-02-16T05:23:10.306561Z",
     "start_time": "2024-02-16T05:23:08.001735Z"
    }
   },
   "id": "9fe5338911824f5a"
  },
  {
   "cell_type": "code",
   "execution_count": null,
   "outputs": [],
   "source": [],
   "metadata": {
    "collapsed": false
   },
   "id": "eb407e81dfdb4dfe"
  },
  {
   "cell_type": "code",
   "execution_count": 90,
   "outputs": [
    {
     "data": {
      "text/plain": "      playerIDFG playerIDBR  playerIDMLBAM     playerNameBR  yearID  franchID  \\\n1437   1001128.0   bohnch01       111157.0     Charlie Bohn    1882        67   \n1440   1001191.0  bootham01       111223.0       Amos Booth    1882        67   \n1446   1001554.0  brownpe01       111610.0    Pete Browning    1882        67   \n1468   1002812.0  crottjo01       112871.0       Joe Crotty    1882        67   \n1485   1003620.0  dylerjo01       113687.0       John Dyler    1882        67   \n1518   1005573.0  heckegu01       115688.0       Guy Hecker    1882        67   \n1549   1007915.0   mackde01       118083.0       Denny Mack    1882        67   \n1556   1008213.0  maskrha01       118393.0    Harry Maskrey    1882        67   \n1557   1008214.0  maskrle01       118394.0    Leech Maskrey    1882        67   \n1560   1008353.0  mccafha01       118534.0  Harry McCaffery    1882        67   \n1570   1008786.0  merried01       118972.0       Ed Merrill    1882        67   \n1581   1009291.0  mullato01       119489.0     Tony Mullane    1882        67   \n1593   1010328.0  piercgr01       120556.0    Gracie Pierce    1882        67   \n1600   1010746.0  reccijo01       120976.0     John Reccius    1882        67   \n1601   1010747.0  recciph01       120977.0     Phil Reccius    1882        67   \n1616   1011482.0    sayji01       121733.0        Jimmy Say    1882        67   \n1620   1011548.0  schenbi01       121798.0     Bill Schenck    1882        67   \n1633   1012193.0  smithpo01       122363.0        Pop Smith    1882        67   \n1641   1012617.0  stricjo01       122870.0   Charles Strick    1882        67   \n1644   1012687.0  sullida01       122941.0     Dan Sullivan    1882        67   \n1675   1014195.0   wolfji01       124509.0     Chicken Wolf    1882        67   \n\n     teamAbrBR     playerNameFG           franchName  \n1437       LOU     Charlie Bohn  Louisville Colonels  \n1440       LOU       Amos Booth  Louisville Colonels  \n1446       LOU    Pete Browning  Louisville Colonels  \n1468       LOU       Joe Crotty  Louisville Colonels  \n1485       LOU       John Dyler  Louisville Colonels  \n1518       LOU       Guy Hecker  Louisville Colonels  \n1549       LOU       Denny Mack  Louisville Colonels  \n1556       LOU    Harry Maskrey  Louisville Colonels  \n1557       LOU    Leech Maskrey  Louisville Colonels  \n1560       LOU  Harry McCaffery  Louisville Colonels  \n1570       LOU              NaN                  NaN  \n1581       LOU     Tony Mullane  Louisville Colonels  \n1593       LOU    Gracie Pierce  Louisville Colonels  \n1600       LOU     John Reccius  Louisville Colonels  \n1601       LOU   Philip Reccius  Louisville Colonels  \n1616       LOU        Jimmy Say  Louisville Colonels  \n1620       LOU     Bill Schenck  Louisville Colonels  \n1633       LOU        Pop Smith  Louisville Colonels  \n1641       LOU      John Strick  Louisville Colonels  \n1644       LOU     Dan Sullivan  Louisville Colonels  \n1675       LOU       Jimmy Wolf  Louisville Colonels  ",
      "text/html": "<div>\n<style scoped>\n    .dataframe tbody tr th:only-of-type {\n        vertical-align: middle;\n    }\n\n    .dataframe tbody tr th {\n        vertical-align: top;\n    }\n\n    .dataframe thead th {\n        text-align: right;\n    }\n</style>\n<table border=\"1\" class=\"dataframe\">\n  <thead>\n    <tr style=\"text-align: right;\">\n      <th></th>\n      <th>playerIDFG</th>\n      <th>playerIDBR</th>\n      <th>playerIDMLBAM</th>\n      <th>playerNameBR</th>\n      <th>yearID</th>\n      <th>franchID</th>\n      <th>teamAbrBR</th>\n      <th>playerNameFG</th>\n      <th>franchName</th>\n    </tr>\n  </thead>\n  <tbody>\n    <tr>\n      <th>1437</th>\n      <td>1001128.0</td>\n      <td>bohnch01</td>\n      <td>111157.0</td>\n      <td>Charlie Bohn</td>\n      <td>1882</td>\n      <td>67</td>\n      <td>LOU</td>\n      <td>Charlie Bohn</td>\n      <td>Louisville Colonels</td>\n    </tr>\n    <tr>\n      <th>1440</th>\n      <td>1001191.0</td>\n      <td>bootham01</td>\n      <td>111223.0</td>\n      <td>Amos Booth</td>\n      <td>1882</td>\n      <td>67</td>\n      <td>LOU</td>\n      <td>Amos Booth</td>\n      <td>Louisville Colonels</td>\n    </tr>\n    <tr>\n      <th>1446</th>\n      <td>1001554.0</td>\n      <td>brownpe01</td>\n      <td>111610.0</td>\n      <td>Pete Browning</td>\n      <td>1882</td>\n      <td>67</td>\n      <td>LOU</td>\n      <td>Pete Browning</td>\n      <td>Louisville Colonels</td>\n    </tr>\n    <tr>\n      <th>1468</th>\n      <td>1002812.0</td>\n      <td>crottjo01</td>\n      <td>112871.0</td>\n      <td>Joe Crotty</td>\n      <td>1882</td>\n      <td>67</td>\n      <td>LOU</td>\n      <td>Joe Crotty</td>\n      <td>Louisville Colonels</td>\n    </tr>\n    <tr>\n      <th>1485</th>\n      <td>1003620.0</td>\n      <td>dylerjo01</td>\n      <td>113687.0</td>\n      <td>John Dyler</td>\n      <td>1882</td>\n      <td>67</td>\n      <td>LOU</td>\n      <td>John Dyler</td>\n      <td>Louisville Colonels</td>\n    </tr>\n    <tr>\n      <th>1518</th>\n      <td>1005573.0</td>\n      <td>heckegu01</td>\n      <td>115688.0</td>\n      <td>Guy Hecker</td>\n      <td>1882</td>\n      <td>67</td>\n      <td>LOU</td>\n      <td>Guy Hecker</td>\n      <td>Louisville Colonels</td>\n    </tr>\n    <tr>\n      <th>1549</th>\n      <td>1007915.0</td>\n      <td>mackde01</td>\n      <td>118083.0</td>\n      <td>Denny Mack</td>\n      <td>1882</td>\n      <td>67</td>\n      <td>LOU</td>\n      <td>Denny Mack</td>\n      <td>Louisville Colonels</td>\n    </tr>\n    <tr>\n      <th>1556</th>\n      <td>1008213.0</td>\n      <td>maskrha01</td>\n      <td>118393.0</td>\n      <td>Harry Maskrey</td>\n      <td>1882</td>\n      <td>67</td>\n      <td>LOU</td>\n      <td>Harry Maskrey</td>\n      <td>Louisville Colonels</td>\n    </tr>\n    <tr>\n      <th>1557</th>\n      <td>1008214.0</td>\n      <td>maskrle01</td>\n      <td>118394.0</td>\n      <td>Leech Maskrey</td>\n      <td>1882</td>\n      <td>67</td>\n      <td>LOU</td>\n      <td>Leech Maskrey</td>\n      <td>Louisville Colonels</td>\n    </tr>\n    <tr>\n      <th>1560</th>\n      <td>1008353.0</td>\n      <td>mccafha01</td>\n      <td>118534.0</td>\n      <td>Harry McCaffery</td>\n      <td>1882</td>\n      <td>67</td>\n      <td>LOU</td>\n      <td>Harry McCaffery</td>\n      <td>Louisville Colonels</td>\n    </tr>\n    <tr>\n      <th>1570</th>\n      <td>1008786.0</td>\n      <td>merried01</td>\n      <td>118972.0</td>\n      <td>Ed Merrill</td>\n      <td>1882</td>\n      <td>67</td>\n      <td>LOU</td>\n      <td>NaN</td>\n      <td>NaN</td>\n    </tr>\n    <tr>\n      <th>1581</th>\n      <td>1009291.0</td>\n      <td>mullato01</td>\n      <td>119489.0</td>\n      <td>Tony Mullane</td>\n      <td>1882</td>\n      <td>67</td>\n      <td>LOU</td>\n      <td>Tony Mullane</td>\n      <td>Louisville Colonels</td>\n    </tr>\n    <tr>\n      <th>1593</th>\n      <td>1010328.0</td>\n      <td>piercgr01</td>\n      <td>120556.0</td>\n      <td>Gracie Pierce</td>\n      <td>1882</td>\n      <td>67</td>\n      <td>LOU</td>\n      <td>Gracie Pierce</td>\n      <td>Louisville Colonels</td>\n    </tr>\n    <tr>\n      <th>1600</th>\n      <td>1010746.0</td>\n      <td>reccijo01</td>\n      <td>120976.0</td>\n      <td>John Reccius</td>\n      <td>1882</td>\n      <td>67</td>\n      <td>LOU</td>\n      <td>John Reccius</td>\n      <td>Louisville Colonels</td>\n    </tr>\n    <tr>\n      <th>1601</th>\n      <td>1010747.0</td>\n      <td>recciph01</td>\n      <td>120977.0</td>\n      <td>Phil Reccius</td>\n      <td>1882</td>\n      <td>67</td>\n      <td>LOU</td>\n      <td>Philip Reccius</td>\n      <td>Louisville Colonels</td>\n    </tr>\n    <tr>\n      <th>1616</th>\n      <td>1011482.0</td>\n      <td>sayji01</td>\n      <td>121733.0</td>\n      <td>Jimmy Say</td>\n      <td>1882</td>\n      <td>67</td>\n      <td>LOU</td>\n      <td>Jimmy Say</td>\n      <td>Louisville Colonels</td>\n    </tr>\n    <tr>\n      <th>1620</th>\n      <td>1011548.0</td>\n      <td>schenbi01</td>\n      <td>121798.0</td>\n      <td>Bill Schenck</td>\n      <td>1882</td>\n      <td>67</td>\n      <td>LOU</td>\n      <td>Bill Schenck</td>\n      <td>Louisville Colonels</td>\n    </tr>\n    <tr>\n      <th>1633</th>\n      <td>1012193.0</td>\n      <td>smithpo01</td>\n      <td>122363.0</td>\n      <td>Pop Smith</td>\n      <td>1882</td>\n      <td>67</td>\n      <td>LOU</td>\n      <td>Pop Smith</td>\n      <td>Louisville Colonels</td>\n    </tr>\n    <tr>\n      <th>1641</th>\n      <td>1012617.0</td>\n      <td>stricjo01</td>\n      <td>122870.0</td>\n      <td>Charles Strick</td>\n      <td>1882</td>\n      <td>67</td>\n      <td>LOU</td>\n      <td>John Strick</td>\n      <td>Louisville Colonels</td>\n    </tr>\n    <tr>\n      <th>1644</th>\n      <td>1012687.0</td>\n      <td>sullida01</td>\n      <td>122941.0</td>\n      <td>Dan Sullivan</td>\n      <td>1882</td>\n      <td>67</td>\n      <td>LOU</td>\n      <td>Dan Sullivan</td>\n      <td>Louisville Colonels</td>\n    </tr>\n    <tr>\n      <th>1675</th>\n      <td>1014195.0</td>\n      <td>wolfji01</td>\n      <td>124509.0</td>\n      <td>Chicken Wolf</td>\n      <td>1882</td>\n      <td>67</td>\n      <td>LOU</td>\n      <td>Jimmy Wolf</td>\n      <td>Louisville Colonels</td>\n    </tr>\n  </tbody>\n</table>\n</div>"
     },
     "execution_count": 90,
     "metadata": {},
     "output_type": "execute_result"
    }
   ],
   "source": [
    "bref.merge(players_seasons_teams, how='left', on=['playerIDFG', 'playerIDBR', 'playerIDMLBAM', 'yearID', 'franchID'], suffixes=('BR', 'FG')).query('yearID == 1882 & franchID == 67')\n",
    "# bref.merge(players_seasons_teams, how='left', on=['playerIDFG', 'playerIDBR', 'playerIDMLBAM', 'yearID', 'franchID'], suffixes=('BR', 'FG')).query('yearID == 1882')['franchID'].value_counts()"
   ],
   "metadata": {
    "collapsed": false,
    "ExecuteTime": {
     "end_time": "2024-02-16T04:46:34.763294Z",
     "start_time": "2024-02-16T04:46:34.628784Z"
    }
   },
   "id": "e362da882f268850"
  },
  {
   "cell_type": "code",
   "execution_count": 95,
   "outputs": [
    {
     "data": {
      "text/plain": "yearID\n1871     True\n1872     True\n1873     True\n1874     True\n1875     True\n        ...  \n2019    False\n2020    False\n2021    False\n2022    False\n2023    False\nName: count, Length: 153, dtype: bool"
     },
     "execution_count": 95,
     "metadata": {},
     "output_type": "execute_result"
    }
   ],
   "source": [
    "players_seasons_teams['yearID'].value_counts().sort_index() == bref.loc[bref['PA'].isna() | (bref['PA'] > 0), 'yearID'].value_counts().sort_index()"
   ],
   "metadata": {
    "collapsed": false,
    "ExecuteTime": {
     "end_time": "2024-02-16T04:52:02.731866Z",
     "start_time": "2024-02-16T04:52:02.619925Z"
    }
   },
   "id": "c60e578b9ea83752"
  },
  {
   "cell_type": "code",
   "execution_count": 29,
   "outputs": [
    {
     "data": {
      "text/plain": "             PlayerName                    PlayerID   Tm  Lg    G   PA   AB  \\\n0    Frank Abercrombie?  /players/a/abercda01.shtml  TRO  NA    1    4    4   \n1              Bob Addy   /players/a/addybo01.shtml  ROK  NA   25  122  118   \n2          Art Allison?  /players/a/allisar01.shtml  CLE  NA   29  139  137   \n3          Doug Allison  /players/a/allisdo01.shtml  OLY  NA   27  133  133   \n4             Cap Anson  /players/a/ansonca01.shtml  ROK  NA   25  122  120   \n..                  ...                         ...  ...  ..  ...  ...  ...   \n111       George Wright  /players/w/wrighge01.shtml  BOS  NA   16   86   80   \n112        Harry Wright  /players/w/wrighha01.shtml  BOS  NA   31  160  147   \n113            Tom York   /players/y/yorkto01.shtml  TRO  NA   29  154  145   \n114     George Zettlein  /players/z/zettlge01.shtml  CHI  NA   28  130  128   \n115    LgAvg per 600 PA                        None           123  600  579   \n\n       R    H  2B  ...   SLG    OPS  OPS+   TB GDP HBP SH SF IBB Pos Summary  \n0      0    0   0  ...  .000   .000  -100    0   0                        /6  \n1     30   32   6  ...  .322   .617    78   38   0                       4/6  \n2     28   40   4  ...  .394   .696   100   54   1                       O/4  \n3     28   44  10  ...  .481   .812   133   64   0                         2  \n4     29   39  11  ...  .467   .803   128   56   0                    5/243O  \n..   ...  ...  ..  ...   ...    ...   ...  ...  ..  .. .. ..  ..         ...  \n111   33   33   7  ...  .625  1.078   198   50   1                       6/3  \n112   42   44   5  ...  .361   .717   102   53   0                      O/16  \n113   36   37   5  ...  .428   .726   103   62   0                         O  \n114   23   32   3  ...  .273   .535    50   35   0                       1/O  \n115  142  166  23  ...  .384   .695        222   4                            \n\n[116 rows x 29 columns]",
      "text/html": "<div>\n<style scoped>\n    .dataframe tbody tr th:only-of-type {\n        vertical-align: middle;\n    }\n\n    .dataframe tbody tr th {\n        vertical-align: top;\n    }\n\n    .dataframe thead th {\n        text-align: right;\n    }\n</style>\n<table border=\"1\" class=\"dataframe\">\n  <thead>\n    <tr style=\"text-align: right;\">\n      <th></th>\n      <th>PlayerName</th>\n      <th>PlayerID</th>\n      <th>Tm</th>\n      <th>Lg</th>\n      <th>G</th>\n      <th>PA</th>\n      <th>AB</th>\n      <th>R</th>\n      <th>H</th>\n      <th>2B</th>\n      <th>...</th>\n      <th>SLG</th>\n      <th>OPS</th>\n      <th>OPS+</th>\n      <th>TB</th>\n      <th>GDP</th>\n      <th>HBP</th>\n      <th>SH</th>\n      <th>SF</th>\n      <th>IBB</th>\n      <th>Pos Summary</th>\n    </tr>\n  </thead>\n  <tbody>\n    <tr>\n      <th>0</th>\n      <td>Frank Abercrombie?</td>\n      <td>/players/a/abercda01.shtml</td>\n      <td>TRO</td>\n      <td>NA</td>\n      <td>1</td>\n      <td>4</td>\n      <td>4</td>\n      <td>0</td>\n      <td>0</td>\n      <td>0</td>\n      <td>...</td>\n      <td>.000</td>\n      <td>.000</td>\n      <td>-100</td>\n      <td>0</td>\n      <td>0</td>\n      <td></td>\n      <td></td>\n      <td></td>\n      <td></td>\n      <td>/6</td>\n    </tr>\n    <tr>\n      <th>1</th>\n      <td>Bob Addy</td>\n      <td>/players/a/addybo01.shtml</td>\n      <td>ROK</td>\n      <td>NA</td>\n      <td>25</td>\n      <td>122</td>\n      <td>118</td>\n      <td>30</td>\n      <td>32</td>\n      <td>6</td>\n      <td>...</td>\n      <td>.322</td>\n      <td>.617</td>\n      <td>78</td>\n      <td>38</td>\n      <td>0</td>\n      <td></td>\n      <td></td>\n      <td></td>\n      <td></td>\n      <td>4/6</td>\n    </tr>\n    <tr>\n      <th>2</th>\n      <td>Art Allison?</td>\n      <td>/players/a/allisar01.shtml</td>\n      <td>CLE</td>\n      <td>NA</td>\n      <td>29</td>\n      <td>139</td>\n      <td>137</td>\n      <td>28</td>\n      <td>40</td>\n      <td>4</td>\n      <td>...</td>\n      <td>.394</td>\n      <td>.696</td>\n      <td>100</td>\n      <td>54</td>\n      <td>1</td>\n      <td></td>\n      <td></td>\n      <td></td>\n      <td></td>\n      <td>O/4</td>\n    </tr>\n    <tr>\n      <th>3</th>\n      <td>Doug Allison</td>\n      <td>/players/a/allisdo01.shtml</td>\n      <td>OLY</td>\n      <td>NA</td>\n      <td>27</td>\n      <td>133</td>\n      <td>133</td>\n      <td>28</td>\n      <td>44</td>\n      <td>10</td>\n      <td>...</td>\n      <td>.481</td>\n      <td>.812</td>\n      <td>133</td>\n      <td>64</td>\n      <td>0</td>\n      <td></td>\n      <td></td>\n      <td></td>\n      <td></td>\n      <td>2</td>\n    </tr>\n    <tr>\n      <th>4</th>\n      <td>Cap Anson</td>\n      <td>/players/a/ansonca01.shtml</td>\n      <td>ROK</td>\n      <td>NA</td>\n      <td>25</td>\n      <td>122</td>\n      <td>120</td>\n      <td>29</td>\n      <td>39</td>\n      <td>11</td>\n      <td>...</td>\n      <td>.467</td>\n      <td>.803</td>\n      <td>128</td>\n      <td>56</td>\n      <td>0</td>\n      <td></td>\n      <td></td>\n      <td></td>\n      <td></td>\n      <td>5/243O</td>\n    </tr>\n    <tr>\n      <th>...</th>\n      <td>...</td>\n      <td>...</td>\n      <td>...</td>\n      <td>...</td>\n      <td>...</td>\n      <td>...</td>\n      <td>...</td>\n      <td>...</td>\n      <td>...</td>\n      <td>...</td>\n      <td>...</td>\n      <td>...</td>\n      <td>...</td>\n      <td>...</td>\n      <td>...</td>\n      <td>...</td>\n      <td>...</td>\n      <td>...</td>\n      <td>...</td>\n      <td>...</td>\n      <td>...</td>\n    </tr>\n    <tr>\n      <th>111</th>\n      <td>George Wright</td>\n      <td>/players/w/wrighge01.shtml</td>\n      <td>BOS</td>\n      <td>NA</td>\n      <td>16</td>\n      <td>86</td>\n      <td>80</td>\n      <td>33</td>\n      <td>33</td>\n      <td>7</td>\n      <td>...</td>\n      <td>.625</td>\n      <td>1.078</td>\n      <td>198</td>\n      <td>50</td>\n      <td>1</td>\n      <td></td>\n      <td></td>\n      <td></td>\n      <td></td>\n      <td>6/3</td>\n    </tr>\n    <tr>\n      <th>112</th>\n      <td>Harry Wright</td>\n      <td>/players/w/wrighha01.shtml</td>\n      <td>BOS</td>\n      <td>NA</td>\n      <td>31</td>\n      <td>160</td>\n      <td>147</td>\n      <td>42</td>\n      <td>44</td>\n      <td>5</td>\n      <td>...</td>\n      <td>.361</td>\n      <td>.717</td>\n      <td>102</td>\n      <td>53</td>\n      <td>0</td>\n      <td></td>\n      <td></td>\n      <td></td>\n      <td></td>\n      <td>O/16</td>\n    </tr>\n    <tr>\n      <th>113</th>\n      <td>Tom York</td>\n      <td>/players/y/yorkto01.shtml</td>\n      <td>TRO</td>\n      <td>NA</td>\n      <td>29</td>\n      <td>154</td>\n      <td>145</td>\n      <td>36</td>\n      <td>37</td>\n      <td>5</td>\n      <td>...</td>\n      <td>.428</td>\n      <td>.726</td>\n      <td>103</td>\n      <td>62</td>\n      <td>0</td>\n      <td></td>\n      <td></td>\n      <td></td>\n      <td></td>\n      <td>O</td>\n    </tr>\n    <tr>\n      <th>114</th>\n      <td>George Zettlein</td>\n      <td>/players/z/zettlge01.shtml</td>\n      <td>CHI</td>\n      <td>NA</td>\n      <td>28</td>\n      <td>130</td>\n      <td>128</td>\n      <td>23</td>\n      <td>32</td>\n      <td>3</td>\n      <td>...</td>\n      <td>.273</td>\n      <td>.535</td>\n      <td>50</td>\n      <td>35</td>\n      <td>0</td>\n      <td></td>\n      <td></td>\n      <td></td>\n      <td></td>\n      <td>1/O</td>\n    </tr>\n    <tr>\n      <th>115</th>\n      <td>LgAvg per 600 PA</td>\n      <td>None</td>\n      <td></td>\n      <td></td>\n      <td>123</td>\n      <td>600</td>\n      <td>579</td>\n      <td>142</td>\n      <td>166</td>\n      <td>23</td>\n      <td>...</td>\n      <td>.384</td>\n      <td>.695</td>\n      <td></td>\n      <td>222</td>\n      <td>4</td>\n      <td></td>\n      <td></td>\n      <td></td>\n      <td></td>\n      <td></td>\n    </tr>\n  </tbody>\n</table>\n<p>116 rows × 29 columns</p>\n</div>"
     },
     "execution_count": 29,
     "metadata": {},
     "output_type": "execute_result"
    }
   ],
   "source": [
    "tdf = pd.read_html(io=StringIO(str(str(BeautifulSoup([comment.strip() for comment in BeautifulSoup(requests.get('https://www.baseball-reference.com/leagues/majors/1871-standard-batting.shtml').content, 'html.parser', from_encoding='utf_8').find_all(string=lambda text: isinstance(text, Comment)) if 'table' in comment][0]).find('table')).replace('\\xa0', ' ').replace('*', '').replace('#', ''))), index_col='Rk', extract_links='body')[0].drop(('Rk', None)).reset_index(drop=True)\n",
    "tdf = pd.concat([pd.DataFrame(tdf['Name'].tolist(), columns=['PlayerName', 'PlayerID']), tdf.drop(['Name', 'Age'], axis=1).apply(lambda col: col.str[0])], axis=1).query(\"Tm != 'TOT'\")\n",
    "tdf"
   ],
   "metadata": {
    "collapsed": false,
    "ExecuteTime": {
     "end_time": "2024-02-08T06:54:54.478002Z",
     "start_time": "2024-02-08T06:54:53.910748Z"
    }
   },
   "id": "c6afebdd1d4b6d3a"
  },
  {
   "cell_type": "code",
   "execution_count": 24,
   "outputs": [],
   "source": [
    "sb.to_csv('bref_standard_batting.csv', index=False, chunksize=50000)"
   ],
   "metadata": {
    "collapsed": false,
    "ExecuteTime": {
     "end_time": "2024-02-08T06:29:29.606578Z",
     "start_time": "2024-02-08T06:29:27.758663Z"
    }
   },
   "id": "d283c32e57e28002"
  },
  {
   "cell_type": "code",
   "execution_count": 34,
   "outputs": [
    {
     "data": {
      "text/plain": "      yearID  franchID  playerID      playerName      franchName\n0       1961        18      9377       Chet Boak   Texas Rangers\n1       1961        18      9490    Carl Bouldin   Texas Rangers\n2       1961        18      9107    Harry Bright   Texas Rangers\n3       1961        18      9491     Ed Brinkman   Texas Rangers\n4       1961        18      8816   Pete Burnside   Texas Rangers\n...      ...       ...       ...             ...             ...\n5317    2023        19     19783     Luis Garcia  Houston Astros\n5318    2023        19     20599     Shawn Dubin  Houston Astros\n5319    2023        19     20334   David Hensley  Houston Astros\n5320    2023        19     20600  Grae Kessinger  Houston Astros\n5321    2023        19     20336    Hunter Brown  Houston Astros\n\n[5322 rows x 5 columns]",
      "text/html": "<div>\n<style scoped>\n    .dataframe tbody tr th:only-of-type {\n        vertical-align: middle;\n    }\n\n    .dataframe tbody tr th {\n        vertical-align: top;\n    }\n\n    .dataframe thead th {\n        text-align: right;\n    }\n</style>\n<table border=\"1\" class=\"dataframe\">\n  <thead>\n    <tr style=\"text-align: right;\">\n      <th></th>\n      <th>yearID</th>\n      <th>franchID</th>\n      <th>playerID</th>\n      <th>playerName</th>\n      <th>franchName</th>\n    </tr>\n  </thead>\n  <tbody>\n    <tr>\n      <th>0</th>\n      <td>1961</td>\n      <td>18</td>\n      <td>9377</td>\n      <td>Chet Boak</td>\n      <td>Texas Rangers</td>\n    </tr>\n    <tr>\n      <th>1</th>\n      <td>1961</td>\n      <td>18</td>\n      <td>9490</td>\n      <td>Carl Bouldin</td>\n      <td>Texas Rangers</td>\n    </tr>\n    <tr>\n      <th>2</th>\n      <td>1961</td>\n      <td>18</td>\n      <td>9107</td>\n      <td>Harry Bright</td>\n      <td>Texas Rangers</td>\n    </tr>\n    <tr>\n      <th>3</th>\n      <td>1961</td>\n      <td>18</td>\n      <td>9491</td>\n      <td>Ed Brinkman</td>\n      <td>Texas Rangers</td>\n    </tr>\n    <tr>\n      <th>4</th>\n      <td>1961</td>\n      <td>18</td>\n      <td>8816</td>\n      <td>Pete Burnside</td>\n      <td>Texas Rangers</td>\n    </tr>\n    <tr>\n      <th>...</th>\n      <td>...</td>\n      <td>...</td>\n      <td>...</td>\n      <td>...</td>\n      <td>...</td>\n    </tr>\n    <tr>\n      <th>5317</th>\n      <td>2023</td>\n      <td>19</td>\n      <td>19783</td>\n      <td>Luis Garcia</td>\n      <td>Houston Astros</td>\n    </tr>\n    <tr>\n      <th>5318</th>\n      <td>2023</td>\n      <td>19</td>\n      <td>20599</td>\n      <td>Shawn Dubin</td>\n      <td>Houston Astros</td>\n    </tr>\n    <tr>\n      <th>5319</th>\n      <td>2023</td>\n      <td>19</td>\n      <td>20334</td>\n      <td>David Hensley</td>\n      <td>Houston Astros</td>\n    </tr>\n    <tr>\n      <th>5320</th>\n      <td>2023</td>\n      <td>19</td>\n      <td>20600</td>\n      <td>Grae Kessinger</td>\n      <td>Houston Astros</td>\n    </tr>\n    <tr>\n      <th>5321</th>\n      <td>2023</td>\n      <td>19</td>\n      <td>20336</td>\n      <td>Hunter Brown</td>\n      <td>Houston Astros</td>\n    </tr>\n  </tbody>\n</table>\n<p>5322 rows × 5 columns</p>\n</div>"
     },
     "execution_count": 34,
     "metadata": {},
     "output_type": "execute_result"
    }
   ],
   "source": [
    "query = \"\"\"SELECT *\n",
    "            FROM (SELECT *\n",
    "                      FROM players_seasons_teams\n",
    "                      WHERE franchID IN (SELECT DISTINCT franchID\n",
    "                                         FROM players_seasons_teams\n",
    "                                         WHERE franchName IN ('Texas Rangers', 'Houston Astros'))) AS t;\"\"\"\n",
    "\n",
    "ps.sqldf(query, env=locals())"
   ],
   "metadata": {
    "collapsed": false,
    "ExecuteTime": {
     "start_time": "2024-02-05T07:35:24.688185Z"
    }
   },
   "id": "58a56a623c177491"
  },
  {
   "cell_type": "code",
   "execution_count": 2,
   "outputs": [
    {
     "data": {
      "text/plain": "       key_person                              key_uuid  key_mlbam key_retro  \\\n120701   413e6e20  413e6e20-8000-405e-8d8a-4d51471745db   119428.0  morts101   \n136225   499e0736  499e0736-3128-4f52-a14f-f58b02ce6f97   116046.0  hogae101   \n328741   b14899b3  b14899b3-1457-4e49-8279-282602e82f46   123135.0  tayll102   \n342934   b8d797f2  b8d797f2-914a-4498-b575-e4c0c6408e68   119301.0  moorh101   \n370834   c7e1352a  c7e1352a-fe78-468e-b413-1fdac87f0083   113570.0  drisd101   \n403690   d9863121  d9863121-7433-494a-a7ba-4eb0694c4bb9   124192.0  whitb104   \n420569   e2982a16  e2982a16-720a-4c9c-bb14-9e915dc9cb26   122446.0  smitr106   \n\n        key_bbref key_bbref_minors  key_fangraphs  key_npb name_last  \\\n120701  mortosp01     morton001spa      1009111.0      NaN    Morton   \n136225  hoganed01     hogan-001edd      1005918.0      NaN     Hogan   \n328741  tayloli01     taylor001liv      1012883.0      NaN    Taylor   \n342934  mooreha01     moore-004hen      1009203.0      NaN     Moore   \n370834  driscde01     drisco001den      1003503.0      NaN  Driscoll   \n403690  whitebi02     white-003bil      1013854.0      NaN     White   \n420569  smithre01     smith-002rex      1012196.0      NaN     Smith   \n\n       name_first  ... pro_managed_last mlb_managed_first mlb_managed_last  \\\n120701    Sparrow  ...              NaN               NaN              NaN   \n136225        Bob  ...              NaN               NaN              NaN   \n328741   Live Oak  ...              NaN               NaN              NaN   \n342934      Henry  ...              NaN               NaN              NaN   \n370834      Denny  ...              NaN               NaN              NaN   \n403690       Bill  ...           1905.0               NaN              NaN   \n420569        Rex  ...              NaN               NaN              NaN   \n\n       col_managed_first  col_managed_last  pro_umpired_first  \\\n120701               NaN               NaN                NaN   \n136225               NaN               NaN                NaN   \n328741               NaN               NaN                NaN   \n342934               NaN               NaN                NaN   \n370834               NaN               NaN                NaN   \n403690               NaN               NaN                NaN   \n420569               NaN               NaN                NaN   \n\n        pro_umpired_last  mlb_umpired_first  mlb_umpired_last       FGID  \n120701               NaN                NaN               NaN  1009235.0  \n136225               NaN                NaN               NaN  1005919.0  \n328741               NaN                NaN               NaN  1012886.0  \n342934               NaN                NaN               NaN  1009111.0  \n370834               NaN                NaN               NaN  1003504.0  \n403690               NaN                NaN               NaN  1013857.0  \n420569               NaN                NaN               NaN  1012086.0  \n\n[7 rows x 37 columns]",
      "text/html": "<div>\n<style scoped>\n    .dataframe tbody tr th:only-of-type {\n        vertical-align: middle;\n    }\n\n    .dataframe tbody tr th {\n        vertical-align: top;\n    }\n\n    .dataframe thead th {\n        text-align: right;\n    }\n</style>\n<table border=\"1\" class=\"dataframe\">\n  <thead>\n    <tr style=\"text-align: right;\">\n      <th></th>\n      <th>key_person</th>\n      <th>key_uuid</th>\n      <th>key_mlbam</th>\n      <th>key_retro</th>\n      <th>key_bbref</th>\n      <th>key_bbref_minors</th>\n      <th>key_fangraphs</th>\n      <th>key_npb</th>\n      <th>name_last</th>\n      <th>name_first</th>\n      <th>...</th>\n      <th>pro_managed_last</th>\n      <th>mlb_managed_first</th>\n      <th>mlb_managed_last</th>\n      <th>col_managed_first</th>\n      <th>col_managed_last</th>\n      <th>pro_umpired_first</th>\n      <th>pro_umpired_last</th>\n      <th>mlb_umpired_first</th>\n      <th>mlb_umpired_last</th>\n      <th>FGID</th>\n    </tr>\n  </thead>\n  <tbody>\n    <tr>\n      <th>120701</th>\n      <td>413e6e20</td>\n      <td>413e6e20-8000-405e-8d8a-4d51471745db</td>\n      <td>119428.0</td>\n      <td>morts101</td>\n      <td>mortosp01</td>\n      <td>morton001spa</td>\n      <td>1009111.0</td>\n      <td>NaN</td>\n      <td>Morton</td>\n      <td>Sparrow</td>\n      <td>...</td>\n      <td>NaN</td>\n      <td>NaN</td>\n      <td>NaN</td>\n      <td>NaN</td>\n      <td>NaN</td>\n      <td>NaN</td>\n      <td>NaN</td>\n      <td>NaN</td>\n      <td>NaN</td>\n      <td>1009235.0</td>\n    </tr>\n    <tr>\n      <th>136225</th>\n      <td>499e0736</td>\n      <td>499e0736-3128-4f52-a14f-f58b02ce6f97</td>\n      <td>116046.0</td>\n      <td>hogae101</td>\n      <td>hoganed01</td>\n      <td>hogan-001edd</td>\n      <td>1005918.0</td>\n      <td>NaN</td>\n      <td>Hogan</td>\n      <td>Bob</td>\n      <td>...</td>\n      <td>NaN</td>\n      <td>NaN</td>\n      <td>NaN</td>\n      <td>NaN</td>\n      <td>NaN</td>\n      <td>NaN</td>\n      <td>NaN</td>\n      <td>NaN</td>\n      <td>NaN</td>\n      <td>1005919.0</td>\n    </tr>\n    <tr>\n      <th>328741</th>\n      <td>b14899b3</td>\n      <td>b14899b3-1457-4e49-8279-282602e82f46</td>\n      <td>123135.0</td>\n      <td>tayll102</td>\n      <td>tayloli01</td>\n      <td>taylor001liv</td>\n      <td>1012883.0</td>\n      <td>NaN</td>\n      <td>Taylor</td>\n      <td>Live Oak</td>\n      <td>...</td>\n      <td>NaN</td>\n      <td>NaN</td>\n      <td>NaN</td>\n      <td>NaN</td>\n      <td>NaN</td>\n      <td>NaN</td>\n      <td>NaN</td>\n      <td>NaN</td>\n      <td>NaN</td>\n      <td>1012886.0</td>\n    </tr>\n    <tr>\n      <th>342934</th>\n      <td>b8d797f2</td>\n      <td>b8d797f2-914a-4498-b575-e4c0c6408e68</td>\n      <td>119301.0</td>\n      <td>moorh101</td>\n      <td>mooreha01</td>\n      <td>moore-004hen</td>\n      <td>1009203.0</td>\n      <td>NaN</td>\n      <td>Moore</td>\n      <td>Henry</td>\n      <td>...</td>\n      <td>NaN</td>\n      <td>NaN</td>\n      <td>NaN</td>\n      <td>NaN</td>\n      <td>NaN</td>\n      <td>NaN</td>\n      <td>NaN</td>\n      <td>NaN</td>\n      <td>NaN</td>\n      <td>1009111.0</td>\n    </tr>\n    <tr>\n      <th>370834</th>\n      <td>c7e1352a</td>\n      <td>c7e1352a-fe78-468e-b413-1fdac87f0083</td>\n      <td>113570.0</td>\n      <td>drisd101</td>\n      <td>driscde01</td>\n      <td>drisco001den</td>\n      <td>1003503.0</td>\n      <td>NaN</td>\n      <td>Driscoll</td>\n      <td>Denny</td>\n      <td>...</td>\n      <td>NaN</td>\n      <td>NaN</td>\n      <td>NaN</td>\n      <td>NaN</td>\n      <td>NaN</td>\n      <td>NaN</td>\n      <td>NaN</td>\n      <td>NaN</td>\n      <td>NaN</td>\n      <td>1003504.0</td>\n    </tr>\n    <tr>\n      <th>403690</th>\n      <td>d9863121</td>\n      <td>d9863121-7433-494a-a7ba-4eb0694c4bb9</td>\n      <td>124192.0</td>\n      <td>whitb104</td>\n      <td>whitebi02</td>\n      <td>white-003bil</td>\n      <td>1013854.0</td>\n      <td>NaN</td>\n      <td>White</td>\n      <td>Bill</td>\n      <td>...</td>\n      <td>1905.0</td>\n      <td>NaN</td>\n      <td>NaN</td>\n      <td>NaN</td>\n      <td>NaN</td>\n      <td>NaN</td>\n      <td>NaN</td>\n      <td>NaN</td>\n      <td>NaN</td>\n      <td>1013857.0</td>\n    </tr>\n    <tr>\n      <th>420569</th>\n      <td>e2982a16</td>\n      <td>e2982a16-720a-4c9c-bb14-9e915dc9cb26</td>\n      <td>122446.0</td>\n      <td>smitr106</td>\n      <td>smithre01</td>\n      <td>smith-002rex</td>\n      <td>1012196.0</td>\n      <td>NaN</td>\n      <td>Smith</td>\n      <td>Rex</td>\n      <td>...</td>\n      <td>NaN</td>\n      <td>NaN</td>\n      <td>NaN</td>\n      <td>NaN</td>\n      <td>NaN</td>\n      <td>NaN</td>\n      <td>NaN</td>\n      <td>NaN</td>\n      <td>NaN</td>\n      <td>1012086.0</td>\n    </tr>\n  </tbody>\n</table>\n<p>7 rows × 37 columns</p>\n</div>"
     },
     "execution_count": 2,
     "metadata": {},
     "output_type": "execute_result"
    }
   ],
   "source": [
    "pid = pid.dropna(how='all', subset=['key_mlbam', 'key_bbref', 'key_fangraphs'])  # [['key_mlbam', 'key_bbref', 'key_fangraphs', 'name_last', 'name_first', 'name_given', 'name_suffix']]\n",
    "pid.loc[pid['key_mlbam'] == 114158, 'key_mlbam'] = 114157\n",
    "pid.loc[pid['key_mlbam'] == 115065, 'key_mlbam'] = 115064\n",
    "pid.loc[pid['key_mlbam'] == 120844, 'key_mlbam'] = 120846\n",
    "\n",
    "pid['FGID'] = pid['key_mlbam'].map(dict(map(reversed, MISSING_MLBAMS.items())))  #.fillna(pid['key_fangraphs']).dropna()\n",
    "pid.dropna(subset=['key_fangraphs', 'FGID']).query('key_fangraphs != FGID')"
   ],
   "metadata": {
    "collapsed": false,
    "ExecuteTime": {
     "start_time": "2024-01-29T05:50:46.574585Z"
    }
   },
   "id": "f52fe0aeee0355c2"
  },
  {
   "cell_type": "markdown",
   "source": [
    "## Player Season Stats"
   ],
   "metadata": {
    "collapsed": false
   },
   "id": "d6202eec70b56647"
  },
  {
   "cell_type": "code",
   "execution_count": 3,
   "outputs": [
    {
     "data": {
      "text/plain": "  0%|          | 0/110 [00:00<?, ?it/s]",
      "application/vnd.jupyter.widget-view+json": {
       "version_major": 2,
       "version_minor": 0,
       "model_id": "b466fcf81720477fbcf349b5264b81c1"
      }
     },
     "metadata": {},
     "output_type": "display_data"
    }
   ],
   "source": [
    "df = bref_player_scrape()"
   ],
   "metadata": {
    "collapsed": false,
    "ExecuteTime": {
     "end_time": "2024-01-28T03:53:45.055056Z",
     "start_time": "2024-01-28T03:42:49.976155Z"
    }
   },
   "id": "842cab14bb9b2dc6"
  },
  {
   "cell_type": "code",
   "execution_count": 6,
   "outputs": [],
   "source": [
    "df = df.drop('PA', axis=1)"
   ],
   "metadata": {
    "collapsed": false,
    "ExecuteTime": {
     "end_time": "2024-01-28T03:54:44.178530Z",
     "start_time": "2024-01-28T03:54:44.035478Z"
    }
   },
   "id": "80727a8175672a71"
  },
  {
   "cell_type": "code",
   "execution_count": 96,
   "outputs": [
    {
     "name": "stderr",
     "output_type": "stream",
     "text": [
      "/var/folders/cf/xvbkm9r16gb4zfcs0bxqrd7m0000gn/T/ipykernel_1545/1349912447.py:1: DtypeWarning: Columns (9,10,11) have mixed types. Specify dtype option on import or set low_memory=False.\n",
      "  pid = pd.read_csv('playerIDlookup.csv', delimiter=' ').drop(['key_sr_nfl', 'key_sr_nba', 'key_sr_nhl', 'key_findagrave'], axis=1)\n"
     ]
    }
   ],
   "source": [
    "pid = pd.read_csv('playerIDlookup.csv', delimiter=' ').drop(['key_sr_nfl', 'key_sr_nba', 'key_sr_nhl', 'key_findagrave'], axis=1)\n",
    "pid = pid.dropna(how='all', subset=['key_mlbam', 'key_bbref', 'key_fangraphs'])  # [['key_mlbam', 'key_bbref', 'key_fangraphs', 'name_last', 'name_first', 'name_given', 'name_suffix']]\n",
    "\n",
    "MISSING_MLBAMS = {1000511: 110535, 1000769: 110789, 1000777: 110797, 1000778: 110798, 1001791: 111832, 1003245: 113308, 1003504: 113570, 1004075: 114157, 1004972: 115064, 1005919: 116046, 1006675: 116818, 1007769: 117936, 1007906: 118075, 1008462: 118644, 1009200: 119402, 1009235: 119428, 1009111: 119301, 1009203: 119396, 1009694: 119902, 1009698: 119902, 1010104: 120330, 1010128: 120356, 1010610: 120846, 1010739: 120968, 1010882: 121130, 1011053: 121323, 1012086: 122446, 1012886: 123135, 1013857: 124192, 1014429: 124756, 1014468: 124756}\n",
    "\n",
    "pid['FGID'] = pid['key_mlbam'].map(dict(map(reversed, MISSING_MLBAMS.items()))).fillna(pid['key_fangraphs']).dropna()"
   ],
   "metadata": {
    "collapsed": false,
    "ExecuteTime": {
     "end_time": "2024-01-27T05:54:57.905975Z",
     "start_time": "2024-01-27T05:54:52.657475Z"
    }
   },
   "id": "a897a06c2c9de6a6"
  },
  {
   "cell_type": "code",
   "execution_count": 97,
   "outputs": [
    {
     "data": {
      "text/plain": "       key_person                              key_uuid  key_mlbam key_retro  \\\n10543    05a483f8  05a483f8-3fe2-48c5-a6f5-4e488f80f3b4   117936.0  lougu101   \n108020   3a4e19ab  3a4e19ab-7778-4792-8cc8-16a4cd829659   118644.0  mcdoj106   \n119027   404fcd05  404fcd05-1fb7-4238-ac18-117c41982f6a   110797.0  begle101   \n120701   413e6e20  413e6e20-8000-405e-8d8a-4d51471745db   119428.0  morts101   \n136225   499e0736  499e0736-3128-4f52-a14f-f58b02ce6f97   116046.0  hogae101   \n158820   55d9ef55  55d9ef55-0684-4132-ac39-c19b4c80c25c   120968.0  reagr101   \n172840   5d665449  5d665449-a4be-4007-913f-f74f32080c0c   110789.0  beece102   \n180045   613d6a60  613d6a60-b588-4106-b3ef-0873a7894aa4   119396.0  morre103   \n188752   65ec9731  65ec9731-07b4-4a79-95d5-3148e59a2bdf   120330.0  pearg101   \n213675   73605cdb  73605cdb-0f18-495e-8739-afa5020e9651   113308.0  devij101   \n258202   8b6ce60e  8b6ce60e-9ac4-454f-8ed6-9c97017e48c2   120356.0  peffm101   \n267011   9026112b  9026112b-3078-471a-8f30-c31d429bae04   116818.0  kalaj101   \n298041   a0f71f9c  a0f71f9c-cbe1-4343-899a-abdfbf25c093   111832.0  byerb102   \n328741   b14899b3  b14899b3-1457-4e49-8279-282602e82f46   123135.0  tayll102   \n330682   b2547370  b2547370-4115-4f43-a176-d0a5309c4791   121323.0  robib103   \n342934   b8d797f2  b8d797f2-914a-4498-b575-e4c0c6408e68   119301.0  moorh101   \n368360   c686344e  c686344e-8141-41b3-a5a1-690a54c6fe83   110798.0  beglg101   \n370708   c7cfbc6b  c7cfbc6b-fda6-4184-b93a-1b80cb8ea0e7   110535.0  bankb102   \n370834   c7e1352a  c7e1352a-fe78-468e-b413-1fdac87f0083   113570.0  drisd101   \n371591   c84b8211  c84b8211-e8e2-4089-bc80-c29120177dbd   124756.0  zeism101   \n372187   c89ce2a9  c89ce2a9-beba-421e-9865-29d126c535be   121130.0  rhodb101   \n403690   d9863121  d9863121-7433-494a-a7ba-4eb0694c4bb9   124192.0  whitb104   \n410037   dce9d642  dce9d642-65d1-4485-bd9d-b52c849c6cda   119402.0  morrb103   \n419866   e239acd5  e239acd5-407e-4050-9c3c-b22938050c84   118075.0  macge101   \n420569   e2982a16  e2982a16-720a-4c9c-bb14-9e915dc9cb26   122446.0  smitr106   \n\n        key_bbref key_bbref_minors  key_fangraphs  key_npb   name_last  \\\n10543     lough01     loughr001bil            NaN      NaN  O'Loughlin   \n108020  mcdonji02     mcdona001jam            NaN      NaN   MacDonald   \n119027  begleed01     bagley001ed-            NaN      NaN      Bagley   \n120701  mortosp01     morton001spa      1009111.0      NaN      Morton   \n136225  hoganed01     hogan-001edd      1005918.0      NaN       Hogan   \n158820  reagari01     reagan001art            NaN      NaN       Ragan   \n172840  beeched02     bieche001ed-            NaN      NaN     Biecher   \n180045  morrie.01     morris021jam            NaN      NaN      Morris   \n188752  pearcge01     pearce001geo            NaN      NaN      Pierce   \n213675  devinji01     diven-001fra            NaN      NaN       Diven   \n258202  peffemo01     peffer001mon            NaN      NaN     Pfeffer   \n267011  kalahjo01     kalaha001joh            NaN      NaN     Kalahan   \n298041  byersbu01     bayer-001bur            NaN      NaN       Bayer   \n328741  tayloli01     taylor001liv      1012883.0      NaN      Taylor   \n330682  robinbi01     anders002bil            NaN      NaN    Anderson   \n342934  mooreha01     moore-004hen      1009203.0      NaN       Moore   \n368360  beglege01     begley001gen            NaN      NaN      Bagley   \n370708  banksbi01     banks-001bil            NaN      NaN     Yerrick   \n370834  driscde01     drisco001den      1003503.0      NaN    Driscoll   \n371591  zeisema01     zieser001mat            NaN      NaN      Zieser   \n372187  rhodebi01     rhodes001bil            NaN      NaN       Rotes   \n403690  whitebi02     white-003bil      1013854.0      NaN       White   \n410037  morribu01     morris001jos            NaN      NaN     Bennett   \n419866  macgaed01     mcgamw002edw            NaN      NaN  MacGamwell   \n420569  smithre01     smith-002rex      1012196.0      NaN       Smith   \n\n       name_first  ... pro_managed_last mlb_managed_first mlb_managed_last  \\\n10543     Patrick  ...              NaN               NaN              NaN   \n108020    Malcolm  ...              NaN               NaN              NaN   \n119027         Ed  ...              NaN               NaN              NaN   \n120701    Sparrow  ...              NaN               NaN              NaN   \n136225        Bob  ...              NaN               NaN              NaN   \n158820     Arthur  ...              NaN               NaN              NaN   \n172840         Ed  ...           1903.0               NaN              NaN   \n180045      James  ...              NaN               NaN              NaN   \n188752     George  ...              NaN               NaN              NaN   \n213675      Frank  ...              NaN               NaN              NaN   \n258202      Monte  ...              NaN               NaN              NaN   \n267011       John  ...              NaN               NaN              NaN   \n298041     Burley  ...              NaN               NaN              NaN   \n328741   Live Oak  ...              NaN               NaN              NaN   \n330682       Bill  ...              NaN               NaN              NaN   \n342934      Henry  ...              NaN               NaN              NaN   \n368360       Gene  ...              NaN               NaN              NaN   \n370708       Bill  ...              NaN               NaN              NaN   \n370834      Denny  ...              NaN               NaN              NaN   \n371591       Matt  ...              NaN               NaN              NaN   \n372187       Bill  ...              NaN               NaN              NaN   \n403690       Bill  ...           1905.0               NaN              NaN   \n410037       Bugs  ...              NaN               NaN              NaN   \n419866         Ed  ...              NaN               NaN              NaN   \n420569        Rex  ...              NaN               NaN              NaN   \n\n       col_managed_first  col_managed_last  pro_umpired_first  \\\n10543                NaN               NaN                NaN   \n108020               NaN               NaN                NaN   \n119027               NaN               NaN                NaN   \n120701               NaN               NaN                NaN   \n136225               NaN               NaN                NaN   \n158820               NaN               NaN                NaN   \n172840               NaN               NaN                NaN   \n180045               NaN               NaN                NaN   \n188752               NaN               NaN                NaN   \n213675               NaN               NaN                NaN   \n258202               NaN               NaN                NaN   \n267011               NaN               NaN                NaN   \n298041               NaN               NaN                NaN   \n328741               NaN               NaN                NaN   \n330682               NaN               NaN                NaN   \n342934               NaN               NaN                NaN   \n368360               NaN               NaN                NaN   \n370708               NaN               NaN                NaN   \n370834               NaN               NaN                NaN   \n371591               NaN               NaN                NaN   \n372187               NaN               NaN                NaN   \n403690               NaN               NaN                NaN   \n410037               NaN               NaN                NaN   \n419866               NaN               NaN                NaN   \n420569               NaN               NaN                NaN   \n\n        pro_umpired_last  mlb_umpired_first  mlb_umpired_last       FGID  \n10543                NaN                NaN               NaN  1007769.0  \n108020               NaN                NaN               NaN  1008462.0  \n119027               NaN                NaN               NaN  1000777.0  \n120701               NaN                NaN               NaN  1009235.0  \n136225               NaN                NaN               NaN  1005919.0  \n158820               NaN                NaN               NaN  1010739.0  \n172840               NaN                NaN               NaN  1000769.0  \n180045               NaN                NaN               NaN  1009203.0  \n188752               NaN                NaN               NaN  1010104.0  \n213675               NaN                NaN               NaN  1003245.0  \n258202               NaN                NaN               NaN  1010128.0  \n267011               NaN                NaN               NaN  1006675.0  \n298041               NaN                NaN               NaN  1001791.0  \n328741               NaN                NaN               NaN  1012886.0  \n330682               NaN                NaN               NaN  1011053.0  \n342934               NaN                NaN               NaN  1009111.0  \n368360               NaN                NaN               NaN  1000778.0  \n370708               NaN                NaN               NaN  1000511.0  \n370834               NaN                NaN               NaN  1003504.0  \n371591               NaN                NaN               NaN  1014468.0  \n372187               NaN                NaN               NaN  1010882.0  \n403690               NaN                NaN               NaN  1013857.0  \n410037               NaN                NaN               NaN  1009200.0  \n419866               NaN                NaN               NaN  1007906.0  \n420569               NaN                NaN               NaN  1012086.0  \n\n[25 rows x 37 columns]",
      "text/html": "<div>\n<style scoped>\n    .dataframe tbody tr th:only-of-type {\n        vertical-align: middle;\n    }\n\n    .dataframe tbody tr th {\n        vertical-align: top;\n    }\n\n    .dataframe thead th {\n        text-align: right;\n    }\n</style>\n<table border=\"1\" class=\"dataframe\">\n  <thead>\n    <tr style=\"text-align: right;\">\n      <th></th>\n      <th>key_person</th>\n      <th>key_uuid</th>\n      <th>key_mlbam</th>\n      <th>key_retro</th>\n      <th>key_bbref</th>\n      <th>key_bbref_minors</th>\n      <th>key_fangraphs</th>\n      <th>key_npb</th>\n      <th>name_last</th>\n      <th>name_first</th>\n      <th>...</th>\n      <th>pro_managed_last</th>\n      <th>mlb_managed_first</th>\n      <th>mlb_managed_last</th>\n      <th>col_managed_first</th>\n      <th>col_managed_last</th>\n      <th>pro_umpired_first</th>\n      <th>pro_umpired_last</th>\n      <th>mlb_umpired_first</th>\n      <th>mlb_umpired_last</th>\n      <th>FGID</th>\n    </tr>\n  </thead>\n  <tbody>\n    <tr>\n      <th>10543</th>\n      <td>05a483f8</td>\n      <td>05a483f8-3fe2-48c5-a6f5-4e488f80f3b4</td>\n      <td>117936.0</td>\n      <td>lougu101</td>\n      <td>lough01</td>\n      <td>loughr001bil</td>\n      <td>NaN</td>\n      <td>NaN</td>\n      <td>O'Loughlin</td>\n      <td>Patrick</td>\n      <td>...</td>\n      <td>NaN</td>\n      <td>NaN</td>\n      <td>NaN</td>\n      <td>NaN</td>\n      <td>NaN</td>\n      <td>NaN</td>\n      <td>NaN</td>\n      <td>NaN</td>\n      <td>NaN</td>\n      <td>1007769.0</td>\n    </tr>\n    <tr>\n      <th>108020</th>\n      <td>3a4e19ab</td>\n      <td>3a4e19ab-7778-4792-8cc8-16a4cd829659</td>\n      <td>118644.0</td>\n      <td>mcdoj106</td>\n      <td>mcdonji02</td>\n      <td>mcdona001jam</td>\n      <td>NaN</td>\n      <td>NaN</td>\n      <td>MacDonald</td>\n      <td>Malcolm</td>\n      <td>...</td>\n      <td>NaN</td>\n      <td>NaN</td>\n      <td>NaN</td>\n      <td>NaN</td>\n      <td>NaN</td>\n      <td>NaN</td>\n      <td>NaN</td>\n      <td>NaN</td>\n      <td>NaN</td>\n      <td>1008462.0</td>\n    </tr>\n    <tr>\n      <th>119027</th>\n      <td>404fcd05</td>\n      <td>404fcd05-1fb7-4238-ac18-117c41982f6a</td>\n      <td>110797.0</td>\n      <td>begle101</td>\n      <td>begleed01</td>\n      <td>bagley001ed-</td>\n      <td>NaN</td>\n      <td>NaN</td>\n      <td>Bagley</td>\n      <td>Ed</td>\n      <td>...</td>\n      <td>NaN</td>\n      <td>NaN</td>\n      <td>NaN</td>\n      <td>NaN</td>\n      <td>NaN</td>\n      <td>NaN</td>\n      <td>NaN</td>\n      <td>NaN</td>\n      <td>NaN</td>\n      <td>1000777.0</td>\n    </tr>\n    <tr>\n      <th>120701</th>\n      <td>413e6e20</td>\n      <td>413e6e20-8000-405e-8d8a-4d51471745db</td>\n      <td>119428.0</td>\n      <td>morts101</td>\n      <td>mortosp01</td>\n      <td>morton001spa</td>\n      <td>1009111.0</td>\n      <td>NaN</td>\n      <td>Morton</td>\n      <td>Sparrow</td>\n      <td>...</td>\n      <td>NaN</td>\n      <td>NaN</td>\n      <td>NaN</td>\n      <td>NaN</td>\n      <td>NaN</td>\n      <td>NaN</td>\n      <td>NaN</td>\n      <td>NaN</td>\n      <td>NaN</td>\n      <td>1009235.0</td>\n    </tr>\n    <tr>\n      <th>136225</th>\n      <td>499e0736</td>\n      <td>499e0736-3128-4f52-a14f-f58b02ce6f97</td>\n      <td>116046.0</td>\n      <td>hogae101</td>\n      <td>hoganed01</td>\n      <td>hogan-001edd</td>\n      <td>1005918.0</td>\n      <td>NaN</td>\n      <td>Hogan</td>\n      <td>Bob</td>\n      <td>...</td>\n      <td>NaN</td>\n      <td>NaN</td>\n      <td>NaN</td>\n      <td>NaN</td>\n      <td>NaN</td>\n      <td>NaN</td>\n      <td>NaN</td>\n      <td>NaN</td>\n      <td>NaN</td>\n      <td>1005919.0</td>\n    </tr>\n    <tr>\n      <th>158820</th>\n      <td>55d9ef55</td>\n      <td>55d9ef55-0684-4132-ac39-c19b4c80c25c</td>\n      <td>120968.0</td>\n      <td>reagr101</td>\n      <td>reagari01</td>\n      <td>reagan001art</td>\n      <td>NaN</td>\n      <td>NaN</td>\n      <td>Ragan</td>\n      <td>Arthur</td>\n      <td>...</td>\n      <td>NaN</td>\n      <td>NaN</td>\n      <td>NaN</td>\n      <td>NaN</td>\n      <td>NaN</td>\n      <td>NaN</td>\n      <td>NaN</td>\n      <td>NaN</td>\n      <td>NaN</td>\n      <td>1010739.0</td>\n    </tr>\n    <tr>\n      <th>172840</th>\n      <td>5d665449</td>\n      <td>5d665449-a4be-4007-913f-f74f32080c0c</td>\n      <td>110789.0</td>\n      <td>beece102</td>\n      <td>beeched02</td>\n      <td>bieche001ed-</td>\n      <td>NaN</td>\n      <td>NaN</td>\n      <td>Biecher</td>\n      <td>Ed</td>\n      <td>...</td>\n      <td>1903.0</td>\n      <td>NaN</td>\n      <td>NaN</td>\n      <td>NaN</td>\n      <td>NaN</td>\n      <td>NaN</td>\n      <td>NaN</td>\n      <td>NaN</td>\n      <td>NaN</td>\n      <td>1000769.0</td>\n    </tr>\n    <tr>\n      <th>180045</th>\n      <td>613d6a60</td>\n      <td>613d6a60-b588-4106-b3ef-0873a7894aa4</td>\n      <td>119396.0</td>\n      <td>morre103</td>\n      <td>morrie.01</td>\n      <td>morris021jam</td>\n      <td>NaN</td>\n      <td>NaN</td>\n      <td>Morris</td>\n      <td>James</td>\n      <td>...</td>\n      <td>NaN</td>\n      <td>NaN</td>\n      <td>NaN</td>\n      <td>NaN</td>\n      <td>NaN</td>\n      <td>NaN</td>\n      <td>NaN</td>\n      <td>NaN</td>\n      <td>NaN</td>\n      <td>1009203.0</td>\n    </tr>\n    <tr>\n      <th>188752</th>\n      <td>65ec9731</td>\n      <td>65ec9731-07b4-4a79-95d5-3148e59a2bdf</td>\n      <td>120330.0</td>\n      <td>pearg101</td>\n      <td>pearcge01</td>\n      <td>pearce001geo</td>\n      <td>NaN</td>\n      <td>NaN</td>\n      <td>Pierce</td>\n      <td>George</td>\n      <td>...</td>\n      <td>NaN</td>\n      <td>NaN</td>\n      <td>NaN</td>\n      <td>NaN</td>\n      <td>NaN</td>\n      <td>NaN</td>\n      <td>NaN</td>\n      <td>NaN</td>\n      <td>NaN</td>\n      <td>1010104.0</td>\n    </tr>\n    <tr>\n      <th>213675</th>\n      <td>73605cdb</td>\n      <td>73605cdb-0f18-495e-8739-afa5020e9651</td>\n      <td>113308.0</td>\n      <td>devij101</td>\n      <td>devinji01</td>\n      <td>diven-001fra</td>\n      <td>NaN</td>\n      <td>NaN</td>\n      <td>Diven</td>\n      <td>Frank</td>\n      <td>...</td>\n      <td>NaN</td>\n      <td>NaN</td>\n      <td>NaN</td>\n      <td>NaN</td>\n      <td>NaN</td>\n      <td>NaN</td>\n      <td>NaN</td>\n      <td>NaN</td>\n      <td>NaN</td>\n      <td>1003245.0</td>\n    </tr>\n    <tr>\n      <th>258202</th>\n      <td>8b6ce60e</td>\n      <td>8b6ce60e-9ac4-454f-8ed6-9c97017e48c2</td>\n      <td>120356.0</td>\n      <td>peffm101</td>\n      <td>peffemo01</td>\n      <td>peffer001mon</td>\n      <td>NaN</td>\n      <td>NaN</td>\n      <td>Pfeffer</td>\n      <td>Monte</td>\n      <td>...</td>\n      <td>NaN</td>\n      <td>NaN</td>\n      <td>NaN</td>\n      <td>NaN</td>\n      <td>NaN</td>\n      <td>NaN</td>\n      <td>NaN</td>\n      <td>NaN</td>\n      <td>NaN</td>\n      <td>1010128.0</td>\n    </tr>\n    <tr>\n      <th>267011</th>\n      <td>9026112b</td>\n      <td>9026112b-3078-471a-8f30-c31d429bae04</td>\n      <td>116818.0</td>\n      <td>kalaj101</td>\n      <td>kalahjo01</td>\n      <td>kalaha001joh</td>\n      <td>NaN</td>\n      <td>NaN</td>\n      <td>Kalahan</td>\n      <td>John</td>\n      <td>...</td>\n      <td>NaN</td>\n      <td>NaN</td>\n      <td>NaN</td>\n      <td>NaN</td>\n      <td>NaN</td>\n      <td>NaN</td>\n      <td>NaN</td>\n      <td>NaN</td>\n      <td>NaN</td>\n      <td>1006675.0</td>\n    </tr>\n    <tr>\n      <th>298041</th>\n      <td>a0f71f9c</td>\n      <td>a0f71f9c-cbe1-4343-899a-abdfbf25c093</td>\n      <td>111832.0</td>\n      <td>byerb102</td>\n      <td>byersbu01</td>\n      <td>bayer-001bur</td>\n      <td>NaN</td>\n      <td>NaN</td>\n      <td>Bayer</td>\n      <td>Burley</td>\n      <td>...</td>\n      <td>NaN</td>\n      <td>NaN</td>\n      <td>NaN</td>\n      <td>NaN</td>\n      <td>NaN</td>\n      <td>NaN</td>\n      <td>NaN</td>\n      <td>NaN</td>\n      <td>NaN</td>\n      <td>1001791.0</td>\n    </tr>\n    <tr>\n      <th>328741</th>\n      <td>b14899b3</td>\n      <td>b14899b3-1457-4e49-8279-282602e82f46</td>\n      <td>123135.0</td>\n      <td>tayll102</td>\n      <td>tayloli01</td>\n      <td>taylor001liv</td>\n      <td>1012883.0</td>\n      <td>NaN</td>\n      <td>Taylor</td>\n      <td>Live Oak</td>\n      <td>...</td>\n      <td>NaN</td>\n      <td>NaN</td>\n      <td>NaN</td>\n      <td>NaN</td>\n      <td>NaN</td>\n      <td>NaN</td>\n      <td>NaN</td>\n      <td>NaN</td>\n      <td>NaN</td>\n      <td>1012886.0</td>\n    </tr>\n    <tr>\n      <th>330682</th>\n      <td>b2547370</td>\n      <td>b2547370-4115-4f43-a176-d0a5309c4791</td>\n      <td>121323.0</td>\n      <td>robib103</td>\n      <td>robinbi01</td>\n      <td>anders002bil</td>\n      <td>NaN</td>\n      <td>NaN</td>\n      <td>Anderson</td>\n      <td>Bill</td>\n      <td>...</td>\n      <td>NaN</td>\n      <td>NaN</td>\n      <td>NaN</td>\n      <td>NaN</td>\n      <td>NaN</td>\n      <td>NaN</td>\n      <td>NaN</td>\n      <td>NaN</td>\n      <td>NaN</td>\n      <td>1011053.0</td>\n    </tr>\n    <tr>\n      <th>342934</th>\n      <td>b8d797f2</td>\n      <td>b8d797f2-914a-4498-b575-e4c0c6408e68</td>\n      <td>119301.0</td>\n      <td>moorh101</td>\n      <td>mooreha01</td>\n      <td>moore-004hen</td>\n      <td>1009203.0</td>\n      <td>NaN</td>\n      <td>Moore</td>\n      <td>Henry</td>\n      <td>...</td>\n      <td>NaN</td>\n      <td>NaN</td>\n      <td>NaN</td>\n      <td>NaN</td>\n      <td>NaN</td>\n      <td>NaN</td>\n      <td>NaN</td>\n      <td>NaN</td>\n      <td>NaN</td>\n      <td>1009111.0</td>\n    </tr>\n    <tr>\n      <th>368360</th>\n      <td>c686344e</td>\n      <td>c686344e-8141-41b3-a5a1-690a54c6fe83</td>\n      <td>110798.0</td>\n      <td>beglg101</td>\n      <td>beglege01</td>\n      <td>begley001gen</td>\n      <td>NaN</td>\n      <td>NaN</td>\n      <td>Bagley</td>\n      <td>Gene</td>\n      <td>...</td>\n      <td>NaN</td>\n      <td>NaN</td>\n      <td>NaN</td>\n      <td>NaN</td>\n      <td>NaN</td>\n      <td>NaN</td>\n      <td>NaN</td>\n      <td>NaN</td>\n      <td>NaN</td>\n      <td>1000778.0</td>\n    </tr>\n    <tr>\n      <th>370708</th>\n      <td>c7cfbc6b</td>\n      <td>c7cfbc6b-fda6-4184-b93a-1b80cb8ea0e7</td>\n      <td>110535.0</td>\n      <td>bankb102</td>\n      <td>banksbi01</td>\n      <td>banks-001bil</td>\n      <td>NaN</td>\n      <td>NaN</td>\n      <td>Yerrick</td>\n      <td>Bill</td>\n      <td>...</td>\n      <td>NaN</td>\n      <td>NaN</td>\n      <td>NaN</td>\n      <td>NaN</td>\n      <td>NaN</td>\n      <td>NaN</td>\n      <td>NaN</td>\n      <td>NaN</td>\n      <td>NaN</td>\n      <td>1000511.0</td>\n    </tr>\n    <tr>\n      <th>370834</th>\n      <td>c7e1352a</td>\n      <td>c7e1352a-fe78-468e-b413-1fdac87f0083</td>\n      <td>113570.0</td>\n      <td>drisd101</td>\n      <td>driscde01</td>\n      <td>drisco001den</td>\n      <td>1003503.0</td>\n      <td>NaN</td>\n      <td>Driscoll</td>\n      <td>Denny</td>\n      <td>...</td>\n      <td>NaN</td>\n      <td>NaN</td>\n      <td>NaN</td>\n      <td>NaN</td>\n      <td>NaN</td>\n      <td>NaN</td>\n      <td>NaN</td>\n      <td>NaN</td>\n      <td>NaN</td>\n      <td>1003504.0</td>\n    </tr>\n    <tr>\n      <th>371591</th>\n      <td>c84b8211</td>\n      <td>c84b8211-e8e2-4089-bc80-c29120177dbd</td>\n      <td>124756.0</td>\n      <td>zeism101</td>\n      <td>zeisema01</td>\n      <td>zieser001mat</td>\n      <td>NaN</td>\n      <td>NaN</td>\n      <td>Zieser</td>\n      <td>Matt</td>\n      <td>...</td>\n      <td>NaN</td>\n      <td>NaN</td>\n      <td>NaN</td>\n      <td>NaN</td>\n      <td>NaN</td>\n      <td>NaN</td>\n      <td>NaN</td>\n      <td>NaN</td>\n      <td>NaN</td>\n      <td>1014468.0</td>\n    </tr>\n    <tr>\n      <th>372187</th>\n      <td>c89ce2a9</td>\n      <td>c89ce2a9-beba-421e-9865-29d126c535be</td>\n      <td>121130.0</td>\n      <td>rhodb101</td>\n      <td>rhodebi01</td>\n      <td>rhodes001bil</td>\n      <td>NaN</td>\n      <td>NaN</td>\n      <td>Rotes</td>\n      <td>Bill</td>\n      <td>...</td>\n      <td>NaN</td>\n      <td>NaN</td>\n      <td>NaN</td>\n      <td>NaN</td>\n      <td>NaN</td>\n      <td>NaN</td>\n      <td>NaN</td>\n      <td>NaN</td>\n      <td>NaN</td>\n      <td>1010882.0</td>\n    </tr>\n    <tr>\n      <th>403690</th>\n      <td>d9863121</td>\n      <td>d9863121-7433-494a-a7ba-4eb0694c4bb9</td>\n      <td>124192.0</td>\n      <td>whitb104</td>\n      <td>whitebi02</td>\n      <td>white-003bil</td>\n      <td>1013854.0</td>\n      <td>NaN</td>\n      <td>White</td>\n      <td>Bill</td>\n      <td>...</td>\n      <td>1905.0</td>\n      <td>NaN</td>\n      <td>NaN</td>\n      <td>NaN</td>\n      <td>NaN</td>\n      <td>NaN</td>\n      <td>NaN</td>\n      <td>NaN</td>\n      <td>NaN</td>\n      <td>1013857.0</td>\n    </tr>\n    <tr>\n      <th>410037</th>\n      <td>dce9d642</td>\n      <td>dce9d642-65d1-4485-bd9d-b52c849c6cda</td>\n      <td>119402.0</td>\n      <td>morrb103</td>\n      <td>morribu01</td>\n      <td>morris001jos</td>\n      <td>NaN</td>\n      <td>NaN</td>\n      <td>Bennett</td>\n      <td>Bugs</td>\n      <td>...</td>\n      <td>NaN</td>\n      <td>NaN</td>\n      <td>NaN</td>\n      <td>NaN</td>\n      <td>NaN</td>\n      <td>NaN</td>\n      <td>NaN</td>\n      <td>NaN</td>\n      <td>NaN</td>\n      <td>1009200.0</td>\n    </tr>\n    <tr>\n      <th>419866</th>\n      <td>e239acd5</td>\n      <td>e239acd5-407e-4050-9c3c-b22938050c84</td>\n      <td>118075.0</td>\n      <td>macge101</td>\n      <td>macgaed01</td>\n      <td>mcgamw002edw</td>\n      <td>NaN</td>\n      <td>NaN</td>\n      <td>MacGamwell</td>\n      <td>Ed</td>\n      <td>...</td>\n      <td>NaN</td>\n      <td>NaN</td>\n      <td>NaN</td>\n      <td>NaN</td>\n      <td>NaN</td>\n      <td>NaN</td>\n      <td>NaN</td>\n      <td>NaN</td>\n      <td>NaN</td>\n      <td>1007906.0</td>\n    </tr>\n    <tr>\n      <th>420569</th>\n      <td>e2982a16</td>\n      <td>e2982a16-720a-4c9c-bb14-9e915dc9cb26</td>\n      <td>122446.0</td>\n      <td>smitr106</td>\n      <td>smithre01</td>\n      <td>smith-002rex</td>\n      <td>1012196.0</td>\n      <td>NaN</td>\n      <td>Smith</td>\n      <td>Rex</td>\n      <td>...</td>\n      <td>NaN</td>\n      <td>NaN</td>\n      <td>NaN</td>\n      <td>NaN</td>\n      <td>NaN</td>\n      <td>NaN</td>\n      <td>NaN</td>\n      <td>NaN</td>\n      <td>NaN</td>\n      <td>1012086.0</td>\n    </tr>\n  </tbody>\n</table>\n<p>25 rows × 37 columns</p>\n</div>"
     },
     "execution_count": 97,
     "metadata": {},
     "output_type": "execute_result"
    }
   ],
   "source": [
    "pid.dropna(subset='FGID').query('key_fangraphs != FGID')"
   ],
   "metadata": {
    "collapsed": false,
    "ExecuteTime": {
     "end_time": "2024-01-27T05:54:57.993223Z",
     "start_time": "2024-01-27T05:54:57.910391Z"
    }
   },
   "id": "a54c3c9d3d708284"
  },
  {
   "cell_type": "code",
   "execution_count": 66,
   "outputs": [
    {
     "data": {
      "text/plain": "          FGID  MLBID BRID\n6763   1000511    NaN  NaN\n7015   1000769    NaN  NaN\n7023   1000777    NaN  NaN\n7024   1000778    NaN  NaN\n8010   1001791    NaN  NaN\n9450   1003245    NaN  NaN\n9703   1003504    NaN  NaN\n12075  1005919    NaN  NaN\n12819  1006675    NaN  NaN\n13892  1007769    NaN  NaN\n14025  1007906    NaN  NaN\n14566  1008462    NaN  NaN\n15292  1009200    NaN  NaN\n15327  1009235    NaN  NaN\n15780  1009694    NaN  NaN\n16180  1010104    NaN  NaN\n16204  1010128    NaN  NaN\n16803  1010739    NaN  NaN\n16941  1010882    NaN  NaN\n17112  1011053    NaN  NaN\n18126  1012086    NaN  NaN\n18906  1012886    NaN  NaN\n19862  1013857    NaN  NaN\n20423  1014429    NaN  NaN\n20461  1014468    NaN  NaN",
      "text/html": "<div>\n<style scoped>\n    .dataframe tbody tr th:only-of-type {\n        vertical-align: middle;\n    }\n\n    .dataframe tbody tr th {\n        vertical-align: top;\n    }\n\n    .dataframe thead th {\n        text-align: right;\n    }\n</style>\n<table border=\"1\" class=\"dataframe\">\n  <thead>\n    <tr style=\"text-align: right;\">\n      <th></th>\n      <th>FGID</th>\n      <th>MLBID</th>\n      <th>BRID</th>\n    </tr>\n  </thead>\n  <tbody>\n    <tr>\n      <th>6763</th>\n      <td>1000511</td>\n      <td>NaN</td>\n      <td>NaN</td>\n    </tr>\n    <tr>\n      <th>7015</th>\n      <td>1000769</td>\n      <td>NaN</td>\n      <td>NaN</td>\n    </tr>\n    <tr>\n      <th>7023</th>\n      <td>1000777</td>\n      <td>NaN</td>\n      <td>NaN</td>\n    </tr>\n    <tr>\n      <th>7024</th>\n      <td>1000778</td>\n      <td>NaN</td>\n      <td>NaN</td>\n    </tr>\n    <tr>\n      <th>8010</th>\n      <td>1001791</td>\n      <td>NaN</td>\n      <td>NaN</td>\n    </tr>\n    <tr>\n      <th>9450</th>\n      <td>1003245</td>\n      <td>NaN</td>\n      <td>NaN</td>\n    </tr>\n    <tr>\n      <th>9703</th>\n      <td>1003504</td>\n      <td>NaN</td>\n      <td>NaN</td>\n    </tr>\n    <tr>\n      <th>12075</th>\n      <td>1005919</td>\n      <td>NaN</td>\n      <td>NaN</td>\n    </tr>\n    <tr>\n      <th>12819</th>\n      <td>1006675</td>\n      <td>NaN</td>\n      <td>NaN</td>\n    </tr>\n    <tr>\n      <th>13892</th>\n      <td>1007769</td>\n      <td>NaN</td>\n      <td>NaN</td>\n    </tr>\n    <tr>\n      <th>14025</th>\n      <td>1007906</td>\n      <td>NaN</td>\n      <td>NaN</td>\n    </tr>\n    <tr>\n      <th>14566</th>\n      <td>1008462</td>\n      <td>NaN</td>\n      <td>NaN</td>\n    </tr>\n    <tr>\n      <th>15292</th>\n      <td>1009200</td>\n      <td>NaN</td>\n      <td>NaN</td>\n    </tr>\n    <tr>\n      <th>15327</th>\n      <td>1009235</td>\n      <td>NaN</td>\n      <td>NaN</td>\n    </tr>\n    <tr>\n      <th>15780</th>\n      <td>1009694</td>\n      <td>NaN</td>\n      <td>NaN</td>\n    </tr>\n    <tr>\n      <th>16180</th>\n      <td>1010104</td>\n      <td>NaN</td>\n      <td>NaN</td>\n    </tr>\n    <tr>\n      <th>16204</th>\n      <td>1010128</td>\n      <td>NaN</td>\n      <td>NaN</td>\n    </tr>\n    <tr>\n      <th>16803</th>\n      <td>1010739</td>\n      <td>NaN</td>\n      <td>NaN</td>\n    </tr>\n    <tr>\n      <th>16941</th>\n      <td>1010882</td>\n      <td>NaN</td>\n      <td>NaN</td>\n    </tr>\n    <tr>\n      <th>17112</th>\n      <td>1011053</td>\n      <td>NaN</td>\n      <td>NaN</td>\n    </tr>\n    <tr>\n      <th>18126</th>\n      <td>1012086</td>\n      <td>NaN</td>\n      <td>NaN</td>\n    </tr>\n    <tr>\n      <th>18906</th>\n      <td>1012886</td>\n      <td>NaN</td>\n      <td>NaN</td>\n    </tr>\n    <tr>\n      <th>19862</th>\n      <td>1013857</td>\n      <td>NaN</td>\n      <td>NaN</td>\n    </tr>\n    <tr>\n      <th>20423</th>\n      <td>1014429</td>\n      <td>NaN</td>\n      <td>NaN</td>\n    </tr>\n    <tr>\n      <th>20461</th>\n      <td>1014468</td>\n      <td>NaN</td>\n      <td>NaN</td>\n    </tr>\n  </tbody>\n</table>\n</div>"
     },
     "execution_count": 66,
     "metadata": {},
     "output_type": "execute_result"
    }
   ],
   "source": [
    "BREF_NO_MLBAM = {1009181: 'morgapi01', 1010606: 'quinnjo01', 1002190: 'childsa01', 1014137: 'winklge01', 1007482: 'lehanja01', 1014470: 'gormato04', 1011344: 'ryanjo03', 1014471: 'mccaf01', 1009686: \"o'brida01\", 1014345: 'yinglch01', 1012879: 'tayloja02', 1014469: 'glaseno01'}\n",
    "\n",
    "# pid = pd.read_csv('playerIDlookup.csv')\n",
    "pid2 = pd.read_csv('playerids.csv').rename({'fangraphsid': 'FGID', 'mlbamid': 'MLBID'}, axis=1)\n",
    "pid2['BRID'] = pid2['FGID'].map(BREF_NO_MLBAM)\n",
    "pid2[pid2[['MLBID', 'BRID']].isna().all(axis=1)]"
   ],
   "metadata": {
    "collapsed": false,
    "ExecuteTime": {
     "end_time": "2024-01-27T04:56:23.914748Z",
     "start_time": "2024-01-27T04:56:23.872950Z"
    }
   },
   "id": "88a07c4e83d17721"
  },
  {
   "cell_type": "code",
   "execution_count": 84,
   "outputs": [
    {
     "data": {
      "text/plain": "      PlayerID TeamAbr\n0    abramcj01     WSN\n1      abreujo     HOU\n2      abreuwi     BOS\n3    acunaro01     ATL\n4    adamewi01     MIL\n..         ...     ...\n893  zavalse01    None\n894  zavalse01     CHW\n895  zavalse01     ARI\n896  zuninmi01     CLE\n897       None    None\n\n[898 rows x 2 columns]",
      "text/html": "<div>\n<style scoped>\n    .dataframe tbody tr th:only-of-type {\n        vertical-align: middle;\n    }\n\n    .dataframe tbody tr th {\n        vertical-align: top;\n    }\n\n    .dataframe thead th {\n        text-align: right;\n    }\n</style>\n<table border=\"1\" class=\"dataframe\">\n  <thead>\n    <tr style=\"text-align: right;\">\n      <th></th>\n      <th>PlayerID</th>\n      <th>TeamAbr</th>\n    </tr>\n  </thead>\n  <tbody>\n    <tr>\n      <th>0</th>\n      <td>abramcj01</td>\n      <td>WSN</td>\n    </tr>\n    <tr>\n      <th>1</th>\n      <td>abreujo</td>\n      <td>HOU</td>\n    </tr>\n    <tr>\n      <th>2</th>\n      <td>abreuwi</td>\n      <td>BOS</td>\n    </tr>\n    <tr>\n      <th>3</th>\n      <td>acunaro01</td>\n      <td>ATL</td>\n    </tr>\n    <tr>\n      <th>4</th>\n      <td>adamewi01</td>\n      <td>MIL</td>\n    </tr>\n    <tr>\n      <th>...</th>\n      <td>...</td>\n      <td>...</td>\n    </tr>\n    <tr>\n      <th>893</th>\n      <td>zavalse01</td>\n      <td>None</td>\n    </tr>\n    <tr>\n      <th>894</th>\n      <td>zavalse01</td>\n      <td>CHW</td>\n    </tr>\n    <tr>\n      <th>895</th>\n      <td>zavalse01</td>\n      <td>ARI</td>\n    </tr>\n    <tr>\n      <th>896</th>\n      <td>zuninmi01</td>\n      <td>CLE</td>\n    </tr>\n    <tr>\n      <th>897</th>\n      <td>None</td>\n      <td>None</td>\n    </tr>\n  </tbody>\n</table>\n<p>898 rows × 2 columns</p>\n</div>"
     },
     "execution_count": 84,
     "metadata": {},
     "output_type": "execute_result"
    }
   ],
   "source": [
    "df[['PlayerID', 'TeamAbr']] = df[['PlayerID', 'TeamAbr']].apply(lambda x: x.str.strip('.shtml').str.strip('/2023').str.split('/').str[-1])"
   ],
   "metadata": {
    "collapsed": false,
    "ExecuteTime": {
     "end_time": "2024-01-26T06:31:24.775162Z",
     "start_time": "2024-01-26T06:31:24.717655Z"
    }
   },
   "id": "37f98697311f1a9e"
  },
  {
   "cell_type": "code",
   "execution_count": 23,
   "outputs": [
    {
     "data": {
      "text/plain": "        Season             Name Team    G   AB   PA    H   1B  2B  3B  ...  \\\n0         2016     Mookie Betts  BOS  158  672  730  214  136  42   5  ...   \n1         2015      Jose Altuve  HOU  154  638  689  200  141  40   4  ...   \n2         2016      Jose Altuve  HOU  161  640  717  216  145  42   5  ...   \n3         2017   Ender Inciarte  ATL  158  662  718  201  158  27   5  ...   \n4         2021  Whit Merrifield  KCR  162  664  720  184  129  42   3  ...   \n...        ...              ...  ...  ...  ...  ...  ...  ...  ..  ..  ...   \n104484    1950      Wes Westrum  NYG  140  437  532  103   64  13   3  ...   \n104485    1950     Dick Whitman  PHI   75  132  145   33   26   7   0  ...   \n104486    1950        Ted Wilks  STL   18    4    4    0    0   0   0  ...   \n104487    1950  Johnny Wyrostek  CIN  131  509  569  145   98  34   5  ...   \n104488    1950        Sal Yvars  NYG    9   14   15    2    2   0   0  ...   \n\n              NameASCII  PlayerId   MLBAMID    BBE      Pull      Cent  \\\n0          Mookie Betts     13611  605141.0  597.0  237.1881  209.3082   \n1           Jose Altuve      5417  514888.0  574.0  260.2516  203.8848   \n2           Jose Altuve      5417  514888.0  572.0  259.3448  204.1468   \n3        Ender Inciarte      4922  542255.0  553.0  167.6143  212.9050   \n4       Whit Merrifield     11281  593160.0  568.0  202.2080  183.4072   \n...                 ...       ...       ...    ...       ...       ...   \n104484      Wes Westrum   1013812  124121.0    0.0       NaN       NaN   \n104485     Dick Whitman   1013904  124214.0    0.0       NaN       NaN   \n104486        Ted Wilks   1013962  124276.0    0.0       NaN       NaN   \n104487  Johnny Wyrostek   1014314  124638.0    0.0       NaN       NaN   \n104488        Sal Yvars   1014400  124725.0    0.0       NaN       NaN   \n\n            Oppo      Soft       Med      Hard  \n0       150.5037  103.6392  294.0225  199.3383  \n1       109.8636  113.8242  311.7394  148.4364  \n2       108.5084   77.9064  300.8148  193.2788  \n3       172.4254  115.6323  315.0441  122.3789  \n4       182.3848   68.3872  350.9104  148.7024  \n...          ...       ...       ...       ...  \n104484       NaN       NaN       NaN       NaN  \n104485       NaN       NaN       NaN       NaN  \n104486       NaN       NaN       NaN       NaN  \n104487       NaN       NaN       NaN       NaN  \n104488       NaN       NaN       NaN       NaN  \n\n[104489 rows x 75 columns]",
      "text/html": "<div>\n<style scoped>\n    .dataframe tbody tr th:only-of-type {\n        vertical-align: middle;\n    }\n\n    .dataframe tbody tr th {\n        vertical-align: top;\n    }\n\n    .dataframe thead th {\n        text-align: right;\n    }\n</style>\n<table border=\"1\" class=\"dataframe\">\n  <thead>\n    <tr style=\"text-align: right;\">\n      <th></th>\n      <th>Season</th>\n      <th>Name</th>\n      <th>Team</th>\n      <th>G</th>\n      <th>AB</th>\n      <th>PA</th>\n      <th>H</th>\n      <th>1B</th>\n      <th>2B</th>\n      <th>3B</th>\n      <th>...</th>\n      <th>NameASCII</th>\n      <th>PlayerId</th>\n      <th>MLBAMID</th>\n      <th>BBE</th>\n      <th>Pull</th>\n      <th>Cent</th>\n      <th>Oppo</th>\n      <th>Soft</th>\n      <th>Med</th>\n      <th>Hard</th>\n    </tr>\n  </thead>\n  <tbody>\n    <tr>\n      <th>0</th>\n      <td>2016</td>\n      <td>Mookie Betts</td>\n      <td>BOS</td>\n      <td>158</td>\n      <td>672</td>\n      <td>730</td>\n      <td>214</td>\n      <td>136</td>\n      <td>42</td>\n      <td>5</td>\n      <td>...</td>\n      <td>Mookie Betts</td>\n      <td>13611</td>\n      <td>605141.0</td>\n      <td>597.0</td>\n      <td>237.1881</td>\n      <td>209.3082</td>\n      <td>150.5037</td>\n      <td>103.6392</td>\n      <td>294.0225</td>\n      <td>199.3383</td>\n    </tr>\n    <tr>\n      <th>1</th>\n      <td>2015</td>\n      <td>Jose Altuve</td>\n      <td>HOU</td>\n      <td>154</td>\n      <td>638</td>\n      <td>689</td>\n      <td>200</td>\n      <td>141</td>\n      <td>40</td>\n      <td>4</td>\n      <td>...</td>\n      <td>Jose Altuve</td>\n      <td>5417</td>\n      <td>514888.0</td>\n      <td>574.0</td>\n      <td>260.2516</td>\n      <td>203.8848</td>\n      <td>109.8636</td>\n      <td>113.8242</td>\n      <td>311.7394</td>\n      <td>148.4364</td>\n    </tr>\n    <tr>\n      <th>2</th>\n      <td>2016</td>\n      <td>Jose Altuve</td>\n      <td>HOU</td>\n      <td>161</td>\n      <td>640</td>\n      <td>717</td>\n      <td>216</td>\n      <td>145</td>\n      <td>42</td>\n      <td>5</td>\n      <td>...</td>\n      <td>Jose Altuve</td>\n      <td>5417</td>\n      <td>514888.0</td>\n      <td>572.0</td>\n      <td>259.3448</td>\n      <td>204.1468</td>\n      <td>108.5084</td>\n      <td>77.9064</td>\n      <td>300.8148</td>\n      <td>193.2788</td>\n    </tr>\n    <tr>\n      <th>3</th>\n      <td>2017</td>\n      <td>Ender Inciarte</td>\n      <td>ATL</td>\n      <td>158</td>\n      <td>662</td>\n      <td>718</td>\n      <td>201</td>\n      <td>158</td>\n      <td>27</td>\n      <td>5</td>\n      <td>...</td>\n      <td>Ender Inciarte</td>\n      <td>4922</td>\n      <td>542255.0</td>\n      <td>553.0</td>\n      <td>167.6143</td>\n      <td>212.9050</td>\n      <td>172.4254</td>\n      <td>115.6323</td>\n      <td>315.0441</td>\n      <td>122.3789</td>\n    </tr>\n    <tr>\n      <th>4</th>\n      <td>2021</td>\n      <td>Whit Merrifield</td>\n      <td>KCR</td>\n      <td>162</td>\n      <td>664</td>\n      <td>720</td>\n      <td>184</td>\n      <td>129</td>\n      <td>42</td>\n      <td>3</td>\n      <td>...</td>\n      <td>Whit Merrifield</td>\n      <td>11281</td>\n      <td>593160.0</td>\n      <td>568.0</td>\n      <td>202.2080</td>\n      <td>183.4072</td>\n      <td>182.3848</td>\n      <td>68.3872</td>\n      <td>350.9104</td>\n      <td>148.7024</td>\n    </tr>\n    <tr>\n      <th>...</th>\n      <td>...</td>\n      <td>...</td>\n      <td>...</td>\n      <td>...</td>\n      <td>...</td>\n      <td>...</td>\n      <td>...</td>\n      <td>...</td>\n      <td>...</td>\n      <td>...</td>\n      <td>...</td>\n      <td>...</td>\n      <td>...</td>\n      <td>...</td>\n      <td>...</td>\n      <td>...</td>\n      <td>...</td>\n      <td>...</td>\n      <td>...</td>\n      <td>...</td>\n      <td>...</td>\n    </tr>\n    <tr>\n      <th>104484</th>\n      <td>1950</td>\n      <td>Wes Westrum</td>\n      <td>NYG</td>\n      <td>140</td>\n      <td>437</td>\n      <td>532</td>\n      <td>103</td>\n      <td>64</td>\n      <td>13</td>\n      <td>3</td>\n      <td>...</td>\n      <td>Wes Westrum</td>\n      <td>1013812</td>\n      <td>124121.0</td>\n      <td>0.0</td>\n      <td>NaN</td>\n      <td>NaN</td>\n      <td>NaN</td>\n      <td>NaN</td>\n      <td>NaN</td>\n      <td>NaN</td>\n    </tr>\n    <tr>\n      <th>104485</th>\n      <td>1950</td>\n      <td>Dick Whitman</td>\n      <td>PHI</td>\n      <td>75</td>\n      <td>132</td>\n      <td>145</td>\n      <td>33</td>\n      <td>26</td>\n      <td>7</td>\n      <td>0</td>\n      <td>...</td>\n      <td>Dick Whitman</td>\n      <td>1013904</td>\n      <td>124214.0</td>\n      <td>0.0</td>\n      <td>NaN</td>\n      <td>NaN</td>\n      <td>NaN</td>\n      <td>NaN</td>\n      <td>NaN</td>\n      <td>NaN</td>\n    </tr>\n    <tr>\n      <th>104486</th>\n      <td>1950</td>\n      <td>Ted Wilks</td>\n      <td>STL</td>\n      <td>18</td>\n      <td>4</td>\n      <td>4</td>\n      <td>0</td>\n      <td>0</td>\n      <td>0</td>\n      <td>0</td>\n      <td>...</td>\n      <td>Ted Wilks</td>\n      <td>1013962</td>\n      <td>124276.0</td>\n      <td>0.0</td>\n      <td>NaN</td>\n      <td>NaN</td>\n      <td>NaN</td>\n      <td>NaN</td>\n      <td>NaN</td>\n      <td>NaN</td>\n    </tr>\n    <tr>\n      <th>104487</th>\n      <td>1950</td>\n      <td>Johnny Wyrostek</td>\n      <td>CIN</td>\n      <td>131</td>\n      <td>509</td>\n      <td>569</td>\n      <td>145</td>\n      <td>98</td>\n      <td>34</td>\n      <td>5</td>\n      <td>...</td>\n      <td>Johnny Wyrostek</td>\n      <td>1014314</td>\n      <td>124638.0</td>\n      <td>0.0</td>\n      <td>NaN</td>\n      <td>NaN</td>\n      <td>NaN</td>\n      <td>NaN</td>\n      <td>NaN</td>\n      <td>NaN</td>\n    </tr>\n    <tr>\n      <th>104488</th>\n      <td>1950</td>\n      <td>Sal Yvars</td>\n      <td>NYG</td>\n      <td>9</td>\n      <td>14</td>\n      <td>15</td>\n      <td>2</td>\n      <td>2</td>\n      <td>0</td>\n      <td>0</td>\n      <td>...</td>\n      <td>Sal Yvars</td>\n      <td>1014400</td>\n      <td>124725.0</td>\n      <td>0.0</td>\n      <td>NaN</td>\n      <td>NaN</td>\n      <td>NaN</td>\n      <td>NaN</td>\n      <td>NaN</td>\n      <td>NaN</td>\n    </tr>\n  </tbody>\n</table>\n<p>104489 rows × 75 columns</p>\n</div>"
     },
     "execution_count": 23,
     "metadata": {},
     "output_type": "execute_result"
    }
   ],
   "source": [
    "pss = pd.concat([pd.read_csv(file) for file in glob.glob('Hitters/*.csv')], ignore_index=True).rename({'PlayerID': 'FGID'}, axis=1)\n",
    "# pss['IP'] = pss['IP'].round() + (pss['IP'] - pss['IP'].round()).div(0.3)\n",
    "pss['BBE'] = pss[['GB', 'FB', 'LD']].sum(axis=1)\n",
    "pss[['Pull', 'Cent', 'Oppo', 'Soft', 'Med', 'Hard']] = pss[['Pull%', 'Cent%', 'Oppo%', 'Soft%', 'Med%', 'Hard%']].mul(pss['BBE'], axis=0)\n",
    "pss"
   ],
   "metadata": {
    "collapsed": false,
    "ExecuteTime": {
     "end_time": "2024-01-21T05:25:32.583918Z",
     "start_time": "2024-01-21T05:25:31.454431Z"
    }
   },
   "id": "49f5e8c1a09cb8f5"
  },
  {
   "cell_type": "code",
   "execution_count": 58,
   "outputs": [
    {
     "data": {
      "text/plain": "      Season             Name Team  Events    BBE     GB    FB    LD  IFFB  \\\n1561    2019  Tommy La Stella  LAA   270.0  262.0  119.0  87.0  56.0   9.0   \n1979    2021      Jorge Soler  KCR   220.0  214.0   85.0  98.0  31.0  12.0   \n\n       BU  BUH  \n1561  2.0  1.0  \n1979  0.0  0.0  ",
      "text/html": "<div>\n<style scoped>\n    .dataframe tbody tr th:only-of-type {\n        vertical-align: middle;\n    }\n\n    .dataframe tbody tr th {\n        vertical-align: top;\n    }\n\n    .dataframe thead th {\n        text-align: right;\n    }\n</style>\n<table border=\"1\" class=\"dataframe\">\n  <thead>\n    <tr style=\"text-align: right;\">\n      <th></th>\n      <th>Season</th>\n      <th>Name</th>\n      <th>Team</th>\n      <th>Events</th>\n      <th>BBE</th>\n      <th>GB</th>\n      <th>FB</th>\n      <th>LD</th>\n      <th>IFFB</th>\n      <th>BU</th>\n      <th>BUH</th>\n    </tr>\n  </thead>\n  <tbody>\n    <tr>\n      <th>1561</th>\n      <td>2019</td>\n      <td>Tommy La Stella</td>\n      <td>LAA</td>\n      <td>270.0</td>\n      <td>262.0</td>\n      <td>119.0</td>\n      <td>87.0</td>\n      <td>56.0</td>\n      <td>9.0</td>\n      <td>2.0</td>\n      <td>1.0</td>\n    </tr>\n    <tr>\n      <th>1979</th>\n      <td>2021</td>\n      <td>Jorge Soler</td>\n      <td>KCR</td>\n      <td>220.0</td>\n      <td>214.0</td>\n      <td>85.0</td>\n      <td>98.0</td>\n      <td>31.0</td>\n      <td>12.0</td>\n      <td>0.0</td>\n      <td>0.0</td>\n    </tr>\n  </tbody>\n</table>\n</div>"
     },
     "execution_count": 58,
     "metadata": {},
     "output_type": "execute_result"
    }
   ],
   "source": [
    "pss.loc[pss['BBE'].notna() & (pss['Events'] - (pss['BBE'] + pss['BU']) == 6), ['Season', 'Name', 'Team', 'Events', 'BBE', 'GB', 'FB', 'LD', 'IFFB', 'BU', 'BUH']]"
   ],
   "metadata": {
    "collapsed": false,
    "ExecuteTime": {
     "end_time": "2024-01-21T06:44:49.752882Z",
     "start_time": "2024-01-21T06:44:49.684419Z"
    }
   },
   "id": "ea94dbe1b9c6797c"
  },
  {
   "cell_type": "code",
   "execution_count": 44,
   "outputs": [
    {
     "data": {
      "text/plain": "       Season          Name Team  BBE  BIP   AB   SO  SF  SH\n13848    2015  Devon Travis  TOR  176  175  217   43   1   0\n15533    2013  Lyle Overbay  NYY  339  338  445  111   4   0",
      "text/html": "<div>\n<style scoped>\n    .dataframe tbody tr th:only-of-type {\n        vertical-align: middle;\n    }\n\n    .dataframe tbody tr th {\n        vertical-align: top;\n    }\n\n    .dataframe thead th {\n        text-align: right;\n    }\n</style>\n<table border=\"1\" class=\"dataframe\">\n  <thead>\n    <tr style=\"text-align: right;\">\n      <th></th>\n      <th>Season</th>\n      <th>Name</th>\n      <th>Team</th>\n      <th>BBE</th>\n      <th>BIP</th>\n      <th>AB</th>\n      <th>SO</th>\n      <th>SF</th>\n      <th>SH</th>\n    </tr>\n  </thead>\n  <tbody>\n    <tr>\n      <th>13848</th>\n      <td>2015</td>\n      <td>Devon Travis</td>\n      <td>TOR</td>\n      <td>176</td>\n      <td>175</td>\n      <td>217</td>\n      <td>43</td>\n      <td>1</td>\n      <td>0</td>\n    </tr>\n    <tr>\n      <th>15533</th>\n      <td>2013</td>\n      <td>Lyle Overbay</td>\n      <td>NYY</td>\n      <td>339</td>\n      <td>338</td>\n      <td>445</td>\n      <td>111</td>\n      <td>4</td>\n      <td>0</td>\n    </tr>\n  </tbody>\n</table>\n</div>"
     },
     "execution_count": 44,
     "metadata": {},
     "output_type": "execute_result"
    }
   ],
   "source": [
    "df = pd.read_csv('hitters2002-2023alt.csv')\n",
    "d = 6\n",
    "df['BIP'] = df['AB'] + df['SF'] - df['SO'] + df['SH']\n",
    "df['BBE'] = df[['GB', 'LD', 'FB']].sum(axis=1)\n",
    "df.loc[df['BBE'] > df['BIP'], ['Season', 'Name', 'Team', 'BBE', 'BIP', 'AB', 'SO', 'SF', 'SH']]"
   ],
   "metadata": {
    "collapsed": false,
    "ExecuteTime": {
     "end_time": "2024-01-23T04:46:34.490580Z",
     "start_time": "2024-01-23T04:46:34.128360Z"
    }
   },
   "id": "98b36d35611da211"
  },
  {
   "cell_type": "code",
   "execution_count": 25,
   "outputs": [
    {
     "data": {
      "text/plain": "0.4085"
     },
     "execution_count": 25,
     "metadata": {},
     "output_type": "execute_result"
    }
   ],
   "source": [
    "df[['Oppo', 'Cent', 'Pull', 'Soft', 'Med', 'Hard', 'GB2', 'LD2', 'FB2']] = df[['Oppo%', 'Cent%', 'Pull%', 'Soft%', 'Med%', 'Hard%', 'GB%', 'LD%', 'FB%']].mul(df['BBE'], axis=0)\n",
    "# df = df[['Season', 'Name', 'Team', 'BBE', 'GB%', 'LD%', 'FB%']].merge(df[['GB', 'LD', 'FB']].div(df['BBE'], axis=0), left_index=True, right_index=True).dropna()\n",
    "df[['Season', 'Name', 'Team', 'BBE', 'Oppo%', 'Cent%', 'Pull%', 'Soft%', 'Med%', 'Hard%', 'GB%', 'LD%', 'FB%']].dropna(ignore_index=True).loc[1, 'Pull%']\n",
    "# df[['Season', 'Name', 'Team', 'BBE']].merge((df[['Oppo', 'Cent', 'Pull', 'Soft', 'Med', 'Hard', 'GB2', 'LD2', 'FB2']] - df[['Oppo', 'Cent', 'Pull', 'Soft', 'Med', 'Hard', 'GB2', 'LD2', 'FB2']].round()).abs(), left_index=True, right_index=True).dropna(ignore_index=True)  #[(df['GB%'].round(d) != df['GB'].round(d)) | (df['LD%'].round(d) != df['LD'].round(d)) | (df['FB%'].round(d) != df['FB'].round(d))]"
   ],
   "metadata": {
    "collapsed": false,
    "ExecuteTime": {
     "start_time": "2024-01-23T03:40:40.502746Z"
    }
   },
   "id": "1fba176506c40aba"
  },
  {
   "cell_type": "code",
   "execution_count": 34,
   "outputs": [
    {
     "data": {
      "text/plain": "Pull%     133.988\nCent%    110.9952\nOppo%      82.984\nName: 9, dtype: object"
     },
     "execution_count": 34,
     "metadata": {},
     "output_type": "execute_result"
    }
   ],
   "source": [
    "df.loc[9, ['Pull%', 'Cent%', 'Oppo%']] * 328"
   ],
   "metadata": {
    "collapsed": false,
    "ExecuteTime": {
     "end_time": "2024-01-23T03:46:22.578117Z",
     "start_time": "2024-01-23T03:46:22.547017Z"
    }
   },
   "id": "eafab1c4f48c78d5"
  },
  {
   "cell_type": "code",
   "execution_count": 73,
   "outputs": [
    {
     "data": {
      "text/plain": "       Season            Name Team       GB%       LD%       FB%  PctSum\n9        2023   David Peralta  LAD  0.483180  0.217125  0.299694  0.9999\n14       2023     Nelson Cruz  SDP  0.438776  0.214286  0.346939  1.0001\n19       2023   Roberto Pérez  SFG  0.555556  0.333333  0.111111  0.9999\n27       2023   Anthony Rizzo  NYY  0.333333  0.257246  0.409420  0.9999\n43       2023  Josh Donaldson  MIL  0.487805  0.097561  0.414634  0.9999\n...       ...             ...  ...       ...       ...       ...     ...\n31772    2002  Salomon Torres  PIT  0.750000  0.125000  0.125000  0.9999\n31773    2002     Eric Valent  PHI  0.571429  0.142857  0.285714  1.0001\n31779    2002      David Lamb  MIN  0.625000  0.125000  0.250000  0.9999\n31785    2002    Michael Ryan  MIN  0.777778  0.111111  0.111111  0.9999\n31786    2002      Todd Sears  MIN  0.545455  0.181818  0.272727  0.9999\n\n[4309 rows x 7 columns]",
      "text/html": "<div>\n<style scoped>\n    .dataframe tbody tr th:only-of-type {\n        vertical-align: middle;\n    }\n\n    .dataframe tbody tr th {\n        vertical-align: top;\n    }\n\n    .dataframe thead th {\n        text-align: right;\n    }\n</style>\n<table border=\"1\" class=\"dataframe\">\n  <thead>\n    <tr style=\"text-align: right;\">\n      <th></th>\n      <th>Season</th>\n      <th>Name</th>\n      <th>Team</th>\n      <th>GB%</th>\n      <th>LD%</th>\n      <th>FB%</th>\n      <th>PctSum</th>\n    </tr>\n  </thead>\n  <tbody>\n    <tr>\n      <th>9</th>\n      <td>2023</td>\n      <td>David Peralta</td>\n      <td>LAD</td>\n      <td>0.483180</td>\n      <td>0.217125</td>\n      <td>0.299694</td>\n      <td>0.9999</td>\n    </tr>\n    <tr>\n      <th>14</th>\n      <td>2023</td>\n      <td>Nelson Cruz</td>\n      <td>SDP</td>\n      <td>0.438776</td>\n      <td>0.214286</td>\n      <td>0.346939</td>\n      <td>1.0001</td>\n    </tr>\n    <tr>\n      <th>19</th>\n      <td>2023</td>\n      <td>Roberto Pérez</td>\n      <td>SFG</td>\n      <td>0.555556</td>\n      <td>0.333333</td>\n      <td>0.111111</td>\n      <td>0.9999</td>\n    </tr>\n    <tr>\n      <th>27</th>\n      <td>2023</td>\n      <td>Anthony Rizzo</td>\n      <td>NYY</td>\n      <td>0.333333</td>\n      <td>0.257246</td>\n      <td>0.409420</td>\n      <td>0.9999</td>\n    </tr>\n    <tr>\n      <th>43</th>\n      <td>2023</td>\n      <td>Josh Donaldson</td>\n      <td>MIL</td>\n      <td>0.487805</td>\n      <td>0.097561</td>\n      <td>0.414634</td>\n      <td>0.9999</td>\n    </tr>\n    <tr>\n      <th>...</th>\n      <td>...</td>\n      <td>...</td>\n      <td>...</td>\n      <td>...</td>\n      <td>...</td>\n      <td>...</td>\n      <td>...</td>\n    </tr>\n    <tr>\n      <th>31772</th>\n      <td>2002</td>\n      <td>Salomon Torres</td>\n      <td>PIT</td>\n      <td>0.750000</td>\n      <td>0.125000</td>\n      <td>0.125000</td>\n      <td>0.9999</td>\n    </tr>\n    <tr>\n      <th>31773</th>\n      <td>2002</td>\n      <td>Eric Valent</td>\n      <td>PHI</td>\n      <td>0.571429</td>\n      <td>0.142857</td>\n      <td>0.285714</td>\n      <td>1.0001</td>\n    </tr>\n    <tr>\n      <th>31779</th>\n      <td>2002</td>\n      <td>David Lamb</td>\n      <td>MIN</td>\n      <td>0.625000</td>\n      <td>0.125000</td>\n      <td>0.250000</td>\n      <td>0.9999</td>\n    </tr>\n    <tr>\n      <th>31785</th>\n      <td>2002</td>\n      <td>Michael Ryan</td>\n      <td>MIN</td>\n      <td>0.777778</td>\n      <td>0.111111</td>\n      <td>0.111111</td>\n      <td>0.9999</td>\n    </tr>\n    <tr>\n      <th>31786</th>\n      <td>2002</td>\n      <td>Todd Sears</td>\n      <td>MIN</td>\n      <td>0.545455</td>\n      <td>0.181818</td>\n      <td>0.272727</td>\n      <td>0.9999</td>\n    </tr>\n  </tbody>\n</table>\n<p>4309 rows × 7 columns</p>\n</div>"
     },
     "execution_count": 73,
     "metadata": {},
     "output_type": "execute_result"
    }
   ],
   "source": [
    "df['PctSum'] = df[['GB%', 'LD%', 'FB%']].sum(axis=1)\n",
    "df[df['PctSum'] > 0.0].loc[df.loc[df['PctSum'] > 0.0, 'PctSum'].sub(1.0).abs() > df.loc[df['PctSum'] > 0.0, 'PctSum'].sub(1.0).abs().quantile(0.99), ['Season', 'Name', 'Team', 'GB%', 'LD%', 'FB%', 'PctSum']]"
   ],
   "metadata": {
    "collapsed": false,
    "ExecuteTime": {
     "start_time": "2024-01-21T07:48:43.470500Z"
    }
   },
   "id": "c13b5cbc87d5bdae"
  },
  {
   "cell_type": "code",
   "execution_count": 85,
   "outputs": [
    {
     "data": {
      "text/plain": "       Season             Name Team   Pull%   Cent%   Oppo%  PctSum\n9        2023    David Peralta  LAD  0.4085  0.3384  0.2530  0.9999\n27       2023    Anthony Rizzo  NYY  0.4440  0.3610  0.1949  0.9999\n43       2023   Josh Donaldson  MIL  0.4634  0.3902  0.1463  0.9999\n86       2023   Salvador Perez  KCR  0.4355  0.3333  0.2311  0.9999\n249      2023    Jace Peterson  ARI  0.3857  0.3571  0.2571  0.9999\n...       ...              ...  ...     ...     ...     ...     ...\n31382    2002  Placido Polanco  PHI  0.4308  0.3385  0.2308  1.0001\n31495    2002      Eric Hinske  TOR  0.4226  0.2979  0.2794  0.9999\n31532    2002     Mark Loretta  MIL  0.3420  0.2902  0.3679  1.0001\n31545    2002    Chris Donnels  ARI  0.5072  0.3623  0.1304  0.9999\n31727    2002     Greg LaRocca  CLE  0.4783  0.2609  0.2609  1.0001\n\n[195 rows x 7 columns]",
      "text/html": "<div>\n<style scoped>\n    .dataframe tbody tr th:only-of-type {\n        vertical-align: middle;\n    }\n\n    .dataframe tbody tr th {\n        vertical-align: top;\n    }\n\n    .dataframe thead th {\n        text-align: right;\n    }\n</style>\n<table border=\"1\" class=\"dataframe\">\n  <thead>\n    <tr style=\"text-align: right;\">\n      <th></th>\n      <th>Season</th>\n      <th>Name</th>\n      <th>Team</th>\n      <th>Pull%</th>\n      <th>Cent%</th>\n      <th>Oppo%</th>\n      <th>PctSum</th>\n    </tr>\n  </thead>\n  <tbody>\n    <tr>\n      <th>9</th>\n      <td>2023</td>\n      <td>David Peralta</td>\n      <td>LAD</td>\n      <td>0.4085</td>\n      <td>0.3384</td>\n      <td>0.2530</td>\n      <td>0.9999</td>\n    </tr>\n    <tr>\n      <th>27</th>\n      <td>2023</td>\n      <td>Anthony Rizzo</td>\n      <td>NYY</td>\n      <td>0.4440</td>\n      <td>0.3610</td>\n      <td>0.1949</td>\n      <td>0.9999</td>\n    </tr>\n    <tr>\n      <th>43</th>\n      <td>2023</td>\n      <td>Josh Donaldson</td>\n      <td>MIL</td>\n      <td>0.4634</td>\n      <td>0.3902</td>\n      <td>0.1463</td>\n      <td>0.9999</td>\n    </tr>\n    <tr>\n      <th>86</th>\n      <td>2023</td>\n      <td>Salvador Perez</td>\n      <td>KCR</td>\n      <td>0.4355</td>\n      <td>0.3333</td>\n      <td>0.2311</td>\n      <td>0.9999</td>\n    </tr>\n    <tr>\n      <th>249</th>\n      <td>2023</td>\n      <td>Jace Peterson</td>\n      <td>ARI</td>\n      <td>0.3857</td>\n      <td>0.3571</td>\n      <td>0.2571</td>\n      <td>0.9999</td>\n    </tr>\n    <tr>\n      <th>...</th>\n      <td>...</td>\n      <td>...</td>\n      <td>...</td>\n      <td>...</td>\n      <td>...</td>\n      <td>...</td>\n      <td>...</td>\n    </tr>\n    <tr>\n      <th>31382</th>\n      <td>2002</td>\n      <td>Placido Polanco</td>\n      <td>PHI</td>\n      <td>0.4308</td>\n      <td>0.3385</td>\n      <td>0.2308</td>\n      <td>1.0001</td>\n    </tr>\n    <tr>\n      <th>31495</th>\n      <td>2002</td>\n      <td>Eric Hinske</td>\n      <td>TOR</td>\n      <td>0.4226</td>\n      <td>0.2979</td>\n      <td>0.2794</td>\n      <td>0.9999</td>\n    </tr>\n    <tr>\n      <th>31532</th>\n      <td>2002</td>\n      <td>Mark Loretta</td>\n      <td>MIL</td>\n      <td>0.3420</td>\n      <td>0.2902</td>\n      <td>0.3679</td>\n      <td>1.0001</td>\n    </tr>\n    <tr>\n      <th>31545</th>\n      <td>2002</td>\n      <td>Chris Donnels</td>\n      <td>ARI</td>\n      <td>0.5072</td>\n      <td>0.3623</td>\n      <td>0.1304</td>\n      <td>0.9999</td>\n    </tr>\n    <tr>\n      <th>31727</th>\n      <td>2002</td>\n      <td>Greg LaRocca</td>\n      <td>CLE</td>\n      <td>0.4783</td>\n      <td>0.2609</td>\n      <td>0.2609</td>\n      <td>1.0001</td>\n    </tr>\n  </tbody>\n</table>\n<p>195 rows × 7 columns</p>\n</div>"
     },
     "execution_count": 85,
     "metadata": {},
     "output_type": "execute_result"
    }
   ],
   "source": [
    "df['PctSum'] = df[['Pull%', 'Cent%', 'Oppo%']].sum(axis=1)\n",
    "df[df['PctSum'] > 0.0].loc[df.loc[df['PctSum'] > 0.0, 'PctSum'].sub(1.0).abs() > df.loc[df['PctSum'] > 0.0, 'PctSum'].sub(1.0).abs().quantile(0.99), ['Season', 'Name', 'Team', 'Pull%', 'Cent%', 'Oppo%', 'PctSum']]"
   ],
   "metadata": {
    "collapsed": false,
    "ExecuteTime": {
     "end_time": "2024-01-21T07:55:43.577762Z",
     "start_time": "2024-01-21T07:55:43.535449Z"
    }
   },
   "id": "b11f276bbe21223d"
  },
  {
   "cell_type": "code",
   "execution_count": 86,
   "outputs": [
    {
     "data": {
      "text/plain": "       Season               Name Team   Soft%    Med%   Hard%  PctSum\n785      2023   Ryan Mountcastle  BAL  0.1053  0.5573  0.3375  1.0001\n2291     2022      Yonathan Daza  COL  0.1688  0.5844  0.2469  1.0001\n2687     2022        Nicky Lopez  KCR  0.1849  0.5964  0.2188  1.0001\n3619     2021  Enrique Hernández  BOS  0.1531  0.4914  0.3556  1.0001\n4049     2021        Pat Valaika  BAL  0.1872  0.5348  0.2781  1.0001\n...       ...                ...  ...     ...     ...     ...     ...\n31194    2002      Randy Velarde  OAK  0.1748  0.6408  0.1845  1.0001\n31353    2002     Reggie Sanders  SFG  0.1385  0.5744  0.2872  1.0001\n31424    2002       Damian Rolls  TBD  0.0811  0.7568  0.1622  1.0001\n31454    2002       Ryan Ludwick  TEX  0.1053  0.6316  0.2632  1.0001\n31456    2002      Calvin Murray  TEX  0.1094  0.7969  0.0938  1.0001\n\n[77 rows x 7 columns]",
      "text/html": "<div>\n<style scoped>\n    .dataframe tbody tr th:only-of-type {\n        vertical-align: middle;\n    }\n\n    .dataframe tbody tr th {\n        vertical-align: top;\n    }\n\n    .dataframe thead th {\n        text-align: right;\n    }\n</style>\n<table border=\"1\" class=\"dataframe\">\n  <thead>\n    <tr style=\"text-align: right;\">\n      <th></th>\n      <th>Season</th>\n      <th>Name</th>\n      <th>Team</th>\n      <th>Soft%</th>\n      <th>Med%</th>\n      <th>Hard%</th>\n      <th>PctSum</th>\n    </tr>\n  </thead>\n  <tbody>\n    <tr>\n      <th>785</th>\n      <td>2023</td>\n      <td>Ryan Mountcastle</td>\n      <td>BAL</td>\n      <td>0.1053</td>\n      <td>0.5573</td>\n      <td>0.3375</td>\n      <td>1.0001</td>\n    </tr>\n    <tr>\n      <th>2291</th>\n      <td>2022</td>\n      <td>Yonathan Daza</td>\n      <td>COL</td>\n      <td>0.1688</td>\n      <td>0.5844</td>\n      <td>0.2469</td>\n      <td>1.0001</td>\n    </tr>\n    <tr>\n      <th>2687</th>\n      <td>2022</td>\n      <td>Nicky Lopez</td>\n      <td>KCR</td>\n      <td>0.1849</td>\n      <td>0.5964</td>\n      <td>0.2188</td>\n      <td>1.0001</td>\n    </tr>\n    <tr>\n      <th>3619</th>\n      <td>2021</td>\n      <td>Enrique Hernández</td>\n      <td>BOS</td>\n      <td>0.1531</td>\n      <td>0.4914</td>\n      <td>0.3556</td>\n      <td>1.0001</td>\n    </tr>\n    <tr>\n      <th>4049</th>\n      <td>2021</td>\n      <td>Pat Valaika</td>\n      <td>BAL</td>\n      <td>0.1872</td>\n      <td>0.5348</td>\n      <td>0.2781</td>\n      <td>1.0001</td>\n    </tr>\n    <tr>\n      <th>...</th>\n      <td>...</td>\n      <td>...</td>\n      <td>...</td>\n      <td>...</td>\n      <td>...</td>\n      <td>...</td>\n      <td>...</td>\n    </tr>\n    <tr>\n      <th>31194</th>\n      <td>2002</td>\n      <td>Randy Velarde</td>\n      <td>OAK</td>\n      <td>0.1748</td>\n      <td>0.6408</td>\n      <td>0.1845</td>\n      <td>1.0001</td>\n    </tr>\n    <tr>\n      <th>31353</th>\n      <td>2002</td>\n      <td>Reggie Sanders</td>\n      <td>SFG</td>\n      <td>0.1385</td>\n      <td>0.5744</td>\n      <td>0.2872</td>\n      <td>1.0001</td>\n    </tr>\n    <tr>\n      <th>31424</th>\n      <td>2002</td>\n      <td>Damian Rolls</td>\n      <td>TBD</td>\n      <td>0.0811</td>\n      <td>0.7568</td>\n      <td>0.1622</td>\n      <td>1.0001</td>\n    </tr>\n    <tr>\n      <th>31454</th>\n      <td>2002</td>\n      <td>Ryan Ludwick</td>\n      <td>TEX</td>\n      <td>0.1053</td>\n      <td>0.6316</td>\n      <td>0.2632</td>\n      <td>1.0001</td>\n    </tr>\n    <tr>\n      <th>31456</th>\n      <td>2002</td>\n      <td>Calvin Murray</td>\n      <td>TEX</td>\n      <td>0.1094</td>\n      <td>0.7969</td>\n      <td>0.0938</td>\n      <td>1.0001</td>\n    </tr>\n  </tbody>\n</table>\n<p>77 rows × 7 columns</p>\n</div>"
     },
     "execution_count": 86,
     "metadata": {},
     "output_type": "execute_result"
    }
   ],
   "source": [
    "df['PctSum'] = df[['Soft%', 'Med%', 'Hard%']].sum(axis=1)\n",
    "df[df['PctSum'] > 0.0].loc[df.loc[df['PctSum'] > 0.0, 'PctSum'].sub(1.0).abs() > df.loc[df['PctSum'] > 0.0, 'PctSum'].sub(1.0).abs().quantile(0.99), ['Season', 'Name', 'Team', 'Soft%', 'Med%', 'Hard%', 'PctSum']]"
   ],
   "metadata": {
    "collapsed": false,
    "ExecuteTime": {
     "end_time": "2024-01-21T07:58:33.593206Z",
     "start_time": "2024-01-21T07:58:33.542937Z"
    }
   },
   "id": "43d8a232bf61e0fc"
  },
  {
   "cell_type": "code",
   "execution_count": 2,
   "outputs": [
    {
     "ename": "ImportError",
     "evalue": "Missing optional dependency 'openpyxl'.  Use pip or conda to install openpyxl.",
     "output_type": "error",
     "traceback": [
      "\u001B[0;31m---------------------------------------------------------------------------\u001B[0m",
      "\u001B[0;31mModuleNotFoundError\u001B[0m                       Traceback (most recent call last)",
      "File \u001B[0;32m/usr/local/Caskroom/miniforge/base/envs/default/lib/python3.12/site-packages/pandas/compat/_optional.py:132\u001B[0m, in \u001B[0;36mimport_optional_dependency\u001B[0;34m(name, extra, errors, min_version)\u001B[0m\n\u001B[1;32m    131\u001B[0m \u001B[38;5;28;01mtry\u001B[39;00m:\n\u001B[0;32m--> 132\u001B[0m     module \u001B[38;5;241m=\u001B[39m \u001B[43mimportlib\u001B[49m\u001B[38;5;241;43m.\u001B[39;49m\u001B[43mimport_module\u001B[49m\u001B[43m(\u001B[49m\u001B[43mname\u001B[49m\u001B[43m)\u001B[49m\n\u001B[1;32m    133\u001B[0m \u001B[38;5;28;01mexcept\u001B[39;00m \u001B[38;5;167;01mImportError\u001B[39;00m:\n",
      "File \u001B[0;32m/usr/local/Caskroom/miniforge/base/envs/default/lib/python3.12/importlib/__init__.py:90\u001B[0m, in \u001B[0;36mimport_module\u001B[0;34m(name, package)\u001B[0m\n\u001B[1;32m     89\u001B[0m         level \u001B[38;5;241m+\u001B[39m\u001B[38;5;241m=\u001B[39m \u001B[38;5;241m1\u001B[39m\n\u001B[0;32m---> 90\u001B[0m \u001B[38;5;28;01mreturn\u001B[39;00m \u001B[43m_bootstrap\u001B[49m\u001B[38;5;241;43m.\u001B[39;49m\u001B[43m_gcd_import\u001B[49m\u001B[43m(\u001B[49m\u001B[43mname\u001B[49m\u001B[43m[\u001B[49m\u001B[43mlevel\u001B[49m\u001B[43m:\u001B[49m\u001B[43m]\u001B[49m\u001B[43m,\u001B[49m\u001B[43m \u001B[49m\u001B[43mpackage\u001B[49m\u001B[43m,\u001B[49m\u001B[43m \u001B[49m\u001B[43mlevel\u001B[49m\u001B[43m)\u001B[49m\n",
      "File \u001B[0;32m<frozen importlib._bootstrap>:1381\u001B[0m, in \u001B[0;36m_gcd_import\u001B[0;34m(name, package, level)\u001B[0m\n",
      "File \u001B[0;32m<frozen importlib._bootstrap>:1354\u001B[0m, in \u001B[0;36m_find_and_load\u001B[0;34m(name, import_)\u001B[0m\n",
      "File \u001B[0;32m<frozen importlib._bootstrap>:1318\u001B[0m, in \u001B[0;36m_find_and_load_unlocked\u001B[0;34m(name, import_)\u001B[0m\n",
      "\u001B[0;31mModuleNotFoundError\u001B[0m: No module named 'openpyxl'",
      "\nDuring handling of the above exception, another exception occurred:\n",
      "\u001B[0;31mImportError\u001B[0m                               Traceback (most recent call last)",
      "Cell \u001B[0;32mIn[2], line 1\u001B[0m\n\u001B[0;32m----> 1\u001B[0m df \u001B[38;5;241m=\u001B[39m \u001B[43mpd\u001B[49m\u001B[38;5;241;43m.\u001B[39;49m\u001B[43mread_excel\u001B[49m\u001B[43m(\u001B[49m\u001B[38;5;124;43m'\u001B[39;49m\u001B[38;5;124;43msportsref_download.xlsx\u001B[39;49m\u001B[38;5;124;43m'\u001B[39;49m\u001B[43m)\u001B[49m\n",
      "File \u001B[0;32m/usr/local/Caskroom/miniforge/base/envs/default/lib/python3.12/site-packages/pandas/io/excel/_base.py:504\u001B[0m, in \u001B[0;36mread_excel\u001B[0;34m(io, sheet_name, header, names, index_col, usecols, dtype, engine, converters, true_values, false_values, skiprows, nrows, na_values, keep_default_na, na_filter, verbose, parse_dates, date_parser, date_format, thousands, decimal, comment, skipfooter, storage_options, dtype_backend, engine_kwargs)\u001B[0m\n\u001B[1;32m    502\u001B[0m \u001B[38;5;28;01mif\u001B[39;00m \u001B[38;5;129;01mnot\u001B[39;00m \u001B[38;5;28misinstance\u001B[39m(io, ExcelFile):\n\u001B[1;32m    503\u001B[0m     should_close \u001B[38;5;241m=\u001B[39m \u001B[38;5;28;01mTrue\u001B[39;00m\n\u001B[0;32m--> 504\u001B[0m     io \u001B[38;5;241m=\u001B[39m \u001B[43mExcelFile\u001B[49m\u001B[43m(\u001B[49m\n\u001B[1;32m    505\u001B[0m \u001B[43m        \u001B[49m\u001B[43mio\u001B[49m\u001B[43m,\u001B[49m\n\u001B[1;32m    506\u001B[0m \u001B[43m        \u001B[49m\u001B[43mstorage_options\u001B[49m\u001B[38;5;241;43m=\u001B[39;49m\u001B[43mstorage_options\u001B[49m\u001B[43m,\u001B[49m\n\u001B[1;32m    507\u001B[0m \u001B[43m        \u001B[49m\u001B[43mengine\u001B[49m\u001B[38;5;241;43m=\u001B[39;49m\u001B[43mengine\u001B[49m\u001B[43m,\u001B[49m\n\u001B[1;32m    508\u001B[0m \u001B[43m        \u001B[49m\u001B[43mengine_kwargs\u001B[49m\u001B[38;5;241;43m=\u001B[39;49m\u001B[43mengine_kwargs\u001B[49m\u001B[43m,\u001B[49m\n\u001B[1;32m    509\u001B[0m \u001B[43m    \u001B[49m\u001B[43m)\u001B[49m\n\u001B[1;32m    510\u001B[0m \u001B[38;5;28;01melif\u001B[39;00m engine \u001B[38;5;129;01mand\u001B[39;00m engine \u001B[38;5;241m!=\u001B[39m io\u001B[38;5;241m.\u001B[39mengine:\n\u001B[1;32m    511\u001B[0m     \u001B[38;5;28;01mraise\u001B[39;00m \u001B[38;5;167;01mValueError\u001B[39;00m(\n\u001B[1;32m    512\u001B[0m         \u001B[38;5;124m\"\u001B[39m\u001B[38;5;124mEngine should not be specified when passing \u001B[39m\u001B[38;5;124m\"\u001B[39m\n\u001B[1;32m    513\u001B[0m         \u001B[38;5;124m\"\u001B[39m\u001B[38;5;124man ExcelFile - ExcelFile already has the engine set\u001B[39m\u001B[38;5;124m\"\u001B[39m\n\u001B[1;32m    514\u001B[0m     )\n",
      "File \u001B[0;32m/usr/local/Caskroom/miniforge/base/envs/default/lib/python3.12/site-packages/pandas/io/excel/_base.py:1580\u001B[0m, in \u001B[0;36mExcelFile.__init__\u001B[0;34m(self, path_or_buffer, engine, storage_options, engine_kwargs)\u001B[0m\n\u001B[1;32m   1577\u001B[0m \u001B[38;5;28mself\u001B[39m\u001B[38;5;241m.\u001B[39mengine \u001B[38;5;241m=\u001B[39m engine\n\u001B[1;32m   1578\u001B[0m \u001B[38;5;28mself\u001B[39m\u001B[38;5;241m.\u001B[39mstorage_options \u001B[38;5;241m=\u001B[39m storage_options\n\u001B[0;32m-> 1580\u001B[0m \u001B[38;5;28mself\u001B[39m\u001B[38;5;241m.\u001B[39m_reader \u001B[38;5;241m=\u001B[39m \u001B[38;5;28;43mself\u001B[39;49m\u001B[38;5;241;43m.\u001B[39;49m\u001B[43m_engines\u001B[49m\u001B[43m[\u001B[49m\u001B[43mengine\u001B[49m\u001B[43m]\u001B[49m\u001B[43m(\u001B[49m\n\u001B[1;32m   1581\u001B[0m \u001B[43m    \u001B[49m\u001B[38;5;28;43mself\u001B[39;49m\u001B[38;5;241;43m.\u001B[39;49m\u001B[43m_io\u001B[49m\u001B[43m,\u001B[49m\n\u001B[1;32m   1582\u001B[0m \u001B[43m    \u001B[49m\u001B[43mstorage_options\u001B[49m\u001B[38;5;241;43m=\u001B[39;49m\u001B[43mstorage_options\u001B[49m\u001B[43m,\u001B[49m\n\u001B[1;32m   1583\u001B[0m \u001B[43m    \u001B[49m\u001B[43mengine_kwargs\u001B[49m\u001B[38;5;241;43m=\u001B[39;49m\u001B[43mengine_kwargs\u001B[49m\u001B[43m,\u001B[49m\n\u001B[1;32m   1584\u001B[0m \u001B[43m\u001B[49m\u001B[43m)\u001B[49m\n",
      "File \u001B[0;32m/usr/local/Caskroom/miniforge/base/envs/default/lib/python3.12/site-packages/pandas/io/excel/_openpyxl.py:552\u001B[0m, in \u001B[0;36mOpenpyxlReader.__init__\u001B[0;34m(self, filepath_or_buffer, storage_options, engine_kwargs)\u001B[0m\n\u001B[1;32m    534\u001B[0m \u001B[38;5;129m@doc\u001B[39m(storage_options\u001B[38;5;241m=\u001B[39m_shared_docs[\u001B[38;5;124m\"\u001B[39m\u001B[38;5;124mstorage_options\u001B[39m\u001B[38;5;124m\"\u001B[39m])\n\u001B[1;32m    535\u001B[0m \u001B[38;5;28;01mdef\u001B[39;00m \u001B[38;5;21m__init__\u001B[39m(\n\u001B[1;32m    536\u001B[0m     \u001B[38;5;28mself\u001B[39m,\n\u001B[0;32m   (...)\u001B[0m\n\u001B[1;32m    539\u001B[0m     engine_kwargs: \u001B[38;5;28mdict\u001B[39m \u001B[38;5;241m|\u001B[39m \u001B[38;5;28;01mNone\u001B[39;00m \u001B[38;5;241m=\u001B[39m \u001B[38;5;28;01mNone\u001B[39;00m,\n\u001B[1;32m    540\u001B[0m ) \u001B[38;5;241m-\u001B[39m\u001B[38;5;241m>\u001B[39m \u001B[38;5;28;01mNone\u001B[39;00m:\n\u001B[1;32m    541\u001B[0m \u001B[38;5;250m    \u001B[39m\u001B[38;5;124;03m\"\"\"\u001B[39;00m\n\u001B[1;32m    542\u001B[0m \u001B[38;5;124;03m    Reader using openpyxl engine.\u001B[39;00m\n\u001B[1;32m    543\u001B[0m \n\u001B[0;32m   (...)\u001B[0m\n\u001B[1;32m    550\u001B[0m \u001B[38;5;124;03m        Arbitrary keyword arguments passed to excel engine.\u001B[39;00m\n\u001B[1;32m    551\u001B[0m \u001B[38;5;124;03m    \"\"\"\u001B[39;00m\n\u001B[0;32m--> 552\u001B[0m     \u001B[43mimport_optional_dependency\u001B[49m\u001B[43m(\u001B[49m\u001B[38;5;124;43m\"\u001B[39;49m\u001B[38;5;124;43mopenpyxl\u001B[39;49m\u001B[38;5;124;43m\"\u001B[39;49m\u001B[43m)\u001B[49m\n\u001B[1;32m    553\u001B[0m     \u001B[38;5;28msuper\u001B[39m()\u001B[38;5;241m.\u001B[39m\u001B[38;5;21m__init__\u001B[39m(\n\u001B[1;32m    554\u001B[0m         filepath_or_buffer,\n\u001B[1;32m    555\u001B[0m         storage_options\u001B[38;5;241m=\u001B[39mstorage_options,\n\u001B[1;32m    556\u001B[0m         engine_kwargs\u001B[38;5;241m=\u001B[39mengine_kwargs,\n\u001B[1;32m    557\u001B[0m     )\n",
      "File \u001B[0;32m/usr/local/Caskroom/miniforge/base/envs/default/lib/python3.12/site-packages/pandas/compat/_optional.py:135\u001B[0m, in \u001B[0;36mimport_optional_dependency\u001B[0;34m(name, extra, errors, min_version)\u001B[0m\n\u001B[1;32m    133\u001B[0m \u001B[38;5;28;01mexcept\u001B[39;00m \u001B[38;5;167;01mImportError\u001B[39;00m:\n\u001B[1;32m    134\u001B[0m     \u001B[38;5;28;01mif\u001B[39;00m errors \u001B[38;5;241m==\u001B[39m \u001B[38;5;124m\"\u001B[39m\u001B[38;5;124mraise\u001B[39m\u001B[38;5;124m\"\u001B[39m:\n\u001B[0;32m--> 135\u001B[0m         \u001B[38;5;28;01mraise\u001B[39;00m \u001B[38;5;167;01mImportError\u001B[39;00m(msg)\n\u001B[1;32m    136\u001B[0m     \u001B[38;5;28;01mreturn\u001B[39;00m \u001B[38;5;28;01mNone\u001B[39;00m\n\u001B[1;32m    138\u001B[0m \u001B[38;5;66;03m# Handle submodules: if we have submodule, grab parent module from sys.modules\u001B[39;00m\n",
      "\u001B[0;31mImportError\u001B[0m: Missing optional dependency 'openpyxl'.  Use pip or conda to install openpyxl."
     ]
    }
   ],
   "source": [
    "df = pd.read_excel('sportsref_download.xlsx')"
   ],
   "metadata": {
    "collapsed": false,
    "ExecuteTime": {
     "end_time": "2024-01-24T07:04:12.814120Z",
     "start_time": "2024-01-24T07:04:12.365090Z"
    }
   },
   "id": "93e0dde9f078251f"
  },
  {
   "cell_type": "code",
   "execution_count": 7,
   "outputs": [],
   "source": [
    "pss['BBE'] = pss[['GB', 'FB', 'LD']].sum(axis=1)\n",
    "pss[['Pull', 'Cent', 'Oppo', 'Soft', 'Med', 'Hard']] = pss[['Pull%', 'Center%', 'Oppo%', 'Soft%', 'Medium%', 'Hard%']].mul(pss['BBE'], axis=0)"
   ],
   "metadata": {
    "collapsed": false,
    "ExecuteTime": {
     "end_time": "2024-01-21T04:53:33.867415Z",
     "start_time": "2024-01-21T04:53:33.805395Z"
    }
   },
   "id": "7ccfe5b5d877a266"
  },
  {
   "cell_type": "code",
   "execution_count": 21,
   "outputs": [
    {
     "data": {
      "text/plain": "           Pull%     Cent%     Oppo%     Soft%      Med%     Hard%\n0       237.1881  209.3082  150.5037  103.6392  294.0225  199.3383\n1       260.2516  203.8848  109.8636  113.8242  311.7394  148.4364\n2       259.3448  204.1468  108.5084   77.9064  300.8148  193.2788\n3       167.6143  212.9050  172.4254  115.6323  315.0441  122.3789\n4       202.2080  183.4072  182.3848   68.3872  350.9104  148.7024\n...          ...       ...       ...       ...       ...       ...\n104484       NaN       NaN       NaN       NaN       NaN       NaN\n104485       NaN       NaN       NaN       NaN       NaN       NaN\n104486       NaN       NaN       NaN       NaN       NaN       NaN\n104487       NaN       NaN       NaN       NaN       NaN       NaN\n104488       NaN       NaN       NaN       NaN       NaN       NaN\n\n[104489 rows x 6 columns]",
      "text/html": "<div>\n<style scoped>\n    .dataframe tbody tr th:only-of-type {\n        vertical-align: middle;\n    }\n\n    .dataframe tbody tr th {\n        vertical-align: top;\n    }\n\n    .dataframe thead th {\n        text-align: right;\n    }\n</style>\n<table border=\"1\" class=\"dataframe\">\n  <thead>\n    <tr style=\"text-align: right;\">\n      <th></th>\n      <th>Pull%</th>\n      <th>Cent%</th>\n      <th>Oppo%</th>\n      <th>Soft%</th>\n      <th>Med%</th>\n      <th>Hard%</th>\n    </tr>\n  </thead>\n  <tbody>\n    <tr>\n      <th>0</th>\n      <td>237.1881</td>\n      <td>209.3082</td>\n      <td>150.5037</td>\n      <td>103.6392</td>\n      <td>294.0225</td>\n      <td>199.3383</td>\n    </tr>\n    <tr>\n      <th>1</th>\n      <td>260.2516</td>\n      <td>203.8848</td>\n      <td>109.8636</td>\n      <td>113.8242</td>\n      <td>311.7394</td>\n      <td>148.4364</td>\n    </tr>\n    <tr>\n      <th>2</th>\n      <td>259.3448</td>\n      <td>204.1468</td>\n      <td>108.5084</td>\n      <td>77.9064</td>\n      <td>300.8148</td>\n      <td>193.2788</td>\n    </tr>\n    <tr>\n      <th>3</th>\n      <td>167.6143</td>\n      <td>212.9050</td>\n      <td>172.4254</td>\n      <td>115.6323</td>\n      <td>315.0441</td>\n      <td>122.3789</td>\n    </tr>\n    <tr>\n      <th>4</th>\n      <td>202.2080</td>\n      <td>183.4072</td>\n      <td>182.3848</td>\n      <td>68.3872</td>\n      <td>350.9104</td>\n      <td>148.7024</td>\n    </tr>\n    <tr>\n      <th>...</th>\n      <td>...</td>\n      <td>...</td>\n      <td>...</td>\n      <td>...</td>\n      <td>...</td>\n      <td>...</td>\n    </tr>\n    <tr>\n      <th>104484</th>\n      <td>NaN</td>\n      <td>NaN</td>\n      <td>NaN</td>\n      <td>NaN</td>\n      <td>NaN</td>\n      <td>NaN</td>\n    </tr>\n    <tr>\n      <th>104485</th>\n      <td>NaN</td>\n      <td>NaN</td>\n      <td>NaN</td>\n      <td>NaN</td>\n      <td>NaN</td>\n      <td>NaN</td>\n    </tr>\n    <tr>\n      <th>104486</th>\n      <td>NaN</td>\n      <td>NaN</td>\n      <td>NaN</td>\n      <td>NaN</td>\n      <td>NaN</td>\n      <td>NaN</td>\n    </tr>\n    <tr>\n      <th>104487</th>\n      <td>NaN</td>\n      <td>NaN</td>\n      <td>NaN</td>\n      <td>NaN</td>\n      <td>NaN</td>\n      <td>NaN</td>\n    </tr>\n    <tr>\n      <th>104488</th>\n      <td>NaN</td>\n      <td>NaN</td>\n      <td>NaN</td>\n      <td>NaN</td>\n      <td>NaN</td>\n      <td>NaN</td>\n    </tr>\n  </tbody>\n</table>\n<p>104489 rows × 6 columns</p>\n</div>"
     },
     "execution_count": 21,
     "metadata": {},
     "output_type": "execute_result"
    }
   ],
   "source": [
    "pss[['Pull%', 'Cent%', 'Oppo%', 'Soft%', 'Med%', 'Hard%']].mul(pss['BBE'], axis=0)"
   ],
   "metadata": {
    "collapsed": false,
    "ExecuteTime": {
     "end_time": "2024-01-21T05:24:25.168570Z",
     "start_time": "2024-01-21T05:24:25.119440Z"
    }
   },
   "id": "aec2c1ec05f946fd"
  },
  {
   "cell_type": "code",
   "execution_count": 7,
   "outputs": [
    {
     "data": {
      "text/plain": "{'allStarStatus': 'N',\n 'id': 144,\n 'name': 'Atlanta Braves',\n 'link': '/api/v1/teams/144',\n 'season': 2023,\n 'teamCode': 'atl',\n 'fileCode': 'atl',\n 'abbreviation': 'ATL',\n 'teamName': 'Braves',\n 'locationName': 'Atlanta',\n 'firstYearOfPlay': '1871',\n 'shortName': 'Atlanta',\n 'franchiseName': 'Atlanta',\n 'clubName': 'Braves',\n 'active': True}"
     },
     "execution_count": 7,
     "metadata": {},
     "output_type": "execute_result"
    }
   ],
   "source": [
    "{key: value for key, value in {\"springLeague\": {\"id\": 115, \"name\": \"Grapefruit League\", \"link\": \"/api/v1/league/115\", \"abbreviation\": \"GL\"},\n",
    "  \"allStarStatus\": \"N\", \"id\": 144, \"name\": \"Atlanta Braves\", \"link\": \"/api/v1/teams/144\", \"season\": 2023,\n",
    "  \"venue\": {\"id\": 4705, \"name\": \"Truist Park\", \"link\": \"/api/v1/venues/4705\"},\n",
    "  \"springVenue\": {\"id\": 5380, \"link\": \"/api/v1/venues/5380\"}, \"teamCode\": \"atl\", \"fileCode\": \"atl\",\n",
    "  \"abbreviation\": \"ATL\", \"teamName\": \"Braves\", \"locationName\": \"Atlanta\", \"firstYearOfPlay\": \"1871\",\n",
    "  \"league\": {\"id\": 104, \"name\": \"National League\", \"link\": \"/api/v1/league/104\"},\n",
    "  \"division\": {\"id\": 204, \"name\": \"National League East\", \"link\": \"/api/v1/divisions/204\"},\n",
    "  \"sport\": {\"id\": 1, \"link\": \"/api/v1/sports/1\", \"name\": \"Major League Baseball\"}, \"shortName\": \"Atlanta\",\n",
    "  \"franchiseName\": \"Atlanta\", \"clubName\": \"Braves\", \"active\": True}.items() if not isinstance(value, dict)}"
   ],
   "metadata": {
    "collapsed": false,
    "ExecuteTime": {
     "end_time": "2024-01-01T05:43:31.079554Z",
     "start_time": "2024-01-01T05:43:31.046542Z"
    }
   },
   "id": "aa13d5211494aa4b"
  },
  {
   "cell_type": "code",
   "execution_count": 40,
   "outputs": [
    {
     "data": {
      "text/plain": "   teamAbrRetro      location   nickname yearID\n46          PH4  Philadelphia  Athletics   1882\n46          PH4  Philadelphia  Athletics   1883\n46          PH4  Philadelphia  Athletics   1884\n46          PH4  Philadelphia  Athletics   1885\n46          PH4  Philadelphia  Athletics   1886\n46          PH4  Philadelphia  Athletics   1887\n46          PH4  Philadelphia  Athletics   1888\n46          PH4  Philadelphia  Athletics   1889\n46          PH4  Philadelphia  Athletics   1890\n46          PH4  Philadelphia  Athletics   1891\n89          PHP  Philadelphia  Athletics   1890",
      "text/html": "<div>\n<style scoped>\n    .dataframe tbody tr th:only-of-type {\n        vertical-align: middle;\n    }\n\n    .dataframe tbody tr th {\n        vertical-align: top;\n    }\n\n    .dataframe thead th {\n        text-align: right;\n    }\n</style>\n<table border=\"1\" class=\"dataframe\">\n  <thead>\n    <tr style=\"text-align: right;\">\n      <th></th>\n      <th>teamAbrRetro</th>\n      <th>location</th>\n      <th>nickname</th>\n      <th>yearID</th>\n    </tr>\n  </thead>\n  <tbody>\n    <tr>\n      <th>46</th>\n      <td>PH4</td>\n      <td>Philadelphia</td>\n      <td>Athletics</td>\n      <td>1882</td>\n    </tr>\n    <tr>\n      <th>46</th>\n      <td>PH4</td>\n      <td>Philadelphia</td>\n      <td>Athletics</td>\n      <td>1883</td>\n    </tr>\n    <tr>\n      <th>46</th>\n      <td>PH4</td>\n      <td>Philadelphia</td>\n      <td>Athletics</td>\n      <td>1884</td>\n    </tr>\n    <tr>\n      <th>46</th>\n      <td>PH4</td>\n      <td>Philadelphia</td>\n      <td>Athletics</td>\n      <td>1885</td>\n    </tr>\n    <tr>\n      <th>46</th>\n      <td>PH4</td>\n      <td>Philadelphia</td>\n      <td>Athletics</td>\n      <td>1886</td>\n    </tr>\n    <tr>\n      <th>46</th>\n      <td>PH4</td>\n      <td>Philadelphia</td>\n      <td>Athletics</td>\n      <td>1887</td>\n    </tr>\n    <tr>\n      <th>46</th>\n      <td>PH4</td>\n      <td>Philadelphia</td>\n      <td>Athletics</td>\n      <td>1888</td>\n    </tr>\n    <tr>\n      <th>46</th>\n      <td>PH4</td>\n      <td>Philadelphia</td>\n      <td>Athletics</td>\n      <td>1889</td>\n    </tr>\n    <tr>\n      <th>46</th>\n      <td>PH4</td>\n      <td>Philadelphia</td>\n      <td>Athletics</td>\n      <td>1890</td>\n    </tr>\n    <tr>\n      <th>46</th>\n      <td>PH4</td>\n      <td>Philadelphia</td>\n      <td>Athletics</td>\n      <td>1891</td>\n    </tr>\n    <tr>\n      <th>89</th>\n      <td>PHP</td>\n      <td>Philadelphia</td>\n      <td>Athletics</td>\n      <td>1890</td>\n    </tr>\n  </tbody>\n</table>\n</div>"
     },
     "execution_count": 40,
     "metadata": {},
     "output_type": "execute_result"
    }
   ],
   "source": [
    "abr = pd.read_csv('teamabr.csv', names=['teamID', 'leageID', 'city', 'nickname', 'startYearID', 'endYearID']).rename({'teamID': 'teamAbrRetro', 'city': 'location'}, axis=1).replace({'nickname': {'Quakers': 'Athletics'}})\n",
    "abr['yearID'] = abr.apply(lambda x: range(x['startYearID'], x['endYearID'] + 1), axis=1)\n",
    "abr = abr.drop(['startYearID', 'endYearID', 'leageID'], axis=1).explode('yearID')\n",
    "abr = abr[(abr['teamAbrRetro'] != 'CN1') | (abr['yearID'] != 1880)]  # Cincinnati Reds did not play in 1880\n",
    "# abr.loc[(abr['yearID'] == 1891) & (abr['teamAbrRetro'] == 'PH4'), 'teamAbrRetro'] = 'PHP'\n",
    "abr = pd.concat([abr, abr[abr['yearID'] == 2021].assign(yearID=2022), abr[abr['yearID'] == 2021].assign(yearID=2023)])  # duplicate 2021 data for 2022 and 2023\n",
    "abr"
   ],
   "metadata": {
    "collapsed": false,
    "ExecuteTime": {
     "end_time": "2023-12-31T04:20:39.128742Z",
     "start_time": "2023-12-31T04:20:39.024194Z"
    }
   },
   "id": "3750fac5e348b073"
  },
  {
   "cell_type": "code",
   "execution_count": 42,
   "outputs": [
    {
     "data": {
      "text/plain": "      yearID teamAbrLahman parkID\n0       1871           BS1  BOS01\n2       1871           CH1  CHI01\n5       1871           CL1  CLE01\n6       1871           FW1  FOR01\n7       1871           NY2  NYC01\n...      ...           ...    ...\n3187    2023           SLN  STL10\n3188    2023           TBA  STP01\n3189    2023           TEX  ARL03\n3193    2023           TOR  TOR02\n3194    2023           WAS  WAS11\n\n[3044 rows x 3 columns]",
      "text/html": "<div>\n<style scoped>\n    .dataframe tbody tr th:only-of-type {\n        vertical-align: middle;\n    }\n\n    .dataframe tbody tr th {\n        vertical-align: top;\n    }\n\n    .dataframe thead th {\n        text-align: right;\n    }\n</style>\n<table border=\"1\" class=\"dataframe\">\n  <thead>\n    <tr style=\"text-align: right;\">\n      <th></th>\n      <th>yearID</th>\n      <th>teamAbrLahman</th>\n      <th>parkID</th>\n    </tr>\n  </thead>\n  <tbody>\n    <tr>\n      <th>0</th>\n      <td>1871</td>\n      <td>BS1</td>\n      <td>BOS01</td>\n    </tr>\n    <tr>\n      <th>2</th>\n      <td>1871</td>\n      <td>CH1</td>\n      <td>CHI01</td>\n    </tr>\n    <tr>\n      <th>5</th>\n      <td>1871</td>\n      <td>CL1</td>\n      <td>CLE01</td>\n    </tr>\n    <tr>\n      <th>6</th>\n      <td>1871</td>\n      <td>FW1</td>\n      <td>FOR01</td>\n    </tr>\n    <tr>\n      <th>7</th>\n      <td>1871</td>\n      <td>NY2</td>\n      <td>NYC01</td>\n    </tr>\n    <tr>\n      <th>...</th>\n      <td>...</td>\n      <td>...</td>\n      <td>...</td>\n    </tr>\n    <tr>\n      <th>3187</th>\n      <td>2023</td>\n      <td>SLN</td>\n      <td>STL10</td>\n    </tr>\n    <tr>\n      <th>3188</th>\n      <td>2023</td>\n      <td>TBA</td>\n      <td>STP01</td>\n    </tr>\n    <tr>\n      <th>3189</th>\n      <td>2023</td>\n      <td>TEX</td>\n      <td>ARL03</td>\n    </tr>\n    <tr>\n      <th>3193</th>\n      <td>2023</td>\n      <td>TOR</td>\n      <td>TOR02</td>\n    </tr>\n    <tr>\n      <th>3194</th>\n      <td>2023</td>\n      <td>WAS</td>\n      <td>WAS11</td>\n    </tr>\n  </tbody>\n</table>\n<p>3044 rows × 3 columns</p>\n</div>"
     },
     "execution_count": 42,
     "metadata": {},
     "output_type": "execute_result"
    }
   ],
   "source": [
    "home_parks = pd.read_csv('baseballdatabank-2022.2/core/HomeGames.csv')[['year.key', 'team.key', 'park.key', 'games']].rename({'year.key': 'yearID', 'team.key': 'teamAbrLahman', 'park.key': 'parkID'}, axis=1)\n",
    "home_parks = home_parks[home_parks.groupby(['yearID', 'teamAbrLahman'])['games'].transform('max') == home_parks['games']].drop('games', axis=1)\n",
    "home_parks = pd.concat([home_parks, home_parks[home_parks['yearID'] == 2021].assign(yearID=2022), home_parks[home_parks['yearID'] == 2021].assign(yearID=2023)])\n",
    "home_parks"
   ],
   "metadata": {
    "collapsed": false,
    "ExecuteTime": {
     "end_time": "2023-12-31T04:35:02.402340Z",
     "start_time": "2023-12-31T04:35:02.356741Z"
    }
   },
   "id": "e46483429cb3df9e"
  },
  {
   "cell_type": "code",
   "execution_count": 64,
   "outputs": [
    {
     "data": {
      "text/plain": "     yearID teamAbrFG  franchIDFG franchIDLahman lgID teamAbrLahman  \\\n0      1871       BSN          16            ATL   NA           BS1   \n9      1872       BSN          16            ATL   NA           BS1   \n20     1873       BSN          16            ATL   NA           BS1   \n29     1874       BSN          16            ATL   NA           BS1   \n37     1875       BSN          16            ATL   NA           BS1   \n...     ...       ...         ...            ...  ...           ...   \n3032   2023       SFG          30            SFG   NL           SFN   \n3034   2023       NYY           9            NYY   AL           NYA   \n3040   2023       MIA          20            FLA   NL           MIA   \n3041   2023       WSN          24            WSN   NL           WAS   \n3042   2023       OAK          10            OAK   AL           OAK   \n\n     teamAbrLahman45 teamAbrRetro divID              teamName       location  \\\n0                BS1          BS1   NaN  Boston Red Stockings         Boston   \n9                BS1          BS1   NaN  Boston Red Stockings         Boston   \n20               BS1          BS1   NaN  Boston Red Stockings         Boston   \n29               BS1          BS1   NaN  Boston Red Stockings         Boston   \n37               BS1          BS1   NaN  Boston Red Stockings         Boston   \n...              ...          ...   ...                   ...            ...   \n3032             SFN          SFN     W  San Francisco Giants  San Francisco   \n3034             NYA          NYA     E      New York Yankees       New York   \n3040             FLO          MIA     E         Miami Marlins          Miami   \n3041             MON          WAS     E  Washington Nationals     Washington   \n3042             OAK          OAK     W     Oakland Athletics        Oakland   \n\n       nickname mainHomeParkID  \n0        Braves          BOS01  \n9        Braves          BOS01  \n20       Braves          BOS01  \n29       Braves          BOS01  \n37       Braves          BOS01  \n...         ...            ...  \n3032     Giants          SFO03  \n3034    Yankees          NYC21  \n3040    Marlins          MIA02  \n3041  Nationals          WAS11  \n3042  Athletics          OAK01  \n\n[1263 rows x 13 columns]",
      "text/html": "<div>\n<style scoped>\n    .dataframe tbody tr th:only-of-type {\n        vertical-align: middle;\n    }\n\n    .dataframe tbody tr th {\n        vertical-align: top;\n    }\n\n    .dataframe thead th {\n        text-align: right;\n    }\n</style>\n<table border=\"1\" class=\"dataframe\">\n  <thead>\n    <tr style=\"text-align: right;\">\n      <th></th>\n      <th>yearID</th>\n      <th>teamAbrFG</th>\n      <th>franchIDFG</th>\n      <th>franchIDLahman</th>\n      <th>lgID</th>\n      <th>teamAbrLahman</th>\n      <th>teamAbrLahman45</th>\n      <th>teamAbrRetro</th>\n      <th>divID</th>\n      <th>teamName</th>\n      <th>location</th>\n      <th>nickname</th>\n      <th>mainHomeParkID</th>\n    </tr>\n  </thead>\n  <tbody>\n    <tr>\n      <th>0</th>\n      <td>1871</td>\n      <td>BSN</td>\n      <td>16</td>\n      <td>ATL</td>\n      <td>NA</td>\n      <td>BS1</td>\n      <td>BS1</td>\n      <td>BS1</td>\n      <td>NaN</td>\n      <td>Boston Red Stockings</td>\n      <td>Boston</td>\n      <td>Braves</td>\n      <td>BOS01</td>\n    </tr>\n    <tr>\n      <th>9</th>\n      <td>1872</td>\n      <td>BSN</td>\n      <td>16</td>\n      <td>ATL</td>\n      <td>NA</td>\n      <td>BS1</td>\n      <td>BS1</td>\n      <td>BS1</td>\n      <td>NaN</td>\n      <td>Boston Red Stockings</td>\n      <td>Boston</td>\n      <td>Braves</td>\n      <td>BOS01</td>\n    </tr>\n    <tr>\n      <th>20</th>\n      <td>1873</td>\n      <td>BSN</td>\n      <td>16</td>\n      <td>ATL</td>\n      <td>NA</td>\n      <td>BS1</td>\n      <td>BS1</td>\n      <td>BS1</td>\n      <td>NaN</td>\n      <td>Boston Red Stockings</td>\n      <td>Boston</td>\n      <td>Braves</td>\n      <td>BOS01</td>\n    </tr>\n    <tr>\n      <th>29</th>\n      <td>1874</td>\n      <td>BSN</td>\n      <td>16</td>\n      <td>ATL</td>\n      <td>NA</td>\n      <td>BS1</td>\n      <td>BS1</td>\n      <td>BS1</td>\n      <td>NaN</td>\n      <td>Boston Red Stockings</td>\n      <td>Boston</td>\n      <td>Braves</td>\n      <td>BOS01</td>\n    </tr>\n    <tr>\n      <th>37</th>\n      <td>1875</td>\n      <td>BSN</td>\n      <td>16</td>\n      <td>ATL</td>\n      <td>NA</td>\n      <td>BS1</td>\n      <td>BS1</td>\n      <td>BS1</td>\n      <td>NaN</td>\n      <td>Boston Red Stockings</td>\n      <td>Boston</td>\n      <td>Braves</td>\n      <td>BOS01</td>\n    </tr>\n    <tr>\n      <th>...</th>\n      <td>...</td>\n      <td>...</td>\n      <td>...</td>\n      <td>...</td>\n      <td>...</td>\n      <td>...</td>\n      <td>...</td>\n      <td>...</td>\n      <td>...</td>\n      <td>...</td>\n      <td>...</td>\n      <td>...</td>\n      <td>...</td>\n    </tr>\n    <tr>\n      <th>3032</th>\n      <td>2023</td>\n      <td>SFG</td>\n      <td>30</td>\n      <td>SFG</td>\n      <td>NL</td>\n      <td>SFN</td>\n      <td>SFN</td>\n      <td>SFN</td>\n      <td>W</td>\n      <td>San Francisco Giants</td>\n      <td>San Francisco</td>\n      <td>Giants</td>\n      <td>SFO03</td>\n    </tr>\n    <tr>\n      <th>3034</th>\n      <td>2023</td>\n      <td>NYY</td>\n      <td>9</td>\n      <td>NYY</td>\n      <td>AL</td>\n      <td>NYA</td>\n      <td>NYA</td>\n      <td>NYA</td>\n      <td>E</td>\n      <td>New York Yankees</td>\n      <td>New York</td>\n      <td>Yankees</td>\n      <td>NYC21</td>\n    </tr>\n    <tr>\n      <th>3040</th>\n      <td>2023</td>\n      <td>MIA</td>\n      <td>20</td>\n      <td>FLA</td>\n      <td>NL</td>\n      <td>MIA</td>\n      <td>FLO</td>\n      <td>MIA</td>\n      <td>E</td>\n      <td>Miami Marlins</td>\n      <td>Miami</td>\n      <td>Marlins</td>\n      <td>MIA02</td>\n    </tr>\n    <tr>\n      <th>3041</th>\n      <td>2023</td>\n      <td>WSN</td>\n      <td>24</td>\n      <td>WSN</td>\n      <td>NL</td>\n      <td>WAS</td>\n      <td>MON</td>\n      <td>WAS</td>\n      <td>E</td>\n      <td>Washington Nationals</td>\n      <td>Washington</td>\n      <td>Nationals</td>\n      <td>WAS11</td>\n    </tr>\n    <tr>\n      <th>3042</th>\n      <td>2023</td>\n      <td>OAK</td>\n      <td>10</td>\n      <td>OAK</td>\n      <td>AL</td>\n      <td>OAK</td>\n      <td>OAK</td>\n      <td>OAK</td>\n      <td>W</td>\n      <td>Oakland Athletics</td>\n      <td>Oakland</td>\n      <td>Athletics</td>\n      <td>OAK01</td>\n    </tr>\n  </tbody>\n</table>\n<p>1263 rows × 13 columns</p>\n</div>"
     },
     "execution_count": 64,
     "metadata": {},
     "output_type": "execute_result"
    }
   ],
   "source": [
    "lahman = pd.read_csv('baseballdatabank-2022.2/core/Teams.csv')[['yearID', 'lgID', 'teamID', 'teamIDlahman45', 'teamIDretro', 'franchID', 'divID', 'name']].fillna({'lgID': 'NA'}).rename({'teamID': 'teamAbrLahman', 'teamIDlahman45': 'teamAbrLahman45', 'franchID': 'franchIDLahman', 'teamIDretro': 'teamAbrRetro', 'name': 'teamName'}, axis=1).replace(ABR_CORRECTIONS)\n",
    "\n",
    "lahman = pd.concat([lahman, lahman[lahman['yearID'] == 2021].assign(yearID=2022), lahman[lahman['yearID'] == 2021].assign(yearID=2023)])  # duplicate 2021 data for 2022 and 2023\n",
    "lahman.loc[lahman['franchIDLahman'] == 'PHP', ['teamAbrLahman', 'teamAbrLahman45', 'teamAbrRetro']] = 'PHP'\n",
    "\n",
    "abr = pd.read_csv('teamabr.csv', names=['teamID', 'leageID', 'city', 'nickname', 'startYearID', 'endYearID']).rename({'teamID': 'teamAbrRetro', 'city': 'location'}, axis=1)\n",
    "abr['yearID'] = abr.apply(lambda x: range(x['startYearID'], x['endYearID'] + 1), axis=1)\n",
    "abr = abr.drop(['startYearID', 'endYearID', 'leageID'], axis=1).explode('yearID')\n",
    "abr = abr[(abr['teamAbrRetro'] != 'CN1') | (abr['yearID'] != 1880)]  # Cincinnati Reds did not play in 1880\n",
    "abr.loc[(abr['yearID'] == 1891) & (abr['teamAbrRetro'] == 'PH4'), 'teamAbrRetro'] = 'PHP'\n",
    "abr = pd.concat([abr, abr[abr['yearID'] == 2021].assign(yearID=2022), abr[abr['yearID'] == 2021].assign(yearID=2023)])  # duplicate 2021 data for 2022 and 2023\n",
    "\n",
    "home = pd.read_csv('baseballdatabank-2022.2/core/HomeGames.csv')[['year.key', 'team.key', 'park.key', 'games']].rename({'year.key': 'yearID', 'team.key': 'teamAbrLahman', 'park.key': 'parkID'}, axis=1)\n",
    "home = home[home.groupby(['yearID', 'teamAbrLahman'])['games'].transform('max') == home['games']].drop('games', axis=1)\n",
    "home = pd.concat([home, home[home['yearID'] == 2021].assign(yearID=2022), home[home['yearID'] == 2021].assign(yearID=2023)])\n",
    "\n",
    "df = df.merge(lahman, on=['yearID', 'franchIDLahman']).merge(abr, on=['yearID', 'teamAbrRetro']).merge(home, how='left', on=['yearID', 'teamAbrLahman']).rename({'parkID': 'mainHomeParkID'}, axis=1)\n",
    "\n",
    "df.loc[(df['yearID'] == 1880) & (df['franchIDFG'] == 1028), ['franchIDFG', 'franchIDLahman', 'teamAbrLahman', 'teamAbrLahman45']] = [1091, 'CNS', 'CN4', 'CN4']\n",
    "\n",
    "teams = df[['yearID', 'franchIDFG', 'teamAbrFG', 'teamAbrLahman', 'teamAbrLahman45', 'teamName', 'location', 'nickname', 'lgID', 'divID', 'mainHomeParkID']]\n",
    "franchises = df[['franchIDFG', 'franchIDLahman', 'yearID', 'teamName']]\n",
    "franchises.groupby('franchIDLahman')['franchIDFG'].nunique().sort_values(ascending=False)\n",
    "# franch[franch['franchIDFG'].isin([16, 17, 1002, 1033, 1053, 1062, 1070])].sort_values(['franchIDFG', 'yearID'], ignore_index=True)\n",
    "df[df['franchIDFG'].isin([1, 16, 2, 10, 24, 22, 20, 1051, 1006, 13, 12, 9, 8, 1082, 30, 1026, 1062, 23])]"
   ],
   "metadata": {
    "collapsed": false,
    "ExecuteTime": {
     "start_time": "2023-12-25T05:31:19.999379Z"
    }
   },
   "id": "188e505438b0b613"
  },
  {
   "cell_type": "code",
   "execution_count": 65,
   "outputs": [
    {
     "data": {
      "text/plain": "      teamIDfg teamIDBR\n0           16      BSN\n1192        16      MLN\n1417        16      ATL",
      "text/html": "<div>\n<style scoped>\n    .dataframe tbody tr th:only-of-type {\n        vertical-align: middle;\n    }\n\n    .dataframe tbody tr th {\n        vertical-align: top;\n    }\n\n    .dataframe thead th {\n        text-align: right;\n    }\n</style>\n<table border=\"1\" class=\"dataframe\">\n  <thead>\n    <tr style=\"text-align: right;\">\n      <th></th>\n      <th>teamIDfg</th>\n      <th>teamIDBR</th>\n    </tr>\n  </thead>\n  <tbody>\n    <tr>\n      <th>0</th>\n      <td>16</td>\n      <td>BSN</td>\n    </tr>\n    <tr>\n      <th>1192</th>\n      <td>16</td>\n      <td>MLN</td>\n    </tr>\n    <tr>\n      <th>1417</th>\n      <td>16</td>\n      <td>ATL</td>\n    </tr>\n  </tbody>\n</table>\n</div>"
     },
     "execution_count": 65,
     "metadata": {},
     "output_type": "execute_result"
    }
   ],
   "source": [
    "t = team_ids()\n",
    "t.loc[t['teamIDfg'] == 16, ['teamIDfg', 'teamIDBR']].drop_duplicates()"
   ],
   "metadata": {
    "collapsed": false,
    "ExecuteTime": {
     "end_time": "2023-12-25T05:32:41.821297Z",
     "start_time": "2023-12-25T05:32:41.803522Z"
    }
   },
   "id": "a476ee725dda457d"
  },
  {
   "cell_type": "code",
   "execution_count": 34,
   "outputs": [
    {
     "data": {
      "text/plain": "     yearID teamAbrFG  franchIDFG franchIDLahman lgID teamAbrLahman  \\\n102    1882       PHA        1060            PHA   AA           PH4   \n115    1883       PHA        1060            PHA   AA           PH4   \n132    1884       PHA        1060            PHA   AA           PH4   \n160    1885       PHA        1060            PHA   AA           PH4   \n183    1886       PHA        1060            PHA   AA           PH4   \n197    1887       PHA        1060            PHA   AA           PH4   \n206    1888       PHA        1060            PHA   AA           PH4   \n223    1889       PHA        1060            PHA   AA           PH4   \n258    1890       PHA        1060            PHA   AA           PH4   \n253    1890       PHP        1062            PHP   PL           PHP   \n270    1891       PHA        1062            PHP   AA           PH4   \n\n    teamAbrLahman45 teamAbrRetro divID                teamName  \n102             PH4          PH4   NaN  Philadelphia Athletics  \n115             PH4          PH4   NaN  Philadelphia Athletics  \n132             PH4          PH4   NaN  Philadelphia Athletics  \n160             PH4          PH4   NaN  Philadelphia Athletics  \n183             PH4          PH4   NaN  Philadelphia Athletics  \n197             PH4          PH4   NaN  Philadelphia Athletics  \n206             PH4          PH4   NaN  Philadelphia Athletics  \n223             PH4          PH4   NaN  Philadelphia Athletics  \n258             PH4          PH4   NaN  Philadelphia Athletics  \n253             PHP          PHP   NaN  Philadelphia Athletics  \n270             PH4          PH4   NaN  Philadelphia Athletics  ",
      "text/html": "<div>\n<style scoped>\n    .dataframe tbody tr th:only-of-type {\n        vertical-align: middle;\n    }\n\n    .dataframe tbody tr th {\n        vertical-align: top;\n    }\n\n    .dataframe thead th {\n        text-align: right;\n    }\n</style>\n<table border=\"1\" class=\"dataframe\">\n  <thead>\n    <tr style=\"text-align: right;\">\n      <th></th>\n      <th>yearID</th>\n      <th>teamAbrFG</th>\n      <th>franchIDFG</th>\n      <th>franchIDLahman</th>\n      <th>lgID</th>\n      <th>teamAbrLahman</th>\n      <th>teamAbrLahman45</th>\n      <th>teamAbrRetro</th>\n      <th>divID</th>\n      <th>teamName</th>\n    </tr>\n  </thead>\n  <tbody>\n    <tr>\n      <th>102</th>\n      <td>1882</td>\n      <td>PHA</td>\n      <td>1060</td>\n      <td>PHA</td>\n      <td>AA</td>\n      <td>PH4</td>\n      <td>PH4</td>\n      <td>PH4</td>\n      <td>NaN</td>\n      <td>Philadelphia Athletics</td>\n    </tr>\n    <tr>\n      <th>115</th>\n      <td>1883</td>\n      <td>PHA</td>\n      <td>1060</td>\n      <td>PHA</td>\n      <td>AA</td>\n      <td>PH4</td>\n      <td>PH4</td>\n      <td>PH4</td>\n      <td>NaN</td>\n      <td>Philadelphia Athletics</td>\n    </tr>\n    <tr>\n      <th>132</th>\n      <td>1884</td>\n      <td>PHA</td>\n      <td>1060</td>\n      <td>PHA</td>\n      <td>AA</td>\n      <td>PH4</td>\n      <td>PH4</td>\n      <td>PH4</td>\n      <td>NaN</td>\n      <td>Philadelphia Athletics</td>\n    </tr>\n    <tr>\n      <th>160</th>\n      <td>1885</td>\n      <td>PHA</td>\n      <td>1060</td>\n      <td>PHA</td>\n      <td>AA</td>\n      <td>PH4</td>\n      <td>PH4</td>\n      <td>PH4</td>\n      <td>NaN</td>\n      <td>Philadelphia Athletics</td>\n    </tr>\n    <tr>\n      <th>183</th>\n      <td>1886</td>\n      <td>PHA</td>\n      <td>1060</td>\n      <td>PHA</td>\n      <td>AA</td>\n      <td>PH4</td>\n      <td>PH4</td>\n      <td>PH4</td>\n      <td>NaN</td>\n      <td>Philadelphia Athletics</td>\n    </tr>\n    <tr>\n      <th>197</th>\n      <td>1887</td>\n      <td>PHA</td>\n      <td>1060</td>\n      <td>PHA</td>\n      <td>AA</td>\n      <td>PH4</td>\n      <td>PH4</td>\n      <td>PH4</td>\n      <td>NaN</td>\n      <td>Philadelphia Athletics</td>\n    </tr>\n    <tr>\n      <th>206</th>\n      <td>1888</td>\n      <td>PHA</td>\n      <td>1060</td>\n      <td>PHA</td>\n      <td>AA</td>\n      <td>PH4</td>\n      <td>PH4</td>\n      <td>PH4</td>\n      <td>NaN</td>\n      <td>Philadelphia Athletics</td>\n    </tr>\n    <tr>\n      <th>223</th>\n      <td>1889</td>\n      <td>PHA</td>\n      <td>1060</td>\n      <td>PHA</td>\n      <td>AA</td>\n      <td>PH4</td>\n      <td>PH4</td>\n      <td>PH4</td>\n      <td>NaN</td>\n      <td>Philadelphia Athletics</td>\n    </tr>\n    <tr>\n      <th>258</th>\n      <td>1890</td>\n      <td>PHA</td>\n      <td>1060</td>\n      <td>PHA</td>\n      <td>AA</td>\n      <td>PH4</td>\n      <td>PH4</td>\n      <td>PH4</td>\n      <td>NaN</td>\n      <td>Philadelphia Athletics</td>\n    </tr>\n    <tr>\n      <th>253</th>\n      <td>1890</td>\n      <td>PHP</td>\n      <td>1062</td>\n      <td>PHP</td>\n      <td>PL</td>\n      <td>PHP</td>\n      <td>PHP</td>\n      <td>PHP</td>\n      <td>NaN</td>\n      <td>Philadelphia Athletics</td>\n    </tr>\n    <tr>\n      <th>270</th>\n      <td>1891</td>\n      <td>PHA</td>\n      <td>1062</td>\n      <td>PHP</td>\n      <td>AA</td>\n      <td>PH4</td>\n      <td>PH4</td>\n      <td>PH4</td>\n      <td>NaN</td>\n      <td>Philadelphia Athletics</td>\n    </tr>\n  </tbody>\n</table>\n</div>"
     },
     "execution_count": 34,
     "metadata": {},
     "output_type": "execute_result"
    }
   ],
   "source": [
    "df[df['franchIDFG'].isin([1060, 1062])].sort_values('franchIDFG')"
   ],
   "metadata": {
    "collapsed": false,
    "ExecuteTime": {
     "end_time": "2023-12-25T04:59:06.504630Z",
     "start_time": "2023-12-25T04:59:06.476860Z"
    }
   },
   "id": "fa07ec9269ca5dc9"
  },
  {
   "cell_type": "code",
   "execution_count": 37,
   "outputs": [
    {
     "data": {
      "text/plain": "teamID\nWAS    2\nPH4    2\nALT    1\nPHI    1\nOAK    1\n      ..\nCOL    1\nDET    1\nDTN    1\nELI    1\nWSU    1\nName: franchID, Length: 149, dtype: int64"
     },
     "execution_count": 37,
     "metadata": {},
     "output_type": "execute_result"
    }
   ],
   "source": [
    "franchises = pd.read_csv('baseballdatabank-2022.2/core/Teams.csv')\n",
    "franchises.groupby('teamID')['franchID'].nunique().sort_values(ascending=False)"
   ],
   "metadata": {
    "collapsed": false,
    "ExecuteTime": {
     "end_time": "2023-12-22T05:35:28.764308Z",
     "start_time": "2023-12-22T05:35:28.724777Z"
    }
   },
   "id": "ace1cb0ccc94555b"
  },
  {
   "cell_type": "code",
   "execution_count": 40,
   "outputs": [
    {
     "data": {
      "text/plain": "     teamID franchID\n102     PH4      PHA\n274     PH4      PHQ\n290     WAS      WAS\n2504    WAS      WSN",
      "text/html": "<div>\n<style scoped>\n    .dataframe tbody tr th:only-of-type {\n        vertical-align: middle;\n    }\n\n    .dataframe tbody tr th {\n        vertical-align: top;\n    }\n\n    .dataframe thead th {\n        text-align: right;\n    }\n</style>\n<table border=\"1\" class=\"dataframe\">\n  <thead>\n    <tr style=\"text-align: right;\">\n      <th></th>\n      <th>teamID</th>\n      <th>franchID</th>\n    </tr>\n  </thead>\n  <tbody>\n    <tr>\n      <th>102</th>\n      <td>PH4</td>\n      <td>PHA</td>\n    </tr>\n    <tr>\n      <th>274</th>\n      <td>PH4</td>\n      <td>PHQ</td>\n    </tr>\n    <tr>\n      <th>290</th>\n      <td>WAS</td>\n      <td>WAS</td>\n    </tr>\n    <tr>\n      <th>2504</th>\n      <td>WAS</td>\n      <td>WSN</td>\n    </tr>\n  </tbody>\n</table>\n</div>"
     },
     "execution_count": 40,
     "metadata": {},
     "output_type": "execute_result"
    }
   ],
   "source": [
    "franchises.loc[franchises['teamID'].isin(['WAS', 'PH4']), ['teamID', 'franchID']].drop_duplicates().sort_values('teamID')"
   ],
   "metadata": {
    "collapsed": false,
    "ExecuteTime": {
     "end_time": "2023-12-22T05:37:41.197720Z",
     "start_time": "2023-12-22T05:37:41.135052Z"
    }
   },
   "id": "cb7646f8ed2adf25"
  },
  {
   "cell_type": "code",
   "execution_count": 45,
   "outputs": [
    {
     "data": {
      "text/plain": "     yearID lgID teamID franchID divID  Rank    G  Ghome   W   L  ...   DP  \\\n262    1891   AA    BL3      BLO   NaN     4  139    NaN  71  64  ...  103   \n263    1891   NL    BRO      LAD   NaN     6  137    NaN  61  76  ...   73   \n264    1891   AA    BS2      BRS   NaN     1  139    NaN  93  42  ...  115   \n265    1891   NL    BSN      ATL   NaN     1  140    NaN  87  51  ...   96   \n266    1891   NL    CHN      CHC   NaN     2  137    NaN  82  53  ...  119   \n267    1891   NL    CIN      CIN   NaN     7  138    NaN  56  81  ...  101   \n268    1891   NL    CL4      CLV   NaN     5  141    NaN  65  74  ...   86   \n269    1891   AA    CL6      CLS   NaN     6  138    NaN  61  76  ...  126   \n270    1891   AA    CN3      CKK   NaN     7  102    NaN  43  57  ...   68   \n271    1891   AA    LS2      LOU   NaN     8  138    NaN  54  83  ...  112   \n272    1891   AA    ML3      MLA   NaN     3   36    NaN  21  15  ...   20   \n273    1891   NL    NY1      SFG   NaN     3  136    NaN  71  61  ...  104   \n274    1891   AA    PH4      PHQ   NaN     5  142    NaN  73  66  ...  109   \n275    1891   NL    PHI      PHI   NaN     4  138    NaN  68  69  ...  108   \n276    1891   NL    PIT      PIT   NaN     8  137    NaN  55  80  ...   76   \n277    1891   AA    SL4      STL   NaN     2  139    NaN  85  51  ...   91   \n278    1891   AA    WS9      WAS   NaN     9  139    NaN  44  91  ...   95   \n\n        FP                        name                           park  \\\n262  0.915           Baltimore Orioles                     Union Park   \n263  0.924             Brooklyn Grooms                   Eastern Park   \n264  0.934                 Boston Reds        Congress Street Grounds   \n265  0.938           Boston Beaneaters           South End Grounds II   \n266  0.932               Chicago Colts              South Side Park I   \n267  0.931             Cincinnati Reds    League Park I in Cincinnati   \n268  0.920           Cleveland Spiders                  League Park I   \n269  0.935             Columbus Solons             Recreation Park II   \n270  0.913  Cincinnati Kelly's Killers                  East End Park   \n271  0.922         Louisville Colonels                 Eclipse Park I   \n272  0.922           Milwaukee Brewers                 Athletic Field   \n273  0.933             New York Giants               Polo Grounds III   \n274  0.933      Philadelphia Athletics                  Athletic Park   \n275  0.925       Philadelphia Phillies  Philadelphia Baseball Grounds   \n276  0.917          Pittsburgh Pirates                Exposition Park   \n277  0.920            St. Louis Browns             Sportsman's Park I   \n278  0.900        Washington Statesmen                 Boundary Field   \n\n     attendance  BPF  PPF  teamIDBR  teamIDlahman45  teamIDretro  \n262         NaN  101  100       BAL             BL3          BL3  \n263    181477.0   99   99       BRO             BRO          BRO  \n264         NaN  103   99       BOS             BS2          BS2  \n265    184472.0  112  109       BSN             BSN          BSN  \n266    181431.0  106  105       CHC             CHN          CHN  \n267     97500.0  101  101       CIN             CIN          CIN  \n268    132000.0  104  103       CLV             CL4          CL4  \n269         NaN   95   93       COL             CL6          CL6  \n270         NaN  108  110       CKK             CN3          CN3  \n271         NaN   97   97       LOU             LS2          LS2  \n272         NaN  120  118       MIL             ML3          ML3  \n273    210568.0   96   96       NYG             NY1          NY1  \n274         NaN  103  103       PHA             PH4          PH4  \n275    217282.0  103  102       PHI             PHI          PHI  \n276    128000.0   97   98       PIT             PIT          PIT  \n277         NaN  108  108       STL             SL4          SL4  \n278         NaN   95  100       WAS             WS9          WS9  \n\n[17 rows x 48 columns]",
      "text/html": "<div>\n<style scoped>\n    .dataframe tbody tr th:only-of-type {\n        vertical-align: middle;\n    }\n\n    .dataframe tbody tr th {\n        vertical-align: top;\n    }\n\n    .dataframe thead th {\n        text-align: right;\n    }\n</style>\n<table border=\"1\" class=\"dataframe\">\n  <thead>\n    <tr style=\"text-align: right;\">\n      <th></th>\n      <th>yearID</th>\n      <th>lgID</th>\n      <th>teamID</th>\n      <th>franchID</th>\n      <th>divID</th>\n      <th>Rank</th>\n      <th>G</th>\n      <th>Ghome</th>\n      <th>W</th>\n      <th>L</th>\n      <th>...</th>\n      <th>DP</th>\n      <th>FP</th>\n      <th>name</th>\n      <th>park</th>\n      <th>attendance</th>\n      <th>BPF</th>\n      <th>PPF</th>\n      <th>teamIDBR</th>\n      <th>teamIDlahman45</th>\n      <th>teamIDretro</th>\n    </tr>\n  </thead>\n  <tbody>\n    <tr>\n      <th>262</th>\n      <td>1891</td>\n      <td>AA</td>\n      <td>BL3</td>\n      <td>BLO</td>\n      <td>NaN</td>\n      <td>4</td>\n      <td>139</td>\n      <td>NaN</td>\n      <td>71</td>\n      <td>64</td>\n      <td>...</td>\n      <td>103</td>\n      <td>0.915</td>\n      <td>Baltimore Orioles</td>\n      <td>Union Park</td>\n      <td>NaN</td>\n      <td>101</td>\n      <td>100</td>\n      <td>BAL</td>\n      <td>BL3</td>\n      <td>BL3</td>\n    </tr>\n    <tr>\n      <th>263</th>\n      <td>1891</td>\n      <td>NL</td>\n      <td>BRO</td>\n      <td>LAD</td>\n      <td>NaN</td>\n      <td>6</td>\n      <td>137</td>\n      <td>NaN</td>\n      <td>61</td>\n      <td>76</td>\n      <td>...</td>\n      <td>73</td>\n      <td>0.924</td>\n      <td>Brooklyn Grooms</td>\n      <td>Eastern Park</td>\n      <td>181477.0</td>\n      <td>99</td>\n      <td>99</td>\n      <td>BRO</td>\n      <td>BRO</td>\n      <td>BRO</td>\n    </tr>\n    <tr>\n      <th>264</th>\n      <td>1891</td>\n      <td>AA</td>\n      <td>BS2</td>\n      <td>BRS</td>\n      <td>NaN</td>\n      <td>1</td>\n      <td>139</td>\n      <td>NaN</td>\n      <td>93</td>\n      <td>42</td>\n      <td>...</td>\n      <td>115</td>\n      <td>0.934</td>\n      <td>Boston Reds</td>\n      <td>Congress Street Grounds</td>\n      <td>NaN</td>\n      <td>103</td>\n      <td>99</td>\n      <td>BOS</td>\n      <td>BS2</td>\n      <td>BS2</td>\n    </tr>\n    <tr>\n      <th>265</th>\n      <td>1891</td>\n      <td>NL</td>\n      <td>BSN</td>\n      <td>ATL</td>\n      <td>NaN</td>\n      <td>1</td>\n      <td>140</td>\n      <td>NaN</td>\n      <td>87</td>\n      <td>51</td>\n      <td>...</td>\n      <td>96</td>\n      <td>0.938</td>\n      <td>Boston Beaneaters</td>\n      <td>South End Grounds II</td>\n      <td>184472.0</td>\n      <td>112</td>\n      <td>109</td>\n      <td>BSN</td>\n      <td>BSN</td>\n      <td>BSN</td>\n    </tr>\n    <tr>\n      <th>266</th>\n      <td>1891</td>\n      <td>NL</td>\n      <td>CHN</td>\n      <td>CHC</td>\n      <td>NaN</td>\n      <td>2</td>\n      <td>137</td>\n      <td>NaN</td>\n      <td>82</td>\n      <td>53</td>\n      <td>...</td>\n      <td>119</td>\n      <td>0.932</td>\n      <td>Chicago Colts</td>\n      <td>South Side Park I</td>\n      <td>181431.0</td>\n      <td>106</td>\n      <td>105</td>\n      <td>CHC</td>\n      <td>CHN</td>\n      <td>CHN</td>\n    </tr>\n    <tr>\n      <th>267</th>\n      <td>1891</td>\n      <td>NL</td>\n      <td>CIN</td>\n      <td>CIN</td>\n      <td>NaN</td>\n      <td>7</td>\n      <td>138</td>\n      <td>NaN</td>\n      <td>56</td>\n      <td>81</td>\n      <td>...</td>\n      <td>101</td>\n      <td>0.931</td>\n      <td>Cincinnati Reds</td>\n      <td>League Park I in Cincinnati</td>\n      <td>97500.0</td>\n      <td>101</td>\n      <td>101</td>\n      <td>CIN</td>\n      <td>CIN</td>\n      <td>CIN</td>\n    </tr>\n    <tr>\n      <th>268</th>\n      <td>1891</td>\n      <td>NL</td>\n      <td>CL4</td>\n      <td>CLV</td>\n      <td>NaN</td>\n      <td>5</td>\n      <td>141</td>\n      <td>NaN</td>\n      <td>65</td>\n      <td>74</td>\n      <td>...</td>\n      <td>86</td>\n      <td>0.920</td>\n      <td>Cleveland Spiders</td>\n      <td>League Park I</td>\n      <td>132000.0</td>\n      <td>104</td>\n      <td>103</td>\n      <td>CLV</td>\n      <td>CL4</td>\n      <td>CL4</td>\n    </tr>\n    <tr>\n      <th>269</th>\n      <td>1891</td>\n      <td>AA</td>\n      <td>CL6</td>\n      <td>CLS</td>\n      <td>NaN</td>\n      <td>6</td>\n      <td>138</td>\n      <td>NaN</td>\n      <td>61</td>\n      <td>76</td>\n      <td>...</td>\n      <td>126</td>\n      <td>0.935</td>\n      <td>Columbus Solons</td>\n      <td>Recreation Park II</td>\n      <td>NaN</td>\n      <td>95</td>\n      <td>93</td>\n      <td>COL</td>\n      <td>CL6</td>\n      <td>CL6</td>\n    </tr>\n    <tr>\n      <th>270</th>\n      <td>1891</td>\n      <td>AA</td>\n      <td>CN3</td>\n      <td>CKK</td>\n      <td>NaN</td>\n      <td>7</td>\n      <td>102</td>\n      <td>NaN</td>\n      <td>43</td>\n      <td>57</td>\n      <td>...</td>\n      <td>68</td>\n      <td>0.913</td>\n      <td>Cincinnati Kelly's Killers</td>\n      <td>East End Park</td>\n      <td>NaN</td>\n      <td>108</td>\n      <td>110</td>\n      <td>CKK</td>\n      <td>CN3</td>\n      <td>CN3</td>\n    </tr>\n    <tr>\n      <th>271</th>\n      <td>1891</td>\n      <td>AA</td>\n      <td>LS2</td>\n      <td>LOU</td>\n      <td>NaN</td>\n      <td>8</td>\n      <td>138</td>\n      <td>NaN</td>\n      <td>54</td>\n      <td>83</td>\n      <td>...</td>\n      <td>112</td>\n      <td>0.922</td>\n      <td>Louisville Colonels</td>\n      <td>Eclipse Park I</td>\n      <td>NaN</td>\n      <td>97</td>\n      <td>97</td>\n      <td>LOU</td>\n      <td>LS2</td>\n      <td>LS2</td>\n    </tr>\n    <tr>\n      <th>272</th>\n      <td>1891</td>\n      <td>AA</td>\n      <td>ML3</td>\n      <td>MLA</td>\n      <td>NaN</td>\n      <td>3</td>\n      <td>36</td>\n      <td>NaN</td>\n      <td>21</td>\n      <td>15</td>\n      <td>...</td>\n      <td>20</td>\n      <td>0.922</td>\n      <td>Milwaukee Brewers</td>\n      <td>Athletic Field</td>\n      <td>NaN</td>\n      <td>120</td>\n      <td>118</td>\n      <td>MIL</td>\n      <td>ML3</td>\n      <td>ML3</td>\n    </tr>\n    <tr>\n      <th>273</th>\n      <td>1891</td>\n      <td>NL</td>\n      <td>NY1</td>\n      <td>SFG</td>\n      <td>NaN</td>\n      <td>3</td>\n      <td>136</td>\n      <td>NaN</td>\n      <td>71</td>\n      <td>61</td>\n      <td>...</td>\n      <td>104</td>\n      <td>0.933</td>\n      <td>New York Giants</td>\n      <td>Polo Grounds III</td>\n      <td>210568.0</td>\n      <td>96</td>\n      <td>96</td>\n      <td>NYG</td>\n      <td>NY1</td>\n      <td>NY1</td>\n    </tr>\n    <tr>\n      <th>274</th>\n      <td>1891</td>\n      <td>AA</td>\n      <td>PH4</td>\n      <td>PHQ</td>\n      <td>NaN</td>\n      <td>5</td>\n      <td>142</td>\n      <td>NaN</td>\n      <td>73</td>\n      <td>66</td>\n      <td>...</td>\n      <td>109</td>\n      <td>0.933</td>\n      <td>Philadelphia Athletics</td>\n      <td>Athletic Park</td>\n      <td>NaN</td>\n      <td>103</td>\n      <td>103</td>\n      <td>PHA</td>\n      <td>PH4</td>\n      <td>PH4</td>\n    </tr>\n    <tr>\n      <th>275</th>\n      <td>1891</td>\n      <td>NL</td>\n      <td>PHI</td>\n      <td>PHI</td>\n      <td>NaN</td>\n      <td>4</td>\n      <td>138</td>\n      <td>NaN</td>\n      <td>68</td>\n      <td>69</td>\n      <td>...</td>\n      <td>108</td>\n      <td>0.925</td>\n      <td>Philadelphia Phillies</td>\n      <td>Philadelphia Baseball Grounds</td>\n      <td>217282.0</td>\n      <td>103</td>\n      <td>102</td>\n      <td>PHI</td>\n      <td>PHI</td>\n      <td>PHI</td>\n    </tr>\n    <tr>\n      <th>276</th>\n      <td>1891</td>\n      <td>NL</td>\n      <td>PIT</td>\n      <td>PIT</td>\n      <td>NaN</td>\n      <td>8</td>\n      <td>137</td>\n      <td>NaN</td>\n      <td>55</td>\n      <td>80</td>\n      <td>...</td>\n      <td>76</td>\n      <td>0.917</td>\n      <td>Pittsburgh Pirates</td>\n      <td>Exposition Park</td>\n      <td>128000.0</td>\n      <td>97</td>\n      <td>98</td>\n      <td>PIT</td>\n      <td>PIT</td>\n      <td>PIT</td>\n    </tr>\n    <tr>\n      <th>277</th>\n      <td>1891</td>\n      <td>AA</td>\n      <td>SL4</td>\n      <td>STL</td>\n      <td>NaN</td>\n      <td>2</td>\n      <td>139</td>\n      <td>NaN</td>\n      <td>85</td>\n      <td>51</td>\n      <td>...</td>\n      <td>91</td>\n      <td>0.920</td>\n      <td>St. Louis Browns</td>\n      <td>Sportsman's Park I</td>\n      <td>NaN</td>\n      <td>108</td>\n      <td>108</td>\n      <td>STL</td>\n      <td>SL4</td>\n      <td>SL4</td>\n    </tr>\n    <tr>\n      <th>278</th>\n      <td>1891</td>\n      <td>AA</td>\n      <td>WS9</td>\n      <td>WAS</td>\n      <td>NaN</td>\n      <td>9</td>\n      <td>139</td>\n      <td>NaN</td>\n      <td>44</td>\n      <td>91</td>\n      <td>...</td>\n      <td>95</td>\n      <td>0.900</td>\n      <td>Washington Statesmen</td>\n      <td>Boundary Field</td>\n      <td>NaN</td>\n      <td>95</td>\n      <td>100</td>\n      <td>WAS</td>\n      <td>WS9</td>\n      <td>WS9</td>\n    </tr>\n  </tbody>\n</table>\n<p>17 rows × 48 columns</p>\n</div>"
     },
     "execution_count": 45,
     "metadata": {},
     "output_type": "execute_result"
    }
   ],
   "source": [
    "franchises[franchises['yearID'] == 1891]"
   ],
   "metadata": {
    "collapsed": false,
    "ExecuteTime": {
     "end_time": "2023-12-22T06:07:00.653120Z",
     "start_time": "2023-12-22T06:07:00.614438Z"
    }
   },
   "id": "20e4ab627c31fbb8"
  },
  {
   "cell_type": "code",
   "execution_count": 27,
   "outputs": [
    {
     "data": {
      "text/plain": "franchID\n1033    2\n1002    2\n1070    2\n1053    2\n17      2\n       ..\n1007    1\n1006    1\n1005    1\n1004    1\n1091    1\nName: franchAbrLahman, Length: 115, dtype: int64"
     },
     "execution_count": 27,
     "metadata": {},
     "output_type": "execute_result"
    }
   ],
   "source": [
    "df.groupby('franchID')['franchAbrLahman'].nunique().sort_values(ascending=False)"
   ],
   "metadata": {
    "collapsed": false,
    "ExecuteTime": {
     "end_time": "2023-12-22T04:24:48.619589Z",
     "start_time": "2023-12-22T04:24:48.596098Z"
    }
   },
   "id": "b08f9530a0248c30"
  },
  {
   "cell_type": "code",
   "execution_count": 46,
   "outputs": [
    {
     "data": {
      "text/plain": "      yearID lgID teamID franchID  teamIDfg teamIDBR teamIDretro\n0       1876   NL    BSN      ATL        16      BSN         BSN\n1       1876   NL    CHN      CHC        17      CHC         CHN\n2       1876   NL    CN1      CNR      1028      CIN         CN1\n3       1876   NL    HAR      HAR      1033      HAR         HAR\n4       1876   NL    LS1      LGR      1043      LOU         LS1\n...      ...  ...    ...      ...       ...      ...         ...\n2930    2021   NL    PIT      PIT        27      PIT         PIT\n2931    2021   NL    SDN      SDP        29      SDP         SDN\n2932    2021   NL    SFN      SFG        30      SFG         SFN\n2933    2021   NL    SLN      STL        28      STL         SLN\n2934    2021   NL    WAS      WSN        24      WSN         WAS\n\n[2935 rows x 7 columns]",
      "text/html": "<div>\n<style scoped>\n    .dataframe tbody tr th:only-of-type {\n        vertical-align: middle;\n    }\n\n    .dataframe tbody tr th {\n        vertical-align: top;\n    }\n\n    .dataframe thead th {\n        text-align: right;\n    }\n</style>\n<table border=\"1\" class=\"dataframe\">\n  <thead>\n    <tr style=\"text-align: right;\">\n      <th></th>\n      <th>yearID</th>\n      <th>lgID</th>\n      <th>teamID</th>\n      <th>franchID</th>\n      <th>teamIDfg</th>\n      <th>teamIDBR</th>\n      <th>teamIDretro</th>\n    </tr>\n  </thead>\n  <tbody>\n    <tr>\n      <th>0</th>\n      <td>1876</td>\n      <td>NL</td>\n      <td>BSN</td>\n      <td>ATL</td>\n      <td>16</td>\n      <td>BSN</td>\n      <td>BSN</td>\n    </tr>\n    <tr>\n      <th>1</th>\n      <td>1876</td>\n      <td>NL</td>\n      <td>CHN</td>\n      <td>CHC</td>\n      <td>17</td>\n      <td>CHC</td>\n      <td>CHN</td>\n    </tr>\n    <tr>\n      <th>2</th>\n      <td>1876</td>\n      <td>NL</td>\n      <td>CN1</td>\n      <td>CNR</td>\n      <td>1028</td>\n      <td>CIN</td>\n      <td>CN1</td>\n    </tr>\n    <tr>\n      <th>3</th>\n      <td>1876</td>\n      <td>NL</td>\n      <td>HAR</td>\n      <td>HAR</td>\n      <td>1033</td>\n      <td>HAR</td>\n      <td>HAR</td>\n    </tr>\n    <tr>\n      <th>4</th>\n      <td>1876</td>\n      <td>NL</td>\n      <td>LS1</td>\n      <td>LGR</td>\n      <td>1043</td>\n      <td>LOU</td>\n      <td>LS1</td>\n    </tr>\n    <tr>\n      <th>...</th>\n      <td>...</td>\n      <td>...</td>\n      <td>...</td>\n      <td>...</td>\n      <td>...</td>\n      <td>...</td>\n      <td>...</td>\n    </tr>\n    <tr>\n      <th>2930</th>\n      <td>2021</td>\n      <td>NL</td>\n      <td>PIT</td>\n      <td>PIT</td>\n      <td>27</td>\n      <td>PIT</td>\n      <td>PIT</td>\n    </tr>\n    <tr>\n      <th>2931</th>\n      <td>2021</td>\n      <td>NL</td>\n      <td>SDN</td>\n      <td>SDP</td>\n      <td>29</td>\n      <td>SDP</td>\n      <td>SDN</td>\n    </tr>\n    <tr>\n      <th>2932</th>\n      <td>2021</td>\n      <td>NL</td>\n      <td>SFN</td>\n      <td>SFG</td>\n      <td>30</td>\n      <td>SFG</td>\n      <td>SFN</td>\n    </tr>\n    <tr>\n      <th>2933</th>\n      <td>2021</td>\n      <td>NL</td>\n      <td>SLN</td>\n      <td>STL</td>\n      <td>28</td>\n      <td>STL</td>\n      <td>SLN</td>\n    </tr>\n    <tr>\n      <th>2934</th>\n      <td>2021</td>\n      <td>NL</td>\n      <td>WAS</td>\n      <td>WSN</td>\n      <td>24</td>\n      <td>WSN</td>\n      <td>WAS</td>\n    </tr>\n  </tbody>\n</table>\n<p>2935 rows × 7 columns</p>\n</div>"
     },
     "execution_count": 46,
     "metadata": {},
     "output_type": "execute_result"
    }
   ],
   "source": [
    "team_ids()"
   ],
   "metadata": {
    "collapsed": false,
    "ExecuteTime": {
     "end_time": "2023-12-22T06:13:48.564013Z",
     "start_time": "2023-12-22T06:13:48.527848Z"
    }
   },
   "id": "a43d1efd34c617aa"
  },
  {
   "cell_type": "code",
   "execution_count": 33,
   "outputs": [
    {
     "data": {
      "text/plain": "    yearID teamAbrFG  franchID franchAbrLahman lgID teamAbrLahman  \\\n277   1891       CKE      1023             CKK   AA           CN3   \n\n    teamAbrLahman45 teamAbrRetro divID                    teamName  \\\n277             CN3          CN3   NaN  Cincinnati Kelly's Killers   \n\n       location         nickname mainHomeParkID  \n277  Cincinnati  Kelly's Killers          PEN01  ",
      "text/html": "<div>\n<style scoped>\n    .dataframe tbody tr th:only-of-type {\n        vertical-align: middle;\n    }\n\n    .dataframe tbody tr th {\n        vertical-align: top;\n    }\n\n    .dataframe thead th {\n        text-align: right;\n    }\n</style>\n<table border=\"1\" class=\"dataframe\">\n  <thead>\n    <tr style=\"text-align: right;\">\n      <th></th>\n      <th>yearID</th>\n      <th>teamAbrFG</th>\n      <th>franchID</th>\n      <th>franchAbrLahman</th>\n      <th>lgID</th>\n      <th>teamAbrLahman</th>\n      <th>teamAbrLahman45</th>\n      <th>teamAbrRetro</th>\n      <th>divID</th>\n      <th>teamName</th>\n      <th>location</th>\n      <th>nickname</th>\n      <th>mainHomeParkID</th>\n    </tr>\n  </thead>\n  <tbody>\n    <tr>\n      <th>277</th>\n      <td>1891</td>\n      <td>CKE</td>\n      <td>1023</td>\n      <td>CKK</td>\n      <td>AA</td>\n      <td>CN3</td>\n      <td>CN3</td>\n      <td>CN3</td>\n      <td>NaN</td>\n      <td>Cincinnati Kelly's Killers</td>\n      <td>Cincinnati</td>\n      <td>Kelly's Killers</td>\n      <td>PEN01</td>\n    </tr>\n  </tbody>\n</table>\n</div>"
     },
     "execution_count": 33,
     "metadata": {},
     "output_type": "execute_result"
    }
   ],
   "source": [
    "df[df['teamAbrLahman'] == 'CN3']"
   ],
   "metadata": {
    "collapsed": false,
    "ExecuteTime": {
     "end_time": "2023-12-22T04:50:22.552510Z",
     "start_time": "2023-12-22T04:50:22.535103Z"
    }
   },
   "id": "32da0e020fafc9a1"
  },
  {
   "cell_type": "code",
   "execution_count": 3,
   "outputs": [
    {
     "data": {
      "text/plain": "yearID  teamID\n1898    CL4       7\n1902    CLE       5\n1871    WS3       4\n1885    BFN       3\n1888    PH4       3\n                 ..\n1940    SLN       1\n        WS1       1\n1941    BOS       1\n        BRO       1\n2019    WAS       1\nName: parkID, Length: 2925, dtype: int64"
     },
     "execution_count": 3,
     "metadata": {},
     "output_type": "execute_result"
    }
   ],
   "source": [
    "new_parks = pd.read_csv('Ballpark Database 2019 Final Files/Home Main Data With Parks Breakout.csv')[['Year', 'TeamID', 'Park_ID']].rename({'Year': 'yearID', 'TeamID': 'teamID', 'Park_ID': 'parkID'}, axis=1).merge(pd.read_csv('Ballpark Database 2019 Final Files/Parks.csv')[['PARKID', 'NAME']].rename({'PARKID': 'parkID', 'NAME': 'parkName'}, axis=1), on='parkID')\n",
    "new_parks.groupby(['yearID', 'teamID'])['parkID'].nunique().sort_values(ascending=False)\n",
    "# new_parks[['yearID', 'teamID']].drop_duplicates().shape[0] + 4 * 30\n",
    "# park_mapping = pd.read_csv('Ballpark Database 2019 Final Files/Retrosheet_BBDB_Team_XRef.csv')\n",
    "# new_parks[~new_parks['TeamID'].isin(df['teamAbrLahman'])] # = new_parks.merge(park_mapping, left_on='TeamID', right_on='BBDBID')"
   ],
   "metadata": {
    "collapsed": false,
    "ExecuteTime": {
     "end_time": "2023-12-22T03:43:06.077274Z",
     "start_time": "2023-12-22T03:43:06.034918Z"
    }
   },
   "id": "92f8002b2ca52e34"
  },
  {
   "cell_type": "code",
   "execution_count": 25,
   "outputs": [
    {
     "data": {
      "text/plain": "             Name       ppWAR        pWAR         WAR\n0       Babe Ruth  167.017911   18.864698  185.882609\n1     Barry Bonds  164.448151    0.000000  164.448151\n2        Cy Young    0.759004  155.322210  156.081214\n3     Willie Mays  149.853499    0.000000  149.853499\n4         Ty Cobb  149.076666    0.000000  149.076666\n...           ...         ...         ...         ...\n7271   Vic Harris   -7.142873    0.000000   -7.142873\n7272    Jim Levey   -8.000576    0.000000   -8.000576\n7273   Doug Flynn   -8.367821    0.000000   -8.367821\n7274  Ryan Doumit   -8.621528    0.000000   -8.621528\n7275  Bill Bergen  -16.215583    0.000000  -16.215583\n\n[7276 rows x 4 columns]",
      "text/html": "<div>\n<style scoped>\n    .dataframe tbody tr th:only-of-type {\n        vertical-align: middle;\n    }\n\n    .dataframe tbody tr th {\n        vertical-align: top;\n    }\n\n    .dataframe thead th {\n        text-align: right;\n    }\n</style>\n<table border=\"1\" class=\"dataframe\">\n  <thead>\n    <tr style=\"text-align: right;\">\n      <th></th>\n      <th>Name</th>\n      <th>ppWAR</th>\n      <th>pWAR</th>\n      <th>WAR</th>\n    </tr>\n  </thead>\n  <tbody>\n    <tr>\n      <th>0</th>\n      <td>Babe Ruth</td>\n      <td>167.017911</td>\n      <td>18.864698</td>\n      <td>185.882609</td>\n    </tr>\n    <tr>\n      <th>1</th>\n      <td>Barry Bonds</td>\n      <td>164.448151</td>\n      <td>0.000000</td>\n      <td>164.448151</td>\n    </tr>\n    <tr>\n      <th>2</th>\n      <td>Cy Young</td>\n      <td>0.759004</td>\n      <td>155.322210</td>\n      <td>156.081214</td>\n    </tr>\n    <tr>\n      <th>3</th>\n      <td>Willie Mays</td>\n      <td>149.853499</td>\n      <td>0.000000</td>\n      <td>149.853499</td>\n    </tr>\n    <tr>\n      <th>4</th>\n      <td>Ty Cobb</td>\n      <td>149.076666</td>\n      <td>0.000000</td>\n      <td>149.076666</td>\n    </tr>\n    <tr>\n      <th>...</th>\n      <td>...</td>\n      <td>...</td>\n      <td>...</td>\n      <td>...</td>\n    </tr>\n    <tr>\n      <th>7271</th>\n      <td>Vic Harris</td>\n      <td>-7.142873</td>\n      <td>0.000000</td>\n      <td>-7.142873</td>\n    </tr>\n    <tr>\n      <th>7272</th>\n      <td>Jim Levey</td>\n      <td>-8.000576</td>\n      <td>0.000000</td>\n      <td>-8.000576</td>\n    </tr>\n    <tr>\n      <th>7273</th>\n      <td>Doug Flynn</td>\n      <td>-8.367821</td>\n      <td>0.000000</td>\n      <td>-8.367821</td>\n    </tr>\n    <tr>\n      <th>7274</th>\n      <td>Ryan Doumit</td>\n      <td>-8.621528</td>\n      <td>0.000000</td>\n      <td>-8.621528</td>\n    </tr>\n    <tr>\n      <th>7275</th>\n      <td>Bill Bergen</td>\n      <td>-16.215583</td>\n      <td>0.000000</td>\n      <td>-16.215583</td>\n    </tr>\n  </tbody>\n</table>\n<p>7276 rows × 4 columns</p>\n</div>"
     },
     "execution_count": 25,
     "metadata": {},
     "output_type": "execute_result"
    }
   ],
   "source": [
    "war = pd.read_csv('batterwar.csv').merge(pd.read_csv('pitcherwar.csv'), how='outer', on='PlayerId', suffixes=('_batting', '_pitching')).fillna(0.0).assign(tWAR=lambda x: x['WAR_batting'] + x['aWAR']).merge(pd.read_csv('fgplayerids.csv').astype({'MLBAMID': 'Int64'}), on='PlayerId')\n",
    "war[['Name', 'WAR_batting', 'aWAR', 'tWAR']].rename({'WAR_batting': 'ppWAR', 'aWAR': 'pWAR', 'tWAR': 'WAR'}, axis=1).sort_values('WAR', ascending=False, ignore_index=True)"
   ],
   "metadata": {
    "collapsed": false,
    "ExecuteTime": {
     "end_time": "2023-12-25T03:55:57.105996Z",
     "start_time": "2023-12-25T03:55:56.919988Z"
    }
   },
   "id": "a3149daa5b5ad6b8"
  },
  {
   "cell_type": "code",
   "execution_count": 5,
   "outputs": [
    {
     "data": {
      "text/plain": "Empty DataFrame\nColumns: [yearID, teamAbrLahman, parkID, startDate, endDate, games]\nIndex: []",
      "text/html": "<div>\n<style scoped>\n    .dataframe tbody tr th:only-of-type {\n        vertical-align: middle;\n    }\n\n    .dataframe tbody tr th {\n        vertical-align: top;\n    }\n\n    .dataframe thead th {\n        text-align: right;\n    }\n</style>\n<table border=\"1\" class=\"dataframe\">\n  <thead>\n    <tr style=\"text-align: right;\">\n      <th></th>\n      <th>yearID</th>\n      <th>teamAbrLahman</th>\n      <th>parkID</th>\n      <th>startDate</th>\n      <th>endDate</th>\n      <th>games</th>\n    </tr>\n  </thead>\n  <tbody>\n  </tbody>\n</table>\n</div>"
     },
     "execution_count": 5,
     "metadata": {},
     "output_type": "execute_result"
    }
   ],
   "source": [
    "home[home['yearID'] == 2022]"
   ],
   "metadata": {
    "collapsed": false,
    "ExecuteTime": {
     "end_time": "2023-12-22T03:43:47.892901Z",
     "start_time": "2023-12-22T03:43:47.818746Z"
    }
   },
   "id": "4ca20303bedd15cd"
  },
  {
   "cell_type": "code",
   "execution_count": 50,
   "outputs": [
    {
     "data": {
      "text/plain": "    yearID teamAbrFG  franchID franchAbrLahman lgID teamAbrLahman  \\\n151   1884       ALT      1001             ALT   UA           ALT   \n135   1884       BUF      1015             BUF   NL           BFN   \n137   1884       BAL      1006             BLO   AA           BL2   \n139   1884       BAL      1008             BLU   UA           BLU   \n144   1884       BRO        22             LAD   AA           BR3   \n131   1884       BSN        16             ATL   NL           BSN   \n138   1884       BSU      1011             BRD   UA           BSU   \n125   1884       CHI        17             CHC   NL           CHN   \n140   1884       CUN      1030             CPI   UA           CHU   \n141   1884       CLE      1018             CBL   NL           CL2   \n127   1884       COL      1017             CBK   AA           CL5   \n133   1884       CIN        18             CIN   AA           CN2   \n128   1884       COR      1029             COR   UA           CNU   \n154   1884       DET      1031             DTN   NL           DTN   \n145   1884       IND      1036             IHO   AA           IN2   \n149   1884       KCC      1041             KCU   UA           KCU   \n130   1884       LOU      1044             LOU   AA           LS2   \n156   1884       MIL      1049             MLU   UA           MLU   \n136   1884       NYG        30             SFG   NL           NY1   \n126   1884       NYM      1055             NYP   AA           NY4   \n132   1884       PHA      1060             PHA   AA           PH4   \n147   1884       PHI        26             PHI   NL           PHI   \n146   1884       PHK      1061             PHK   UA           PHU   \n129   1884       PRO      1064             PRO   NL           PRO   \n152   1884       PIT        27             PIT   AA           PT1   \n148   1884       RIC      1067             RIC   AA           RIC   \n134   1884       STL        28             STL   AA           SL4   \n124   1884       STL      1072             SLM   UA           SLU   \n150   1884       SPS      1075             STP   UA           SPU   \n142   1884       TOL      1079             TOL   AA           TL1   \n153   1884       WIL      1085             WIL   UA           WIL   \n143   1884       WST      1086             WST   AA           WS7   \n155   1884       WSN      1090             WNA   UA           WSU   \n\n    teamAbrLahman45 teamAbrRetro divID                           teamName  \\\n151             ALT          ALT   NaN              Altoona Mountain City   \n135             BFN          BFN   NaN                     Buffalo Bisons   \n137             BL2          BL2   NaN                  Baltimore Orioles   \n139             BLU          BLU   NaN              Baltimore Monumentals   \n144             BR3          BR3   NaN                 Brooklyn Atlantics   \n131             BSN          BSN   NaN                  Boston Beaneaters   \n138             BSU          BSU   NaN                        Boston Reds   \n125             CHN          CHN   NaN            Chicago White Stockings   \n140             CHU          CHU   NaN  Chicago/Pittsburgh (Union League)   \n141             CL2          CL2   NaN                    Cleveland Blues   \n127             CL5          CL5   NaN                  Columbus Buckeyes   \n133             CN2          CN2   NaN           Cincinnati Red Stockings   \n128             CNU          CNU   NaN             Cincinnati Outlaw Reds   \n154             DTN          DTN   NaN                 Detroit Wolverines   \n145             IN2          IN2   NaN              Indianapolis Hoosiers   \n149             KCU          KCU   NaN                Kansas City Cowboys   \n130             LS2          LS2   NaN                 Louisville Eclipse   \n156             MLU          MLU   NaN                  Milwaukee Brewers   \n136             NY1          NY1   NaN                   New York Gothams   \n126             NY4          NY4   NaN             New York Metropolitans   \n132             PH4          PH4   NaN             Philadelphia Athletics   \n147             PHI          PHI   NaN               Philadelphia Quakers   \n146             PHU          PHU   NaN             Philadelphia Keystones   \n129             PRO          PRO   NaN                   Providence Grays   \n152             PT1          PT1   NaN               Pittsburg Alleghenys   \n148             RIC          RIC   NaN                Richmond Virginians   \n134             SL4          SL4   NaN                   St. Louis Browns   \n124             SLU          SLU   NaN                  St. Louis Maroons   \n150             SPU          SPU   NaN                St. Paul White Caps   \n142             TL1          TL1   NaN              Toledo Blue Stockings   \n153             WIL          WIL   NaN              Wilmington Quicksteps   \n143             WS7          WS7   NaN               Washington Nationals   \n155             WSU          WSU   NaN               Washington Nationals   \n\n                            park            location        nickname  \n151                          NaN             Altoona  Mountain Citys  \n135               Olympic Park I             Buffalo          Bisons  \n137                  Oriole Park           Baltimore         Orioles  \n139                          NaN           Baltimore     Monumentals  \n144            Washington Park I            Brooklyn         Dodgers  \n131          South End Grounds I              Boston          Braves  \n138                          NaN              Boston            Reds  \n125           Lake Front Park II             Chicago            Cubs  \n140                          NaN  Chicago-Pittsburgh          Browns  \n141          Kennard Street Park           Cleveland         Spiders  \n127            Recreation Park I            Columbus           Colts  \n133  League Park I in Cincinnati          Cincinnati            Reds  \n128                          NaN          Cincinnati     Outlaw Reds  \n154              Recreation Park             Detroit      Wolverines  \n145          Seventh Street Park        Indianapolis           Blues  \n149                          NaN         Kansas City         Cowboys  \n130               Eclipse Park I          Louisville        Colonels  \n156                          NaN           Milwaukee         Brewers  \n136               Polo Grounds I            New York          Giants  \n126  Polo Grounds I West Diamond            New York   Metropolitans  \n132     Jefferson Street Grounds        Philadelphia       Athletics  \n147              Recreation Park        Philadelphia        Phillies  \n146                          NaN        Philadelphia       Keystones  \n129        Messer Street Grounds          Providence           Grays  \n152              Recreation Park          Pittsburgh         Pirates  \n148                Allen Pasture            Richmond       Virginias  \n134           Sportsman's Park I           St. Louis       Cardinals  \n124                          NaN           St. Louis         Maroons  \n150                          NaN            St. Paul          Saints  \n142                  League Park              Toledo  Blue Stockings  \n153                          NaN          Wilmington      Quicksteps  \n143                Athletic Park          Washington       Nationals  \n155                          NaN          Washington       Nationals  ",
      "text/html": "<div>\n<style scoped>\n    .dataframe tbody tr th:only-of-type {\n        vertical-align: middle;\n    }\n\n    .dataframe tbody tr th {\n        vertical-align: top;\n    }\n\n    .dataframe thead th {\n        text-align: right;\n    }\n</style>\n<table border=\"1\" class=\"dataframe\">\n  <thead>\n    <tr style=\"text-align: right;\">\n      <th></th>\n      <th>yearID</th>\n      <th>teamAbrFG</th>\n      <th>franchID</th>\n      <th>franchAbrLahman</th>\n      <th>lgID</th>\n      <th>teamAbrLahman</th>\n      <th>teamAbrLahman45</th>\n      <th>teamAbrRetro</th>\n      <th>divID</th>\n      <th>teamName</th>\n      <th>park</th>\n      <th>location</th>\n      <th>nickname</th>\n    </tr>\n  </thead>\n  <tbody>\n    <tr>\n      <th>151</th>\n      <td>1884</td>\n      <td>ALT</td>\n      <td>1001</td>\n      <td>ALT</td>\n      <td>UA</td>\n      <td>ALT</td>\n      <td>ALT</td>\n      <td>ALT</td>\n      <td>NaN</td>\n      <td>Altoona Mountain City</td>\n      <td>NaN</td>\n      <td>Altoona</td>\n      <td>Mountain Citys</td>\n    </tr>\n    <tr>\n      <th>135</th>\n      <td>1884</td>\n      <td>BUF</td>\n      <td>1015</td>\n      <td>BUF</td>\n      <td>NL</td>\n      <td>BFN</td>\n      <td>BFN</td>\n      <td>BFN</td>\n      <td>NaN</td>\n      <td>Buffalo Bisons</td>\n      <td>Olympic Park I</td>\n      <td>Buffalo</td>\n      <td>Bisons</td>\n    </tr>\n    <tr>\n      <th>137</th>\n      <td>1884</td>\n      <td>BAL</td>\n      <td>1006</td>\n      <td>BLO</td>\n      <td>AA</td>\n      <td>BL2</td>\n      <td>BL2</td>\n      <td>BL2</td>\n      <td>NaN</td>\n      <td>Baltimore Orioles</td>\n      <td>Oriole Park</td>\n      <td>Baltimore</td>\n      <td>Orioles</td>\n    </tr>\n    <tr>\n      <th>139</th>\n      <td>1884</td>\n      <td>BAL</td>\n      <td>1008</td>\n      <td>BLU</td>\n      <td>UA</td>\n      <td>BLU</td>\n      <td>BLU</td>\n      <td>BLU</td>\n      <td>NaN</td>\n      <td>Baltimore Monumentals</td>\n      <td>NaN</td>\n      <td>Baltimore</td>\n      <td>Monumentals</td>\n    </tr>\n    <tr>\n      <th>144</th>\n      <td>1884</td>\n      <td>BRO</td>\n      <td>22</td>\n      <td>LAD</td>\n      <td>AA</td>\n      <td>BR3</td>\n      <td>BR3</td>\n      <td>BR3</td>\n      <td>NaN</td>\n      <td>Brooklyn Atlantics</td>\n      <td>Washington Park I</td>\n      <td>Brooklyn</td>\n      <td>Dodgers</td>\n    </tr>\n    <tr>\n      <th>131</th>\n      <td>1884</td>\n      <td>BSN</td>\n      <td>16</td>\n      <td>ATL</td>\n      <td>NL</td>\n      <td>BSN</td>\n      <td>BSN</td>\n      <td>BSN</td>\n      <td>NaN</td>\n      <td>Boston Beaneaters</td>\n      <td>South End Grounds I</td>\n      <td>Boston</td>\n      <td>Braves</td>\n    </tr>\n    <tr>\n      <th>138</th>\n      <td>1884</td>\n      <td>BSU</td>\n      <td>1011</td>\n      <td>BRD</td>\n      <td>UA</td>\n      <td>BSU</td>\n      <td>BSU</td>\n      <td>BSU</td>\n      <td>NaN</td>\n      <td>Boston Reds</td>\n      <td>NaN</td>\n      <td>Boston</td>\n      <td>Reds</td>\n    </tr>\n    <tr>\n      <th>125</th>\n      <td>1884</td>\n      <td>CHI</td>\n      <td>17</td>\n      <td>CHC</td>\n      <td>NL</td>\n      <td>CHN</td>\n      <td>CHN</td>\n      <td>CHN</td>\n      <td>NaN</td>\n      <td>Chicago White Stockings</td>\n      <td>Lake Front Park II</td>\n      <td>Chicago</td>\n      <td>Cubs</td>\n    </tr>\n    <tr>\n      <th>140</th>\n      <td>1884</td>\n      <td>CUN</td>\n      <td>1030</td>\n      <td>CPI</td>\n      <td>UA</td>\n      <td>CHU</td>\n      <td>CHU</td>\n      <td>CHU</td>\n      <td>NaN</td>\n      <td>Chicago/Pittsburgh (Union League)</td>\n      <td>NaN</td>\n      <td>Chicago-Pittsburgh</td>\n      <td>Browns</td>\n    </tr>\n    <tr>\n      <th>141</th>\n      <td>1884</td>\n      <td>CLE</td>\n      <td>1018</td>\n      <td>CBL</td>\n      <td>NL</td>\n      <td>CL2</td>\n      <td>CL2</td>\n      <td>CL2</td>\n      <td>NaN</td>\n      <td>Cleveland Blues</td>\n      <td>Kennard Street Park</td>\n      <td>Cleveland</td>\n      <td>Spiders</td>\n    </tr>\n    <tr>\n      <th>127</th>\n      <td>1884</td>\n      <td>COL</td>\n      <td>1017</td>\n      <td>CBK</td>\n      <td>AA</td>\n      <td>CL5</td>\n      <td>CL5</td>\n      <td>CL5</td>\n      <td>NaN</td>\n      <td>Columbus Buckeyes</td>\n      <td>Recreation Park I</td>\n      <td>Columbus</td>\n      <td>Colts</td>\n    </tr>\n    <tr>\n      <th>133</th>\n      <td>1884</td>\n      <td>CIN</td>\n      <td>18</td>\n      <td>CIN</td>\n      <td>AA</td>\n      <td>CN2</td>\n      <td>CN2</td>\n      <td>CN2</td>\n      <td>NaN</td>\n      <td>Cincinnati Red Stockings</td>\n      <td>League Park I in Cincinnati</td>\n      <td>Cincinnati</td>\n      <td>Reds</td>\n    </tr>\n    <tr>\n      <th>128</th>\n      <td>1884</td>\n      <td>COR</td>\n      <td>1029</td>\n      <td>COR</td>\n      <td>UA</td>\n      <td>CNU</td>\n      <td>CNU</td>\n      <td>CNU</td>\n      <td>NaN</td>\n      <td>Cincinnati Outlaw Reds</td>\n      <td>NaN</td>\n      <td>Cincinnati</td>\n      <td>Outlaw Reds</td>\n    </tr>\n    <tr>\n      <th>154</th>\n      <td>1884</td>\n      <td>DET</td>\n      <td>1031</td>\n      <td>DTN</td>\n      <td>NL</td>\n      <td>DTN</td>\n      <td>DTN</td>\n      <td>DTN</td>\n      <td>NaN</td>\n      <td>Detroit Wolverines</td>\n      <td>Recreation Park</td>\n      <td>Detroit</td>\n      <td>Wolverines</td>\n    </tr>\n    <tr>\n      <th>145</th>\n      <td>1884</td>\n      <td>IND</td>\n      <td>1036</td>\n      <td>IHO</td>\n      <td>AA</td>\n      <td>IN2</td>\n      <td>IN2</td>\n      <td>IN2</td>\n      <td>NaN</td>\n      <td>Indianapolis Hoosiers</td>\n      <td>Seventh Street Park</td>\n      <td>Indianapolis</td>\n      <td>Blues</td>\n    </tr>\n    <tr>\n      <th>149</th>\n      <td>1884</td>\n      <td>KCC</td>\n      <td>1041</td>\n      <td>KCU</td>\n      <td>UA</td>\n      <td>KCU</td>\n      <td>KCU</td>\n      <td>KCU</td>\n      <td>NaN</td>\n      <td>Kansas City Cowboys</td>\n      <td>NaN</td>\n      <td>Kansas City</td>\n      <td>Cowboys</td>\n    </tr>\n    <tr>\n      <th>130</th>\n      <td>1884</td>\n      <td>LOU</td>\n      <td>1044</td>\n      <td>LOU</td>\n      <td>AA</td>\n      <td>LS2</td>\n      <td>LS2</td>\n      <td>LS2</td>\n      <td>NaN</td>\n      <td>Louisville Eclipse</td>\n      <td>Eclipse Park I</td>\n      <td>Louisville</td>\n      <td>Colonels</td>\n    </tr>\n    <tr>\n      <th>156</th>\n      <td>1884</td>\n      <td>MIL</td>\n      <td>1049</td>\n      <td>MLU</td>\n      <td>UA</td>\n      <td>MLU</td>\n      <td>MLU</td>\n      <td>MLU</td>\n      <td>NaN</td>\n      <td>Milwaukee Brewers</td>\n      <td>NaN</td>\n      <td>Milwaukee</td>\n      <td>Brewers</td>\n    </tr>\n    <tr>\n      <th>136</th>\n      <td>1884</td>\n      <td>NYG</td>\n      <td>30</td>\n      <td>SFG</td>\n      <td>NL</td>\n      <td>NY1</td>\n      <td>NY1</td>\n      <td>NY1</td>\n      <td>NaN</td>\n      <td>New York Gothams</td>\n      <td>Polo Grounds I</td>\n      <td>New York</td>\n      <td>Giants</td>\n    </tr>\n    <tr>\n      <th>126</th>\n      <td>1884</td>\n      <td>NYM</td>\n      <td>1055</td>\n      <td>NYP</td>\n      <td>AA</td>\n      <td>NY4</td>\n      <td>NY4</td>\n      <td>NY4</td>\n      <td>NaN</td>\n      <td>New York Metropolitans</td>\n      <td>Polo Grounds I West Diamond</td>\n      <td>New York</td>\n      <td>Metropolitans</td>\n    </tr>\n    <tr>\n      <th>132</th>\n      <td>1884</td>\n      <td>PHA</td>\n      <td>1060</td>\n      <td>PHA</td>\n      <td>AA</td>\n      <td>PH4</td>\n      <td>PH4</td>\n      <td>PH4</td>\n      <td>NaN</td>\n      <td>Philadelphia Athletics</td>\n      <td>Jefferson Street Grounds</td>\n      <td>Philadelphia</td>\n      <td>Athletics</td>\n    </tr>\n    <tr>\n      <th>147</th>\n      <td>1884</td>\n      <td>PHI</td>\n      <td>26</td>\n      <td>PHI</td>\n      <td>NL</td>\n      <td>PHI</td>\n      <td>PHI</td>\n      <td>PHI</td>\n      <td>NaN</td>\n      <td>Philadelphia Quakers</td>\n      <td>Recreation Park</td>\n      <td>Philadelphia</td>\n      <td>Phillies</td>\n    </tr>\n    <tr>\n      <th>146</th>\n      <td>1884</td>\n      <td>PHK</td>\n      <td>1061</td>\n      <td>PHK</td>\n      <td>UA</td>\n      <td>PHU</td>\n      <td>PHU</td>\n      <td>PHU</td>\n      <td>NaN</td>\n      <td>Philadelphia Keystones</td>\n      <td>NaN</td>\n      <td>Philadelphia</td>\n      <td>Keystones</td>\n    </tr>\n    <tr>\n      <th>129</th>\n      <td>1884</td>\n      <td>PRO</td>\n      <td>1064</td>\n      <td>PRO</td>\n      <td>NL</td>\n      <td>PRO</td>\n      <td>PRO</td>\n      <td>PRO</td>\n      <td>NaN</td>\n      <td>Providence Grays</td>\n      <td>Messer Street Grounds</td>\n      <td>Providence</td>\n      <td>Grays</td>\n    </tr>\n    <tr>\n      <th>152</th>\n      <td>1884</td>\n      <td>PIT</td>\n      <td>27</td>\n      <td>PIT</td>\n      <td>AA</td>\n      <td>PT1</td>\n      <td>PT1</td>\n      <td>PT1</td>\n      <td>NaN</td>\n      <td>Pittsburg Alleghenys</td>\n      <td>Recreation Park</td>\n      <td>Pittsburgh</td>\n      <td>Pirates</td>\n    </tr>\n    <tr>\n      <th>148</th>\n      <td>1884</td>\n      <td>RIC</td>\n      <td>1067</td>\n      <td>RIC</td>\n      <td>AA</td>\n      <td>RIC</td>\n      <td>RIC</td>\n      <td>RIC</td>\n      <td>NaN</td>\n      <td>Richmond Virginians</td>\n      <td>Allen Pasture</td>\n      <td>Richmond</td>\n      <td>Virginias</td>\n    </tr>\n    <tr>\n      <th>134</th>\n      <td>1884</td>\n      <td>STL</td>\n      <td>28</td>\n      <td>STL</td>\n      <td>AA</td>\n      <td>SL4</td>\n      <td>SL4</td>\n      <td>SL4</td>\n      <td>NaN</td>\n      <td>St. Louis Browns</td>\n      <td>Sportsman's Park I</td>\n      <td>St. Louis</td>\n      <td>Cardinals</td>\n    </tr>\n    <tr>\n      <th>124</th>\n      <td>1884</td>\n      <td>STL</td>\n      <td>1072</td>\n      <td>SLM</td>\n      <td>UA</td>\n      <td>SLU</td>\n      <td>SLU</td>\n      <td>SLU</td>\n      <td>NaN</td>\n      <td>St. Louis Maroons</td>\n      <td>NaN</td>\n      <td>St. Louis</td>\n      <td>Maroons</td>\n    </tr>\n    <tr>\n      <th>150</th>\n      <td>1884</td>\n      <td>SPS</td>\n      <td>1075</td>\n      <td>STP</td>\n      <td>UA</td>\n      <td>SPU</td>\n      <td>SPU</td>\n      <td>SPU</td>\n      <td>NaN</td>\n      <td>St. Paul White Caps</td>\n      <td>NaN</td>\n      <td>St. Paul</td>\n      <td>Saints</td>\n    </tr>\n    <tr>\n      <th>142</th>\n      <td>1884</td>\n      <td>TOL</td>\n      <td>1079</td>\n      <td>TOL</td>\n      <td>AA</td>\n      <td>TL1</td>\n      <td>TL1</td>\n      <td>TL1</td>\n      <td>NaN</td>\n      <td>Toledo Blue Stockings</td>\n      <td>League Park</td>\n      <td>Toledo</td>\n      <td>Blue Stockings</td>\n    </tr>\n    <tr>\n      <th>153</th>\n      <td>1884</td>\n      <td>WIL</td>\n      <td>1085</td>\n      <td>WIL</td>\n      <td>UA</td>\n      <td>WIL</td>\n      <td>WIL</td>\n      <td>WIL</td>\n      <td>NaN</td>\n      <td>Wilmington Quicksteps</td>\n      <td>NaN</td>\n      <td>Wilmington</td>\n      <td>Quicksteps</td>\n    </tr>\n    <tr>\n      <th>143</th>\n      <td>1884</td>\n      <td>WST</td>\n      <td>1086</td>\n      <td>WST</td>\n      <td>AA</td>\n      <td>WS7</td>\n      <td>WS7</td>\n      <td>WS7</td>\n      <td>NaN</td>\n      <td>Washington Nationals</td>\n      <td>Athletic Park</td>\n      <td>Washington</td>\n      <td>Nationals</td>\n    </tr>\n    <tr>\n      <th>155</th>\n      <td>1884</td>\n      <td>WSN</td>\n      <td>1090</td>\n      <td>WNA</td>\n      <td>UA</td>\n      <td>WSU</td>\n      <td>WSU</td>\n      <td>WSU</td>\n      <td>NaN</td>\n      <td>Washington Nationals</td>\n      <td>NaN</td>\n      <td>Washington</td>\n      <td>Nationals</td>\n    </tr>\n  </tbody>\n</table>\n</div>"
     },
     "execution_count": 50,
     "metadata": {},
     "output_type": "execute_result"
    }
   ],
   "source": [
    "df[df['yearID'] == 1884].sort_values('teamAbrLahman')"
   ],
   "metadata": {
    "collapsed": false,
    "ExecuteTime": {
     "end_time": "2023-12-21T04:38:14.613476Z",
     "start_time": "2023-12-21T04:38:14.583923Z"
    }
   },
   "id": "910c1087858f44eb"
  },
  {
   "cell_type": "code",
   "execution_count": 29,
   "outputs": [
    {
     "data": {
      "text/plain": "   Season    AB     H    1B   2B   3B  HR    R  RBI   BB  ... Barrels Barrel%  \\\n0    1898  5242  1584  1341  154   77  12  933  757  519  ...    None    None   \n1    1898  5276  1531  1233  190   55  53  872  761  405  ...    None    None   \n2    1898  5219  1431  1154  175   84  18  828  656  476  ...    None    None   \n3    1898  5118  1431  1079  238   81  33  823  706  472  ...    None    None   \n4    1898  5334  1448  1121  207  101  19  831  688  455  ...    None    None   \n\n   maxEV HardHit  HardHit%        Q    G    PA  TeamName teamid  \n0   None    None      None  39.2157  153  6000       BAL   1006  \n1   None    None      None  38.4671  152  5847       BSN     16  \n2   None    None      None  38.6776  152  5879       CHI     17  \n3   None    None      None  38.5267  150  5779       PHI     26  \n4   None    None      None  38.1146  157  5984       CIN     18  \n\n[5 rows x 342 columns]",
      "text/html": "<div>\n<style scoped>\n    .dataframe tbody tr th:only-of-type {\n        vertical-align: middle;\n    }\n\n    .dataframe tbody tr th {\n        vertical-align: top;\n    }\n\n    .dataframe thead th {\n        text-align: right;\n    }\n</style>\n<table border=\"1\" class=\"dataframe\">\n  <thead>\n    <tr style=\"text-align: right;\">\n      <th></th>\n      <th>Season</th>\n      <th>AB</th>\n      <th>H</th>\n      <th>1B</th>\n      <th>2B</th>\n      <th>3B</th>\n      <th>HR</th>\n      <th>R</th>\n      <th>RBI</th>\n      <th>BB</th>\n      <th>...</th>\n      <th>Barrels</th>\n      <th>Barrel%</th>\n      <th>maxEV</th>\n      <th>HardHit</th>\n      <th>HardHit%</th>\n      <th>Q</th>\n      <th>G</th>\n      <th>PA</th>\n      <th>TeamName</th>\n      <th>teamid</th>\n    </tr>\n  </thead>\n  <tbody>\n    <tr>\n      <th>0</th>\n      <td>1898</td>\n      <td>5242</td>\n      <td>1584</td>\n      <td>1341</td>\n      <td>154</td>\n      <td>77</td>\n      <td>12</td>\n      <td>933</td>\n      <td>757</td>\n      <td>519</td>\n      <td>...</td>\n      <td>None</td>\n      <td>None</td>\n      <td>None</td>\n      <td>None</td>\n      <td>None</td>\n      <td>39.2157</td>\n      <td>153</td>\n      <td>6000</td>\n      <td>BAL</td>\n      <td>1006</td>\n    </tr>\n    <tr>\n      <th>1</th>\n      <td>1898</td>\n      <td>5276</td>\n      <td>1531</td>\n      <td>1233</td>\n      <td>190</td>\n      <td>55</td>\n      <td>53</td>\n      <td>872</td>\n      <td>761</td>\n      <td>405</td>\n      <td>...</td>\n      <td>None</td>\n      <td>None</td>\n      <td>None</td>\n      <td>None</td>\n      <td>None</td>\n      <td>38.4671</td>\n      <td>152</td>\n      <td>5847</td>\n      <td>BSN</td>\n      <td>16</td>\n    </tr>\n    <tr>\n      <th>2</th>\n      <td>1898</td>\n      <td>5219</td>\n      <td>1431</td>\n      <td>1154</td>\n      <td>175</td>\n      <td>84</td>\n      <td>18</td>\n      <td>828</td>\n      <td>656</td>\n      <td>476</td>\n      <td>...</td>\n      <td>None</td>\n      <td>None</td>\n      <td>None</td>\n      <td>None</td>\n      <td>None</td>\n      <td>38.6776</td>\n      <td>152</td>\n      <td>5879</td>\n      <td>CHI</td>\n      <td>17</td>\n    </tr>\n    <tr>\n      <th>3</th>\n      <td>1898</td>\n      <td>5118</td>\n      <td>1431</td>\n      <td>1079</td>\n      <td>238</td>\n      <td>81</td>\n      <td>33</td>\n      <td>823</td>\n      <td>706</td>\n      <td>472</td>\n      <td>...</td>\n      <td>None</td>\n      <td>None</td>\n      <td>None</td>\n      <td>None</td>\n      <td>None</td>\n      <td>38.5267</td>\n      <td>150</td>\n      <td>5779</td>\n      <td>PHI</td>\n      <td>26</td>\n    </tr>\n    <tr>\n      <th>4</th>\n      <td>1898</td>\n      <td>5334</td>\n      <td>1448</td>\n      <td>1121</td>\n      <td>207</td>\n      <td>101</td>\n      <td>19</td>\n      <td>831</td>\n      <td>688</td>\n      <td>455</td>\n      <td>...</td>\n      <td>None</td>\n      <td>None</td>\n      <td>None</td>\n      <td>None</td>\n      <td>None</td>\n      <td>38.1146</td>\n      <td>157</td>\n      <td>5984</td>\n      <td>CIN</td>\n      <td>18</td>\n    </tr>\n  </tbody>\n</table>\n<p>5 rows × 342 columns</p>\n</div>"
     },
     "execution_count": 29,
     "metadata": {},
     "output_type": "execute_result"
    }
   ],
   "source": [
    "url = 'https://www.fangraphs.com/leaders/major-league?pos=all&stats={stats}&lg=aa&lg=al&lg=fl&lg=na&lg=nl&lg=pl&lg=ua&qual=0&type=8&month=0&ind=0&team=0%2Cts&rost=&age=&filter=&players=0&startdate=&enddate=&season1=1898&season=1898'\n",
    "\n",
    "df = pd.DataFrame(json.loads(BeautifulSoup(requests.get(url.format(stats='bat')).content, 'html.parser', from_encoding='utf_8').find('script', type='application/json').text)['props']['pageProps']['dehydratedState']['queries'][0]['state']['data']['data']).replace('- - -', np.nan).drop(['Name', 'PlayerName', 'PlayerNameRoute', 'Team', 'TeamNameAbb', 'SeasonMin', 'SeasonMax', 'Bats', 'Throws', 'xMLBAMID', 'playerid', 'Age', 'AgeR', 'G', 'GS', 'PA', 'IP', 'Pos', 'Inn'], axis=1, errors='ignore').rename({'TG': 'G', 'TPA': 'PA', 'TIP': 'IP', 'TInn': 'Inn'}, axis=1)\n",
    "\n",
    "\n",
    "for col in {'IP', 'Inn'} & set(df.columns):\n",
    "    df[col] = df[col].mul(3).round().div(3)\n",
    "    \n",
    "df.head()"
   ],
   "metadata": {
    "collapsed": false,
    "ExecuteTime": {
     "end_time": "2023-12-16T02:38:59.557092Z",
     "start_time": "2023-12-16T02:38:58.703492Z"
    }
   },
   "id": "14b0e82c14a3cc76"
  },
  {
   "cell_type": "code",
   "execution_count": 12,
   "outputs": [
    {
     "data": {
      "text/plain": "0     430.333333\n1     419.000000\n2     515.666667\n3     336.000000\n4     199.000000\n5     259.333333\n6     211.000000\n7      99.000000\n8     512.000000\n9      79.000000\n10    225.000000\nName: Inn, dtype: float64"
     },
     "execution_count": 12,
     "metadata": {},
     "output_type": "execute_result"
    }
   ],
   "source": [
    "df['Inn'].mul(3).round().div(3)"
   ],
   "metadata": {
    "collapsed": false,
    "ExecuteTime": {
     "end_time": "2023-12-16T01:48:26.378426Z",
     "start_time": "2023-12-16T01:48:26.362415Z"
    }
   },
   "id": "588cf4446ed163fc"
  },
  {
   "cell_type": "code",
   "execution_count": 6,
   "outputs": [],
   "source": [
    "franchises = pd.read_csv('baseballdatabank-2022.2/core/TeamsFranchises.csv')\n",
    "lahman = pd.read_csv('baseballdatabank-2022.2/core/Teams.csv')\n",
    "parks = pd.read_csv('baseballdatabank-2022.2/core/Parks.csv').rename({'park.key': 'parkID', 'park.name': 'name', 'park.alias': 'alias'}, axis=1)"
   ],
   "metadata": {
    "collapsed": false,
    "ExecuteTime": {
     "end_time": "2023-12-17T02:57:03.003211Z",
     "start_time": "2023-12-17T02:57:02.945930Z"
    }
   },
   "id": "2c1239fae25bbdbd"
  },
  {
   "cell_type": "code",
   "execution_count": 10,
   "outputs": [
    {
     "data": {
      "text/plain": "    franchID                     franchName active NAassoc\n0        ALT          Altoona Mountain City      N     NaN\n1        ANA  Los Angeles Angels of Anaheim      Y     NaN\n2        ARI           Arizona Diamondbacks      Y     NaN\n3        ATH         Philadelphia Athletics      N     PNA\n4        ATL                 Atlanta Braves      Y     BNA\n..       ...                            ...    ...     ...\n115      WNL           Washington Nationals      N     NaN\n116      WNT           Washington Nationals    NaN     NaN\n117      WOR            Worcester Ruby Legs      N     NaN\n118      WSN           Washington Nationals      Y     NaN\n119      WST           Washington Statesmen      N     NaN\n\n[120 rows x 4 columns]",
      "text/html": "<div>\n<style scoped>\n    .dataframe tbody tr th:only-of-type {\n        vertical-align: middle;\n    }\n\n    .dataframe tbody tr th {\n        vertical-align: top;\n    }\n\n    .dataframe thead th {\n        text-align: right;\n    }\n</style>\n<table border=\"1\" class=\"dataframe\">\n  <thead>\n    <tr style=\"text-align: right;\">\n      <th></th>\n      <th>franchID</th>\n      <th>franchName</th>\n      <th>active</th>\n      <th>NAassoc</th>\n    </tr>\n  </thead>\n  <tbody>\n    <tr>\n      <th>0</th>\n      <td>ALT</td>\n      <td>Altoona Mountain City</td>\n      <td>N</td>\n      <td>NaN</td>\n    </tr>\n    <tr>\n      <th>1</th>\n      <td>ANA</td>\n      <td>Los Angeles Angels of Anaheim</td>\n      <td>Y</td>\n      <td>NaN</td>\n    </tr>\n    <tr>\n      <th>2</th>\n      <td>ARI</td>\n      <td>Arizona Diamondbacks</td>\n      <td>Y</td>\n      <td>NaN</td>\n    </tr>\n    <tr>\n      <th>3</th>\n      <td>ATH</td>\n      <td>Philadelphia Athletics</td>\n      <td>N</td>\n      <td>PNA</td>\n    </tr>\n    <tr>\n      <th>4</th>\n      <td>ATL</td>\n      <td>Atlanta Braves</td>\n      <td>Y</td>\n      <td>BNA</td>\n    </tr>\n    <tr>\n      <th>...</th>\n      <td>...</td>\n      <td>...</td>\n      <td>...</td>\n      <td>...</td>\n    </tr>\n    <tr>\n      <th>115</th>\n      <td>WNL</td>\n      <td>Washington Nationals</td>\n      <td>N</td>\n      <td>NaN</td>\n    </tr>\n    <tr>\n      <th>116</th>\n      <td>WNT</td>\n      <td>Washington Nationals</td>\n      <td>NaN</td>\n      <td>NaN</td>\n    </tr>\n    <tr>\n      <th>117</th>\n      <td>WOR</td>\n      <td>Worcester Ruby Legs</td>\n      <td>N</td>\n      <td>NaN</td>\n    </tr>\n    <tr>\n      <th>118</th>\n      <td>WSN</td>\n      <td>Washington Nationals</td>\n      <td>Y</td>\n      <td>NaN</td>\n    </tr>\n    <tr>\n      <th>119</th>\n      <td>WST</td>\n      <td>Washington Statesmen</td>\n      <td>N</td>\n      <td>NaN</td>\n    </tr>\n  </tbody>\n</table>\n<p>120 rows × 4 columns</p>\n</div>"
     },
     "execution_count": 10,
     "metadata": {},
     "output_type": "execute_result"
    }
   ],
   "source": [
    "franchises"
   ],
   "metadata": {
    "collapsed": false,
    "ExecuteTime": {
     "end_time": "2023-12-17T02:58:38.737032Z",
     "start_time": "2023-12-17T02:58:38.724130Z"
    }
   },
   "id": "e6e2fc310cfbb9d0"
  },
  {
   "cell_type": "code",
   "execution_count": 58,
   "outputs": [
    {
     "data": {
      "text/plain": "      yearID lgID teamID franchID  teamIDfg teamIDBR teamIDretro\n2934    2021   NL    WAS      WSN        24      WSN         WAS\n2919    2021   AL    TOR      TOR        14      TOR         TOR\n2905    2021   AL    BAL      BAL         2      BAL         BAL\n2906    2021   AL    BOS      BOS         3      BOS         BOS\n2907    2021   AL    CHA      CHW         4      CHW         CHA\n...      ...  ...    ...      ...       ...      ...         ...\n1       1876   NL    CHN      CHC        17      CHC         CHN\n5       1876   NL    NY3      NYU      1053      NYU         NY3\n6       1876   NL    PHN      ATH      1002      ATH         PHN\n7       1876   NL    SL3      SBS      1070      STL         SL3\n0       1876   NL    BSN      ATL        16      BSN         BSN\n\n[2935 rows x 7 columns]",
      "text/html": "<div>\n<style scoped>\n    .dataframe tbody tr th:only-of-type {\n        vertical-align: middle;\n    }\n\n    .dataframe tbody tr th {\n        vertical-align: top;\n    }\n\n    .dataframe thead th {\n        text-align: right;\n    }\n</style>\n<table border=\"1\" class=\"dataframe\">\n  <thead>\n    <tr style=\"text-align: right;\">\n      <th></th>\n      <th>yearID</th>\n      <th>lgID</th>\n      <th>teamID</th>\n      <th>franchID</th>\n      <th>teamIDfg</th>\n      <th>teamIDBR</th>\n      <th>teamIDretro</th>\n    </tr>\n  </thead>\n  <tbody>\n    <tr>\n      <th>2934</th>\n      <td>2021</td>\n      <td>NL</td>\n      <td>WAS</td>\n      <td>WSN</td>\n      <td>24</td>\n      <td>WSN</td>\n      <td>WAS</td>\n    </tr>\n    <tr>\n      <th>2919</th>\n      <td>2021</td>\n      <td>AL</td>\n      <td>TOR</td>\n      <td>TOR</td>\n      <td>14</td>\n      <td>TOR</td>\n      <td>TOR</td>\n    </tr>\n    <tr>\n      <th>2905</th>\n      <td>2021</td>\n      <td>AL</td>\n      <td>BAL</td>\n      <td>BAL</td>\n      <td>2</td>\n      <td>BAL</td>\n      <td>BAL</td>\n    </tr>\n    <tr>\n      <th>2906</th>\n      <td>2021</td>\n      <td>AL</td>\n      <td>BOS</td>\n      <td>BOS</td>\n      <td>3</td>\n      <td>BOS</td>\n      <td>BOS</td>\n    </tr>\n    <tr>\n      <th>2907</th>\n      <td>2021</td>\n      <td>AL</td>\n      <td>CHA</td>\n      <td>CHW</td>\n      <td>4</td>\n      <td>CHW</td>\n      <td>CHA</td>\n    </tr>\n    <tr>\n      <th>...</th>\n      <td>...</td>\n      <td>...</td>\n      <td>...</td>\n      <td>...</td>\n      <td>...</td>\n      <td>...</td>\n      <td>...</td>\n    </tr>\n    <tr>\n      <th>1</th>\n      <td>1876</td>\n      <td>NL</td>\n      <td>CHN</td>\n      <td>CHC</td>\n      <td>17</td>\n      <td>CHC</td>\n      <td>CHN</td>\n    </tr>\n    <tr>\n      <th>5</th>\n      <td>1876</td>\n      <td>NL</td>\n      <td>NY3</td>\n      <td>NYU</td>\n      <td>1053</td>\n      <td>NYU</td>\n      <td>NY3</td>\n    </tr>\n    <tr>\n      <th>6</th>\n      <td>1876</td>\n      <td>NL</td>\n      <td>PHN</td>\n      <td>ATH</td>\n      <td>1002</td>\n      <td>ATH</td>\n      <td>PHN</td>\n    </tr>\n    <tr>\n      <th>7</th>\n      <td>1876</td>\n      <td>NL</td>\n      <td>SL3</td>\n      <td>SBS</td>\n      <td>1070</td>\n      <td>STL</td>\n      <td>SL3</td>\n    </tr>\n    <tr>\n      <th>0</th>\n      <td>1876</td>\n      <td>NL</td>\n      <td>BSN</td>\n      <td>ATL</td>\n      <td>16</td>\n      <td>BSN</td>\n      <td>BSN</td>\n    </tr>\n  </tbody>\n</table>\n<p>2935 rows × 7 columns</p>\n</div>"
     },
     "execution_count": 58,
     "metadata": {},
     "output_type": "execute_result"
    }
   ],
   "source": [
    "teams.sort_values('yearID', ascending=False)"
   ],
   "metadata": {
    "collapsed": false,
    "ExecuteTime": {
     "end_time": "2023-12-15T03:43:26.219517Z",
     "start_time": "2023-12-15T03:43:26.184735Z"
    }
   },
   "id": "c8e79739aef22b93"
  },
  {
   "cell_type": "code",
   "execution_count": 51,
   "outputs": [
    {
     "data": {
      "text/plain": "(2935, 48)"
     },
     "execution_count": 51,
     "metadata": {},
     "output_type": "execute_result"
    }
   ],
   "source": [
    "lahman[lahman['yearID'] >= 1876].shape"
   ],
   "metadata": {
    "collapsed": false,
    "ExecuteTime": {
     "end_time": "2023-12-15T03:25:24.582281Z",
     "start_time": "2023-12-15T03:25:24.545048Z"
    }
   },
   "id": "2f7e3df74b261461"
  },
  {
   "cell_type": "code",
   "execution_count": 7,
   "outputs": [
    {
     "data": {
      "text/plain": "      yearID lgID teamID franchID  teamIDfg teamIDBR teamIDretro divID  \\\n0       1876   NL    BSN      ATL        16      BSN         BSN   NaN   \n1       1876   NL    CHN      CHC        17      CHC         CHN   NaN   \n2       1876   NL    CN1      CNR      1028      CIN         CN1   NaN   \n3       1876   NL    HAR      HAR      1033      HAR         HAR   NaN   \n4       1876   NL    LS1      LGR      1043      LOU         LS1   NaN   \n...      ...  ...    ...      ...       ...      ...         ...   ...   \n2930    2021   NL    PIT      PIT        27      PIT         PIT     C   \n2931    2021   NL    SDN      SDP        29      SDP         SDN     W   \n2932    2021   NL    SFN      SFG        30      SFG         SFN     W   \n2933    2021   NL    SLN      STL        28      STL         SLN     C   \n2934    2021   NL    WAS      WSN        24      WSN         WAS     E   \n\n                         name                        park  \n0             Boston Red Caps         South End Grounds I  \n1     Chicago White Stockings         23rd Street Grounds  \n2             Cincinnati Reds              Avenue Grounds  \n3         Hartford Dark Blues  Hartford Ball Club Grounds  \n4            Louisville Grays    Louisville Baseball Park  \n...                       ...                         ...  \n2930       Pittsburgh Pirates                    PNC Park  \n2931         San Diego Padres                  Petco Park  \n2932     San Francisco Giants                 Oracle Park  \n2933      St. Louis Cardinals           Busch Stadium III  \n2934     Washington Nationals              Nationals Park  \n\n[2935 rows x 10 columns]",
      "text/html": "<div>\n<style scoped>\n    .dataframe tbody tr th:only-of-type {\n        vertical-align: middle;\n    }\n\n    .dataframe tbody tr th {\n        vertical-align: top;\n    }\n\n    .dataframe thead th {\n        text-align: right;\n    }\n</style>\n<table border=\"1\" class=\"dataframe\">\n  <thead>\n    <tr style=\"text-align: right;\">\n      <th></th>\n      <th>yearID</th>\n      <th>lgID</th>\n      <th>teamID</th>\n      <th>franchID</th>\n      <th>teamIDfg</th>\n      <th>teamIDBR</th>\n      <th>teamIDretro</th>\n      <th>divID</th>\n      <th>name</th>\n      <th>park</th>\n    </tr>\n  </thead>\n  <tbody>\n    <tr>\n      <th>0</th>\n      <td>1876</td>\n      <td>NL</td>\n      <td>BSN</td>\n      <td>ATL</td>\n      <td>16</td>\n      <td>BSN</td>\n      <td>BSN</td>\n      <td>NaN</td>\n      <td>Boston Red Caps</td>\n      <td>South End Grounds I</td>\n    </tr>\n    <tr>\n      <th>1</th>\n      <td>1876</td>\n      <td>NL</td>\n      <td>CHN</td>\n      <td>CHC</td>\n      <td>17</td>\n      <td>CHC</td>\n      <td>CHN</td>\n      <td>NaN</td>\n      <td>Chicago White Stockings</td>\n      <td>23rd Street Grounds</td>\n    </tr>\n    <tr>\n      <th>2</th>\n      <td>1876</td>\n      <td>NL</td>\n      <td>CN1</td>\n      <td>CNR</td>\n      <td>1028</td>\n      <td>CIN</td>\n      <td>CN1</td>\n      <td>NaN</td>\n      <td>Cincinnati Reds</td>\n      <td>Avenue Grounds</td>\n    </tr>\n    <tr>\n      <th>3</th>\n      <td>1876</td>\n      <td>NL</td>\n      <td>HAR</td>\n      <td>HAR</td>\n      <td>1033</td>\n      <td>HAR</td>\n      <td>HAR</td>\n      <td>NaN</td>\n      <td>Hartford Dark Blues</td>\n      <td>Hartford Ball Club Grounds</td>\n    </tr>\n    <tr>\n      <th>4</th>\n      <td>1876</td>\n      <td>NL</td>\n      <td>LS1</td>\n      <td>LGR</td>\n      <td>1043</td>\n      <td>LOU</td>\n      <td>LS1</td>\n      <td>NaN</td>\n      <td>Louisville Grays</td>\n      <td>Louisville Baseball Park</td>\n    </tr>\n    <tr>\n      <th>...</th>\n      <td>...</td>\n      <td>...</td>\n      <td>...</td>\n      <td>...</td>\n      <td>...</td>\n      <td>...</td>\n      <td>...</td>\n      <td>...</td>\n      <td>...</td>\n      <td>...</td>\n    </tr>\n    <tr>\n      <th>2930</th>\n      <td>2021</td>\n      <td>NL</td>\n      <td>PIT</td>\n      <td>PIT</td>\n      <td>27</td>\n      <td>PIT</td>\n      <td>PIT</td>\n      <td>C</td>\n      <td>Pittsburgh Pirates</td>\n      <td>PNC Park</td>\n    </tr>\n    <tr>\n      <th>2931</th>\n      <td>2021</td>\n      <td>NL</td>\n      <td>SDN</td>\n      <td>SDP</td>\n      <td>29</td>\n      <td>SDP</td>\n      <td>SDN</td>\n      <td>W</td>\n      <td>San Diego Padres</td>\n      <td>Petco Park</td>\n    </tr>\n    <tr>\n      <th>2932</th>\n      <td>2021</td>\n      <td>NL</td>\n      <td>SFN</td>\n      <td>SFG</td>\n      <td>30</td>\n      <td>SFG</td>\n      <td>SFN</td>\n      <td>W</td>\n      <td>San Francisco Giants</td>\n      <td>Oracle Park</td>\n    </tr>\n    <tr>\n      <th>2933</th>\n      <td>2021</td>\n      <td>NL</td>\n      <td>SLN</td>\n      <td>STL</td>\n      <td>28</td>\n      <td>STL</td>\n      <td>SLN</td>\n      <td>C</td>\n      <td>St. Louis Cardinals</td>\n      <td>Busch Stadium III</td>\n    </tr>\n    <tr>\n      <th>2934</th>\n      <td>2021</td>\n      <td>NL</td>\n      <td>WAS</td>\n      <td>WSN</td>\n      <td>24</td>\n      <td>WSN</td>\n      <td>WAS</td>\n      <td>E</td>\n      <td>Washington Nationals</td>\n      <td>Nationals Park</td>\n    </tr>\n  </tbody>\n</table>\n<p>2935 rows × 10 columns</p>\n</div>"
     },
     "execution_count": 7,
     "metadata": {},
     "output_type": "execute_result"
    }
   ],
   "source": [
    "teams.merge(lahman[['yearID', 'teamID', 'divID', 'name', 'park']], on=['yearID', 'teamID']).merge()"
   ],
   "metadata": {
    "collapsed": false,
    "ExecuteTime": {
     "end_time": "2023-12-15T01:11:06.947073Z",
     "start_time": "2023-12-15T01:11:06.874070Z"
    }
   },
   "id": "33835fe0730b5c8a"
  },
  {
   "cell_type": "code",
   "execution_count": 19,
   "outputs": [
    {
     "data": {
      "text/plain": "     yearID lgID teamID franchID divID  Rank    G  Ghome   W    L  ...   DP  \\\n124    1884   UA    ALT      ALT   NaN    10   25    NaN   6   19  ...    4   \n127    1884   UA    BLU      BLU   NaN     4  105    NaN  58   47  ...   53   \n130    1884   UA    BSU      BRD   NaN     5  109    NaN  58   51  ...   39   \n132    1884   UA    CHU      CPI   NaN     6   92    NaN  41   50  ...   38   \n136    1884   UA    CNU      COR   NaN     3  103    NaN  69   36  ...   45   \n139    1884   UA    KCU      KCU   NaN    11   82    NaN  16   63  ...   51   \n141    1884   UA    MLU      MLU   NaN     2   12    NaN   8    4  ...    4   \n146    1884   UA    PHU      PHK   NaN     8   67    NaN  21   46  ...   36   \n151    1884   UA    SLU      SLM   NaN     1  113    NaN  94   19  ...   79   \n152    1884   UA    SPU      STP   NaN     9    9    NaN   2    6  ...    6   \n154    1884   UA    WIL      WIL   NaN    12   17    NaN   2   16  ...   10   \n156    1884   UA    WSU      WNA   NaN     7  112    NaN  47   65  ...   55   \n237    1890   PL    BFP      BFB   NaN     8  134    NaN  36   96  ...  116   \n241    1890   PL    BRP      BWW   NaN     2  133    NaN  76   56  ...  114   \n243    1890   PL    BSP      BRS   NaN     1  133    NaN  81   48  ...  110   \n245    1890   PL    CHP      CHP   NaN     4  138    NaN  75   62  ...  107   \n249    1890   PL    CLP      CLI   NaN     7  131    NaN  55   75  ...  103   \n252    1890   PL    NYP      NYI   NaN     3  132    NaN  74   57  ...   94   \n255    1890   PL    PHP      PHQ   NaN     5  132    NaN  68   63  ...  118   \n257    1890   PL    PTP      PBB   NaN     6  131    NaN  60   68  ...   80   \n591    1914   FL    BLF      BLT   NaN     3  160    NaN  84   70  ...  105   \n593    1914   FL    BRF      BTT   NaN     5  157    NaN  77   77  ...  120   \n596    1914   FL    BUF      BFL   NaN     4  155    NaN  80   71  ...  109   \n603    1914   FL    IND      NEW   NaN     1  157    NaN  88   65  ...  113   \n604    1914   FL    KCF      KCP   NaN     6  154    NaN  67   84  ...  135   \n610    1914   FL    PTF      PBS   NaN     7  154    NaN  64   86  ...   92   \n612    1914   FL    SLF      SLI   NaN     8  154    NaN  62   89  ...   94   \n615    1915   FL    BLF      BLT   NaN     8  154    NaN  47  107  ...  140   \n617    1915   FL    BRF      BTT   NaN     7  153    NaN  70   82  ...  103   \n620    1915   FL    BUF      BFL   NaN     6  153    NaN  74   78  ...  112   \n627    1915   FL    KCF      KCP   NaN     4  153    NaN  81   72  ...   96   \n628    1915   FL    NEW      NEW   NaN     5  155    NaN  80   72  ...  124   \n634    1915   FL    PTF      PBS   NaN     3  156    NaN  86   67  ...   98   \n636    1915   FL    SLF      SLI   NaN     1  159    NaN  87   67  ...  111   \n\n        FP                               name park  attendance  BPF  PPF  \\\n124  0.862              Altoona Mountain City  NaN         NaN  101  109   \n127  0.872              Baltimore Monumentals  NaN         NaN  109  109   \n130  0.868                        Boston Reds  NaN         NaN   99   98   \n132  0.882  Chicago/Pittsburgh (Union League)  NaN         NaN   98   99   \n136  0.882             Cincinnati Outlaw Reds  NaN         NaN  111  107   \n139  0.861                Kansas City Cowboys  NaN         NaN   87   92   \n141  0.892                  Milwaukee Brewers  NaN         NaN   60   60   \n146  0.841             Philadelphia Keystones  NaN         NaN   91   94   \n151  0.888                  St. Louis Maroons  NaN         NaN   99   98   \n152  0.872                St. Paul White Caps  NaN         NaN   60   60   \n154  0.860              Wilmington Quicksteps  NaN         NaN  103  109   \n156  0.869               Washington Nationals  NaN         NaN   96   98   \n237  0.914                     Buffalo Bisons  NaN         NaN   92   97   \n241  0.909            Brooklyn Ward's Wonders  NaN         NaN  106  105   \n243  0.919                        Boston Reds  NaN         NaN  103   99   \n245  0.918                    Chicago Pirates  NaN         NaN  104  103   \n249  0.907                  Cleveland Infants  NaN         NaN   92   94   \n252  0.921                    New York Giants  NaN         NaN  108  107   \n255  0.910             Philadelphia Athletics  NaN         NaN  103  101   \n257  0.908                Pittsburgh Burghers  NaN         NaN   92   92   \n591  0.960                Baltimore Terrapins  NaN         NaN  103  105   \n593  0.956                  Brooklyn Tip-Tops  NaN         NaN   99  100   \n596  0.962                    Buffalo Buffeds  NaN         NaN  102  103   \n603  0.957              Indianapolis Hoosiers  NaN         NaN  111  108   \n604  0.957                Kansas City Packers  NaN         NaN   97   97   \n610  0.960                  Pittsburgh Rebels  NaN         NaN   99   99   \n612  0.957                 St. Louis Terriers  NaN         NaN  105  105   \n615  0.957                Baltimore Terrapins  NaN         NaN  103  105   \n617  0.955                  Brooklyn Tip-Tops  NaN         NaN   99  100   \n620  0.964                      Buffalo Blues  NaN         NaN  102  103   \n627  0.962                Kansas City Packers  NaN         NaN   97   97   \n628  0.963                      Newark Pepper  NaN         NaN   94   94   \n634  0.971                  Pittsburgh Rebels  NaN         NaN   99   99   \n636  0.968                 St. Louis Terriers  NaN         NaN  105  105   \n\n     teamIDBR  teamIDlahman45  teamIDretro  \n124       ALT             ALT          ALT  \n127       BLU             BLU          BLU  \n130       BOS             BSU          BSU  \n132       CPI             CHU          CHU  \n136       COR             CNU          CNU  \n139       KCC             KCU          KCU  \n141       MIL             MLU          MLU  \n146       PHK             PHU          PHU  \n151       SLM             SLU          SLU  \n152       STP             SPU          SPU  \n154       WIL             WIL          WIL  \n156       WHS             WSU          WSU  \n237       BUF             BFP          BFP  \n241       BWW             BRP          BRP  \n243       BOS             BSP          BSP  \n245       CHI             CHP          CHP  \n249       CLE             CLP          CLP  \n252       NYI             NYP          NYP  \n255       PHQ             PHP          PHP  \n257       PBB             PTP          PTP  \n591       BAL             BLF          BLF  \n593       BTT             BRF          BRF  \n596       BUF             BUF          BUF  \n603       IND             IND          IND  \n604       KCP             KCF          KCF  \n610       PBS             PTF          PTF  \n612       SLM             SLF          SLF  \n615       BAL             BLF          BLF  \n617       BTT             BRF          BRF  \n620       BUF             BUF          BUF  \n627       KCP             KCF          KCF  \n628       NEW             NEW          NEW  \n634       PBS             PTF          PTF  \n636       SLM             SLF          SLF  \n\n[34 rows x 48 columns]",
      "text/html": "<div>\n<style scoped>\n    .dataframe tbody tr th:only-of-type {\n        vertical-align: middle;\n    }\n\n    .dataframe tbody tr th {\n        vertical-align: top;\n    }\n\n    .dataframe thead th {\n        text-align: right;\n    }\n</style>\n<table border=\"1\" class=\"dataframe\">\n  <thead>\n    <tr style=\"text-align: right;\">\n      <th></th>\n      <th>yearID</th>\n      <th>lgID</th>\n      <th>teamID</th>\n      <th>franchID</th>\n      <th>divID</th>\n      <th>Rank</th>\n      <th>G</th>\n      <th>Ghome</th>\n      <th>W</th>\n      <th>L</th>\n      <th>...</th>\n      <th>DP</th>\n      <th>FP</th>\n      <th>name</th>\n      <th>park</th>\n      <th>attendance</th>\n      <th>BPF</th>\n      <th>PPF</th>\n      <th>teamIDBR</th>\n      <th>teamIDlahman45</th>\n      <th>teamIDretro</th>\n    </tr>\n  </thead>\n  <tbody>\n    <tr>\n      <th>124</th>\n      <td>1884</td>\n      <td>UA</td>\n      <td>ALT</td>\n      <td>ALT</td>\n      <td>NaN</td>\n      <td>10</td>\n      <td>25</td>\n      <td>NaN</td>\n      <td>6</td>\n      <td>19</td>\n      <td>...</td>\n      <td>4</td>\n      <td>0.862</td>\n      <td>Altoona Mountain City</td>\n      <td>NaN</td>\n      <td>NaN</td>\n      <td>101</td>\n      <td>109</td>\n      <td>ALT</td>\n      <td>ALT</td>\n      <td>ALT</td>\n    </tr>\n    <tr>\n      <th>127</th>\n      <td>1884</td>\n      <td>UA</td>\n      <td>BLU</td>\n      <td>BLU</td>\n      <td>NaN</td>\n      <td>4</td>\n      <td>105</td>\n      <td>NaN</td>\n      <td>58</td>\n      <td>47</td>\n      <td>...</td>\n      <td>53</td>\n      <td>0.872</td>\n      <td>Baltimore Monumentals</td>\n      <td>NaN</td>\n      <td>NaN</td>\n      <td>109</td>\n      <td>109</td>\n      <td>BLU</td>\n      <td>BLU</td>\n      <td>BLU</td>\n    </tr>\n    <tr>\n      <th>130</th>\n      <td>1884</td>\n      <td>UA</td>\n      <td>BSU</td>\n      <td>BRD</td>\n      <td>NaN</td>\n      <td>5</td>\n      <td>109</td>\n      <td>NaN</td>\n      <td>58</td>\n      <td>51</td>\n      <td>...</td>\n      <td>39</td>\n      <td>0.868</td>\n      <td>Boston Reds</td>\n      <td>NaN</td>\n      <td>NaN</td>\n      <td>99</td>\n      <td>98</td>\n      <td>BOS</td>\n      <td>BSU</td>\n      <td>BSU</td>\n    </tr>\n    <tr>\n      <th>132</th>\n      <td>1884</td>\n      <td>UA</td>\n      <td>CHU</td>\n      <td>CPI</td>\n      <td>NaN</td>\n      <td>6</td>\n      <td>92</td>\n      <td>NaN</td>\n      <td>41</td>\n      <td>50</td>\n      <td>...</td>\n      <td>38</td>\n      <td>0.882</td>\n      <td>Chicago/Pittsburgh (Union League)</td>\n      <td>NaN</td>\n      <td>NaN</td>\n      <td>98</td>\n      <td>99</td>\n      <td>CPI</td>\n      <td>CHU</td>\n      <td>CHU</td>\n    </tr>\n    <tr>\n      <th>136</th>\n      <td>1884</td>\n      <td>UA</td>\n      <td>CNU</td>\n      <td>COR</td>\n      <td>NaN</td>\n      <td>3</td>\n      <td>103</td>\n      <td>NaN</td>\n      <td>69</td>\n      <td>36</td>\n      <td>...</td>\n      <td>45</td>\n      <td>0.882</td>\n      <td>Cincinnati Outlaw Reds</td>\n      <td>NaN</td>\n      <td>NaN</td>\n      <td>111</td>\n      <td>107</td>\n      <td>COR</td>\n      <td>CNU</td>\n      <td>CNU</td>\n    </tr>\n    <tr>\n      <th>139</th>\n      <td>1884</td>\n      <td>UA</td>\n      <td>KCU</td>\n      <td>KCU</td>\n      <td>NaN</td>\n      <td>11</td>\n      <td>82</td>\n      <td>NaN</td>\n      <td>16</td>\n      <td>63</td>\n      <td>...</td>\n      <td>51</td>\n      <td>0.861</td>\n      <td>Kansas City Cowboys</td>\n      <td>NaN</td>\n      <td>NaN</td>\n      <td>87</td>\n      <td>92</td>\n      <td>KCC</td>\n      <td>KCU</td>\n      <td>KCU</td>\n    </tr>\n    <tr>\n      <th>141</th>\n      <td>1884</td>\n      <td>UA</td>\n      <td>MLU</td>\n      <td>MLU</td>\n      <td>NaN</td>\n      <td>2</td>\n      <td>12</td>\n      <td>NaN</td>\n      <td>8</td>\n      <td>4</td>\n      <td>...</td>\n      <td>4</td>\n      <td>0.892</td>\n      <td>Milwaukee Brewers</td>\n      <td>NaN</td>\n      <td>NaN</td>\n      <td>60</td>\n      <td>60</td>\n      <td>MIL</td>\n      <td>MLU</td>\n      <td>MLU</td>\n    </tr>\n    <tr>\n      <th>146</th>\n      <td>1884</td>\n      <td>UA</td>\n      <td>PHU</td>\n      <td>PHK</td>\n      <td>NaN</td>\n      <td>8</td>\n      <td>67</td>\n      <td>NaN</td>\n      <td>21</td>\n      <td>46</td>\n      <td>...</td>\n      <td>36</td>\n      <td>0.841</td>\n      <td>Philadelphia Keystones</td>\n      <td>NaN</td>\n      <td>NaN</td>\n      <td>91</td>\n      <td>94</td>\n      <td>PHK</td>\n      <td>PHU</td>\n      <td>PHU</td>\n    </tr>\n    <tr>\n      <th>151</th>\n      <td>1884</td>\n      <td>UA</td>\n      <td>SLU</td>\n      <td>SLM</td>\n      <td>NaN</td>\n      <td>1</td>\n      <td>113</td>\n      <td>NaN</td>\n      <td>94</td>\n      <td>19</td>\n      <td>...</td>\n      <td>79</td>\n      <td>0.888</td>\n      <td>St. Louis Maroons</td>\n      <td>NaN</td>\n      <td>NaN</td>\n      <td>99</td>\n      <td>98</td>\n      <td>SLM</td>\n      <td>SLU</td>\n      <td>SLU</td>\n    </tr>\n    <tr>\n      <th>152</th>\n      <td>1884</td>\n      <td>UA</td>\n      <td>SPU</td>\n      <td>STP</td>\n      <td>NaN</td>\n      <td>9</td>\n      <td>9</td>\n      <td>NaN</td>\n      <td>2</td>\n      <td>6</td>\n      <td>...</td>\n      <td>6</td>\n      <td>0.872</td>\n      <td>St. Paul White Caps</td>\n      <td>NaN</td>\n      <td>NaN</td>\n      <td>60</td>\n      <td>60</td>\n      <td>STP</td>\n      <td>SPU</td>\n      <td>SPU</td>\n    </tr>\n    <tr>\n      <th>154</th>\n      <td>1884</td>\n      <td>UA</td>\n      <td>WIL</td>\n      <td>WIL</td>\n      <td>NaN</td>\n      <td>12</td>\n      <td>17</td>\n      <td>NaN</td>\n      <td>2</td>\n      <td>16</td>\n      <td>...</td>\n      <td>10</td>\n      <td>0.860</td>\n      <td>Wilmington Quicksteps</td>\n      <td>NaN</td>\n      <td>NaN</td>\n      <td>103</td>\n      <td>109</td>\n      <td>WIL</td>\n      <td>WIL</td>\n      <td>WIL</td>\n    </tr>\n    <tr>\n      <th>156</th>\n      <td>1884</td>\n      <td>UA</td>\n      <td>WSU</td>\n      <td>WNA</td>\n      <td>NaN</td>\n      <td>7</td>\n      <td>112</td>\n      <td>NaN</td>\n      <td>47</td>\n      <td>65</td>\n      <td>...</td>\n      <td>55</td>\n      <td>0.869</td>\n      <td>Washington Nationals</td>\n      <td>NaN</td>\n      <td>NaN</td>\n      <td>96</td>\n      <td>98</td>\n      <td>WHS</td>\n      <td>WSU</td>\n      <td>WSU</td>\n    </tr>\n    <tr>\n      <th>237</th>\n      <td>1890</td>\n      <td>PL</td>\n      <td>BFP</td>\n      <td>BFB</td>\n      <td>NaN</td>\n      <td>8</td>\n      <td>134</td>\n      <td>NaN</td>\n      <td>36</td>\n      <td>96</td>\n      <td>...</td>\n      <td>116</td>\n      <td>0.914</td>\n      <td>Buffalo Bisons</td>\n      <td>NaN</td>\n      <td>NaN</td>\n      <td>92</td>\n      <td>97</td>\n      <td>BUF</td>\n      <td>BFP</td>\n      <td>BFP</td>\n    </tr>\n    <tr>\n      <th>241</th>\n      <td>1890</td>\n      <td>PL</td>\n      <td>BRP</td>\n      <td>BWW</td>\n      <td>NaN</td>\n      <td>2</td>\n      <td>133</td>\n      <td>NaN</td>\n      <td>76</td>\n      <td>56</td>\n      <td>...</td>\n      <td>114</td>\n      <td>0.909</td>\n      <td>Brooklyn Ward's Wonders</td>\n      <td>NaN</td>\n      <td>NaN</td>\n      <td>106</td>\n      <td>105</td>\n      <td>BWW</td>\n      <td>BRP</td>\n      <td>BRP</td>\n    </tr>\n    <tr>\n      <th>243</th>\n      <td>1890</td>\n      <td>PL</td>\n      <td>BSP</td>\n      <td>BRS</td>\n      <td>NaN</td>\n      <td>1</td>\n      <td>133</td>\n      <td>NaN</td>\n      <td>81</td>\n      <td>48</td>\n      <td>...</td>\n      <td>110</td>\n      <td>0.919</td>\n      <td>Boston Reds</td>\n      <td>NaN</td>\n      <td>NaN</td>\n      <td>103</td>\n      <td>99</td>\n      <td>BOS</td>\n      <td>BSP</td>\n      <td>BSP</td>\n    </tr>\n    <tr>\n      <th>245</th>\n      <td>1890</td>\n      <td>PL</td>\n      <td>CHP</td>\n      <td>CHP</td>\n      <td>NaN</td>\n      <td>4</td>\n      <td>138</td>\n      <td>NaN</td>\n      <td>75</td>\n      <td>62</td>\n      <td>...</td>\n      <td>107</td>\n      <td>0.918</td>\n      <td>Chicago Pirates</td>\n      <td>NaN</td>\n      <td>NaN</td>\n      <td>104</td>\n      <td>103</td>\n      <td>CHI</td>\n      <td>CHP</td>\n      <td>CHP</td>\n    </tr>\n    <tr>\n      <th>249</th>\n      <td>1890</td>\n      <td>PL</td>\n      <td>CLP</td>\n      <td>CLI</td>\n      <td>NaN</td>\n      <td>7</td>\n      <td>131</td>\n      <td>NaN</td>\n      <td>55</td>\n      <td>75</td>\n      <td>...</td>\n      <td>103</td>\n      <td>0.907</td>\n      <td>Cleveland Infants</td>\n      <td>NaN</td>\n      <td>NaN</td>\n      <td>92</td>\n      <td>94</td>\n      <td>CLE</td>\n      <td>CLP</td>\n      <td>CLP</td>\n    </tr>\n    <tr>\n      <th>252</th>\n      <td>1890</td>\n      <td>PL</td>\n      <td>NYP</td>\n      <td>NYI</td>\n      <td>NaN</td>\n      <td>3</td>\n      <td>132</td>\n      <td>NaN</td>\n      <td>74</td>\n      <td>57</td>\n      <td>...</td>\n      <td>94</td>\n      <td>0.921</td>\n      <td>New York Giants</td>\n      <td>NaN</td>\n      <td>NaN</td>\n      <td>108</td>\n      <td>107</td>\n      <td>NYI</td>\n      <td>NYP</td>\n      <td>NYP</td>\n    </tr>\n    <tr>\n      <th>255</th>\n      <td>1890</td>\n      <td>PL</td>\n      <td>PHP</td>\n      <td>PHQ</td>\n      <td>NaN</td>\n      <td>5</td>\n      <td>132</td>\n      <td>NaN</td>\n      <td>68</td>\n      <td>63</td>\n      <td>...</td>\n      <td>118</td>\n      <td>0.910</td>\n      <td>Philadelphia Athletics</td>\n      <td>NaN</td>\n      <td>NaN</td>\n      <td>103</td>\n      <td>101</td>\n      <td>PHQ</td>\n      <td>PHP</td>\n      <td>PHP</td>\n    </tr>\n    <tr>\n      <th>257</th>\n      <td>1890</td>\n      <td>PL</td>\n      <td>PTP</td>\n      <td>PBB</td>\n      <td>NaN</td>\n      <td>6</td>\n      <td>131</td>\n      <td>NaN</td>\n      <td>60</td>\n      <td>68</td>\n      <td>...</td>\n      <td>80</td>\n      <td>0.908</td>\n      <td>Pittsburgh Burghers</td>\n      <td>NaN</td>\n      <td>NaN</td>\n      <td>92</td>\n      <td>92</td>\n      <td>PBB</td>\n      <td>PTP</td>\n      <td>PTP</td>\n    </tr>\n    <tr>\n      <th>591</th>\n      <td>1914</td>\n      <td>FL</td>\n      <td>BLF</td>\n      <td>BLT</td>\n      <td>NaN</td>\n      <td>3</td>\n      <td>160</td>\n      <td>NaN</td>\n      <td>84</td>\n      <td>70</td>\n      <td>...</td>\n      <td>105</td>\n      <td>0.960</td>\n      <td>Baltimore Terrapins</td>\n      <td>NaN</td>\n      <td>NaN</td>\n      <td>103</td>\n      <td>105</td>\n      <td>BAL</td>\n      <td>BLF</td>\n      <td>BLF</td>\n    </tr>\n    <tr>\n      <th>593</th>\n      <td>1914</td>\n      <td>FL</td>\n      <td>BRF</td>\n      <td>BTT</td>\n      <td>NaN</td>\n      <td>5</td>\n      <td>157</td>\n      <td>NaN</td>\n      <td>77</td>\n      <td>77</td>\n      <td>...</td>\n      <td>120</td>\n      <td>0.956</td>\n      <td>Brooklyn Tip-Tops</td>\n      <td>NaN</td>\n      <td>NaN</td>\n      <td>99</td>\n      <td>100</td>\n      <td>BTT</td>\n      <td>BRF</td>\n      <td>BRF</td>\n    </tr>\n    <tr>\n      <th>596</th>\n      <td>1914</td>\n      <td>FL</td>\n      <td>BUF</td>\n      <td>BFL</td>\n      <td>NaN</td>\n      <td>4</td>\n      <td>155</td>\n      <td>NaN</td>\n      <td>80</td>\n      <td>71</td>\n      <td>...</td>\n      <td>109</td>\n      <td>0.962</td>\n      <td>Buffalo Buffeds</td>\n      <td>NaN</td>\n      <td>NaN</td>\n      <td>102</td>\n      <td>103</td>\n      <td>BUF</td>\n      <td>BUF</td>\n      <td>BUF</td>\n    </tr>\n    <tr>\n      <th>603</th>\n      <td>1914</td>\n      <td>FL</td>\n      <td>IND</td>\n      <td>NEW</td>\n      <td>NaN</td>\n      <td>1</td>\n      <td>157</td>\n      <td>NaN</td>\n      <td>88</td>\n      <td>65</td>\n      <td>...</td>\n      <td>113</td>\n      <td>0.957</td>\n      <td>Indianapolis Hoosiers</td>\n      <td>NaN</td>\n      <td>NaN</td>\n      <td>111</td>\n      <td>108</td>\n      <td>IND</td>\n      <td>IND</td>\n      <td>IND</td>\n    </tr>\n    <tr>\n      <th>604</th>\n      <td>1914</td>\n      <td>FL</td>\n      <td>KCF</td>\n      <td>KCP</td>\n      <td>NaN</td>\n      <td>6</td>\n      <td>154</td>\n      <td>NaN</td>\n      <td>67</td>\n      <td>84</td>\n      <td>...</td>\n      <td>135</td>\n      <td>0.957</td>\n      <td>Kansas City Packers</td>\n      <td>NaN</td>\n      <td>NaN</td>\n      <td>97</td>\n      <td>97</td>\n      <td>KCP</td>\n      <td>KCF</td>\n      <td>KCF</td>\n    </tr>\n    <tr>\n      <th>610</th>\n      <td>1914</td>\n      <td>FL</td>\n      <td>PTF</td>\n      <td>PBS</td>\n      <td>NaN</td>\n      <td>7</td>\n      <td>154</td>\n      <td>NaN</td>\n      <td>64</td>\n      <td>86</td>\n      <td>...</td>\n      <td>92</td>\n      <td>0.960</td>\n      <td>Pittsburgh Rebels</td>\n      <td>NaN</td>\n      <td>NaN</td>\n      <td>99</td>\n      <td>99</td>\n      <td>PBS</td>\n      <td>PTF</td>\n      <td>PTF</td>\n    </tr>\n    <tr>\n      <th>612</th>\n      <td>1914</td>\n      <td>FL</td>\n      <td>SLF</td>\n      <td>SLI</td>\n      <td>NaN</td>\n      <td>8</td>\n      <td>154</td>\n      <td>NaN</td>\n      <td>62</td>\n      <td>89</td>\n      <td>...</td>\n      <td>94</td>\n      <td>0.957</td>\n      <td>St. Louis Terriers</td>\n      <td>NaN</td>\n      <td>NaN</td>\n      <td>105</td>\n      <td>105</td>\n      <td>SLM</td>\n      <td>SLF</td>\n      <td>SLF</td>\n    </tr>\n    <tr>\n      <th>615</th>\n      <td>1915</td>\n      <td>FL</td>\n      <td>BLF</td>\n      <td>BLT</td>\n      <td>NaN</td>\n      <td>8</td>\n      <td>154</td>\n      <td>NaN</td>\n      <td>47</td>\n      <td>107</td>\n      <td>...</td>\n      <td>140</td>\n      <td>0.957</td>\n      <td>Baltimore Terrapins</td>\n      <td>NaN</td>\n      <td>NaN</td>\n      <td>103</td>\n      <td>105</td>\n      <td>BAL</td>\n      <td>BLF</td>\n      <td>BLF</td>\n    </tr>\n    <tr>\n      <th>617</th>\n      <td>1915</td>\n      <td>FL</td>\n      <td>BRF</td>\n      <td>BTT</td>\n      <td>NaN</td>\n      <td>7</td>\n      <td>153</td>\n      <td>NaN</td>\n      <td>70</td>\n      <td>82</td>\n      <td>...</td>\n      <td>103</td>\n      <td>0.955</td>\n      <td>Brooklyn Tip-Tops</td>\n      <td>NaN</td>\n      <td>NaN</td>\n      <td>99</td>\n      <td>100</td>\n      <td>BTT</td>\n      <td>BRF</td>\n      <td>BRF</td>\n    </tr>\n    <tr>\n      <th>620</th>\n      <td>1915</td>\n      <td>FL</td>\n      <td>BUF</td>\n      <td>BFL</td>\n      <td>NaN</td>\n      <td>6</td>\n      <td>153</td>\n      <td>NaN</td>\n      <td>74</td>\n      <td>78</td>\n      <td>...</td>\n      <td>112</td>\n      <td>0.964</td>\n      <td>Buffalo Blues</td>\n      <td>NaN</td>\n      <td>NaN</td>\n      <td>102</td>\n      <td>103</td>\n      <td>BUF</td>\n      <td>BUF</td>\n      <td>BUF</td>\n    </tr>\n    <tr>\n      <th>627</th>\n      <td>1915</td>\n      <td>FL</td>\n      <td>KCF</td>\n      <td>KCP</td>\n      <td>NaN</td>\n      <td>4</td>\n      <td>153</td>\n      <td>NaN</td>\n      <td>81</td>\n      <td>72</td>\n      <td>...</td>\n      <td>96</td>\n      <td>0.962</td>\n      <td>Kansas City Packers</td>\n      <td>NaN</td>\n      <td>NaN</td>\n      <td>97</td>\n      <td>97</td>\n      <td>KCP</td>\n      <td>KCF</td>\n      <td>KCF</td>\n    </tr>\n    <tr>\n      <th>628</th>\n      <td>1915</td>\n      <td>FL</td>\n      <td>NEW</td>\n      <td>NEW</td>\n      <td>NaN</td>\n      <td>5</td>\n      <td>155</td>\n      <td>NaN</td>\n      <td>80</td>\n      <td>72</td>\n      <td>...</td>\n      <td>124</td>\n      <td>0.963</td>\n      <td>Newark Pepper</td>\n      <td>NaN</td>\n      <td>NaN</td>\n      <td>94</td>\n      <td>94</td>\n      <td>NEW</td>\n      <td>NEW</td>\n      <td>NEW</td>\n    </tr>\n    <tr>\n      <th>634</th>\n      <td>1915</td>\n      <td>FL</td>\n      <td>PTF</td>\n      <td>PBS</td>\n      <td>NaN</td>\n      <td>3</td>\n      <td>156</td>\n      <td>NaN</td>\n      <td>86</td>\n      <td>67</td>\n      <td>...</td>\n      <td>98</td>\n      <td>0.971</td>\n      <td>Pittsburgh Rebels</td>\n      <td>NaN</td>\n      <td>NaN</td>\n      <td>99</td>\n      <td>99</td>\n      <td>PBS</td>\n      <td>PTF</td>\n      <td>PTF</td>\n    </tr>\n    <tr>\n      <th>636</th>\n      <td>1915</td>\n      <td>FL</td>\n      <td>SLF</td>\n      <td>SLI</td>\n      <td>NaN</td>\n      <td>1</td>\n      <td>159</td>\n      <td>NaN</td>\n      <td>87</td>\n      <td>67</td>\n      <td>...</td>\n      <td>111</td>\n      <td>0.968</td>\n      <td>St. Louis Terriers</td>\n      <td>NaN</td>\n      <td>NaN</td>\n      <td>105</td>\n      <td>105</td>\n      <td>SLM</td>\n      <td>SLF</td>\n      <td>SLF</td>\n    </tr>\n  </tbody>\n</table>\n<p>34 rows × 48 columns</p>\n</div>"
     },
     "execution_count": 19,
     "metadata": {},
     "output_type": "execute_result"
    }
   ],
   "source": [
    "lahman[lahman['park'].isna()]"
   ],
   "metadata": {
    "collapsed": false,
    "ExecuteTime": {
     "end_time": "2023-12-15T01:20:14.537015Z",
     "start_time": "2023-12-15T01:20:14.523735Z"
    }
   },
   "id": "785707c20985c80b"
  },
  {
   "cell_type": "code",
   "execution_count": 52,
   "outputs": [
    {
     "data": {
      "text/plain": "    teamIDRetro    location        nickname yearID\n57          ALT     Altoona  Mountain Citys   1884\n122         ANA     Anaheim          Angels   1997\n122         ANA     Anaheim          Angels   1998\n122         ANA     Anaheim          Angels   1999\n122         ANA     Anaheim          Angels   2000\n..          ...         ...             ...    ...\n97          WSN  Washington        Senators   1896\n97          WSN  Washington        Senators   1897\n97          WSN  Washington        Senators   1898\n97          WSN  Washington        Senators   1899\n67          WSU  Washington       Nationals   1884\n\n[2700 rows x 4 columns]",
      "text/html": "<div>\n<style scoped>\n    .dataframe tbody tr th:only-of-type {\n        vertical-align: middle;\n    }\n\n    .dataframe tbody tr th {\n        vertical-align: top;\n    }\n\n    .dataframe thead th {\n        text-align: right;\n    }\n</style>\n<table border=\"1\" class=\"dataframe\">\n  <thead>\n    <tr style=\"text-align: right;\">\n      <th></th>\n      <th>teamIDRetro</th>\n      <th>location</th>\n      <th>nickname</th>\n      <th>yearID</th>\n    </tr>\n  </thead>\n  <tbody>\n    <tr>\n      <th>57</th>\n      <td>ALT</td>\n      <td>Altoona</td>\n      <td>Mountain Citys</td>\n      <td>1884</td>\n    </tr>\n    <tr>\n      <th>122</th>\n      <td>ANA</td>\n      <td>Anaheim</td>\n      <td>Angels</td>\n      <td>1997</td>\n    </tr>\n    <tr>\n      <th>122</th>\n      <td>ANA</td>\n      <td>Anaheim</td>\n      <td>Angels</td>\n      <td>1998</td>\n    </tr>\n    <tr>\n      <th>122</th>\n      <td>ANA</td>\n      <td>Anaheim</td>\n      <td>Angels</td>\n      <td>1999</td>\n    </tr>\n    <tr>\n      <th>122</th>\n      <td>ANA</td>\n      <td>Anaheim</td>\n      <td>Angels</td>\n      <td>2000</td>\n    </tr>\n    <tr>\n      <th>...</th>\n      <td>...</td>\n      <td>...</td>\n      <td>...</td>\n      <td>...</td>\n    </tr>\n    <tr>\n      <th>97</th>\n      <td>WSN</td>\n      <td>Washington</td>\n      <td>Senators</td>\n      <td>1896</td>\n    </tr>\n    <tr>\n      <th>97</th>\n      <td>WSN</td>\n      <td>Washington</td>\n      <td>Senators</td>\n      <td>1897</td>\n    </tr>\n    <tr>\n      <th>97</th>\n      <td>WSN</td>\n      <td>Washington</td>\n      <td>Senators</td>\n      <td>1898</td>\n    </tr>\n    <tr>\n      <th>97</th>\n      <td>WSN</td>\n      <td>Washington</td>\n      <td>Senators</td>\n      <td>1899</td>\n    </tr>\n    <tr>\n      <th>67</th>\n      <td>WSU</td>\n      <td>Washington</td>\n      <td>Nationals</td>\n      <td>1884</td>\n    </tr>\n  </tbody>\n</table>\n<p>2700 rows × 4 columns</p>\n</div>"
     },
     "execution_count": 52,
     "metadata": {},
     "output_type": "execute_result"
    }
   ],
   "source": [
    "abr = pd.read_csv('teamabr.csv', names=['teamID', 'leageID', 'city', 'nickname', 'startYearID', 'endYearID']).query('startYearID > 1876')\n",
    "abr['yearID'] = abr.apply(lambda x: [year for year in range(x['startYearID'], x['endYearID'] + 1) if year >= 1876], axis=1)\n",
    "abr = abr.drop(['startYearID', 'endYearID', 'leageID'], axis=1).explode('yearID').rename({'teamID': 'teamIDRetro', 'city': 'location'}, axis=1).sort_values(['teamIDRetro', 'yearID'])\n",
    "abr"
   ],
   "metadata": {
    "collapsed": false,
    "ExecuteTime": {
     "end_time": "2023-12-17T04:56:32.709387Z",
     "start_time": "2023-12-17T04:56:32.681191Z"
    }
   },
   "id": "85accab5b9c1b3e6"
  },
  {
   "cell_type": "code",
   "execution_count": 50,
   "outputs": [
    {
     "data": {
      "text/plain": "    retroID altID leagueID divisionID     location   nickname altNickname  \\\n0       ANA   LAA       AL        NaN  Los Angeles     Angels         NaN   \n1       ANA   CAL       AL        NaN   California     Angels         NaN   \n2       ANA   CAL       AL          W   California     Angels         NaN   \n3       ANA   ANA       AL          W      Anaheim     Angels         NaN   \n4       ANA   ANA       AL          W  Los Angeles     Angels         NaN   \n..      ...   ...      ...        ...          ...        ...         ...   \n119     TEX   WS2       AL          E   Washington   Senators         NaN   \n120     TEX   TEX       AL          W        Texas    Rangers         NaN   \n121     TOR   TOR       AL          E      Toronto  Blue Jays         NaN   \n122     WAS   MON       NL          E     Montreal      Expos         NaN   \n123     WAS   WAS       NL          E   Washington  Nationals         NaN   \n\n    firstGameDate lastGameDate         city state  \n0      1961-04-11   1965-09-01  Los Angeles    CA  \n1      1965-09-02   1968-09-29      Anaheim    CA  \n2      1969-04-08   1996-09-29      Anaheim    CA  \n3      1997-04-02   2004-10-03      Anaheim    CA  \n4      2005-04-05          NaT      Anaheim    CA  \n..            ...          ...          ...   ...  \n119    1969-04-07   1971-09-30   Washington    DC  \n120    1972-04-15          NaT    Arlington    TX  \n121    1977-04-07          NaT      Toronto    ON  \n122    1969-04-08   2004-10-03     Montreal    QC  \n123    2005-04-04          NaT   Washington    DC  \n\n[124 rows x 11 columns]",
      "text/html": "<div>\n<style scoped>\n    .dataframe tbody tr th:only-of-type {\n        vertical-align: middle;\n    }\n\n    .dataframe tbody tr th {\n        vertical-align: top;\n    }\n\n    .dataframe thead th {\n        text-align: right;\n    }\n</style>\n<table border=\"1\" class=\"dataframe\">\n  <thead>\n    <tr style=\"text-align: right;\">\n      <th></th>\n      <th>retroID</th>\n      <th>altID</th>\n      <th>leagueID</th>\n      <th>divisionID</th>\n      <th>location</th>\n      <th>nickname</th>\n      <th>altNickname</th>\n      <th>firstGameDate</th>\n      <th>lastGameDate</th>\n      <th>city</th>\n      <th>state</th>\n    </tr>\n  </thead>\n  <tbody>\n    <tr>\n      <th>0</th>\n      <td>ANA</td>\n      <td>LAA</td>\n      <td>AL</td>\n      <td>NaN</td>\n      <td>Los Angeles</td>\n      <td>Angels</td>\n      <td>NaN</td>\n      <td>1961-04-11</td>\n      <td>1965-09-01</td>\n      <td>Los Angeles</td>\n      <td>CA</td>\n    </tr>\n    <tr>\n      <th>1</th>\n      <td>ANA</td>\n      <td>CAL</td>\n      <td>AL</td>\n      <td>NaN</td>\n      <td>California</td>\n      <td>Angels</td>\n      <td>NaN</td>\n      <td>1965-09-02</td>\n      <td>1968-09-29</td>\n      <td>Anaheim</td>\n      <td>CA</td>\n    </tr>\n    <tr>\n      <th>2</th>\n      <td>ANA</td>\n      <td>CAL</td>\n      <td>AL</td>\n      <td>W</td>\n      <td>California</td>\n      <td>Angels</td>\n      <td>NaN</td>\n      <td>1969-04-08</td>\n      <td>1996-09-29</td>\n      <td>Anaheim</td>\n      <td>CA</td>\n    </tr>\n    <tr>\n      <th>3</th>\n      <td>ANA</td>\n      <td>ANA</td>\n      <td>AL</td>\n      <td>W</td>\n      <td>Anaheim</td>\n      <td>Angels</td>\n      <td>NaN</td>\n      <td>1997-04-02</td>\n      <td>2004-10-03</td>\n      <td>Anaheim</td>\n      <td>CA</td>\n    </tr>\n    <tr>\n      <th>4</th>\n      <td>ANA</td>\n      <td>ANA</td>\n      <td>AL</td>\n      <td>W</td>\n      <td>Los Angeles</td>\n      <td>Angels</td>\n      <td>NaN</td>\n      <td>2005-04-05</td>\n      <td>NaT</td>\n      <td>Anaheim</td>\n      <td>CA</td>\n    </tr>\n    <tr>\n      <th>...</th>\n      <td>...</td>\n      <td>...</td>\n      <td>...</td>\n      <td>...</td>\n      <td>...</td>\n      <td>...</td>\n      <td>...</td>\n      <td>...</td>\n      <td>...</td>\n      <td>...</td>\n      <td>...</td>\n    </tr>\n    <tr>\n      <th>119</th>\n      <td>TEX</td>\n      <td>WS2</td>\n      <td>AL</td>\n      <td>E</td>\n      <td>Washington</td>\n      <td>Senators</td>\n      <td>NaN</td>\n      <td>1969-04-07</td>\n      <td>1971-09-30</td>\n      <td>Washington</td>\n      <td>DC</td>\n    </tr>\n    <tr>\n      <th>120</th>\n      <td>TEX</td>\n      <td>TEX</td>\n      <td>AL</td>\n      <td>W</td>\n      <td>Texas</td>\n      <td>Rangers</td>\n      <td>NaN</td>\n      <td>1972-04-15</td>\n      <td>NaT</td>\n      <td>Arlington</td>\n      <td>TX</td>\n    </tr>\n    <tr>\n      <th>121</th>\n      <td>TOR</td>\n      <td>TOR</td>\n      <td>AL</td>\n      <td>E</td>\n      <td>Toronto</td>\n      <td>Blue Jays</td>\n      <td>NaN</td>\n      <td>1977-04-07</td>\n      <td>NaT</td>\n      <td>Toronto</td>\n      <td>ON</td>\n    </tr>\n    <tr>\n      <th>122</th>\n      <td>WAS</td>\n      <td>MON</td>\n      <td>NL</td>\n      <td>E</td>\n      <td>Montreal</td>\n      <td>Expos</td>\n      <td>NaN</td>\n      <td>1969-04-08</td>\n      <td>2004-10-03</td>\n      <td>Montreal</td>\n      <td>QC</td>\n    </tr>\n    <tr>\n      <th>123</th>\n      <td>WAS</td>\n      <td>WAS</td>\n      <td>NL</td>\n      <td>E</td>\n      <td>Washington</td>\n      <td>Nationals</td>\n      <td>NaN</td>\n      <td>2005-04-04</td>\n      <td>NaT</td>\n      <td>Washington</td>\n      <td>DC</td>\n    </tr>\n  </tbody>\n</table>\n<p>124 rows × 11 columns</p>\n</div>"
     },
     "execution_count": 50,
     "metadata": {},
     "output_type": "execute_result"
    }
   ],
   "source": [
    "nicknames = pd.read_csv('CurrentNames.csv', names=['retroID', 'altID', 'leagueID', 'divisionID', 'location', 'nickname', 'altNickname', 'firstGameDate', 'lastGameDate', 'city', 'state'], parse_dates=['firstGameDate', 'lastGameDate'])\n",
    "\n",
    "nicknames"
   ],
   "metadata": {
    "collapsed": false,
    "ExecuteTime": {
     "end_time": "2023-12-15T03:17:17.915101Z",
     "start_time": "2023-12-15T03:17:17.819039Z"
    }
   },
   "id": "1a4aab45fc951732"
  },
  {
   "cell_type": "code",
   "execution_count": 2,
   "outputs": [
    {
     "name": "stderr",
     "output_type": "stream",
     "text": [
      "/usr/local/Caskroom/miniforge/base/envs/default/lib/python3.12/site-packages/pybaseball/team_game_logs.py:20: FutureWarning: Passing literal html to 'read_html' is deprecated and will be removed in a future version. To read from a literal string, wrap it in a 'StringIO' object.\n",
      "  data = pd.read_html(str(table))[0]\n"
     ]
    },
    {
     "data": {
      "text/plain": "     Game    Date   Home  Opp    Rslt  PA  AB   R   H  2B  ...  SB  CS     BA  \\\n0       1  Mar 28  False  PHI  L,4-10  36  30   4   7   1  ...   1   1  0.233   \n1       2  Mar 30  False  PHI   L,6-8  40  36   6  10   2  ...   1   0  0.258   \n2       3  Mar 31  False  PHI   L,1-5  36  29   1   4   0  ...   1   2  0.221   \n3       4   Apr 1   True  CHC   W,8-0  43  36   8  12   3  ...   0   0  0.252   \n4       5   Apr 3   True  CHC   W,6-4  39  30   6   8   1  ...   1   0  0.255   \n..    ...     ...    ...  ...     ...  ..  ..  ..  ..  ..  ...  ..  ..    ...   \n157   158  Sep 24  False  KCR   L,6-9  41  37   6  11   3  ...   0   0  0.258   \n158   159  Sep 25  False  KCR  W,10-2  48  40  10  14   4  ...   0   0  0.258   \n159   160  Sep 27  False  NYM   L,2-4  39  35   2   9   0  ...   2   0  0.258   \n160   161  Sep 28  False  NYM   L,0-3  37  31   0   4   0  ...   0   0  0.258   \n161   162  Sep 29  False  NYM   L,6-7  45  42   6  11   1  ...   1   1  0.258   \n\n       OBP    SLG    OPS  LOB  NumPlayers  Thr           OppStart  \n0    0.361  0.367  0.728    5          15    R         A.Nola(67)  \n1    0.355  0.470  0.825    7          17    R      N.Pivetta(35)  \n2    0.339  0.368  0.708    8          14    R      J.Arrieta(62)  \n3    0.368  0.427  0.795   11          15    R    K.Hendricks(26)  \n4    0.376  0.441  0.817    9          16    L       J.Lester(56)  \n..     ...    ...    ...  ...         ...  ...                ...  \n157  0.336  0.454  0.790    8          13    L        D.Duffy(48)  \n158  0.337  0.454  0.791   11          13    L   M.Montgomery(47)  \n159  0.337  0.453  0.790   10          15    R      M.Stroman(59)  \n160  0.337  0.451  0.788   10          14    L         S.Matz(70)  \n161  0.336  0.452  0.789    6          22    R  N.Syndergaard(62)  \n\n[162 rows x 31 columns]",
      "text/html": "<div>\n<style scoped>\n    .dataframe tbody tr th:only-of-type {\n        vertical-align: middle;\n    }\n\n    .dataframe tbody tr th {\n        vertical-align: top;\n    }\n\n    .dataframe thead th {\n        text-align: right;\n    }\n</style>\n<table border=\"1\" class=\"dataframe\">\n  <thead>\n    <tr style=\"text-align: right;\">\n      <th></th>\n      <th>Game</th>\n      <th>Date</th>\n      <th>Home</th>\n      <th>Opp</th>\n      <th>Rslt</th>\n      <th>PA</th>\n      <th>AB</th>\n      <th>R</th>\n      <th>H</th>\n      <th>2B</th>\n      <th>...</th>\n      <th>SB</th>\n      <th>CS</th>\n      <th>BA</th>\n      <th>OBP</th>\n      <th>SLG</th>\n      <th>OPS</th>\n      <th>LOB</th>\n      <th>NumPlayers</th>\n      <th>Thr</th>\n      <th>OppStart</th>\n    </tr>\n  </thead>\n  <tbody>\n    <tr>\n      <th>0</th>\n      <td>1</td>\n      <td>Mar 28</td>\n      <td>False</td>\n      <td>PHI</td>\n      <td>L,4-10</td>\n      <td>36</td>\n      <td>30</td>\n      <td>4</td>\n      <td>7</td>\n      <td>1</td>\n      <td>...</td>\n      <td>1</td>\n      <td>1</td>\n      <td>0.233</td>\n      <td>0.361</td>\n      <td>0.367</td>\n      <td>0.728</td>\n      <td>5</td>\n      <td>15</td>\n      <td>R</td>\n      <td>A.Nola(67)</td>\n    </tr>\n    <tr>\n      <th>1</th>\n      <td>2</td>\n      <td>Mar 30</td>\n      <td>False</td>\n      <td>PHI</td>\n      <td>L,6-8</td>\n      <td>40</td>\n      <td>36</td>\n      <td>6</td>\n      <td>10</td>\n      <td>2</td>\n      <td>...</td>\n      <td>1</td>\n      <td>0</td>\n      <td>0.258</td>\n      <td>0.355</td>\n      <td>0.470</td>\n      <td>0.825</td>\n      <td>7</td>\n      <td>17</td>\n      <td>R</td>\n      <td>N.Pivetta(35)</td>\n    </tr>\n    <tr>\n      <th>2</th>\n      <td>3</td>\n      <td>Mar 31</td>\n      <td>False</td>\n      <td>PHI</td>\n      <td>L,1-5</td>\n      <td>36</td>\n      <td>29</td>\n      <td>1</td>\n      <td>4</td>\n      <td>0</td>\n      <td>...</td>\n      <td>1</td>\n      <td>2</td>\n      <td>0.221</td>\n      <td>0.339</td>\n      <td>0.368</td>\n      <td>0.708</td>\n      <td>8</td>\n      <td>14</td>\n      <td>R</td>\n      <td>J.Arrieta(62)</td>\n    </tr>\n    <tr>\n      <th>3</th>\n      <td>4</td>\n      <td>Apr 1</td>\n      <td>True</td>\n      <td>CHC</td>\n      <td>W,8-0</td>\n      <td>43</td>\n      <td>36</td>\n      <td>8</td>\n      <td>12</td>\n      <td>3</td>\n      <td>...</td>\n      <td>0</td>\n      <td>0</td>\n      <td>0.252</td>\n      <td>0.368</td>\n      <td>0.427</td>\n      <td>0.795</td>\n      <td>11</td>\n      <td>15</td>\n      <td>R</td>\n      <td>K.Hendricks(26)</td>\n    </tr>\n    <tr>\n      <th>4</th>\n      <td>5</td>\n      <td>Apr 3</td>\n      <td>True</td>\n      <td>CHC</td>\n      <td>W,6-4</td>\n      <td>39</td>\n      <td>30</td>\n      <td>6</td>\n      <td>8</td>\n      <td>1</td>\n      <td>...</td>\n      <td>1</td>\n      <td>0</td>\n      <td>0.255</td>\n      <td>0.376</td>\n      <td>0.441</td>\n      <td>0.817</td>\n      <td>9</td>\n      <td>16</td>\n      <td>L</td>\n      <td>J.Lester(56)</td>\n    </tr>\n    <tr>\n      <th>...</th>\n      <td>...</td>\n      <td>...</td>\n      <td>...</td>\n      <td>...</td>\n      <td>...</td>\n      <td>...</td>\n      <td>...</td>\n      <td>...</td>\n      <td>...</td>\n      <td>...</td>\n      <td>...</td>\n      <td>...</td>\n      <td>...</td>\n      <td>...</td>\n      <td>...</td>\n      <td>...</td>\n      <td>...</td>\n      <td>...</td>\n      <td>...</td>\n      <td>...</td>\n      <td>...</td>\n    </tr>\n    <tr>\n      <th>157</th>\n      <td>158</td>\n      <td>Sep 24</td>\n      <td>False</td>\n      <td>KCR</td>\n      <td>L,6-9</td>\n      <td>41</td>\n      <td>37</td>\n      <td>6</td>\n      <td>11</td>\n      <td>3</td>\n      <td>...</td>\n      <td>0</td>\n      <td>0</td>\n      <td>0.258</td>\n      <td>0.336</td>\n      <td>0.454</td>\n      <td>0.790</td>\n      <td>8</td>\n      <td>13</td>\n      <td>L</td>\n      <td>D.Duffy(48)</td>\n    </tr>\n    <tr>\n      <th>158</th>\n      <td>159</td>\n      <td>Sep 25</td>\n      <td>False</td>\n      <td>KCR</td>\n      <td>W,10-2</td>\n      <td>48</td>\n      <td>40</td>\n      <td>10</td>\n      <td>14</td>\n      <td>4</td>\n      <td>...</td>\n      <td>0</td>\n      <td>0</td>\n      <td>0.258</td>\n      <td>0.337</td>\n      <td>0.454</td>\n      <td>0.791</td>\n      <td>11</td>\n      <td>13</td>\n      <td>L</td>\n      <td>M.Montgomery(47)</td>\n    </tr>\n    <tr>\n      <th>159</th>\n      <td>160</td>\n      <td>Sep 27</td>\n      <td>False</td>\n      <td>NYM</td>\n      <td>L,2-4</td>\n      <td>39</td>\n      <td>35</td>\n      <td>2</td>\n      <td>9</td>\n      <td>0</td>\n      <td>...</td>\n      <td>2</td>\n      <td>0</td>\n      <td>0.258</td>\n      <td>0.337</td>\n      <td>0.453</td>\n      <td>0.790</td>\n      <td>10</td>\n      <td>15</td>\n      <td>R</td>\n      <td>M.Stroman(59)</td>\n    </tr>\n    <tr>\n      <th>160</th>\n      <td>161</td>\n      <td>Sep 28</td>\n      <td>False</td>\n      <td>NYM</td>\n      <td>L,0-3</td>\n      <td>37</td>\n      <td>31</td>\n      <td>0</td>\n      <td>4</td>\n      <td>0</td>\n      <td>...</td>\n      <td>0</td>\n      <td>0</td>\n      <td>0.258</td>\n      <td>0.337</td>\n      <td>0.451</td>\n      <td>0.788</td>\n      <td>10</td>\n      <td>14</td>\n      <td>L</td>\n      <td>S.Matz(70)</td>\n    </tr>\n    <tr>\n      <th>161</th>\n      <td>162</td>\n      <td>Sep 29</td>\n      <td>False</td>\n      <td>NYM</td>\n      <td>L,6-7</td>\n      <td>45</td>\n      <td>42</td>\n      <td>6</td>\n      <td>11</td>\n      <td>1</td>\n      <td>...</td>\n      <td>1</td>\n      <td>1</td>\n      <td>0.258</td>\n      <td>0.336</td>\n      <td>0.452</td>\n      <td>0.789</td>\n      <td>6</td>\n      <td>22</td>\n      <td>R</td>\n      <td>N.Syndergaard(62)</td>\n    </tr>\n  </tbody>\n</table>\n<p>162 rows × 31 columns</p>\n</div>"
     },
     "execution_count": 2,
     "metadata": {},
     "output_type": "execute_result"
    }
   ],
   "source": [
    "from pybaseball import team_game_logs\n",
    "\n",
    "team_game_logs(2019, \"ATL\")"
   ],
   "metadata": {
    "collapsed": false,
    "ExecuteTime": {
     "end_time": "2024-01-06T02:50:55.290573Z",
     "start_time": "2024-01-06T02:50:52.509158Z"
    }
   },
   "id": "89b97cfadc353775"
  },
  {
   "cell_type": "code",
   "execution_count": 5,
   "outputs": [
    {
     "data": {
      "text/plain": "    pitch_type  game_date  release_speed  release_pos_x  release_pos_z  \\\n159         CH 2018-03-30           88.1          -2.62           6.21   \n160         SL 2018-03-30           84.2          -3.01           5.80   \n164         SL 2018-03-30           85.3          -3.08           5.74   \n166         FF 2018-03-30           94.8          -2.75           5.66   \n175         FF 2018-03-30           95.3          -2.96           5.62   \n..         ...        ...            ...            ...            ...   \n203         KC 2018-03-30           84.2           1.93           5.53   \n206         SI 2018-03-30           91.5           1.84           5.72   \n213         SI 2018-03-30           91.5           1.67           5.82   \n217         CH 2018-03-30           85.0           2.00           5.59   \n225         SI 2018-03-30           91.0           1.68           5.70   \n\n         player_name  batter  pitcher     events    description  ...  \\\n159    Pederson, Joc  592626   519326  field_out  hit_into_play  ...   \n160  Forsythe, Logan  523253   519326  strikeout  called_strike  ...   \n164  Forsythe, Logan  523253   519326        NaN           foul  ...   \n166  Forsythe, Logan  523253   519326        NaN           ball  ...   \n175  Forsythe, Logan  523253   519326        NaN           foul  ...   \n..               ...     ...      ...        ...            ...  ...   \n203       Panik, Joe  605412   622072        NaN           ball  ...   \n206       Panik, Joe  605412   622072        NaN  called_strike  ...   \n213       Panik, Joe  605412   622072        NaN           ball  ...   \n217  Jackson, Austin  457706   622072  field_out  hit_into_play  ...   \n225  Jackson, Austin  457706   622072        NaN  called_strike  ...   \n\n     fld_score  post_away_score  post_home_score  post_bat_score  \\\n159          1                1                0               0   \n160          1                1                0               0   \n164          1                1                0               0   \n166          1                1                0               0   \n175          1                1                0               0   \n..         ...              ...              ...             ...   \n203          0                0                0               0   \n206          0                0                0               0   \n213          0                0                0               0   \n217          0                0                0               0   \n225          0                0                0               0   \n\n     post_fld_score if_fielding_alignment of_fielding_alignment spin_axis  \\\n159               1              Standard              Standard     232.0   \n160               1              Standard              Standard      91.0   \n164               1              Standard              Standard      94.0   \n166               1              Standard              Standard     194.0   \n175               1              Standard              Standard     189.0   \n..              ...                   ...                   ...       ...   \n203               0              Standard              Standard     288.0   \n206               0              Standard              Standard     135.0   \n213               0              Standard              Standard     133.0   \n217               0              Standard              Standard     108.0   \n225               0              Standard              Standard     156.0   \n\n    delta_home_win_exp delta_run_exp  \n159             -0.044        -0.100  \n160             -0.064        -0.212  \n164              0.000         0.000  \n166              0.000         0.064  \n175              0.000         0.000  \n..                 ...           ...  \n203              0.000         0.037  \n206              0.000        -0.034  \n213              0.000         0.027  \n217              0.022        -0.196  \n225              0.000        -0.036  \n\n[226 rows x 92 columns]",
      "text/html": "<div>\n<style scoped>\n    .dataframe tbody tr th:only-of-type {\n        vertical-align: middle;\n    }\n\n    .dataframe tbody tr th {\n        vertical-align: top;\n    }\n\n    .dataframe thead th {\n        text-align: right;\n    }\n</style>\n<table border=\"1\" class=\"dataframe\">\n  <thead>\n    <tr style=\"text-align: right;\">\n      <th></th>\n      <th>pitch_type</th>\n      <th>game_date</th>\n      <th>release_speed</th>\n      <th>release_pos_x</th>\n      <th>release_pos_z</th>\n      <th>player_name</th>\n      <th>batter</th>\n      <th>pitcher</th>\n      <th>events</th>\n      <th>description</th>\n      <th>...</th>\n      <th>fld_score</th>\n      <th>post_away_score</th>\n      <th>post_home_score</th>\n      <th>post_bat_score</th>\n      <th>post_fld_score</th>\n      <th>if_fielding_alignment</th>\n      <th>of_fielding_alignment</th>\n      <th>spin_axis</th>\n      <th>delta_home_win_exp</th>\n      <th>delta_run_exp</th>\n    </tr>\n  </thead>\n  <tbody>\n    <tr>\n      <th>159</th>\n      <td>CH</td>\n      <td>2018-03-30</td>\n      <td>88.1</td>\n      <td>-2.62</td>\n      <td>6.21</td>\n      <td>Pederson, Joc</td>\n      <td>592626</td>\n      <td>519326</td>\n      <td>field_out</td>\n      <td>hit_into_play</td>\n      <td>...</td>\n      <td>1</td>\n      <td>1</td>\n      <td>0</td>\n      <td>0</td>\n      <td>1</td>\n      <td>Standard</td>\n      <td>Standard</td>\n      <td>232.0</td>\n      <td>-0.044</td>\n      <td>-0.100</td>\n    </tr>\n    <tr>\n      <th>160</th>\n      <td>SL</td>\n      <td>2018-03-30</td>\n      <td>84.2</td>\n      <td>-3.01</td>\n      <td>5.80</td>\n      <td>Forsythe, Logan</td>\n      <td>523253</td>\n      <td>519326</td>\n      <td>strikeout</td>\n      <td>called_strike</td>\n      <td>...</td>\n      <td>1</td>\n      <td>1</td>\n      <td>0</td>\n      <td>0</td>\n      <td>1</td>\n      <td>Standard</td>\n      <td>Standard</td>\n      <td>91.0</td>\n      <td>-0.064</td>\n      <td>-0.212</td>\n    </tr>\n    <tr>\n      <th>164</th>\n      <td>SL</td>\n      <td>2018-03-30</td>\n      <td>85.3</td>\n      <td>-3.08</td>\n      <td>5.74</td>\n      <td>Forsythe, Logan</td>\n      <td>523253</td>\n      <td>519326</td>\n      <td>NaN</td>\n      <td>foul</td>\n      <td>...</td>\n      <td>1</td>\n      <td>1</td>\n      <td>0</td>\n      <td>0</td>\n      <td>1</td>\n      <td>Standard</td>\n      <td>Standard</td>\n      <td>94.0</td>\n      <td>0.000</td>\n      <td>0.000</td>\n    </tr>\n    <tr>\n      <th>166</th>\n      <td>FF</td>\n      <td>2018-03-30</td>\n      <td>94.8</td>\n      <td>-2.75</td>\n      <td>5.66</td>\n      <td>Forsythe, Logan</td>\n      <td>523253</td>\n      <td>519326</td>\n      <td>NaN</td>\n      <td>ball</td>\n      <td>...</td>\n      <td>1</td>\n      <td>1</td>\n      <td>0</td>\n      <td>0</td>\n      <td>1</td>\n      <td>Standard</td>\n      <td>Standard</td>\n      <td>194.0</td>\n      <td>0.000</td>\n      <td>0.064</td>\n    </tr>\n    <tr>\n      <th>175</th>\n      <td>FF</td>\n      <td>2018-03-30</td>\n      <td>95.3</td>\n      <td>-2.96</td>\n      <td>5.62</td>\n      <td>Forsythe, Logan</td>\n      <td>523253</td>\n      <td>519326</td>\n      <td>NaN</td>\n      <td>foul</td>\n      <td>...</td>\n      <td>1</td>\n      <td>1</td>\n      <td>0</td>\n      <td>0</td>\n      <td>1</td>\n      <td>Standard</td>\n      <td>Standard</td>\n      <td>189.0</td>\n      <td>0.000</td>\n      <td>0.000</td>\n    </tr>\n    <tr>\n      <th>...</th>\n      <td>...</td>\n      <td>...</td>\n      <td>...</td>\n      <td>...</td>\n      <td>...</td>\n      <td>...</td>\n      <td>...</td>\n      <td>...</td>\n      <td>...</td>\n      <td>...</td>\n      <td>...</td>\n      <td>...</td>\n      <td>...</td>\n      <td>...</td>\n      <td>...</td>\n      <td>...</td>\n      <td>...</td>\n      <td>...</td>\n      <td>...</td>\n      <td>...</td>\n      <td>...</td>\n    </tr>\n    <tr>\n      <th>203</th>\n      <td>KC</td>\n      <td>2018-03-30</td>\n      <td>84.2</td>\n      <td>1.93</td>\n      <td>5.53</td>\n      <td>Panik, Joe</td>\n      <td>605412</td>\n      <td>622072</td>\n      <td>NaN</td>\n      <td>ball</td>\n      <td>...</td>\n      <td>0</td>\n      <td>0</td>\n      <td>0</td>\n      <td>0</td>\n      <td>0</td>\n      <td>Standard</td>\n      <td>Standard</td>\n      <td>288.0</td>\n      <td>0.000</td>\n      <td>0.037</td>\n    </tr>\n    <tr>\n      <th>206</th>\n      <td>SI</td>\n      <td>2018-03-30</td>\n      <td>91.5</td>\n      <td>1.84</td>\n      <td>5.72</td>\n      <td>Panik, Joe</td>\n      <td>605412</td>\n      <td>622072</td>\n      <td>NaN</td>\n      <td>called_strike</td>\n      <td>...</td>\n      <td>0</td>\n      <td>0</td>\n      <td>0</td>\n      <td>0</td>\n      <td>0</td>\n      <td>Standard</td>\n      <td>Standard</td>\n      <td>135.0</td>\n      <td>0.000</td>\n      <td>-0.034</td>\n    </tr>\n    <tr>\n      <th>213</th>\n      <td>SI</td>\n      <td>2018-03-30</td>\n      <td>91.5</td>\n      <td>1.67</td>\n      <td>5.82</td>\n      <td>Panik, Joe</td>\n      <td>605412</td>\n      <td>622072</td>\n      <td>NaN</td>\n      <td>ball</td>\n      <td>...</td>\n      <td>0</td>\n      <td>0</td>\n      <td>0</td>\n      <td>0</td>\n      <td>0</td>\n      <td>Standard</td>\n      <td>Standard</td>\n      <td>133.0</td>\n      <td>0.000</td>\n      <td>0.027</td>\n    </tr>\n    <tr>\n      <th>217</th>\n      <td>CH</td>\n      <td>2018-03-30</td>\n      <td>85.0</td>\n      <td>2.00</td>\n      <td>5.59</td>\n      <td>Jackson, Austin</td>\n      <td>457706</td>\n      <td>622072</td>\n      <td>field_out</td>\n      <td>hit_into_play</td>\n      <td>...</td>\n      <td>0</td>\n      <td>0</td>\n      <td>0</td>\n      <td>0</td>\n      <td>0</td>\n      <td>Standard</td>\n      <td>Standard</td>\n      <td>108.0</td>\n      <td>0.022</td>\n      <td>-0.196</td>\n    </tr>\n    <tr>\n      <th>225</th>\n      <td>SI</td>\n      <td>2018-03-30</td>\n      <td>91.0</td>\n      <td>1.68</td>\n      <td>5.70</td>\n      <td>Jackson, Austin</td>\n      <td>457706</td>\n      <td>622072</td>\n      <td>NaN</td>\n      <td>called_strike</td>\n      <td>...</td>\n      <td>0</td>\n      <td>0</td>\n      <td>0</td>\n      <td>0</td>\n      <td>0</td>\n      <td>Standard</td>\n      <td>Standard</td>\n      <td>156.0</td>\n      <td>0.000</td>\n      <td>-0.036</td>\n    </tr>\n  </tbody>\n</table>\n<p>226 rows × 92 columns</p>\n</div>"
     },
     "execution_count": 5,
     "metadata": {},
     "output_type": "execute_result"
    }
   ],
   "source": [
    "from pybaseball import statcast_single_game\n",
    "\n",
    "statcast_single_game(529429).col"
   ],
   "metadata": {
    "collapsed": false,
    "ExecuteTime": {
     "end_time": "2024-01-06T03:23:46.915130Z",
     "start_time": "2024-01-06T03:23:45.403107Z"
    }
   },
   "id": "339d9a18543caacc"
  },
  {
   "cell_type": "code",
   "execution_count": 7,
   "outputs": [
    {
     "data": {
      "text/plain": "yearID\n1871     9\n1872    11\n1873     9\n1874     8\n1875    13\n        ..\n2019    30\n2020    30\n2021    30\n2022    30\n2023    30\nName: count, Length: 153, dtype: int64"
     },
     "execution_count": 7,
     "metadata": {},
     "output_type": "execute_result"
    }
   ],
   "source": [
    "df['yearID'].value_counts().sort_index()"
   ],
   "metadata": {
    "collapsed": false,
    "ExecuteTime": {
     "end_time": "2024-01-06T06:05:25.546570Z",
     "start_time": "2024-01-06T06:05:25.519862Z"
    }
   },
   "id": "cd54ef04c6a0fcdb"
  },
  {
   "cell_type": "code",
   "execution_count": null,
   "outputs": [],
   "source": [],
   "metadata": {
    "collapsed": false
   },
   "id": "2aa3d067984227bc"
  }
 ],
 "metadata": {
  "kernelspec": {
   "display_name": "Python 3",
   "language": "python",
   "name": "python3"
  },
  "language_info": {
   "codemirror_mode": {
    "name": "ipython",
    "version": 2
   },
   "file_extension": ".py",
   "mimetype": "text/x-python",
   "name": "python",
   "nbconvert_exporter": "python",
   "pygments_lexer": "ipython2",
   "version": "2.7.6"
  }
 },
 "nbformat": 4,
 "nbformat_minor": 5
}
