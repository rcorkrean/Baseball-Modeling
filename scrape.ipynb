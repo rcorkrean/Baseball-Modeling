{
 "cells": [
  {
   "cell_type": "code",
   "execution_count": 1,
   "id": "5b494f0c6dbd0509",
   "metadata": {
    "collapsed": true,
    "jupyter": {
     "outputs_hidden": true
    },
    "id": "5b494f0c6dbd0509",
    "ExecuteTime": {
     "end_time": "2024-01-07T02:33:26.710889Z",
     "start_time": "2024-01-07T02:33:24.145501Z"
    }
   },
   "outputs": [],
   "source": [
    "import csv\n",
    "import json\n",
    "import re\n",
    "import unicodedata\n",
    "from datetime import datetime\n",
    "from time import sleep\n",
    "from urllib.error import HTTPError\n",
    "from urllib.parse import urlparse, parse_qs\n",
    "from urllib.request import urlopen\n",
    "\n",
    "import numpy as np\n",
    "import pandas as pd\n",
    "import plotly.graph_objects as go\n",
    "import requests\n",
    "from bs4 import BeautifulSoup, SoupStrainer\n",
    "from selenium import webdriver\n",
    "from tqdm.auto import tqdm"
   ]
  },
  {
   "cell_type": "code",
   "execution_count": 2,
   "id": "initial_id",
   "metadata": {
    "id": "initial_id",
    "ExecuteTime": {
     "end_time": "2024-01-07T02:33:26.745811Z",
     "start_time": "2024-01-07T02:33:26.711473Z"
    }
   },
   "outputs": [],
   "source": [
    "POSITION_MAPPING = {**{value: i + 1 for i, value in enumerate(['Pitcher', 'Catcher', 'First Baseman', 'Second Baseman', 'Third Baseman', 'Shortstop', 'Left Fielder', 'Center Fielder', 'Right Fielder', 'Designated Hitter', 'Pinch Hitter', 'Pinch Runner'])}, 'Infielder': 'I', 'Outfielder': 'O', 'Two-Way Player': 'Y'}\n",
    "\n",
    "STATE_DICT = {'AL': 'Alabama', 'AK': 'Alaska', 'AZ': 'Arizona', 'AR': 'Arkansas', 'CA': 'California', 'CO': 'Colorado', 'CT': 'Connecticut', 'DE': 'Delaware', 'FL': 'Florida', 'GA': 'Georgia', 'HI': 'Hawaii', 'ID': 'Idaho', 'IL': 'Illinois', 'IN': 'Indiana', 'IA': 'Iowa', 'KS': 'Kansas', 'KY': 'Kentucky', 'LA': 'Louisiana', 'ME': 'Maine', 'MD': 'Maryland', 'MA': 'Massachusetts', 'MI': 'Michigan', 'MN': 'Minnesota', 'MS': 'Mississippi', 'MO': 'Missouri', 'MT': 'Montana', 'NE': 'Nebraska', 'NV': 'Nevada', 'NH': 'New Hampshire', 'NJ': 'New Jersey', 'NM': 'New Mexico', 'NY': 'New York', 'NC': 'North Carolina', 'ND': 'North Dakota', 'OH': 'Ohio', 'OK': 'Oklahoma', 'OR': 'Oregon', 'PA': 'Pennsylvania', 'RI': 'Rhode Island', 'SC': 'South Carolina', 'SD': 'South Dakota', 'TN': 'Tennessee', 'TX': 'Texas', 'UT': 'Utah', 'VT': 'Vermont', 'VA': 'Virginia', 'WA': 'Washington', 'WV': 'West Virginia', 'WI': 'Wisconsin', 'WY': 'Wyoming', 'DC': 'District of Columbia', 'AS': 'American Samoa', 'GU': 'Guam', 'MP': 'Northern Mariana Islands', 'PR': 'Puerto Rico', 'UM': 'United States Minor Outlying Islands', 'VI': 'U.S. Virgin Islands', 'NSW': 'New South Wales', 'QLD': 'Queensland', 'AB': 'Alberta', 'BC': 'British Columbia', 'MB': 'Manitoba', 'NB': 'New Brunswick', 'ON': 'Ontario', 'PE': 'Prince Edward Island', 'PQ': 'Quebec', 'QC': 'Quebec', 'SK': 'Saskatchewan', 'SL': 'San Luis Potosí', 'SO': 'Sonora', 'VE': 'Veracruz'}\n",
    "\n",
    "COUNTRY_DICT = {'USA': 'United States', 'VEN': 'Venezuela', 'DOM': 'Dominican Republic', 'MEX': 'Mexico', 'NIR': 'Northern Ireland', 'USSR': 'Soviet Union', 'NCA': 'Nicaragua', 'CUB': 'Cuba', 'PUR': 'Puerto Rico'}\n",
    "\n",
    "MISSING_MLBAMS = {1000511: 110535, 1000769: 110789, 1000777: 110797, 1000778: 110798, 1001791: 111832, 1003245: 113308, 1003504: 113570, 1004075: 114157, 1004972: 115064, 1005919: 116046, 1006675: 116818, 1007769: 117936, 1007906: 118075, 1008462: 118644, 1009200: 119402, 1009235: 119428, 1009111: 119301, 1009203: 119396, 1009694: 119902, 1009698: 119902, 1010104: 120330, 1010128: 120356, 1010610: 120846, 1010739: 120968, 1010882: 121130, 1011053: 121323, 1012086: 122446, 1012886: 123135, 1013857: 124192, 1014429: 124756, 1014468: 124756}\n",
    "\n",
    "BREF_NO_MLBAM = {1009181: 'morgapi01', 1010606: 'quinnjo01', 1002190: 'childsa01', 1014137: 'winklge01', 1007482: 'lehanja01', 1014470: 'gormato04', 1011344: 'ryanjo03', 1014471: 'mccaf01', 1009686: \"o'brida01\", 1014345: 'yinglch01', 1012879: 'tayloja02', 1014469: 'glaseno01'}\n",
    "\n",
    "def parse_date(date: str) -> datetime.date:\n",
    "    return (datetime.strptime(date[:-3], '%Y-%m') if date[-2:] == '00' else datetime.strptime(date, '%Y-%m-%d')).date()\n",
    "\n",
    "\n",
    "def strip_accents(text):\n",
    "    return str(unicodedata.normalize('NFD', text).encode('ascii', 'ignore').decode('utf-8'))\n",
    "\n",
    "\n",
    "def fangraphs_player_scrape() -> pd.DataFrame:\n",
    "    url = 'https://www.fangraphs.com/leaders/major-league?pos=all&stats={stats}&lg=nl%2Cal%2Caa%2Cua%2Cpl%2Cfl&type=0&season={season}&month=0&season1={season}&ind=0&qual=0&pagenum=1&pageitems=2000000000{split}'\n",
    "    df = []\n",
    "    stats = {'hitter': 'bat', 'pitcher': 'pit', 'fielder': 'fld'}\n",
    "    with tqdm(total=len(stats), dynamic_ncols=True) as outer_pbar:\n",
    "        for key, value in stats.items():\n",
    "            outer_pbar.set_description(f'Retrieving {key} stats')\n",
    "            with tqdm(range(1876, 2024), leave=False, dynamic_ncols=True) as inner_pbar:\n",
    "                for season in inner_pbar:\n",
    "                    inner_pbar.set_description(f'Processing {season}')\n",
    "                    # print(url.format(stats=value, season=season, split=''))\n",
    "                    try:\n",
    "                        df.append(pd.DataFrame(json.loads(BeautifulSoup(requests.get(url.format(stats=value, season=season, split='')).content, 'html.parser', from_encoding='utf_8').find('script', type='application/json').text)['props']['pageProps']['dehydratedState']['queries'][0]['state']['data']['data']).replace('- - -', np.nan).drop(columns=['Name', 'PlayerNameRoute', 'Team', 'TeamName', 'TeamNameAbb', 'teamid', 'AgeR', 'SeasonMin', 'SeasonMax'], errors='ignore').rename(columns={'xMLBAMID': 'mlbamid', 'playerid': 'fangraphsid'}).astype({'mlbamid': 'Int64'})[['mlbamid', 'fangraphsid']])\n",
    "                    except AttributeError:\n",
    "                        pass\n",
    "                    inner_pbar.update()\n",
    "            outer_pbar.update()\n",
    "\n",
    "    return pd.concat(df).drop_duplicates()\n",
    "\n",
    "\n",
    "def scrape_baseball_reference(player_keys: dict[int, str]) -> pd.DataFrame:\n",
    "    records = []\n",
    "    with tqdm(player_keys.items()) as pbar:\n",
    "        for key, value in pbar:\n",
    "            pbar.set_postfix({'bref_id': value})\n",
    "            record = {'fangraphsid': key, 'mlbamid': None, 'fullname': None, 'firstname': None, 'lastname': None, 'birthdate': None, 'birthcity': None, 'birthstateprovince': None, 'birthcountry': None, 'active': False, 'primaryposition': None, 'rosterfirstname': None, 'rosterlastname': None, 'middlename': None, 'isverified': False, 'deathdate': None, 'deathcity': None, 'deathstateprovince': None, 'deathcountry': None, 'mlbdebutdate': None, 'batside': None, 'pitchhand': None, 'heightinches': None, 'weight': None, 'strikezonetop': None, 'strikezonebottom': None, 'lastplayeddate': None, 'draftyear': None, 'namesuffix': None, 'primarynumber': None}\n",
    "            \n",
    "            sleep(1.0)\n",
    "            with requests.get(f'https://www.baseball-reference.com/players/{value[0]}/{value}.shtml') as fp:\n",
    "                soup = BeautifulSoup(fp.content, 'html.parser', from_encoding='utf_8')\n",
    "    \n",
    "            primary_number = soup.find_all('span', id='bling-alt-text')\n",
    "            try:\n",
    "                primary_number = [u for u in primary_number[0].string.split('\\n\\n') if u.strip()]\n",
    "                primary_number = [re.compile(r'[0-9]+[-0-9]*[0-9]+').findall(a) for a in primary_number[primary_number.index('Uniforms:') + 1].split('\\n')]\n",
    "                primary_number = pd.DataFrame(primary_number, columns=['Number', 'Years'])\n",
    "                primary_number['Years'] = primary_number['Years'].apply(lambda x: 1 - eval(x))\n",
    "                primary_number = int(primary_number.groupby('Number')['Years'].sum().idxmax())\n",
    "                record['primarynumber'] = primary_number\n",
    "            except IndexError:\n",
    "                pass\n",
    "            \n",
    "            player_data = json.loads(list(soup.find('script', type='application/ld+json').stripped_strings)[0])\n",
    "            player_header = soup.find('div', id='meta').h1.parent\n",
    "            \n",
    "            name = player_data['name'].split()\n",
    "            roster_first_name, roster_last_name = name[0], name[1:]\n",
    "            \n",
    "            if roster_last_name[-1] in ['Jr.', 'Sr.', 'II', 'III', 'IV']:\n",
    "                roster_last_name, name_suffix = roster_last_name[:-1], roster_last_name[-1]\n",
    "            else:\n",
    "                name_suffix = None\n",
    "            \n",
    "            full_name = str(player_header.find(lambda tag: tag is not None and 'Full Name' in str(tag.string)).next_sibling).strip().split()\n",
    "            first_name = full_name[0]\n",
    "            middle_name = [name for name in full_name[1:] if name not in roster_last_name]\n",
    "            middle_name = ' '.join(middle_name) if middle_name else None\n",
    "            name, full_name, roster_last_name, middle_name = ' '.join(name), ' '.join(full_name), ' '.join(roster_last_name),  ' '.join(middle_name) if middle_name else None\n",
    "            last_name = roster_last_name\n",
    "            record['name'],  = name\n",
    "            \n",
    "            birth_date = player_header.find_all(lambda tag: tag is not None and tag.has_attr('data-birth'))\n",
    "            if birth_date:\n",
    "                birth_date = parse_date(birth_date[0]['data-birth'])\n",
    "                # birth_date = datetime.strptime(birth_date[0]['data-birth'], '%Y-%m-%d').date()\n",
    "                birth_place_str_list = list(player_header.find('a', string='Born:').parent.parent.stripped_strings)\n",
    "                birth_city, birth_state_province, birth_country = [bp.replace('in ', '').strip(',')  if bp.upper() != 'US' else 'USA' for bp in birth_place_str_list[next(i for i, value in enumerate(birth_place_str_list) if value.isnumeric()) + 1:]]\n",
    "                record['birthdate'] = birth_date\n",
    "                record['birthcity'], record['birthstateprovince'], record['birthcountry'] = birth_city, birth_state_province, birth_country\n",
    "            \n",
    "            death_date = player_header.find_all(lambda tag: tag is not None and tag.has_attr('data-death'))\n",
    "            if death_date:\n",
    "                death_date = parse_date(death_date[0]['data-death'])\n",
    "                # death_date = datetime.strptime(death_date[0]['data-death'], '%Y-%m-%d').date()\n",
    "                death_place_str_list = list(player_header.find('a', string='Died:').parent.parent.stripped_strings)\n",
    "                death_place_str_list = death_place_str_list[next(i for i, value in enumerate(death_place_str_list) if value.isnumeric()) + 1:]\n",
    "                death_city, death_state_province, death_country = [bp.replace('in\\xa0', '').strip(',') for bp in death_place_str_list]\n",
    "                record['deathdate'] = death_date\n",
    "                record['deathcity'], record['deathstateprovince'], record['deathcountry'] = death_city, death_state_province, death_country\n",
    "            \n",
    "            mlb_debut_date = player_header.find_all(lambda tag: tag is not None and 'Debut' in str(tag.string))\n",
    "            if mlb_debut_date:\n",
    "                mlb_debut_date = datetime.strptime(str(mlb_debut_date[0].parent.next_sibling.next_sibling.string).strip(), '%B %d, %Y').date()\n",
    "                record['mlbdebutdate'] = mlb_debut_date\n",
    "            \n",
    "            last_played_date = player_header.find_all(lambda tag: tag is not None and 'Last Game' in str(tag.string))\n",
    "            if last_played_date:\n",
    "                last_played_date = datetime.strptime(str(last_played_date[0].parent.next_sibling.next_sibling.string).strip(), '%B %d, %Y').date()\n",
    "                record['lastplayeddate'] = last_played_date\n",
    "            \n",
    "            bat_throw = player_header.find_all(lambda tag: tag is not None and 'Bats' in str(tag.string))\n",
    "            if bat_throw:\n",
    "                side_dict = {'Left': 'L', 'Right': 'R', 'Both': 'S'}\n",
    "                bat_throw = [re.match(re.compile(r'[A-Z]+', re.IGNORECASE), x)[0] for x in list(bat_throw[0].parent.stripped_strings)]\n",
    "                bat_side = side_dict[bat_throw[bat_throw.index('Bats') + 1]]\n",
    "                pitch_hand = side_dict[bat_throw[bat_throw.index('Throws') + 1]]\n",
    "                record['batside'], record['pitchhand'] = bat_side, pitch_hand\n",
    "            \n",
    "            height_inches = player_header.find_all(lambda tag: tag is not None and re.match(r'[0-9]+-[0-9]+', str(tag.string)))\n",
    "            if height_inches:\n",
    "                height_inches = np.array(height_inches[0].string.split('-'), dtype=int) @ np.array([12, 1])\n",
    "                record['heightinches'] = height_inches\n",
    "            \n",
    "            weight = player_header.find_all(lambda tag: tag is not None and re.match(r'[0-9]+lb', str(tag.string)))\n",
    "            if weight:\n",
    "                weight = int(str(weight[0].string).strip().replace('lb', ''))\n",
    "                record['weight'] = weight\n",
    "            \n",
    "            draft_year = player_header.find_all(lambda tag: tag is not None and 'Draft' in str(tag.string))\n",
    "            if draft_year:\n",
    "                draft_year = parse_qs(urlparse(draft_year)[0].parent.find('a').get('href').query)['year_ID'][0]\n",
    "                record['draftyear'] = draft_year\n",
    "            \n",
    "            primary_position = player_header.find_all(lambda tag: tag is not None and 'Positions' in str(tag.string))\n",
    "            if primary_position:\n",
    "                primary_position = POSITION_MAPPING[list(primary_position[0].next_sibling.stripped_strings)[0].replace(' and ', ', ').split(', ')[0]]\n",
    "                record['primaryposition'] = primary_position\n",
    "            \n",
    "            records.append(pd.Series(record).to_frame().T)\n",
    "    \n",
    "    return pd.concat(records).astype({'fangraphsid': int, 'mlbamid': 'Int64', 'active': bool, 'isverified': bool, 'primarynumber': 'Int64', 'heightinches': 'Int64', 'weight': 'Int64', 'birthdate': 'datetime64[ns]', 'deathdate': 'datetime64[ns]', 'mlbdebutdate': 'datetime64[ns]', 'lastplayeddate': 'datetime64[ns]', 'draftyear': 'Int64'})"
   ]
  },
  {
   "cell_type": "code",
   "execution_count": 6,
   "outputs": [
    {
     "data": {
      "text/plain": "  0%|          | 0/3 [00:00<?, ?it/s]",
      "application/vnd.jupyter.widget-view+json": {
       "version_major": 2,
       "version_minor": 0,
       "model_id": "57fedd40afdc4b209ea437200ec5969c"
      }
     },
     "metadata": {},
     "output_type": "display_data"
    },
    {
     "data": {
      "text/plain": "  0%|          | 0/148 [00:00<?, ?it/s]",
      "application/vnd.jupyter.widget-view+json": {
       "version_major": 2,
       "version_minor": 0,
       "model_id": "e1c9b084edf24a549ff337e30086fb6b"
      }
     },
     "metadata": {},
     "output_type": "display_data"
    },
    {
     "data": {
      "text/plain": "  0%|          | 0/148 [00:00<?, ?it/s]",
      "application/vnd.jupyter.widget-view+json": {
       "version_major": 2,
       "version_minor": 0,
       "model_id": "1f35354792bb4569895f0a0e71e965e9"
      }
     },
     "metadata": {},
     "output_type": "display_data"
    },
    {
     "data": {
      "text/plain": "  0%|          | 0/148 [00:00<?, ?it/s]",
      "application/vnd.jupyter.widget-view+json": {
       "version_major": 2,
       "version_minor": 0,
       "model_id": "554d15ccbeb1482dab8602714e29cf35"
      }
     },
     "metadata": {},
     "output_type": "display_data"
    }
   ],
   "source": [
    "df = fangraphs_player_scrape()"
   ],
   "metadata": {
    "collapsed": false,
    "ExecuteTime": {
     "end_time": "2023-11-26T22:09:04.149015Z",
     "start_time": "2023-11-26T21:59:24.966870Z"
    }
   },
   "id": "ba80fc26fbbd7fbe"
  },
  {
   "cell_type": "code",
   "execution_count": 13,
   "outputs": [
    {
     "data": {
      "text/plain": "   fangraphsid  mlbamid\n0            1   407792\n1            2   110236\n2            3   110293\n3            4   277397\n4            5   456499",
      "text/html": "<div>\n<style scoped>\n    .dataframe tbody tr th:only-of-type {\n        vertical-align: middle;\n    }\n\n    .dataframe tbody tr th {\n        vertical-align: top;\n    }\n\n    .dataframe thead th {\n        text-align: right;\n    }\n</style>\n<table border=\"1\" class=\"dataframe\">\n  <thead>\n    <tr style=\"text-align: right;\">\n      <th></th>\n      <th>fangraphsid</th>\n      <th>mlbamid</th>\n    </tr>\n  </thead>\n  <tbody>\n    <tr>\n      <th>0</th>\n      <td>1</td>\n      <td>407792</td>\n    </tr>\n    <tr>\n      <th>1</th>\n      <td>2</td>\n      <td>110236</td>\n    </tr>\n    <tr>\n      <th>2</th>\n      <td>3</td>\n      <td>110293</td>\n    </tr>\n    <tr>\n      <th>3</th>\n      <td>4</td>\n      <td>277397</td>\n    </tr>\n    <tr>\n      <th>4</th>\n      <td>5</td>\n      <td>456499</td>\n    </tr>\n  </tbody>\n</table>\n</div>"
     },
     "execution_count": 13,
     "metadata": {},
     "output_type": "execute_result"
    }
   ],
   "source": [
    "df = pd.read_csv('playerids.csv').astype({'mlbamid': 'Int64'})"
   ],
   "metadata": {
    "collapsed": false,
    "ExecuteTime": {
     "end_time": "2023-11-26T22:45:34.216017Z",
     "start_time": "2023-11-26T22:45:34.176621Z"
    }
   },
   "id": "e18f893ca36a543d"
  },
  {
   "cell_type": "code",
   "execution_count": 19,
   "outputs": [],
   "source": [
    "df = df.merge(pd.Series(MISSING_MLBAMS, name='mlbamid2'), left_on='fangraphsid', right_index=True, how='left').fillna({'mlbamid2': df['mlbamid']}).drop('mlbamid', axis=1).rename({'mlbamid2': 'mlbamid'}, axis=1).astype({'mlbamid': 'Int64'})\n",
    "# df.loc[df['fangraphsid'] == 1014471, 'fullname'] = 'Bill McCaffrey'"
   ],
   "metadata": {
    "collapsed": false,
    "ExecuteTime": {
     "end_time": "2023-11-26T22:49:35.843497Z",
     "start_time": "2023-11-26T22:49:35.805574Z"
    }
   },
   "id": "299ea402a3e4afc6"
  },
  {
   "cell_type": "code",
   "execution_count": 21,
   "outputs": [
    {
     "data": {
      "text/plain": "  0%|          | 0/20453 [00:00<?, ?players/s]",
      "application/vnd.jupyter.widget-view+json": {
       "version_major": 2,
       "version_minor": 0,
       "model_id": "ce6c48e4113949b2aa0c1c877dd96d2d"
      }
     },
     "metadata": {},
     "output_type": "display_data"
    }
   ],
   "source": [
    "records = []\n",
    "bad_records = []\n",
    "\n",
    "with tqdm(\n",
    "    iterable={key: value for key, value in dict(zip(df['fangraphsid'], df['mlbamid'])).items() if key not in BREF_NO_MLBAM}.items(),\n",
    "    total=df.shape[0] - len(BREF_NO_MLBAM),\n",
    "    unit='players'\n",
    ") as pbar:\n",
    "    for fangraphsid, mlbamid in pbar:\n",
    "        try:\n",
    "            pbar.set_postfix_str(f'FanGraphsID: {fangraphsid}, MLBAMID: {mlbamid}')\n",
    "            with urlopen(f'https://statsapi.mlb.com/api/v1/people/{mlbamid}/') as url:\n",
    "                data = (pd.Series({'fangraphsid': fangraphsid, **{key: (value if not isinstance(value, dict) else value['code'].strip())\n",
    "                                                                  for key, value in json.load(url)['people'][0].items()}})\n",
    "                        .drop({'link', 'currentAge', 'boxscoreName', 'gender', 'isPlayer', 'nickName', 'nameSlug', 'firstLastName', \n",
    "                               'lastInitName', 'initLastName', 'fullLFMName', 'lastFirstName', 'nameTitle', 'nameMatrilineal',\n",
    "                               'pronunciation', 'namePrefix'}, errors='ignore'))\n",
    "                data = data.rename({**{col: col.lower() for col in data.index}, 'id': 'mlbamid', 'useName': 'rosterfirstname', \n",
    "                                    'useLastName': 'rosterlastname', 'height': 'heightinches'})\n",
    "                if 'heightinches' in data.index:\n",
    "                    data['heightinches'] = np.array([int(h.strip('\"')) for h in data['heightinches'].split('\\' ')]) @ np.array([12, 1])\n",
    "                records.append(data)\n",
    "        except HTTPError:\n",
    "            bad_records.append(fangraphsid)\n",
    "\n",
    "records = pd.DataFrame.from_records(records).astype({'fangraphsid': int, 'mlbamid': 'Int64', 'active': bool, 'isverified': bool, 'primarynumber': 'Int64', 'heightinches': 'Int64', 'weight': 'Int64', 'birthdate': 'datetime64[ns]', 'deathdate': 'datetime64[ns]', 'mlbdebutdate': 'datetime64[ns]', 'lastplayeddate': 'datetime64[ns]', 'draftyear': 'Int64'}).set_index('fangraphsid')\n",
    "\n",
    "for col in list(records.select_dtypes(include='object')):\n",
    "    records[col] = records[col].str.strip()\n",
    "    records[col] = records[col].str.replace(r'\\s+', ' ', regex=True)\n",
    "\n",
    "# records.loc[4920, 'rosterlastname'] = 'Colón'\n",
    "\n",
    "records['birthstateprovince'] = records['birthstateprovince'].map(STATE_DICT)\n",
    "records['birthcountry'] = records['birthcountry'].map(COUNTRY_DICT)\n",
    "\n",
    "records.to_csv('player-data.csv')"
   ],
   "metadata": {
    "collapsed": false,
    "ExecuteTime": {
     "end_time": "2023-11-27T00:08:06.782478Z",
     "start_time": "2023-11-26T22:50:31.241364Z"
    }
   },
   "id": "2854534b48feb6d1"
  },
  {
   "cell_type": "code",
   "execution_count": 74,
   "outputs": [],
   "source": [
    "df = pd.read_csv('player-data.csv').astype({'fangraphsid': int, 'mlbamid': 'Int64', 'active': bool, 'isverified': bool, 'primarynumber': 'Int64', 'heightinches': 'Int64', 'weight': 'Int64', 'birthdate': 'datetime64[ns]', 'deathdate': 'datetime64[ns]', 'mlbdebutdate': 'datetime64[ns]', 'lastplayeddate': 'datetime64[ns]', 'draftyear': 'Int64'}).set_index('fangraphsid')\n",
    "df.loc[[10472, 15118], 'rosterfirstname'] = ['Kiké', 'Jimmie']\n",
    "df.loc[[4920, 5669, 1], 'rosterlastname'] = ['Colón', 'Álvarez III', 'Amézaga']\n",
    "df.loc[[2495, 4243, 4772, 10171, 5669, 1000206, 1000207, 1642, 1003150, 1], 'fullfmlname'] = ['Pedro Manuel Álvarez', 'Jose Manuel Lobatón', 'Félix Abraham Graham Hernández', 'José Altagracia Ramírez', 'Henderson Javier Álvarez', 'Rubén Amaro', 'Rubén Amaro', 'Francisco José Rodríguez', 'Iván De Jesús', 'Alfredo Amézaga']\n",
    "df.loc[[1000206, 1000207, 18401, 1296, 5669], 'fullname'] = ['Rubén Amaro', 'Rubén Amaro Jr.', 'Ronald Acuña Jr.', 'José Cruz Jr.', 'Henderson Álvarez III']\n",
    "df.loc[[11530, 10472, 13398, 3312, 19959, 13755, 15104, 1013826], ['middlename', 'fullfmlname']] = [['Delfín', 'José Delfín Fernández'],\n",
    "                                                                                                    ['José', 'Enrique José Hernández'],\n",
    "                                                                                                    ['Francis', 'Steven Francis Rodríguez'],\n",
    "                                                                                                    ['Manuel', 'Martín Manuel Prado'],\n",
    "                                                                                                    ['Guillermo', 'Jesús Guillermo Luzardo'],\n",
    "                                                                                                    ['Enrique', 'Tomás Enrique Nido'],\n",
    "                                                                                                    ['Rayshad', 'Jonathan Rayshad Davis'],\n",
    "                                                                                                    ['Davis', 'McKinley Davis Wheat']]\n",
    "df.loc[[7048, 1013084, 1827], 'middlename'] = np.nan\n",
    "df['fullfmlname'] = df['fullfmlname'].str.replace(r'\\s+(Jr.|Sr.|II|III|IV)$', '', regex=True)\n",
    "df['asciifullfmlname'] = df['fullfmlname'].apply(strip_accents)\n",
    "df['casciifullfmlname'] = df[['firstname', 'middlename', 'lastname']].agg(lambda x: ' '.join([y for y in x.to_numpy() if pd.notna(y)]), axis=1).apply(strip_accents)\n",
    "df.loc[df['asciifullfmlname'] != df['casciifullfmlname'], 'fullfmlname'] = df.loc[df['asciifullfmlname'] != df['casciifullfmlname'], 'casciifullfmlname']\n",
    "df['asciifullfmlname'] = df['casciifullfmlname']\n",
    "df = df.drop('casciifullfmlname', axis=1)\n",
    "\n",
    "name_df = df.sort_values('birthdate', ascending=False)[['fullname', 'firstname', 'middlename', 'lastname', 'namesuffix', 'rosterfirstname', 'rosterlastname', 'namefirstlast', 'fullfmlname', 'asciifullfmlname']]\n",
    "t = name_df[['firstname', 'middlename', 'lastname']].map(lambda x: len(x) if pd.notna(x) else 0)\n",
    "t['second'] = name_df['middlename'].notna().astype(int)\n",
    "t['first'] = 1\n",
    "t['slices'] = t[['firstname', 'first', 'middlename', 'second']].cumsum(axis=1)[['first', 'second']].to_numpy().tolist()\n",
    "name_df = name_df.merge(t[['slices']], left_index=True, right_index=True)\n",
    "\n",
    "df[['firstname', 'middlename', 'lastname']] = pd.DataFrame(name_df[['fullfmlname', 'slices']].apply(lambda x: [x['fullfmlname'][i:j].strip() for i, j in zip([0] + x['slices'], x['slices'] + [None])], axis=1).tolist(), index=name_df.index, columns=['firstname', 'middlename', 'lastname'])\n",
    "df = df.replace('', np.nan)\n",
    "df.loc[[3397, 5365, 7448, 14140, 14239, 17581, 18316, 20040, 21023], 'rosterlastname'] = df.loc[[3397, 5365, 7448, 14140, 14239, 17581, 18316, 20040, 21023], 'lastname']\n",
    "df.loc[(df['firstname'] != df['rosterfirstname']) & (df['firstname'].apply(strip_accents) == df['rosterfirstname']), 'rosterfirstname'] = df.loc[(df['firstname'] != df['rosterfirstname']) & (df['firstname'].apply(strip_accents) == df['rosterfirstname']), 'firstname']\n",
    "df['rosterfullname'] = df['rosterfirstname'] + ' ' + df['rosterlastname']\n",
    "df.loc[df['namesuffix'].notna() & (df['fullname'] != df['rosterfullname']), 'rosterfullname'] = df.loc[df['namesuffix'].notna() & (df['fullname'] != df['rosterfullname']), 'fullname']\n",
    "df.loc[df['fullname'] != df['rosterfullname'], 'fullname'] = df.loc[df['fullname'] != df['rosterfullname'], 'rosterfullname']\n",
    "# df = df.drop('rosterfullname', axis=1)\n",
    "df['rosterfirstname'] = df.apply(lambda x: x['fullname'].replace(x['rosterlastname'], '').strip(), axis=1)"
   ],
   "metadata": {
    "collapsed": false,
    "ExecuteTime": {
     "end_time": "2023-11-29T05:28:40.924069Z",
     "start_time": "2023-11-29T05:28:40.491074Z"
    }
   },
   "id": "eb59a3511ee8b505"
  },
  {
   "cell_type": "code",
   "execution_count": 77,
   "outputs": [
    {
     "data": {
      "text/plain": "             mlbamid         fullname firstname   lastname  primarynumber  \\\nfangraphsid                                                                 \n1             407792  Alfredo Amézaga   Alfredo    Amézaga              4   \n2             110236  Garret Anderson    Garret   Anderson             16   \n3             110293     Kevin Appier    Robert     Appier             55   \n4             277397     Larry Barnes     Larry     Barnes           <NA>   \n5             456499  Scott Patterson     Scott  Patterson             40   \n...              ...              ...       ...        ...            ...   \n1014464       124788       Frank Zupo     Frank       Zupo             42   \n1014465       124789     Paul Zuvella      Paul    Zuvella             17   \n1014466       124790  George Zuverink    George   Zuverink             35   \n1014467       124791   Dutch Zwilling    Edward   Zwilling             17   \n1014468       124756      Matt Zeiser   Matthew     Zeiser           <NA>   \n\n             birthdate      birthcity birthstateprovince   birthcountry  \\\nfangraphsid                                                               \n1           1978-01-16        Obregon                NaN            NaN   \n2           1972-06-30    Los Angeles         California  United States   \n3           1967-12-06      Lancaster         California  United States   \n4           1974-07-23    Bakersfield         California  United States   \n5           1979-06-20     Pittsburgh       Pennsylvania  United States   \n...                ...            ...                ...            ...   \n1014464     1939-08-29  San Francisco         California  United States   \n1014465     1958-10-31      San Mateo         California  United States   \n1014466     1924-08-20        Holland           Michigan  United States   \n1014467     1888-11-02       St.Louis           Missouri  United States   \n1014468     1888-09-25        Chicago           Illinois  United States   \n\n             heightinches  ...  strikezonetop  strikezonebottom middlename  \\\nfangraphsid                ...                                               \n1                      71  ...          3.319             1.513        NaN   \n2                      75  ...          3.490             1.601     Joseph   \n3                      74  ...          3.467             1.589      Kevin   \n4                      73  ...          3.411             1.565    Richard   \n5                      79  ...          3.756             1.746     Robert   \n...                   ...  ...            ...               ...        ...   \n1014464                71  ...          3.319             1.513     Joseph   \n1014465                72  ...          3.371             1.535        NaN   \n1014466                76  ...          3.549             1.627        NaN   \n1014467                67  ...          3.179             1.474   Harrison   \n1014468                70  ...          3.301             1.504         J.   \n\n            deathstateprovince namesuffix  deathdate    deathcity  \\\nfangraphsid                                                         \n1                          NaN        NaN        NaT          NaN   \n2                          NaN        NaN        NaT          NaN   \n3                          NaN        NaN        NaT          NaN   \n4                          NaN        NaN        NaT          NaN   \n5                          NaN        NaN        NaT          NaN   \n...                        ...        ...        ...          ...   \n1014464                     CA        NaN 2005-03-25   Burlingame   \n1014465                    NaN        NaN        NaT          NaN   \n1014466                     AZ        NaN 2014-09-08        Tempe   \n1014467                     CA        NaN 1978-03-27  LaCrescenta   \n1014468                     IL        NaN 1942-06-10      Chicago   \n\n            deathcountry          asciifullfmlname   rosterfullname  \nfangraphsid                                                          \n1                    NaN           Alfredo Amezaga  Alfredo Amézaga  \n2                    NaN    Garret Joseph Anderson  Garret Anderson  \n3                    NaN       Robert Kevin Appier     Kevin Appier  \n4                    NaN      Larry Richard Barnes     Larry Barnes  \n5                    NaN    Scott Robert Patterson  Scott Patterson  \n...                  ...                       ...              ...  \n1014464              USA         Frank Joseph Zupo       Frank Zupo  \n1014465              NaN              Paul Zuvella     Paul Zuvella  \n1014466              USA           George Zuverink  George Zuverink  \n1014467              USA  Edward Harrison Zwilling   Dutch Zwilling  \n1014468              USA         Matthew J. Zeiser      Matt Zeiser  \n\n[20453 rows x 33 columns]",
      "text/html": "<div>\n<style scoped>\n    .dataframe tbody tr th:only-of-type {\n        vertical-align: middle;\n    }\n\n    .dataframe tbody tr th {\n        vertical-align: top;\n    }\n\n    .dataframe thead th {\n        text-align: right;\n    }\n</style>\n<table border=\"1\" class=\"dataframe\">\n  <thead>\n    <tr style=\"text-align: right;\">\n      <th></th>\n      <th>mlbamid</th>\n      <th>fullname</th>\n      <th>firstname</th>\n      <th>lastname</th>\n      <th>primarynumber</th>\n      <th>birthdate</th>\n      <th>birthcity</th>\n      <th>birthstateprovince</th>\n      <th>birthcountry</th>\n      <th>heightinches</th>\n      <th>...</th>\n      <th>strikezonetop</th>\n      <th>strikezonebottom</th>\n      <th>middlename</th>\n      <th>deathstateprovince</th>\n      <th>namesuffix</th>\n      <th>deathdate</th>\n      <th>deathcity</th>\n      <th>deathcountry</th>\n      <th>asciifullfmlname</th>\n      <th>rosterfullname</th>\n    </tr>\n    <tr>\n      <th>fangraphsid</th>\n      <th></th>\n      <th></th>\n      <th></th>\n      <th></th>\n      <th></th>\n      <th></th>\n      <th></th>\n      <th></th>\n      <th></th>\n      <th></th>\n      <th></th>\n      <th></th>\n      <th></th>\n      <th></th>\n      <th></th>\n      <th></th>\n      <th></th>\n      <th></th>\n      <th></th>\n      <th></th>\n      <th></th>\n    </tr>\n  </thead>\n  <tbody>\n    <tr>\n      <th>1</th>\n      <td>407792</td>\n      <td>Alfredo Amézaga</td>\n      <td>Alfredo</td>\n      <td>Amézaga</td>\n      <td>4</td>\n      <td>1978-01-16</td>\n      <td>Obregon</td>\n      <td>NaN</td>\n      <td>NaN</td>\n      <td>71</td>\n      <td>...</td>\n      <td>3.319</td>\n      <td>1.513</td>\n      <td>NaN</td>\n      <td>NaN</td>\n      <td>NaN</td>\n      <td>NaT</td>\n      <td>NaN</td>\n      <td>NaN</td>\n      <td>Alfredo Amezaga</td>\n      <td>Alfredo Amézaga</td>\n    </tr>\n    <tr>\n      <th>2</th>\n      <td>110236</td>\n      <td>Garret Anderson</td>\n      <td>Garret</td>\n      <td>Anderson</td>\n      <td>16</td>\n      <td>1972-06-30</td>\n      <td>Los Angeles</td>\n      <td>California</td>\n      <td>United States</td>\n      <td>75</td>\n      <td>...</td>\n      <td>3.490</td>\n      <td>1.601</td>\n      <td>Joseph</td>\n      <td>NaN</td>\n      <td>NaN</td>\n      <td>NaT</td>\n      <td>NaN</td>\n      <td>NaN</td>\n      <td>Garret Joseph Anderson</td>\n      <td>Garret Anderson</td>\n    </tr>\n    <tr>\n      <th>3</th>\n      <td>110293</td>\n      <td>Kevin Appier</td>\n      <td>Robert</td>\n      <td>Appier</td>\n      <td>55</td>\n      <td>1967-12-06</td>\n      <td>Lancaster</td>\n      <td>California</td>\n      <td>United States</td>\n      <td>74</td>\n      <td>...</td>\n      <td>3.467</td>\n      <td>1.589</td>\n      <td>Kevin</td>\n      <td>NaN</td>\n      <td>NaN</td>\n      <td>NaT</td>\n      <td>NaN</td>\n      <td>NaN</td>\n      <td>Robert Kevin Appier</td>\n      <td>Kevin Appier</td>\n    </tr>\n    <tr>\n      <th>4</th>\n      <td>277397</td>\n      <td>Larry Barnes</td>\n      <td>Larry</td>\n      <td>Barnes</td>\n      <td>&lt;NA&gt;</td>\n      <td>1974-07-23</td>\n      <td>Bakersfield</td>\n      <td>California</td>\n      <td>United States</td>\n      <td>73</td>\n      <td>...</td>\n      <td>3.411</td>\n      <td>1.565</td>\n      <td>Richard</td>\n      <td>NaN</td>\n      <td>NaN</td>\n      <td>NaT</td>\n      <td>NaN</td>\n      <td>NaN</td>\n      <td>Larry Richard Barnes</td>\n      <td>Larry Barnes</td>\n    </tr>\n    <tr>\n      <th>5</th>\n      <td>456499</td>\n      <td>Scott Patterson</td>\n      <td>Scott</td>\n      <td>Patterson</td>\n      <td>40</td>\n      <td>1979-06-20</td>\n      <td>Pittsburgh</td>\n      <td>Pennsylvania</td>\n      <td>United States</td>\n      <td>79</td>\n      <td>...</td>\n      <td>3.756</td>\n      <td>1.746</td>\n      <td>Robert</td>\n      <td>NaN</td>\n      <td>NaN</td>\n      <td>NaT</td>\n      <td>NaN</td>\n      <td>NaN</td>\n      <td>Scott Robert Patterson</td>\n      <td>Scott Patterson</td>\n    </tr>\n    <tr>\n      <th>...</th>\n      <td>...</td>\n      <td>...</td>\n      <td>...</td>\n      <td>...</td>\n      <td>...</td>\n      <td>...</td>\n      <td>...</td>\n      <td>...</td>\n      <td>...</td>\n      <td>...</td>\n      <td>...</td>\n      <td>...</td>\n      <td>...</td>\n      <td>...</td>\n      <td>...</td>\n      <td>...</td>\n      <td>...</td>\n      <td>...</td>\n      <td>...</td>\n      <td>...</td>\n      <td>...</td>\n    </tr>\n    <tr>\n      <th>1014464</th>\n      <td>124788</td>\n      <td>Frank Zupo</td>\n      <td>Frank</td>\n      <td>Zupo</td>\n      <td>42</td>\n      <td>1939-08-29</td>\n      <td>San Francisco</td>\n      <td>California</td>\n      <td>United States</td>\n      <td>71</td>\n      <td>...</td>\n      <td>3.319</td>\n      <td>1.513</td>\n      <td>Joseph</td>\n      <td>CA</td>\n      <td>NaN</td>\n      <td>2005-03-25</td>\n      <td>Burlingame</td>\n      <td>USA</td>\n      <td>Frank Joseph Zupo</td>\n      <td>Frank Zupo</td>\n    </tr>\n    <tr>\n      <th>1014465</th>\n      <td>124789</td>\n      <td>Paul Zuvella</td>\n      <td>Paul</td>\n      <td>Zuvella</td>\n      <td>17</td>\n      <td>1958-10-31</td>\n      <td>San Mateo</td>\n      <td>California</td>\n      <td>United States</td>\n      <td>72</td>\n      <td>...</td>\n      <td>3.371</td>\n      <td>1.535</td>\n      <td>NaN</td>\n      <td>NaN</td>\n      <td>NaN</td>\n      <td>NaT</td>\n      <td>NaN</td>\n      <td>NaN</td>\n      <td>Paul Zuvella</td>\n      <td>Paul Zuvella</td>\n    </tr>\n    <tr>\n      <th>1014466</th>\n      <td>124790</td>\n      <td>George Zuverink</td>\n      <td>George</td>\n      <td>Zuverink</td>\n      <td>35</td>\n      <td>1924-08-20</td>\n      <td>Holland</td>\n      <td>Michigan</td>\n      <td>United States</td>\n      <td>76</td>\n      <td>...</td>\n      <td>3.549</td>\n      <td>1.627</td>\n      <td>NaN</td>\n      <td>AZ</td>\n      <td>NaN</td>\n      <td>2014-09-08</td>\n      <td>Tempe</td>\n      <td>USA</td>\n      <td>George Zuverink</td>\n      <td>George Zuverink</td>\n    </tr>\n    <tr>\n      <th>1014467</th>\n      <td>124791</td>\n      <td>Dutch Zwilling</td>\n      <td>Edward</td>\n      <td>Zwilling</td>\n      <td>17</td>\n      <td>1888-11-02</td>\n      <td>St.Louis</td>\n      <td>Missouri</td>\n      <td>United States</td>\n      <td>67</td>\n      <td>...</td>\n      <td>3.179</td>\n      <td>1.474</td>\n      <td>Harrison</td>\n      <td>CA</td>\n      <td>NaN</td>\n      <td>1978-03-27</td>\n      <td>LaCrescenta</td>\n      <td>USA</td>\n      <td>Edward Harrison Zwilling</td>\n      <td>Dutch Zwilling</td>\n    </tr>\n    <tr>\n      <th>1014468</th>\n      <td>124756</td>\n      <td>Matt Zeiser</td>\n      <td>Matthew</td>\n      <td>Zeiser</td>\n      <td>&lt;NA&gt;</td>\n      <td>1888-09-25</td>\n      <td>Chicago</td>\n      <td>Illinois</td>\n      <td>United States</td>\n      <td>70</td>\n      <td>...</td>\n      <td>3.301</td>\n      <td>1.504</td>\n      <td>J.</td>\n      <td>IL</td>\n      <td>NaN</td>\n      <td>1942-06-10</td>\n      <td>Chicago</td>\n      <td>USA</td>\n      <td>Matthew J. Zeiser</td>\n      <td>Matt Zeiser</td>\n    </tr>\n  </tbody>\n</table>\n<p>20453 rows × 33 columns</p>\n</div>"
     },
     "execution_count": 77,
     "metadata": {},
     "output_type": "execute_result"
    }
   ],
   "source": [
    "df"
   ],
   "metadata": {
    "collapsed": false,
    "ExecuteTime": {
     "end_time": "2023-11-29T05:28:42.261130Z",
     "start_time": "2023-11-29T05:28:42.203961Z"
    }
   },
   "id": "230882272b54dae4"
  },
  {
   "cell_type": "code",
   "execution_count": 132,
   "outputs": [
    {
     "name": "stderr",
     "output_type": "stream",
     "text": [
      "/var/folders/cf/xvbkm9r16gb4zfcs0bxqrd7m0000gn/T/ipykernel_1031/714245788.py:2: SettingWithCopyWarning: \n",
      "A value is trying to be set on a copy of a slice from a DataFrame.\n",
      "Try using .loc[row_indexer,col_indexer] = value instead\n",
      "\n",
      "See the caveats in the documentation: https://pandas.pydata.org/pandas-docs/stable/user_guide/indexing.html#returning-a-view-versus-a-copy\n",
      "  t['namefirstlast'] = t.apply(lambda x: ' '.join([x['firstname'], x['rosterlastname']]), axis=1)\n",
      "/var/folders/cf/xvbkm9r16gb4zfcs0bxqrd7m0000gn/T/ipykernel_1031/714245788.py:3: SettingWithCopyWarning: \n",
      "A value is trying to be set on a copy of a slice from a DataFrame.\n",
      "Try using .loc[row_indexer,col_indexer] = value instead\n",
      "\n",
      "See the caveats in the documentation: https://pandas.pydata.org/pandas-docs/stable/user_guide/indexing.html#returning-a-view-versus-a-copy\n",
      "  t['fullfmlname'] = t.apply(lambda x: ' '.join([x['firstname'], x['middlename'], x['rosterlastname']]), axis=1)\n"
     ]
    }
   ],
   "source": [
    "t = name_df[name_df['middlename'].notna() & name_df['namesuffix'].isna() & (name_df['asciifullfmlname'] != name_df['firstname'] + ' ' + name_df['middlename'] + ' ' + name_df['rosterlastname'].apply(strip_accents))]\n",
    "t['namefirstlast'] = t.apply(lambda x: ' '.join([x['firstname'], x['rosterlastname']]), axis=1)\n",
    "t['fullfmlname'] = t.apply(lambda x: ' '.join([x['firstname'], x['middlename'], x['rosterlastname']]), axis=1)\n",
    "df.loc[t.index, ['namefirstlast', 'fullfmlname']] = t[['namefirstlast', 'fullfmlname']]\n",
    "t = name_df[name_df['middlename'].notna() & name_df['namesuffix'].isna() & (name_df['asciifullfmlname'] != name_df['firstname'] + ' ' + name_df['middlename'] + ' ' + name_df['rosterlastname'].apply(strip_accents))]"
   ],
   "metadata": {
    "collapsed": false,
    "ExecuteTime": {
     "end_time": "2023-11-28T04:44:33.899499Z",
     "start_time": "2023-11-28T04:44:33.625810Z"
    }
   },
   "id": "99327e51b629d398"
  },
  {
   "cell_type": "code",
   "execution_count": 133,
   "outputs": [
    {
     "data": {
      "text/plain": "                        fullname  firstname middlename   lastname namesuffix  \\\nfangraphsid                                                                    \n11530             Jose Fernandez       Jose     Delfín  Fernandez        NaN   \n10472          Enrique Hernandez    Enrique       José  Hernandez        NaN   \n1642         Francisco Rodriguez  Francisco       José  Rodriguez        NaN   \n\n            rosterfirstname rosterlastname        namefirstlast  \\\nfangraphsid                                                       \n11530                  Jose      Fernández       Jose Fernandez   \n10472               Enrique      Hernández    Enrique Hernandez   \n1642              Francisco      Rodríguez  Francisco Rodriguez   \n\n                          fullfmlname          asciifullfmlname    slices  \nfangraphsid                                                                \n11530           José Delfín Fernández     Jose Delfin Fernandez   [5, 12]  \n10472          Enrique José Hernández    Enrique Jose Hernandez   [8, 13]  \n1642         Francisco José Rodríguez  Francisco Jose Rodriguez  [10, 15]  ",
      "text/html": "<div>\n<style scoped>\n    .dataframe tbody tr th:only-of-type {\n        vertical-align: middle;\n    }\n\n    .dataframe tbody tr th {\n        vertical-align: top;\n    }\n\n    .dataframe thead th {\n        text-align: right;\n    }\n</style>\n<table border=\"1\" class=\"dataframe\">\n  <thead>\n    <tr style=\"text-align: right;\">\n      <th></th>\n      <th>fullname</th>\n      <th>firstname</th>\n      <th>middlename</th>\n      <th>lastname</th>\n      <th>namesuffix</th>\n      <th>rosterfirstname</th>\n      <th>rosterlastname</th>\n      <th>namefirstlast</th>\n      <th>fullfmlname</th>\n      <th>asciifullfmlname</th>\n      <th>slices</th>\n    </tr>\n    <tr>\n      <th>fangraphsid</th>\n      <th></th>\n      <th></th>\n      <th></th>\n      <th></th>\n      <th></th>\n      <th></th>\n      <th></th>\n      <th></th>\n      <th></th>\n      <th></th>\n      <th></th>\n    </tr>\n  </thead>\n  <tbody>\n    <tr>\n      <th>11530</th>\n      <td>Jose Fernandez</td>\n      <td>Jose</td>\n      <td>Delfín</td>\n      <td>Fernandez</td>\n      <td>NaN</td>\n      <td>Jose</td>\n      <td>Fernández</td>\n      <td>Jose Fernandez</td>\n      <td>José Delfín Fernández</td>\n      <td>Jose Delfin Fernandez</td>\n      <td>[5, 12]</td>\n    </tr>\n    <tr>\n      <th>10472</th>\n      <td>Enrique Hernandez</td>\n      <td>Enrique</td>\n      <td>José</td>\n      <td>Hernandez</td>\n      <td>NaN</td>\n      <td>Enrique</td>\n      <td>Hernández</td>\n      <td>Enrique Hernandez</td>\n      <td>Enrique José Hernández</td>\n      <td>Enrique Jose Hernandez</td>\n      <td>[8, 13]</td>\n    </tr>\n    <tr>\n      <th>1642</th>\n      <td>Francisco Rodriguez</td>\n      <td>Francisco</td>\n      <td>José</td>\n      <td>Rodriguez</td>\n      <td>NaN</td>\n      <td>Francisco</td>\n      <td>Rodríguez</td>\n      <td>Francisco Rodriguez</td>\n      <td>Francisco José Rodríguez</td>\n      <td>Francisco Jose Rodriguez</td>\n      <td>[10, 15]</td>\n    </tr>\n  </tbody>\n</table>\n</div>"
     },
     "execution_count": 133,
     "metadata": {},
     "output_type": "execute_result"
    }
   ],
   "source": [
    "t"
   ],
   "metadata": {
    "collapsed": false,
    "ExecuteTime": {
     "end_time": "2023-11-28T04:44:37.916189Z",
     "start_time": "2023-11-28T04:44:37.899146Z"
    }
   },
   "id": "c7afd8c76124056"
  },
  {
   "cell_type": "code",
   "execution_count": 134,
   "outputs": [
    {
     "data": {
      "text/plain": "Empty DataFrame\nColumns: [mlbamid, fullname, firstname, lastname, primarynumber, birthdate, birthcity, birthstateprovince, birthcountry, heightinches, weight, active, primaryposition, rosterfirstname, rosterlastname, isverified, draftyear, lastplayeddate, mlbdebutdate, batside, pitchhand, namefirstlast, fullfmlname, strikezonetop, strikezonebottom, middlename, deathstateprovince, namesuffix, deathdate, deathcity, deathcountry, asciifullfmlname, rosterfullname]\nIndex: []\n\n[0 rows x 33 columns]",
      "text/html": "<div>\n<style scoped>\n    .dataframe tbody tr th:only-of-type {\n        vertical-align: middle;\n    }\n\n    .dataframe tbody tr th {\n        vertical-align: top;\n    }\n\n    .dataframe thead th {\n        text-align: right;\n    }\n</style>\n<table border=\"1\" class=\"dataframe\">\n  <thead>\n    <tr style=\"text-align: right;\">\n      <th></th>\n      <th>mlbamid</th>\n      <th>fullname</th>\n      <th>firstname</th>\n      <th>lastname</th>\n      <th>primarynumber</th>\n      <th>birthdate</th>\n      <th>birthcity</th>\n      <th>birthstateprovince</th>\n      <th>birthcountry</th>\n      <th>heightinches</th>\n      <th>...</th>\n      <th>strikezonetop</th>\n      <th>strikezonebottom</th>\n      <th>middlename</th>\n      <th>deathstateprovince</th>\n      <th>namesuffix</th>\n      <th>deathdate</th>\n      <th>deathcity</th>\n      <th>deathcountry</th>\n      <th>asciifullfmlname</th>\n      <th>rosterfullname</th>\n    </tr>\n    <tr>\n      <th>fangraphsid</th>\n      <th></th>\n      <th></th>\n      <th></th>\n      <th></th>\n      <th></th>\n      <th></th>\n      <th></th>\n      <th></th>\n      <th></th>\n      <th></th>\n      <th></th>\n      <th></th>\n      <th></th>\n      <th></th>\n      <th></th>\n      <th></th>\n      <th></th>\n      <th></th>\n      <th></th>\n      <th></th>\n      <th></th>\n    </tr>\n  </thead>\n  <tbody>\n  </tbody>\n</table>\n<p>0 rows × 33 columns</p>\n</div>"
     },
     "execution_count": 134,
     "metadata": {},
     "output_type": "execute_result"
    }
   ],
   "source": [
    "df[df['middlename'].notna()][df[df['middlename'].notna()].apply(lambda x: x['middlename'] not in x['fullfmlname'], axis=1)]"
   ],
   "metadata": {
    "collapsed": false,
    "ExecuteTime": {
     "end_time": "2023-11-28T04:44:39.076725Z",
     "start_time": "2023-11-28T04:44:38.858922Z"
    }
   },
   "id": "cf73a6fa67bf484c"
  },
  {
   "cell_type": "code",
   "execution_count": 85,
   "outputs": [
    {
     "data": {
      "text/plain": "698"
     },
     "execution_count": 85,
     "metadata": {},
     "output_type": "execute_result"
    }
   ],
   "source": [
    "df['middlename'].isna().sum()"
   ],
   "metadata": {
    "collapsed": false,
    "ExecuteTime": {
     "end_time": "2023-11-26T04:44:26.621835Z",
     "start_time": "2023-11-26T04:44:26.556387Z"
    }
   },
   "id": "1ff86c8f69e10a49"
  },
  {
   "cell_type": "code",
   "execution_count": 33,
   "outputs": [
    {
     "data": {
      "text/plain": "       fangraphsid  mlbamid              fullname firstname    lastname  \\\n75              82   407794        Jung Keun Bong      Jung        Bong   \n124            140   408202        Luis C. Garcia      Luis      Garcia   \n190            221   110184      Sandy Alomar Jr.    Santos      Alomar   \n279            327   115135       Ken Griffey Jr.    George     Griffey   \n291            344   276377          Wily Mo Pena      Wily        Peña   \n...            ...      ...                   ...       ...         ...   \n18690      1013599   123907  Paul Louis Wanninger      Paul   Wanninger   \n18741      1013657   123964     La Rue Washington        La  Washington   \n18743      1013659   123967        U L Washington         U  Washington   \n18991      1013922   124236      Wild Bill Widner   William      Widner   \n19403      1014381   124702           J. B. Young        J.       Young   \n\n       birthdate      birthcity birthstateprovince        birthcountry  \\\n75    1980-07-15          Seoul                NaN         South Korea   \n124   1975-09-22     Hermosillo                NaN              Mexico   \n190   1966-06-18        Salinas                NaN         Puerto Rico   \n279   1969-11-21         Donora                 PA                 USA   \n291   1982-01-23  Laguna Salada                NaN  Dominican Republic   \n...          ...            ...                ...                 ...   \n18690 1902-12-12     Birmingham                 AL                 USA   \n18741 1953-09-07     Long Beach                 CA                 USA   \n18743 1953-10-27     Stringtown                 OK                 USA   \n18991 1867-06-03     Cincinnati                 OH                 USA   \n19403        NaT      Mt.Carmel                 PA                 USA   \n\n       active  ... batside pitchhand heightinches weight  strikezonetop  \\\n75      False  ...       L         L           75    215          3.490   \n124     False  ...       S         R           75    215          3.490   \n190     False  ...       R         R           75    235          3.490   \n279     False  ...       L         L           74    230          3.467   \n291     False  ...       R         R           75    260          3.490   \n...       ...  ...     ...       ...          ...    ...            ...   \n18690   False  ...       L         R           67    150          3.179   \n18741   False  ...       R         R           72    170          3.371   \n18743   False  ...       S         R           71    175          3.319   \n18991   False  ...       R         R           72    180          3.371   \n19403   False  ...       R         R         <NA>   <NA>            NaN   \n\n      strikezonebottom lastplayeddate draftyear namesuffix primarynumber  \n75               1.601     2004-06-20      <NA>        NaN          <NA>  \n124              1.601     2002-05-30      1994        NaN          <NA>  \n190              1.601     2007-09-30      <NA>        Jr.            15  \n279              1.589     2010-05-31      1987        Jr.            24  \n291              1.601     2011-09-25      <NA>        NaN            26  \n...                ...            ...       ...        ...           ...  \n18690            1.474     1927-06-27      <NA>        NaN          <NA>  \n18741            1.535     1979-09-30      1975        NaN            15  \n18743            1.513     1987-10-04      <NA>        NaN            30  \n18991            1.535            NaT      <NA>        NaN          <NA>  \n19403              NaN            NaT      <NA>        NaN          <NA>  \n\n[120 rows x 30 columns]",
      "text/html": "<div>\n<style scoped>\n    .dataframe tbody tr th:only-of-type {\n        vertical-align: middle;\n    }\n\n    .dataframe tbody tr th {\n        vertical-align: top;\n    }\n\n    .dataframe thead th {\n        text-align: right;\n    }\n</style>\n<table border=\"1\" class=\"dataframe\">\n  <thead>\n    <tr style=\"text-align: right;\">\n      <th></th>\n      <th>fangraphsid</th>\n      <th>mlbamid</th>\n      <th>fullname</th>\n      <th>firstname</th>\n      <th>lastname</th>\n      <th>birthdate</th>\n      <th>birthcity</th>\n      <th>birthstateprovince</th>\n      <th>birthcountry</th>\n      <th>active</th>\n      <th>...</th>\n      <th>batside</th>\n      <th>pitchhand</th>\n      <th>heightinches</th>\n      <th>weight</th>\n      <th>strikezonetop</th>\n      <th>strikezonebottom</th>\n      <th>lastplayeddate</th>\n      <th>draftyear</th>\n      <th>namesuffix</th>\n      <th>primarynumber</th>\n    </tr>\n  </thead>\n  <tbody>\n    <tr>\n      <th>75</th>\n      <td>82</td>\n      <td>407794</td>\n      <td>Jung Keun Bong</td>\n      <td>Jung</td>\n      <td>Bong</td>\n      <td>1980-07-15</td>\n      <td>Seoul</td>\n      <td>NaN</td>\n      <td>South Korea</td>\n      <td>False</td>\n      <td>...</td>\n      <td>L</td>\n      <td>L</td>\n      <td>75</td>\n      <td>215</td>\n      <td>3.490</td>\n      <td>1.601</td>\n      <td>2004-06-20</td>\n      <td>&lt;NA&gt;</td>\n      <td>NaN</td>\n      <td>&lt;NA&gt;</td>\n    </tr>\n    <tr>\n      <th>124</th>\n      <td>140</td>\n      <td>408202</td>\n      <td>Luis C. Garcia</td>\n      <td>Luis</td>\n      <td>Garcia</td>\n      <td>1975-09-22</td>\n      <td>Hermosillo</td>\n      <td>NaN</td>\n      <td>Mexico</td>\n      <td>False</td>\n      <td>...</td>\n      <td>S</td>\n      <td>R</td>\n      <td>75</td>\n      <td>215</td>\n      <td>3.490</td>\n      <td>1.601</td>\n      <td>2002-05-30</td>\n      <td>1994</td>\n      <td>NaN</td>\n      <td>&lt;NA&gt;</td>\n    </tr>\n    <tr>\n      <th>190</th>\n      <td>221</td>\n      <td>110184</td>\n      <td>Sandy Alomar Jr.</td>\n      <td>Santos</td>\n      <td>Alomar</td>\n      <td>1966-06-18</td>\n      <td>Salinas</td>\n      <td>NaN</td>\n      <td>Puerto Rico</td>\n      <td>False</td>\n      <td>...</td>\n      <td>R</td>\n      <td>R</td>\n      <td>75</td>\n      <td>235</td>\n      <td>3.490</td>\n      <td>1.601</td>\n      <td>2007-09-30</td>\n      <td>&lt;NA&gt;</td>\n      <td>Jr.</td>\n      <td>15</td>\n    </tr>\n    <tr>\n      <th>279</th>\n      <td>327</td>\n      <td>115135</td>\n      <td>Ken Griffey Jr.</td>\n      <td>George</td>\n      <td>Griffey</td>\n      <td>1969-11-21</td>\n      <td>Donora</td>\n      <td>PA</td>\n      <td>USA</td>\n      <td>False</td>\n      <td>...</td>\n      <td>L</td>\n      <td>L</td>\n      <td>74</td>\n      <td>230</td>\n      <td>3.467</td>\n      <td>1.589</td>\n      <td>2010-05-31</td>\n      <td>1987</td>\n      <td>Jr.</td>\n      <td>24</td>\n    </tr>\n    <tr>\n      <th>291</th>\n      <td>344</td>\n      <td>276377</td>\n      <td>Wily Mo Pena</td>\n      <td>Wily</td>\n      <td>Peña</td>\n      <td>1982-01-23</td>\n      <td>Laguna Salada</td>\n      <td>NaN</td>\n      <td>Dominican Republic</td>\n      <td>False</td>\n      <td>...</td>\n      <td>R</td>\n      <td>R</td>\n      <td>75</td>\n      <td>260</td>\n      <td>3.490</td>\n      <td>1.601</td>\n      <td>2011-09-25</td>\n      <td>&lt;NA&gt;</td>\n      <td>NaN</td>\n      <td>26</td>\n    </tr>\n    <tr>\n      <th>...</th>\n      <td>...</td>\n      <td>...</td>\n      <td>...</td>\n      <td>...</td>\n      <td>...</td>\n      <td>...</td>\n      <td>...</td>\n      <td>...</td>\n      <td>...</td>\n      <td>...</td>\n      <td>...</td>\n      <td>...</td>\n      <td>...</td>\n      <td>...</td>\n      <td>...</td>\n      <td>...</td>\n      <td>...</td>\n      <td>...</td>\n      <td>...</td>\n      <td>...</td>\n      <td>...</td>\n    </tr>\n    <tr>\n      <th>18690</th>\n      <td>1013599</td>\n      <td>123907</td>\n      <td>Paul Louis Wanninger</td>\n      <td>Paul</td>\n      <td>Wanninger</td>\n      <td>1902-12-12</td>\n      <td>Birmingham</td>\n      <td>AL</td>\n      <td>USA</td>\n      <td>False</td>\n      <td>...</td>\n      <td>L</td>\n      <td>R</td>\n      <td>67</td>\n      <td>150</td>\n      <td>3.179</td>\n      <td>1.474</td>\n      <td>1927-06-27</td>\n      <td>&lt;NA&gt;</td>\n      <td>NaN</td>\n      <td>&lt;NA&gt;</td>\n    </tr>\n    <tr>\n      <th>18741</th>\n      <td>1013657</td>\n      <td>123964</td>\n      <td>La Rue Washington</td>\n      <td>La</td>\n      <td>Washington</td>\n      <td>1953-09-07</td>\n      <td>Long Beach</td>\n      <td>CA</td>\n      <td>USA</td>\n      <td>False</td>\n      <td>...</td>\n      <td>R</td>\n      <td>R</td>\n      <td>72</td>\n      <td>170</td>\n      <td>3.371</td>\n      <td>1.535</td>\n      <td>1979-09-30</td>\n      <td>1975</td>\n      <td>NaN</td>\n      <td>15</td>\n    </tr>\n    <tr>\n      <th>18743</th>\n      <td>1013659</td>\n      <td>123967</td>\n      <td>U L Washington</td>\n      <td>U</td>\n      <td>Washington</td>\n      <td>1953-10-27</td>\n      <td>Stringtown</td>\n      <td>OK</td>\n      <td>USA</td>\n      <td>False</td>\n      <td>...</td>\n      <td>S</td>\n      <td>R</td>\n      <td>71</td>\n      <td>175</td>\n      <td>3.319</td>\n      <td>1.513</td>\n      <td>1987-10-04</td>\n      <td>&lt;NA&gt;</td>\n      <td>NaN</td>\n      <td>30</td>\n    </tr>\n    <tr>\n      <th>18991</th>\n      <td>1013922</td>\n      <td>124236</td>\n      <td>Wild Bill Widner</td>\n      <td>William</td>\n      <td>Widner</td>\n      <td>1867-06-03</td>\n      <td>Cincinnati</td>\n      <td>OH</td>\n      <td>USA</td>\n      <td>False</td>\n      <td>...</td>\n      <td>R</td>\n      <td>R</td>\n      <td>72</td>\n      <td>180</td>\n      <td>3.371</td>\n      <td>1.535</td>\n      <td>NaT</td>\n      <td>&lt;NA&gt;</td>\n      <td>NaN</td>\n      <td>&lt;NA&gt;</td>\n    </tr>\n    <tr>\n      <th>19403</th>\n      <td>1014381</td>\n      <td>124702</td>\n      <td>J. B. Young</td>\n      <td>J.</td>\n      <td>Young</td>\n      <td>NaT</td>\n      <td>Mt.Carmel</td>\n      <td>PA</td>\n      <td>USA</td>\n      <td>False</td>\n      <td>...</td>\n      <td>R</td>\n      <td>R</td>\n      <td>&lt;NA&gt;</td>\n      <td>&lt;NA&gt;</td>\n      <td>NaN</td>\n      <td>NaN</td>\n      <td>NaT</td>\n      <td>&lt;NA&gt;</td>\n      <td>NaN</td>\n      <td>&lt;NA&gt;</td>\n    </tr>\n  </tbody>\n</table>\n<p>120 rows × 30 columns</p>\n</div>"
     },
     "execution_count": 33,
     "metadata": {},
     "output_type": "execute_result"
    }
   ],
   "source": [
    "df[df['fullname'].str.replace(r'^\\S+\\s+', '', regex=True)!= df['rosterlastname'].str.replace(r'\\s+(Jr.|Sr.|II|III|IV)$', '', regex=True).apply(strip_accents)]"
   ],
   "metadata": {
    "collapsed": false,
    "ExecuteTime": {
     "end_time": "2023-11-22T03:45:42.181917Z",
     "start_time": "2023-11-22T03:45:42.124797Z"
    }
   },
   "id": "75856077ec010495"
  },
  {
   "cell_type": "code",
   "execution_count": 48,
   "outputs": [
    {
     "data": {
      "text/plain": "0        Alfredo Amezaga\n1        Garret Anderson\n2           Kevin Appier\n3           Larry Barnes\n4        Scott Patterson\n              ...       \n19476         Frank Zupo\n19477       Paul Zuvella\n19478    George Zuverink\n19479     Dutch Zwilling\n19480        Matt Zeiser\nLength: 19481, dtype: object"
     },
     "execution_count": 48,
     "metadata": {},
     "output_type": "execute_result"
    }
   ],
   "source": [
    "df['dummylastname'] = df['lastname'].apply(strip_accents)\n",
    "df['fullname'] = df.apply(lambda x: re.sub(x['dummylastname'], x['lastname'], x['fullname']), axis=1)"
   ],
   "metadata": {
    "collapsed": false,
    "ExecuteTime": {
     "end_time": "2023-11-22T04:36:27.864990Z",
     "start_time": "2023-11-22T04:36:26.354854Z"
    }
   },
   "id": "856b8a4f10cb2544"
  },
  {
   "cell_type": "code",
   "execution_count": 95,
   "outputs": [
    {
     "data": {
      "text/plain": "      birthstateprovince  count\n0             California   2309\n1           Pennsylvania   1357\n2               New York   1118\n3               Illinois   1041\n4                   Ohio   1006\n5                  Texas    966\n6          Massachusetts    645\n7               Missouri    600\n8                Florida    593\n9               Michigan    421\n10            New Jersey    420\n11        North Carolina    415\n12               Georgia    409\n13               Indiana    375\n14               Alabama    338\n15             Tennessee    315\n16              Virginia    296\n17              Maryland    280\n18              Kentucky    278\n19             Louisiana    254\n20              Oklahoma    251\n21             Wisconsin    234\n22                Kansas    210\n23                  Iowa    209\n24            Washington    206\n25           Mississippi    204\n26        South Carolina    191\n27           Connecticut    185\n28             Minnesota    169\n29              Arkansas    145\n30               Arizona    141\n31                Oregon    134\n32         West Virginia    118\n33              Nebraska    113\n34              Colorado     97\n35  District of Columbia     94\n36          Rhode Island     74\n37                 Maine     73\n38              Delaware     55\n39                Nevada     53\n40         New Hampshire     51\n41                Hawaii     48\n42                  Utah     42\n43          South Dakota     37\n44               Vermont     35\n45            New Mexico     30\n46                 Idaho     29\n47               Montana     23\n48          North Dakota     16\n49               Wyoming     14\n50                Alaska     12\n51   U.S. Virgin Islands      7\n52                  Guam      1",
      "text/html": "<div>\n<style scoped>\n    .dataframe tbody tr th:only-of-type {\n        vertical-align: middle;\n    }\n\n    .dataframe tbody tr th {\n        vertical-align: top;\n    }\n\n    .dataframe thead th {\n        text-align: right;\n    }\n</style>\n<table border=\"1\" class=\"dataframe\">\n  <thead>\n    <tr style=\"text-align: right;\">\n      <th></th>\n      <th>birthstateprovince</th>\n      <th>count</th>\n    </tr>\n  </thead>\n  <tbody>\n    <tr>\n      <th>0</th>\n      <td>California</td>\n      <td>2309</td>\n    </tr>\n    <tr>\n      <th>1</th>\n      <td>Pennsylvania</td>\n      <td>1357</td>\n    </tr>\n    <tr>\n      <th>2</th>\n      <td>New York</td>\n      <td>1118</td>\n    </tr>\n    <tr>\n      <th>3</th>\n      <td>Illinois</td>\n      <td>1041</td>\n    </tr>\n    <tr>\n      <th>4</th>\n      <td>Ohio</td>\n      <td>1006</td>\n    </tr>\n    <tr>\n      <th>5</th>\n      <td>Texas</td>\n      <td>966</td>\n    </tr>\n    <tr>\n      <th>6</th>\n      <td>Massachusetts</td>\n      <td>645</td>\n    </tr>\n    <tr>\n      <th>7</th>\n      <td>Missouri</td>\n      <td>600</td>\n    </tr>\n    <tr>\n      <th>8</th>\n      <td>Florida</td>\n      <td>593</td>\n    </tr>\n    <tr>\n      <th>9</th>\n      <td>Michigan</td>\n      <td>421</td>\n    </tr>\n    <tr>\n      <th>10</th>\n      <td>New Jersey</td>\n      <td>420</td>\n    </tr>\n    <tr>\n      <th>11</th>\n      <td>North Carolina</td>\n      <td>415</td>\n    </tr>\n    <tr>\n      <th>12</th>\n      <td>Georgia</td>\n      <td>409</td>\n    </tr>\n    <tr>\n      <th>13</th>\n      <td>Indiana</td>\n      <td>375</td>\n    </tr>\n    <tr>\n      <th>14</th>\n      <td>Alabama</td>\n      <td>338</td>\n    </tr>\n    <tr>\n      <th>15</th>\n      <td>Tennessee</td>\n      <td>315</td>\n    </tr>\n    <tr>\n      <th>16</th>\n      <td>Virginia</td>\n      <td>296</td>\n    </tr>\n    <tr>\n      <th>17</th>\n      <td>Maryland</td>\n      <td>280</td>\n    </tr>\n    <tr>\n      <th>18</th>\n      <td>Kentucky</td>\n      <td>278</td>\n    </tr>\n    <tr>\n      <th>19</th>\n      <td>Louisiana</td>\n      <td>254</td>\n    </tr>\n    <tr>\n      <th>20</th>\n      <td>Oklahoma</td>\n      <td>251</td>\n    </tr>\n    <tr>\n      <th>21</th>\n      <td>Wisconsin</td>\n      <td>234</td>\n    </tr>\n    <tr>\n      <th>22</th>\n      <td>Kansas</td>\n      <td>210</td>\n    </tr>\n    <tr>\n      <th>23</th>\n      <td>Iowa</td>\n      <td>209</td>\n    </tr>\n    <tr>\n      <th>24</th>\n      <td>Washington</td>\n      <td>206</td>\n    </tr>\n    <tr>\n      <th>25</th>\n      <td>Mississippi</td>\n      <td>204</td>\n    </tr>\n    <tr>\n      <th>26</th>\n      <td>South Carolina</td>\n      <td>191</td>\n    </tr>\n    <tr>\n      <th>27</th>\n      <td>Connecticut</td>\n      <td>185</td>\n    </tr>\n    <tr>\n      <th>28</th>\n      <td>Minnesota</td>\n      <td>169</td>\n    </tr>\n    <tr>\n      <th>29</th>\n      <td>Arkansas</td>\n      <td>145</td>\n    </tr>\n    <tr>\n      <th>30</th>\n      <td>Arizona</td>\n      <td>141</td>\n    </tr>\n    <tr>\n      <th>31</th>\n      <td>Oregon</td>\n      <td>134</td>\n    </tr>\n    <tr>\n      <th>32</th>\n      <td>West Virginia</td>\n      <td>118</td>\n    </tr>\n    <tr>\n      <th>33</th>\n      <td>Nebraska</td>\n      <td>113</td>\n    </tr>\n    <tr>\n      <th>34</th>\n      <td>Colorado</td>\n      <td>97</td>\n    </tr>\n    <tr>\n      <th>35</th>\n      <td>District of Columbia</td>\n      <td>94</td>\n    </tr>\n    <tr>\n      <th>36</th>\n      <td>Rhode Island</td>\n      <td>74</td>\n    </tr>\n    <tr>\n      <th>37</th>\n      <td>Maine</td>\n      <td>73</td>\n    </tr>\n    <tr>\n      <th>38</th>\n      <td>Delaware</td>\n      <td>55</td>\n    </tr>\n    <tr>\n      <th>39</th>\n      <td>Nevada</td>\n      <td>53</td>\n    </tr>\n    <tr>\n      <th>40</th>\n      <td>New Hampshire</td>\n      <td>51</td>\n    </tr>\n    <tr>\n      <th>41</th>\n      <td>Hawaii</td>\n      <td>48</td>\n    </tr>\n    <tr>\n      <th>42</th>\n      <td>Utah</td>\n      <td>42</td>\n    </tr>\n    <tr>\n      <th>43</th>\n      <td>South Dakota</td>\n      <td>37</td>\n    </tr>\n    <tr>\n      <th>44</th>\n      <td>Vermont</td>\n      <td>35</td>\n    </tr>\n    <tr>\n      <th>45</th>\n      <td>New Mexico</td>\n      <td>30</td>\n    </tr>\n    <tr>\n      <th>46</th>\n      <td>Idaho</td>\n      <td>29</td>\n    </tr>\n    <tr>\n      <th>47</th>\n      <td>Montana</td>\n      <td>23</td>\n    </tr>\n    <tr>\n      <th>48</th>\n      <td>North Dakota</td>\n      <td>16</td>\n    </tr>\n    <tr>\n      <th>49</th>\n      <td>Wyoming</td>\n      <td>14</td>\n    </tr>\n    <tr>\n      <th>50</th>\n      <td>Alaska</td>\n      <td>12</td>\n    </tr>\n    <tr>\n      <th>51</th>\n      <td>U.S. Virgin Islands</td>\n      <td>7</td>\n    </tr>\n    <tr>\n      <th>52</th>\n      <td>Guam</td>\n      <td>1</td>\n    </tr>\n  </tbody>\n</table>\n</div>"
     },
     "execution_count": 95,
     "metadata": {},
     "output_type": "execute_result"
    }
   ],
   "source": [
    "t = df[(df['birthcountry'] == 'USA') & df['birthstateprovince'].notna()].value_counts('birthstateprovince').reset_index()\n",
    "t['birthstateprovince'] = t['birthstateprovince'].map(STATE_DICT)\n",
    "t"
   ],
   "metadata": {
    "collapsed": false,
    "ExecuteTime": {
     "end_time": "2023-11-19T06:36:05.273144Z",
     "start_time": "2023-11-19T06:36:05.241576Z"
    }
   },
   "id": "728fc8e1348039dd"
  },
  {
   "cell_type": "code",
   "execution_count": 4,
   "outputs": [
    {
     "name": "stdout",
     "output_type": "stream",
     "text": [
      "<div class=\"nothumb\">\n",
      " <h1>\n",
      "  <span>\n",
      "   Pidgey Morgan\n",
      "  </span>\n",
      " </h1>\n",
      " <p>\n",
      "  <strong>\n",
      "   Positions:\n",
      "  </strong>\n",
      "  Outfielder, Third Baseman and Pitcher\n",
      " </p>\n",
      " <p>\n",
      "  <strong>\n",
      "   Bats:\n",
      "  </strong>\n",
      "  Unknown\n",
      "         •\n",
      "  <strong>\n",
      "   Throws:\n",
      "  </strong>\n",
      "  Right\n",
      " </p>\n",
      " <p>\n",
      "  <strong>\n",
      "   <a href=\"/bio/\">\n",
      "    Born:\n",
      "   </a>\n",
      "  </strong>\n",
      "  <span data-birth=\"1853-05-00\" id=\"necro-birth\">\n",
      "   May\n",
      "   <a href=\"/leagues/majors/1853-births.shtml\">\n",
      "    1853\n",
      "   </a>\n",
      "  </span>\n",
      "  <span>\n",
      "   in\n",
      "   <a href=\"/bio/MO_born.shtml\">\n",
      "    MO\n",
      "   </a>\n",
      "  </span>\n",
      "  <span class=\"f-i f-us\" style=\"\">\n",
      "   us\n",
      "  </span>\n",
      " </p>\n",
      " <p>\n",
      "  <strong>\n",
      "   <a href=\"/bio/\">\n",
      "    Died:\n",
      "   </a>\n",
      "  </strong>\n",
      "  <span data-death=\"1910-01-30\" id=\"necro-death\">\n",
      "   <a href=\"/friv/dateofdeath.cgi?month=1&amp;day=30\">\n",
      "    January 30\n",
      "   </a>\n",
      "   ,\n",
      "   <a href=\"/leagues/majors/1910-deaths.shtml\">\n",
      "    1910\n",
      "   </a>\n",
      "  </span>\n",
      "  <span>\n",
      "   in St. Louis,\n",
      "   <a href=\"/bio/MO_died.shtml\">\n",
      "    MO\n",
      "   </a>\n",
      "  </span>\n",
      " </p>\n",
      " <p>\n",
      "  <strong>\n",
      "   <a href=\"/bio/#all_location-of-burial\">\n",
      "    Buried\n",
      "   </a>\n",
      "   :\n",
      "  </strong>\n",
      "  Calvary Cemetery, St. Louis, MO\n",
      " </p>\n",
      " <p>\n",
      "  <strong>\n",
      "   <a href=\"/leagues/majors/1875-debuts.shtml\">\n",
      "    Debut:\n",
      "   </a>\n",
      "  </strong>\n",
      "  May 4, 1875\n",
      "    \n",
      "    (Age 22,\n",
      "    268th in major league history)\n",
      " </p>\n",
      " <p>\n",
      "  <strong>\n",
      "   <a href=\"/leagues/majors/1878-finalyear.shtml\">\n",
      "    Last Game:\n",
      "   </a>\n",
      "  </strong>\n",
      "  June 22, 1878\n",
      "    (Age 25)\n",
      " </p>\n",
      " <p>\n",
      "  <strong>\n",
      "   <a href=\"/leagues/majors/1878-rookies.shtml\">\n",
      "    Rookie Status:\n",
      "   </a>\n",
      "  </strong>\n",
      "  Exceeded rookie limits during 1878 season\n",
      " </p>\n",
      " <p>\n",
      "  <strong>\n",
      "   Full Name:\n",
      "  </strong>\n",
      "  Daniel Morgan\n",
      " </p>\n",
      " <p>\n",
      "  <a href=\"https://www.baseball-reference.com/bullpen/Pidgey_Morgan\" target=\"_blank\">\n",
      "   View Player Info\n",
      "  </a>\n",
      "  from the\n",
      "  <a href=\"https://www.baseball-reference.com/bullpen/\" target=\"_blank\">\n",
      "   B-R Bullpen\n",
      "  </a>\n",
      " </p>\n",
      " <button class=\"opener\" data-class=\"open\" data-id=\"info\" data-type=\"hide_after\" id=\"meta_more_button\">\n",
      "  More bio, uniform, draft, salary info\n",
      " </button>\n",
      " <script>\n",
      "  // see sr.menus.js:sr_menus_checkInfoCookie to explain\n",
      "function sr_menus_checkInfoCookie_inline(browserType) {\n",
      "    var el_info = document.getElementById('info');\n",
      "    var el_button = document.getElementById('meta_more_button');\n",
      "    var bling_len = 0;    \n",
      "    if (!el_button || !el_info || !el_info.classList) { console.log('no meta_button'); return; }\n",
      "    var el = el_button;\n",
      "    var siblingsHidden = 0;\n",
      "    while (el = el.previousSibling) { if ((el.nodeType === 1) && (el.offsetWidth <= 0 || el.offsetHeight <= 0)) { siblingsHidden++; } }\n",
      "    var button_cookie = false;\n",
      "    if (browserType === 'desktop') {  button_cookie = vjs_readCookie('meta_more_button');   }\n",
      "    // We allow up to four of bling lines or additional player bio data entries in mobile.\n",
      "    if (el_info && el_button && (button_cookie || (siblingsHidden + bling_len <= 4))) {el_button.parentNode.removeChild(el_button);\tel_info.classList.add('open');  }\n",
      "    else { el_button.classList.add('show');  }\n",
      "}\n",
      "if (Modernizr.desktop || Modernizr.laptop) { sr_menus_checkInfoCookie_inline('desktop'); } else { sr_menus_checkInfoCookie_inline('mobile'); }\n",
      "var sr_menus_checkInfoCookie_run_inline = true;\n",
      " </script>\n",
      "</div>\n"
     ]
    }
   ],
   "source": [
    "with requests.get('https://www.baseball-reference.com/players/m/morgapi01.shtml') as fp:\n",
    "    soup = BeautifulSoup(fp.content, 'html.parser', from_encoding='utf_8')\n",
    "\n",
    "player_header = soup.find('div', id='meta').h1.parent\n",
    "print(player_header.prettify())"
   ],
   "metadata": {
    "collapsed": false,
    "ExecuteTime": {
     "end_time": "2023-11-22T01:48:03.530367Z",
     "start_time": "2023-11-22T01:48:02.644370Z"
    }
   },
   "id": "d0902df697ad35e6"
  },
  {
   "cell_type": "code",
   "execution_count": 5,
   "outputs": [],
   "source": [
    "player_data = json.loads(list(soup.find('script', type='application/ld+json').stripped_strings)[0])"
   ],
   "metadata": {
    "collapsed": false,
    "ExecuteTime": {
     "end_time": "2023-11-22T01:48:15.441548Z",
     "start_time": "2023-11-22T01:48:15.426511Z"
    }
   },
   "id": "77129c8b2a8a596e"
  },
  {
   "cell_type": "code",
   "execution_count": 8,
   "outputs": [
    {
     "name": "stdout",
     "output_type": "stream",
     "text": [
      "name='Pidgey Morgan', roster_first_name='Pidgey', roster_last_name='Morgan', name_suffix=None, full_name='Daniel Morgan', first_name='Daniel', middle_name=None, last_name='Morgan'\n"
     ]
    }
   ],
   "source": [
    "name = player_data['name'].split()\n",
    "roster_first_name, roster_last_name = name[0], name[1:]\n",
    "\n",
    "if roster_last_name[-1] in ['Jr.', 'Sr.', 'II', 'III', 'IV']:\n",
    "    roster_last_name, name_suffix = roster_last_name[:-1], roster_last_name[-1]\n",
    "else:\n",
    "    name_suffix = None\n",
    "\n",
    "full_name = str(player_header.find(lambda tag: tag is not None and 'Full Name' in str(tag.string)).next_sibling).strip().split()\n",
    "first_name = full_name[0]\n",
    "middle_name = [name for name in full_name[1:] if name not in roster_last_name]\n",
    "middle_name = ' '.join(middle_name) if middle_name else None\n",
    "name, full_name, roster_last_name, middle_name = ' '.join(name), ' '.join(full_name), ' '.join(roster_last_name),  ' '.join(middle_name) if middle_name else None\n",
    "last_name = roster_last_name\n",
    "\n",
    "print(f'{name=}, {roster_first_name=}, {roster_last_name=}, {name_suffix=}, {full_name=}, {first_name=}, {middle_name=}, {last_name=}')"
   ],
   "metadata": {
    "collapsed": false,
    "ExecuteTime": {
     "end_time": "2023-11-22T01:55:55.916154Z",
     "start_time": "2023-11-22T01:55:55.891811Z"
    }
   },
   "id": "70554fc945909959"
  },
  {
   "cell_type": "code",
   "execution_count": 11,
   "outputs": [
    {
     "data": {
      "text/plain": "array([nan, 'Jr.', 'III', 'II', 'Sr.', 'IV'], dtype=object)"
     },
     "execution_count": 11,
     "metadata": {},
     "output_type": "execute_result"
    }
   ],
   "source": [
    "df['namesuffix'].unique()"
   ],
   "metadata": {
    "collapsed": false,
    "ExecuteTime": {
     "end_time": "2023-11-21T02:28:27.536244Z",
     "start_time": "2023-11-21T02:28:27.523753Z"
    }
   },
   "id": "2150554e4b11b9e2"
  },
  {
   "cell_type": "code",
   "execution_count": 6,
   "outputs": [
    {
     "data": {
      "text/plain": "['Born:', 'May', '1853', 'in', 'MO', 'us']"
     },
     "execution_count": 6,
     "metadata": {},
     "output_type": "execute_result"
    }
   ],
   "source": [
    "birth_date = player_header.find_all(lambda tag: tag is not None and tag.has_attr('data-birth'))\n",
    "if birth_date:\n",
    "    birth_date = parse_date(birth_date[0]['data-birth'])\n",
    "    # birth_date = datetime.strptime(birth_date[0]['data-birth'], '%Y-%m-%d').date()\n",
    "    birth_place_str_list = list(player_header.find('a', string='Born:').parent.parent.stripped_strings)\n",
    "    # birth_state_province = \n",
    "    # birth_city, birth_state_province = [bp.replace('in ', '').strip(',')  if bp.upper() != 'US' else 'USA' for bp in birth_place_str_list[next(i for i, value in enumerate(birth_place_str_list) if value.isnumeric()) + 1:-1]]\n",
    "\n",
    "birth_place_str_list"
   ],
   "metadata": {
    "collapsed": false,
    "ExecuteTime": {
     "end_time": "2023-11-20T04:05:48.949972Z",
     "start_time": "2023-11-20T04:05:48.922634Z"
    }
   },
   "id": "f3c2da3177972b81"
  },
  {
   "cell_type": "code",
   "execution_count": 7,
   "outputs": [
    {
     "data": {
      "text/plain": "['Died:', 'January 30', ',', '1910', 'in\\xa0St. Louis,', 'MO']"
     },
     "execution_count": 7,
     "metadata": {},
     "output_type": "execute_result"
    }
   ],
   "source": [
    "death_date = player_header.find_all(lambda tag: tag is not None and tag.has_attr('data-death'))\n",
    "if death_date:\n",
    "    death_date = parse_date(death_date[0]['data-death'])\n",
    "    # death_date = datetime.strptime(death_date[0]['data-death'], '%Y-%m-%d').date()\n",
    "    death_place_str_list = list(player_header.find('a', string='Died:').parent.parent.stripped_strings)\n",
    "    # death_place_str_list = death_place_str_list[next(i for i, value in enumerate(death_place_str_list) if value.isnumeric()) + 1:]\n",
    "\n",
    "death_place_str_list"
   ],
   "metadata": {
    "collapsed": false,
    "ExecuteTime": {
     "end_time": "2023-11-20T04:06:00.738786Z",
     "start_time": "2023-11-20T04:06:00.716457Z"
    }
   },
   "id": "8da2c79708536a6b"
  },
  {
   "cell_type": "code",
   "execution_count": 12,
   "outputs": [
    {
     "data": {
      "text/plain": "['MO', 'us']"
     },
     "execution_count": 12,
     "metadata": {},
     "output_type": "execute_result"
    }
   ],
   "source": [
    "b = birth_place_str_list[next(i for i, value in enumerate(birth_place_str_list) if value.startswith('in')) + 1:]\n",
    "[value for value in b if value in STATE_DICT ]"
   ],
   "metadata": {
    "collapsed": false,
    "ExecuteTime": {
     "end_time": "2023-11-20T04:12:25.131865Z",
     "start_time": "2023-11-20T04:12:25.108528Z"
    }
   },
   "id": "7999f7a720c30bb6"
  },
  {
   "cell_type": "code",
   "execution_count": 21,
   "outputs": [
    {
     "data": {
      "text/plain": "48"
     },
     "execution_count": 21,
     "metadata": {},
     "output_type": "execute_result"
    }
   ],
   "source": [
    "df['birthcountry'].isna().sum()"
   ],
   "metadata": {
    "collapsed": false,
    "ExecuteTime": {
     "end_time": "2023-11-20T04:35:52.643026Z",
     "start_time": "2023-11-20T04:35:52.635373Z"
    }
   },
   "id": "9765f1ce54d7d39f"
  },
  {
   "cell_type": "code",
   "execution_count": null,
   "outputs": [],
   "source": [
    "{'USA': 'United States', 'VEN': 'Venezuela', 'DOM': 'Dominican Republic', 'MEX': 'Mexico', 'NIR': 'Northern Ireland', 'USSR': 'Soviet Union', 'NCA': 'Nicaragua', 'CUB': 'Cuba', 'PUR': 'Puerto Rico'}"
   ],
   "metadata": {
    "collapsed": false
   },
   "id": "31e03e07fa06e1c3"
  },
  {
   "cell_type": "code",
   "execution_count": 22,
   "outputs": [
    {
     "data": {
      "text/plain": "['VEN', 'DOM', 'MEX', 'NIR', 'USSR', 'NCA', 'CUB', 'PUR']"
     },
     "execution_count": 22,
     "metadata": {},
     "output_type": "execute_result"
    }
   ],
   "source": [
    "df.loc[(df['birthcountry'] != 'USA') & df['birthcountry'].str.isupper(), 'birthcountry'].value_counts().index.tolist()"
   ],
   "metadata": {
    "collapsed": false,
    "ExecuteTime": {
     "end_time": "2023-11-20T04:37:56.501750Z",
     "start_time": "2023-11-20T04:37:56.460993Z"
    }
   },
   "id": "62b5babafef72d6f"
  },
  {
   "cell_type": "code",
   "execution_count": 20,
   "outputs": [
    {
     "data": {
      "text/plain": "       fangraphsid  mlbamid         fullname firstname   lastname  birthdate  \\\n613            745   120074      David Ortiz     David      Ortiz 1975-11-18   \n1997          2882   501593      Luis Avilan      Luis     Avilan 1989-07-19   \n2116          3284   434671   Anibal Sanchez    Anibal    Sanchez 1984-02-27   \n2783          5702   448855    Junior Guerra    Junior     Guerra 1985-01-16   \n3419          8553   467827    Gerardo Parra   Gerardo      Parra 1987-05-06   \n3910         11338   506703   Adrian Sanchez    Adrian    Sanchez 1990-08-16   \n4077         12179   596748    Maikel Franco    Maikel     Franco 1992-08-26   \n4490         14366   608841     Joey Meneses      Joey    Meneses 1992-05-06   \n4498         14391   622795  Yohander Mendez  Yohander     Mendez 1995-01-17   \n4874         16411   620446    Richard Urena   Richard      Urena 1996-02-26   \n4972         17018   622446  Jefry Rodriguez     Jefry  Rodriguez 1993-07-26   \n5169         18213   664869      P.J. Conlon   Patrick     Conlon 1993-11-11   \n8471       1002439   112470      Victor Cole    Victor       Cole 1968-01-23   \n10796      1004990   115081      David Green     David      Green 1960-12-04   \n15195      1009772   119980       Tony Oliva      Tony      Oliva 1938-07-20   \n15758      1010382   120612     Juan Pizarro      Juan    Pizarro 1937-02-07   \n\n                      birthcity birthstateprovince birthcountry  active  ...  \\\n613               Santo Domingo                NaN          DOM   False  ...   \n1997                    Caracas                NaN          VEN   False  ...   \n2116                    Maracay                NaN          VEN    True  ...   \n2783                  San Felix                NaN          VEN    True  ...   \n3419    Santa Barbara del Zulia                NaN          VEN   False  ...   \n3910                  Maracaibo                NaN          VEN    True  ...   \n4077                       Azua                NaN          DOM    True  ...   \n4490                   Culiacan            Sinaloa          MEX    True  ...   \n4498                   Valencia                NaN          VEN    True  ...   \n4874   San Francisco de Macoris                NaN          DOM    True  ...   \n4972             Bajos de Haina                NaN          DOM    True  ...   \n5169                    Belfast                NaN          NIR   False  ...   \n8471                  Leningrad                NaN         USSR   False  ...   \n10796                   Managua                NaN          NCA   False  ...   \n15195             Pinar del Rio                NaN          CUB   False  ...   \n15758                  Santurce                NaN          PUR   False  ...   \n\n      batside pitchhand heightinches weight  strikezonetop strikezonebottom  \\\n613         L         L           75    230          3.490            1.601   \n1997        L         L           74    235          3.467            1.589   \n2116        R         R           72    207          3.371            1.535   \n2783        R         R           72    235          3.371            1.535   \n3419        L         L           71    209          3.170            1.520   \n3910        R         R           72    197          3.350            1.590   \n4077        R         R           73    225          3.240            1.510   \n4490        R         R           75    240          3.650            1.790   \n4498        L         L           76    230          3.549            1.627   \n4874        S         R           72    195          3.371            1.535   \n4972        R         R           78    230          3.656            1.677   \n5169        L         L           71    192          3.319            1.513   \n8471        S         R           70    160          3.301            1.504   \n10796       R         R           75    170          3.490            1.601   \n15195       L         R           74    190          3.467            1.589   \n15758       L         L           71    190          3.319            1.513   \n\n      lastplayeddate draftyear namesuffix primarynumber  \n613       2016-10-02      <NA>        NaN            34  \n1997      2021-04-15      <NA>        NaN            43  \n2116             NaT      <NA>        NaN            19  \n2783             NaT      <NA>        NaN            41  \n3419      2021-10-03      <NA>        NaN             8  \n3910             NaT      <NA>        NaN            14  \n4077             NaT      <NA>        NaN             7  \n4490             NaT      <NA>        NaN            45  \n4498             NaT      <NA>        NaN            74  \n4874             NaT      <NA>        NaN            47  \n4972             NaT      <NA>        NaN            39  \n5169      2018-07-10      2015        NaN          <NA>  \n8471      1992-07-09      1988        NaN            61  \n10796     1987-10-04      <NA>        NaN            22  \n15195     1976-09-29      <NA>        NaN             6  \n15758     1974-09-26      <NA>        NaN            32  \n\n[16 rows x 30 columns]",
      "text/html": "<div>\n<style scoped>\n    .dataframe tbody tr th:only-of-type {\n        vertical-align: middle;\n    }\n\n    .dataframe tbody tr th {\n        vertical-align: top;\n    }\n\n    .dataframe thead th {\n        text-align: right;\n    }\n</style>\n<table border=\"1\" class=\"dataframe\">\n  <thead>\n    <tr style=\"text-align: right;\">\n      <th></th>\n      <th>fangraphsid</th>\n      <th>mlbamid</th>\n      <th>fullname</th>\n      <th>firstname</th>\n      <th>lastname</th>\n      <th>birthdate</th>\n      <th>birthcity</th>\n      <th>birthstateprovince</th>\n      <th>birthcountry</th>\n      <th>active</th>\n      <th>...</th>\n      <th>batside</th>\n      <th>pitchhand</th>\n      <th>heightinches</th>\n      <th>weight</th>\n      <th>strikezonetop</th>\n      <th>strikezonebottom</th>\n      <th>lastplayeddate</th>\n      <th>draftyear</th>\n      <th>namesuffix</th>\n      <th>primarynumber</th>\n    </tr>\n  </thead>\n  <tbody>\n    <tr>\n      <th>613</th>\n      <td>745</td>\n      <td>120074</td>\n      <td>David Ortiz</td>\n      <td>David</td>\n      <td>Ortiz</td>\n      <td>1975-11-18</td>\n      <td>Santo Domingo</td>\n      <td>NaN</td>\n      <td>DOM</td>\n      <td>False</td>\n      <td>...</td>\n      <td>L</td>\n      <td>L</td>\n      <td>75</td>\n      <td>230</td>\n      <td>3.490</td>\n      <td>1.601</td>\n      <td>2016-10-02</td>\n      <td>&lt;NA&gt;</td>\n      <td>NaN</td>\n      <td>34</td>\n    </tr>\n    <tr>\n      <th>1997</th>\n      <td>2882</td>\n      <td>501593</td>\n      <td>Luis Avilan</td>\n      <td>Luis</td>\n      <td>Avilan</td>\n      <td>1989-07-19</td>\n      <td>Caracas</td>\n      <td>NaN</td>\n      <td>VEN</td>\n      <td>False</td>\n      <td>...</td>\n      <td>L</td>\n      <td>L</td>\n      <td>74</td>\n      <td>235</td>\n      <td>3.467</td>\n      <td>1.589</td>\n      <td>2021-04-15</td>\n      <td>&lt;NA&gt;</td>\n      <td>NaN</td>\n      <td>43</td>\n    </tr>\n    <tr>\n      <th>2116</th>\n      <td>3284</td>\n      <td>434671</td>\n      <td>Anibal Sanchez</td>\n      <td>Anibal</td>\n      <td>Sanchez</td>\n      <td>1984-02-27</td>\n      <td>Maracay</td>\n      <td>NaN</td>\n      <td>VEN</td>\n      <td>True</td>\n      <td>...</td>\n      <td>R</td>\n      <td>R</td>\n      <td>72</td>\n      <td>207</td>\n      <td>3.371</td>\n      <td>1.535</td>\n      <td>NaT</td>\n      <td>&lt;NA&gt;</td>\n      <td>NaN</td>\n      <td>19</td>\n    </tr>\n    <tr>\n      <th>2783</th>\n      <td>5702</td>\n      <td>448855</td>\n      <td>Junior Guerra</td>\n      <td>Junior</td>\n      <td>Guerra</td>\n      <td>1985-01-16</td>\n      <td>San Felix</td>\n      <td>NaN</td>\n      <td>VEN</td>\n      <td>True</td>\n      <td>...</td>\n      <td>R</td>\n      <td>R</td>\n      <td>72</td>\n      <td>235</td>\n      <td>3.371</td>\n      <td>1.535</td>\n      <td>NaT</td>\n      <td>&lt;NA&gt;</td>\n      <td>NaN</td>\n      <td>41</td>\n    </tr>\n    <tr>\n      <th>3419</th>\n      <td>8553</td>\n      <td>467827</td>\n      <td>Gerardo Parra</td>\n      <td>Gerardo</td>\n      <td>Parra</td>\n      <td>1987-05-06</td>\n      <td>Santa Barbara del Zulia</td>\n      <td>NaN</td>\n      <td>VEN</td>\n      <td>False</td>\n      <td>...</td>\n      <td>L</td>\n      <td>L</td>\n      <td>71</td>\n      <td>209</td>\n      <td>3.170</td>\n      <td>1.520</td>\n      <td>2021-10-03</td>\n      <td>&lt;NA&gt;</td>\n      <td>NaN</td>\n      <td>8</td>\n    </tr>\n    <tr>\n      <th>3910</th>\n      <td>11338</td>\n      <td>506703</td>\n      <td>Adrian Sanchez</td>\n      <td>Adrian</td>\n      <td>Sanchez</td>\n      <td>1990-08-16</td>\n      <td>Maracaibo</td>\n      <td>NaN</td>\n      <td>VEN</td>\n      <td>True</td>\n      <td>...</td>\n      <td>R</td>\n      <td>R</td>\n      <td>72</td>\n      <td>197</td>\n      <td>3.350</td>\n      <td>1.590</td>\n      <td>NaT</td>\n      <td>&lt;NA&gt;</td>\n      <td>NaN</td>\n      <td>14</td>\n    </tr>\n    <tr>\n      <th>4077</th>\n      <td>12179</td>\n      <td>596748</td>\n      <td>Maikel Franco</td>\n      <td>Maikel</td>\n      <td>Franco</td>\n      <td>1992-08-26</td>\n      <td>Azua</td>\n      <td>NaN</td>\n      <td>DOM</td>\n      <td>True</td>\n      <td>...</td>\n      <td>R</td>\n      <td>R</td>\n      <td>73</td>\n      <td>225</td>\n      <td>3.240</td>\n      <td>1.510</td>\n      <td>NaT</td>\n      <td>&lt;NA&gt;</td>\n      <td>NaN</td>\n      <td>7</td>\n    </tr>\n    <tr>\n      <th>4490</th>\n      <td>14366</td>\n      <td>608841</td>\n      <td>Joey Meneses</td>\n      <td>Joey</td>\n      <td>Meneses</td>\n      <td>1992-05-06</td>\n      <td>Culiacan</td>\n      <td>Sinaloa</td>\n      <td>MEX</td>\n      <td>True</td>\n      <td>...</td>\n      <td>R</td>\n      <td>R</td>\n      <td>75</td>\n      <td>240</td>\n      <td>3.650</td>\n      <td>1.790</td>\n      <td>NaT</td>\n      <td>&lt;NA&gt;</td>\n      <td>NaN</td>\n      <td>45</td>\n    </tr>\n    <tr>\n      <th>4498</th>\n      <td>14391</td>\n      <td>622795</td>\n      <td>Yohander Mendez</td>\n      <td>Yohander</td>\n      <td>Mendez</td>\n      <td>1995-01-17</td>\n      <td>Valencia</td>\n      <td>NaN</td>\n      <td>VEN</td>\n      <td>True</td>\n      <td>...</td>\n      <td>L</td>\n      <td>L</td>\n      <td>76</td>\n      <td>230</td>\n      <td>3.549</td>\n      <td>1.627</td>\n      <td>NaT</td>\n      <td>&lt;NA&gt;</td>\n      <td>NaN</td>\n      <td>74</td>\n    </tr>\n    <tr>\n      <th>4874</th>\n      <td>16411</td>\n      <td>620446</td>\n      <td>Richard Urena</td>\n      <td>Richard</td>\n      <td>Urena</td>\n      <td>1996-02-26</td>\n      <td>San Francisco de Macoris</td>\n      <td>NaN</td>\n      <td>DOM</td>\n      <td>True</td>\n      <td>...</td>\n      <td>S</td>\n      <td>R</td>\n      <td>72</td>\n      <td>195</td>\n      <td>3.371</td>\n      <td>1.535</td>\n      <td>NaT</td>\n      <td>&lt;NA&gt;</td>\n      <td>NaN</td>\n      <td>47</td>\n    </tr>\n    <tr>\n      <th>4972</th>\n      <td>17018</td>\n      <td>622446</td>\n      <td>Jefry Rodriguez</td>\n      <td>Jefry</td>\n      <td>Rodriguez</td>\n      <td>1993-07-26</td>\n      <td>Bajos de Haina</td>\n      <td>NaN</td>\n      <td>DOM</td>\n      <td>True</td>\n      <td>...</td>\n      <td>R</td>\n      <td>R</td>\n      <td>78</td>\n      <td>230</td>\n      <td>3.656</td>\n      <td>1.677</td>\n      <td>NaT</td>\n      <td>&lt;NA&gt;</td>\n      <td>NaN</td>\n      <td>39</td>\n    </tr>\n    <tr>\n      <th>5169</th>\n      <td>18213</td>\n      <td>664869</td>\n      <td>P.J. Conlon</td>\n      <td>Patrick</td>\n      <td>Conlon</td>\n      <td>1993-11-11</td>\n      <td>Belfast</td>\n      <td>NaN</td>\n      <td>NIR</td>\n      <td>False</td>\n      <td>...</td>\n      <td>L</td>\n      <td>L</td>\n      <td>71</td>\n      <td>192</td>\n      <td>3.319</td>\n      <td>1.513</td>\n      <td>2018-07-10</td>\n      <td>2015</td>\n      <td>NaN</td>\n      <td>&lt;NA&gt;</td>\n    </tr>\n    <tr>\n      <th>8471</th>\n      <td>1002439</td>\n      <td>112470</td>\n      <td>Victor Cole</td>\n      <td>Victor</td>\n      <td>Cole</td>\n      <td>1968-01-23</td>\n      <td>Leningrad</td>\n      <td>NaN</td>\n      <td>USSR</td>\n      <td>False</td>\n      <td>...</td>\n      <td>S</td>\n      <td>R</td>\n      <td>70</td>\n      <td>160</td>\n      <td>3.301</td>\n      <td>1.504</td>\n      <td>1992-07-09</td>\n      <td>1988</td>\n      <td>NaN</td>\n      <td>61</td>\n    </tr>\n    <tr>\n      <th>10796</th>\n      <td>1004990</td>\n      <td>115081</td>\n      <td>David Green</td>\n      <td>David</td>\n      <td>Green</td>\n      <td>1960-12-04</td>\n      <td>Managua</td>\n      <td>NaN</td>\n      <td>NCA</td>\n      <td>False</td>\n      <td>...</td>\n      <td>R</td>\n      <td>R</td>\n      <td>75</td>\n      <td>170</td>\n      <td>3.490</td>\n      <td>1.601</td>\n      <td>1987-10-04</td>\n      <td>&lt;NA&gt;</td>\n      <td>NaN</td>\n      <td>22</td>\n    </tr>\n    <tr>\n      <th>15195</th>\n      <td>1009772</td>\n      <td>119980</td>\n      <td>Tony Oliva</td>\n      <td>Tony</td>\n      <td>Oliva</td>\n      <td>1938-07-20</td>\n      <td>Pinar del Rio</td>\n      <td>NaN</td>\n      <td>CUB</td>\n      <td>False</td>\n      <td>...</td>\n      <td>L</td>\n      <td>R</td>\n      <td>74</td>\n      <td>190</td>\n      <td>3.467</td>\n      <td>1.589</td>\n      <td>1976-09-29</td>\n      <td>&lt;NA&gt;</td>\n      <td>NaN</td>\n      <td>6</td>\n    </tr>\n    <tr>\n      <th>15758</th>\n      <td>1010382</td>\n      <td>120612</td>\n      <td>Juan Pizarro</td>\n      <td>Juan</td>\n      <td>Pizarro</td>\n      <td>1937-02-07</td>\n      <td>Santurce</td>\n      <td>NaN</td>\n      <td>PUR</td>\n      <td>False</td>\n      <td>...</td>\n      <td>L</td>\n      <td>L</td>\n      <td>71</td>\n      <td>190</td>\n      <td>3.319</td>\n      <td>1.513</td>\n      <td>1974-09-26</td>\n      <td>&lt;NA&gt;</td>\n      <td>NaN</td>\n      <td>32</td>\n    </tr>\n  </tbody>\n</table>\n<p>16 rows × 30 columns</p>\n</div>"
     },
     "execution_count": 20,
     "metadata": {},
     "output_type": "execute_result"
    }
   ],
   "source": [
    "df[(df['birthcountry'] != 'USA') & df['birthcountry'].str.isupper()]"
   ],
   "metadata": {
    "collapsed": false,
    "ExecuteTime": {
     "end_time": "2023-11-20T04:33:48.118186Z",
     "start_time": "2023-11-20T04:33:48.082794Z"
    }
   },
   "id": "a1b19df00ea23c79"
  },
  {
   "cell_type": "code",
   "execution_count": 24,
   "outputs": [
    {
     "data": {
      "text/plain": "      fangraphsid  mlbamid        fullname firstname  lastname  birthdate  \\\n6350      1000092   110096  Eddie Ainsmith    Edward  Ainsmith 1890-02-04   \n\n     birthcity birthstateprovince        birthcountry  active  ... batside  \\\n6350       NaN                NaN  Russian Federation   False  ...       R   \n\n     pitchhand heightinches weight  strikezonetop strikezonebottom  \\\n6350         R           71    180          3.319            1.513   \n\n     lastplayeddate draftyear namesuffix primarynumber  \n6350     1924-07-21      <NA>        NaN          <NA>  \n\n[1 rows x 30 columns]",
      "text/html": "<div>\n<style scoped>\n    .dataframe tbody tr th:only-of-type {\n        vertical-align: middle;\n    }\n\n    .dataframe tbody tr th {\n        vertical-align: top;\n    }\n\n    .dataframe thead th {\n        text-align: right;\n    }\n</style>\n<table border=\"1\" class=\"dataframe\">\n  <thead>\n    <tr style=\"text-align: right;\">\n      <th></th>\n      <th>fangraphsid</th>\n      <th>mlbamid</th>\n      <th>fullname</th>\n      <th>firstname</th>\n      <th>lastname</th>\n      <th>birthdate</th>\n      <th>birthcity</th>\n      <th>birthstateprovince</th>\n      <th>birthcountry</th>\n      <th>active</th>\n      <th>...</th>\n      <th>batside</th>\n      <th>pitchhand</th>\n      <th>heightinches</th>\n      <th>weight</th>\n      <th>strikezonetop</th>\n      <th>strikezonebottom</th>\n      <th>lastplayeddate</th>\n      <th>draftyear</th>\n      <th>namesuffix</th>\n      <th>primarynumber</th>\n    </tr>\n  </thead>\n  <tbody>\n    <tr>\n      <th>6350</th>\n      <td>1000092</td>\n      <td>110096</td>\n      <td>Eddie Ainsmith</td>\n      <td>Edward</td>\n      <td>Ainsmith</td>\n      <td>1890-02-04</td>\n      <td>NaN</td>\n      <td>NaN</td>\n      <td>Russian Federation</td>\n      <td>False</td>\n      <td>...</td>\n      <td>R</td>\n      <td>R</td>\n      <td>71</td>\n      <td>180</td>\n      <td>3.319</td>\n      <td>1.513</td>\n      <td>1924-07-21</td>\n      <td>&lt;NA&gt;</td>\n      <td>NaN</td>\n      <td>&lt;NA&gt;</td>\n    </tr>\n  </tbody>\n</table>\n<p>1 rows × 30 columns</p>\n</div>"
     },
     "execution_count": 24,
     "metadata": {},
     "output_type": "execute_result"
    }
   ],
   "source": [
    "df[df['birthcountry'] == 'Russian Federation']"
   ],
   "metadata": {
    "collapsed": false,
    "ExecuteTime": {
     "end_time": "2023-11-20T04:54:29.515611Z",
     "start_time": "2023-11-20T04:54:29.487512Z"
    }
   },
   "id": "7386340148275068"
  },
  {
   "cell_type": "code",
   "execution_count": 60,
   "outputs": [
    {
     "data": {
      "text/plain": "['MO', 'us']"
     },
     "execution_count": 60,
     "metadata": {},
     "output_type": "execute_result"
    }
   ],
   "source": [
    "t = [p.strip() for p in birth_place_str_list[next(i for i, value in enumerate(birth_place_str_list) if value.isnumeric()) + 1:] if p.strip() != 'in']\n",
    "if t[0] in STATE_DICT:\n",
    "    birth_country = 'USA'\n",
    "    "
   ],
   "metadata": {
    "collapsed": false,
    "ExecuteTime": {
     "end_time": "2023-11-19T05:47:23.987742Z",
     "start_time": "2023-11-19T05:47:23.975476Z"
    }
   },
   "id": "db95ba2cb62b6478"
  },
  {
   "cell_type": "code",
   "execution_count": 46,
   "outputs": [
    {
     "ename": "UnicodeDecodeError",
     "evalue": "'utf-8' codec can't decode byte 0xa0 in position 0: invalid start byte",
     "output_type": "error",
     "traceback": [
      "\u001B[0;31m---------------------------------------------------------------------------\u001B[0m",
      "\u001B[0;31mUnicodeDecodeError\u001B[0m                        Traceback (most recent call last)",
      "Cell \u001B[0;32mIn[46], line 1\u001B[0m\n\u001B[0;32m----> 1\u001B[0m \u001B[38;5;124;43mb\u001B[39;49m\u001B[38;5;124;43m'\u001B[39;49m\u001B[38;5;130;43;01m\\xa0\u001B[39;49;00m\u001B[38;5;124;43m'\u001B[39;49m\u001B[38;5;241;43m.\u001B[39;49m\u001B[43mdecode\u001B[49m\u001B[43m(\u001B[49m\u001B[38;5;124;43m'\u001B[39;49m\u001B[38;5;124;43mutf-8\u001B[39;49m\u001B[38;5;124;43m'\u001B[39;49m\u001B[43m)\u001B[49m\n",
      "\u001B[0;31mUnicodeDecodeError\u001B[0m: 'utf-8' codec can't decode byte 0xa0 in position 0: invalid start byte"
     ]
    }
   ],
   "source": [
    "b'\\xa0'.decode('utf-8')"
   ],
   "metadata": {
    "collapsed": false,
    "ExecuteTime": {
     "end_time": "2023-11-19T05:21:01.863410Z",
     "start_time": "2023-11-19T05:21:01.825380Z"
    }
   },
   "id": "a5288d845b3423e5"
  },
  {
   "cell_type": "code",
   "execution_count": 67,
   "outputs": [
    {
     "data": {
      "text/plain": "5"
     },
     "execution_count": 67,
     "metadata": {},
     "output_type": "execute_result"
    }
   ],
   "source": [
    "position_mapping = {**{value: i + 1 for i, value in enumerate(['Pitcher', 'Catcher', 'First Baseman', 'Second Baseman', 'Third Baseman', 'Shortstop', 'Left Fielder', 'Center Fielder', 'Right Fielder', 'Designated Hitter', 'Pinch Hitter', 'Pinch Runner'])}, 'Infielder': 'I', 'Outfielder': 'O', 'Two-Way Player': 'Y'}\n",
    "\n",
    "position_mapping[list(player_header.find_all(lambda tag: tag is not None and 'Positions' in str(tag.string))[0].next_sibling.stripped_strings)[0].replace(' and ', ', ').split(', ')[0]]"
   ],
   "metadata": {
    "collapsed": false,
    "ExecuteTime": {
     "end_time": "2023-11-18T05:08:00.309657Z",
     "start_time": "2023-11-18T05:08:00.263424Z"
    }
   },
   "id": "db53ad749fc523d7"
  },
  {
   "cell_type": "code",
   "execution_count": 55,
   "outputs": [
    {
     "data": {
      "text/plain": "['Norman Glaser',\n 'Position:',\n 'Pitcher',\n 'Bats:',\n 'Right\\n        \\xa0•',\n 'Throws:',\n 'Right',\n '5-11',\n ',',\n '186lb',\n '(180cm,\\xa084kg)',\n 'Born:',\n 'August 31',\n ',',\n '1894',\n 'in Cleveland,',\n 'OH',\n 'us',\n 'Died:',\n 'May 27',\n ',',\n '1979',\n 'in\\xa0Parma,',\n 'OH',\n 'Buried',\n ':',\n 'Sunset Memorial Park, North Olmsted, OH',\n 'Debut:',\n 'September 21, 1920',\n '(Age 26-021d,\\n    5,116th in major league history)',\n 'vs. WSH',\n '2.1 IP, 7 H, 0 SO, 0 BB, 4 ER',\n 'Last Game:',\n 'September 21, 1920',\n '(Age 26-021d)',\n 'vs. WSH',\n '2.1 IP, 7 H, 0 SO, 0 BB, 4 ER',\n 'Full Name:',\n 'Norman Matthew Glaser',\n 'View Player Info',\n 'from the',\n 'B-R Bullpen',\n 'More bio, uniform, draft, salary info']"
     },
     "execution_count": 55,
     "metadata": {},
     "output_type": "execute_result"
    }
   ],
   "source": [
    "full_name = str(player_header.find(lambda tag: tag is not None and 'Full Name' in str(tag.string)).next_sibling).strip().split()\n",
    "first_name, last_name = full_name[0], full_name[-1]\n",
    "if len(full_name) == 4:\n",
    "    middle_name, last_name, name_suffix = full_name[1:]\n",
    "elif len(full_name) == 3:\n",
    "    if full_name[-1] in ['Jr.', 'Sr.', 'II', 'III', 'IV']:\n",
    "        last_name, name_suffix = full_name[1:]\n",
    "    else:\n",
    "        middle_name = full_name[1]\n",
    "    \n",
    "full_name = str(player_header.find('h1').string).strip()\n",
    "roster_first_name, roster_last_name = full_name.split()\n",
    "\n",
    "birth_date = player_header.find_all(lambda tag: tag is not None and tag.has_attr('data-birth'))\n",
    "if birth_date:\n",
    "    birth_date = datetime.strptime(birth_date['data-birth'], '%Y-%m-%d').date()\n",
    "    birth_place_str_list = list(player_header.find('a', string='Born:').parent.parent.stripped_strings)\n",
    "    birth_city, birth_state_province, birth_country = [bp.replace('in ', '').strip(',')  if bp.upper() != 'US' else 'USA' for bp in birth_place_str_list[next(i for i, value in enumerate(birth_place_str_list) if value.isnumeric()) + 1:]]\n",
    "\n",
    "death_date = player_header.find_all(lambda tag: tag is not None and tag.has_attr('data-death'))\n",
    "if death_date:\n",
    "    death_date = datetime.strptime(death_date[0]['data-death'], '%Y-%m-%d').date()\n",
    "    death_place_str_list = list(player_header.find('a', string='Died:').parent.parent.stripped_strings)\n",
    "    death_place_str_list = death_place_str_list[next(i for i, value in enumerate(death_place_str_list) if value.isnumeric()) + 1:]\n",
    "    death_city, death_state_province, death_country = [bp.replace('in ', '').strip(',')  if bp.upper() != 'US' else 'USA' for bp in death_place_str_list]\n",
    "\n",
    "debut_date = player_header.find_all(lambda tag: tag is not None and 'Debut' in str(tag.string))\n",
    "if debut_date:\n",
    "    debut_date = datetime.strptime(str(debut_date[0].parent.next_sibling.next_sibling.string).strip(), '%B %d, %Y').date()\n",
    "    \n",
    "last_played_date = player_header.find_all(lambda tag: tag is not None and 'Last Game' in str(tag.string))\n",
    "if last_played_date:\n",
    "    last_played_date = datetime.strptime(str(last_played_date[0].parent.next_sibling.next_sibling.string).strip(), '%B %d, %Y').date()\n",
    "\n",
    "bat_throw = player_header.find_all(lambda tag: tag is not None and 'Bats' in str(tag.string))\n",
    "if bat_throw:\n",
    "    side_dict = {'Left': 'L', 'Right': 'R', 'Both': 'S'}\n",
    "    bat_throw = [re.match(re.compile(r'[A-Z]+', re.IGNORECASE), x)[0] for x in list(bat_throw[0].parent.stripped_strings)]\n",
    "    bat_side = side_dict[bat_throw[bat_throw.index('Bats') + 1]]\n",
    "    pitch_hand = side_dict[bat_throw[bat_throw.index('Throws') + 1]]\n",
    "\n",
    "height_inches = player_header.find_all(lambda tag: tag is not None and re.match(r'[0-9]+-[0-9]+', str(tag.string)))\n",
    "if height_inches:\n",
    "    height_inches = np.array(height_inches[0].string.split('-'), dtype=int) @ np.array([12, 1])\n",
    "\n",
    "weight = player_header.find_all(lambda tag: tag is not None and re.match(r'[0-9]+lb', str(tag.string)))\n",
    "if weight:\n",
    "    weight = int(str(weight[0].string).strip().replace('lb', ''))\n",
    "\n",
    "draft_year = player_header.find_all(lambda tag: tag is not None and 'Draft' in str(tag.string))\n",
    "if draft_year:\n",
    "    draft_year = parse_qs(urlparse(draft_year)[0].parent.find('a').get('href').query)['year_ID'][0]\n",
    "\n",
    "primary_position = player_header.find_all(lambda tag: tag is not None and 'Positions' in str(tag.string))\n",
    "if primary_position:\n",
    "    primary_position = POSITION_MAPPING[list(primary_position[0].next_sibling.stripped_strings)[0].replace(' and ', ', ').split(', ')[0]]\n",
    "\n",
    "primary_number = soup.find_all('span', id='bling-alt-text')\n",
    "if primary_number:\n",
    "    primary_number = [l for l in primary_number[0].string.split('\\n\\n') if l]\n",
    "    primary_number = pd.DataFrame([re.compile(r'[0-9]+[-0-9]*[0-9]+').findall(a) for a in primary_number[primary_number.index('Uniforms:') + 1].split('\\n')], columns=['Number', 'Years'])\n",
    "    primary_number['Years'] = primary_number['Years'].apply(lambda x: 1 - eval(x))\n",
    "    primary_number = int(primary_number.groupby('Number')['Years'].sum().idxmax())"
   ],
   "metadata": {
    "collapsed": false,
    "ExecuteTime": {
     "end_time": "2023-11-15T06:16:14.337235Z",
     "start_time": "2023-11-15T06:16:14.298658Z"
    }
   },
   "id": "3632503b262cab52"
  },
  {
   "cell_type": "code",
   "execution_count": 45,
   "outputs": [
    {
     "data": {
      "text/plain": "['\\n',\n <div class=\"media-item\"><img alt=\"Photo of Norman Glaser\" class=\"\" src=\"https://www.baseball-reference.com/req/202311010/images/headshots/5/5db5c652_davis.jpg\"/>\n </div>,\n ' div.media-item ',\n <div>\n <h1>\n <span>Norman Glaser</span>\n </h1>\n <p>\n <strong>Position:</strong>\n     Pitcher\n   \n </p>\n <p>\n <strong>Bats: </strong>Right\n          • \n \t<strong>Throws: </strong>Right\n     \n </p>\n <p><span>5-11</span>, <span>186lb</span> (180cm, 84kg) </p>\n <p>\n <strong><a href=\"/bio/\">Born:</a></strong>\n <span data-birth=\"1894-08-31\" id=\"necro-birth\">\n <a href=\"/friv/birthdays.cgi?month=8&amp;day=31\">August 31</a>, <a href=\"/leagues/majors/1894-births.shtml\">1894</a>\n </span>\n <span>\n     \n       in Cleveland, <a href=\"/bio/OH_born.shtml\">OH</a>\n </span>\n <span class=\"f-i f-us\" style=\"\">us</span>\n </p>\n <p><strong><a href=\"/bio/\">Died:</a></strong>\n <span data-death=\"1979-05-27\" id=\"necro-death\"><a href=\"/friv/dateofdeath.cgi?month=5&amp;day=27\">May 27</a>, <a href=\"/leagues/majors/1979-deaths.shtml\">1979</a>\n </span>\n <span>\n     in Parma, <a href=\"/bio/OH_died.shtml\">OH</a></span>\n </p>\n <p>\n <strong><a href=\"/bio/#all_location-of-burial\">Buried</a>:</strong>\n     \n         \n         Sunset Memorial Park, North Olmsted, OH\n     \n </p>\n <p><strong><a href=\"/leagues/majors/1920-debuts.shtml\">Debut:</a></strong>\n <a href=\"/tools/route.cgi?dest=debut&amp;id=glaseno01&amp;game_id=DET192009210\">\n     September 21, 1920\n     </a>\n     (Age 26-021d,\n     5,116th in major league history)\n     <br/>   <a href=\"/boxes/DET/DET192009210.shtml\">vs. WSH</a> 2.1 IP, 7 H, 0 SO, 0 BB, 4 ER\n     \n   </p>\n <p><strong><a href=\"/leagues/majors/1920-finalyear.shtml\">Last Game:</a></strong>\n <a href=\"/tools/route.cgi?dest=finalGame&amp;id=glaseno01&amp;game_id=DET192009210\">September 21, 1920</a>\n     (Age 26-021d)\n     <br/>   <a href=\"/boxes/DET/DET192009210.shtml\">vs. WSH</a> 2.1 IP, 7 H, 0 SO, 0 BB, 4 ER\n   </p>\n <p>\n <strong>Full Name:</strong> Norman Matthew Glaser \n </p>\n <p>\n <a href=\"https://www.baseball-reference.com/bullpen/Norman_Glaser\" target=\"_blank\">View Player Info</a> \n   from the <a href=\"https://www.baseball-reference.com/bullpen/\" target=\"_blank\">B-R Bullpen</a>\n </p>\n <button class=\"opener\" data-class=\"open\" data-id=\"info\" data-type=\"hide_after\" id=\"meta_more_button\">More bio, uniform, draft, salary info</button>\n <script>\n // see sr.menus.js:sr_menus_checkInfoCookie to explain\n function sr_menus_checkInfoCookie_inline(browserType) {\n     var el_info = document.getElementById('info');\n     var el_button = document.getElementById('meta_more_button');\n     var bling_len = 0;    \n     if (!el_button || !el_info || !el_info.classList) { console.log('no meta_button'); return; }\n     var el = el_button;\n     var siblingsHidden = 0;\n     while (el = el.previousSibling) { if ((el.nodeType === 1) && (el.offsetWidth <= 0 || el.offsetHeight <= 0)) { siblingsHidden++; } }\n     var button_cookie = false;\n     if (browserType === 'desktop') {  button_cookie = vjs_readCookie('meta_more_button');   }\n     // We allow up to four of bling lines or additional player bio data entries in mobile.\n     if (el_info && el_button && (button_cookie || (siblingsHidden + bling_len <= 4))) {el_button.parentNode.removeChild(el_button);\tel_info.classList.add('open');  }\n     else { el_button.classList.add('show');  }\n }\n if (Modernizr.desktop || Modernizr.laptop) { sr_menus_checkInfoCookie_inline('desktop'); } else { sr_menus_checkInfoCookie_inline('mobile'); }\n var sr_menus_checkInfoCookie_run_inline = true;\n </script>\n </div>,\n '\\n']"
     },
     "execution_count": 45,
     "metadata": {},
     "output_type": "execute_result"
    }
   ],
   "source": [
    "BeautifulSoup(requests.get('https://www.baseball-reference.com/players/g/glaseno01.shtml').content, 'html.parser', from_encoding='utf_8').find('div', id='meta').contents"
   ],
   "metadata": {
    "collapsed": false,
    "ExecuteTime": {
     "end_time": "2023-11-15T05:43:19.685940Z",
     "start_time": "2023-11-15T05:43:19.430922Z"
    }
   },
   "id": "b13c6def44946296"
  },
  {
   "cell_type": "code",
   "execution_count": 31,
   "outputs": [
    {
     "data": {
      "text/plain": "['\\n',\n '\\n',\n '\\n',\n '\\n',\n 'Norman Glaser',\n '\\n',\n '\\n',\n '\\n',\n 'Position:',\n '\\n    Pitcher\\n  \\n',\n '\\n',\n '\\n',\n 'Bats: ',\n 'Right\\n        \\xa0•\\xa0\\n\\t',\n 'Throws: ',\n 'Right\\n    \\n',\n '\\n',\n '5-11',\n ',\\xa0',\n '186lb',\n '\\xa0(180cm,\\xa084kg) ',\n '\\n',\n '\\n',\n 'Born:',\n '\\n',\n '\\n',\n 'August 31',\n ', ',\n '1894',\n '\\n',\n '\\n',\n '\\n    \\n      in Cleveland, ',\n 'OH',\n '\\n',\n '\\n',\n 'us',\n '\\n',\n '\\n',\n 'Died:',\n '\\n',\n 'May 27',\n ', ',\n '1979',\n '\\n',\n '\\n',\n '\\n    in\\xa0Parma,\\xa0',\n 'OH',\n '\\n',\n '\\n',\n '\\n',\n 'Buried',\n ':',\n '\\n    \\n        \\n        Sunset Memorial Park, North Olmsted, OH\\n    \\n',\n '\\n',\n 'Debut:',\n '\\n',\n '\\n    September 21, 1920\\n    ',\n '\\n    (Age 26-021d,\\n    5,116th in major league history)\\n    ',\n '\\xa0\\xa0\\xa0',\n 'vs. WSH',\n ' 2.1 IP, 7 H, 0 SO, 0 BB, 4 ER\\n    \\n  ',\n '\\n',\n 'Last Game:',\n '\\n',\n 'September 21, 1920',\n '\\n    (Age 26-021d)\\n    ',\n '\\xa0\\xa0\\xa0',\n 'vs. WSH',\n ' 2.1 IP, 7 H, 0 SO, 0 BB, 4 ER\\n  ',\n '\\n',\n '\\n',\n 'Full Name:',\n ' Norman Matthew Glaser \\n',\n '\\n',\n '\\n',\n 'View Player Info',\n ' \\n  from the ',\n 'B-R Bullpen',\n '\\n',\n '\\n',\n 'More bio, uniform, draft, salary info',\n '\\n',\n '\\n',\n '\\n']"
     },
     "execution_count": 31,
     "metadata": {},
     "output_type": "execute_result"
    }
   ],
   "source": [
    "list(BeautifulSoup(requests.get('https://www.baseball-reference.com/players/g/glaseno01.shtml').content, 'html.parser', from_encoding='utf_8').find('div', id='meta').strings)"
   ],
   "metadata": {
    "collapsed": false,
    "ExecuteTime": {
     "end_time": "2023-11-15T05:11:29.699051Z",
     "start_time": "2023-11-15T05:11:29.462744Z"
    }
   },
   "id": "b5cbb0c2c9e01a27"
  },
  {
   "cell_type": "code",
   "execution_count": null,
   "id": "f99bb2f5294168fb",
   "metadata": {
    "id": "f99bb2f5294168fb",
    "outputId": "862a3cac-ae4d-49e0-bab6-c6418686b2b6"
   },
   "outputs": [],
   "source": [
    "BeautifulSoup(requests.get('https://www.fangraphs.com/leaders/major-league?pos=all&stats=bat&lg=aa&lg=nl&type=8&season=2023&month=0&season1=1871&ind=0&team=0&rost=0&players=0&qual=0&pagenum=1&pageitems=2000000000').content, 'html.parser', from_encoding='utf_8').find('script', type='application/json').text"
   ]
  },
  {
   "cell_type": "code",
   "execution_count": 23,
   "outputs": [],
   "source": [
    "browser = webdriver.Chrome(options=webdriver.ChromeOptions().add_argument('headless'))\n",
    "browser.get('https://www.fangraphs.com/leaders/minor-league?pos=all&level=1&lg=2,4,5,6,7,8,9,10,11,14,12,13,15,16,17,18,30,32,33&stats=bat&qual=0&type=0&team=&season=2023&seasonEnd=2023&org=&ind=0&splitTeam=false&players=&sort=23,1')\n",
    "soup = BeautifulSoup(browser.page_source, \"html.parser\")"
   ],
   "metadata": {
    "collapsed": false,
    "ExecuteTime": {
     "end_time": "2023-10-20T04:52:31.324430Z",
     "start_time": "2023-10-20T04:50:55.997222Z"
    }
   },
   "id": "7fed50df8cad3ab"
  },
  {
   "cell_type": "code",
   "execution_count": null,
   "outputs": [],
   "source": [
    "stats = soup.find('a', class_='data-export')['href'].strip('data:application/csv;charset=utf-8,')\n",
    "stats.replace('%2C', ',').replace('%22', '\"').replace('%20', ' ').replace('%0A', '\\n')"
   ],
   "metadata": {
    "collapsed": false
   },
   "id": "7bec843114bb641"
  },
  {
   "cell_type": "code",
   "execution_count": null,
   "outputs": [],
   "source": [
    "statsreader = csv.reader(stats, delimiter='', lineterminator='%22%0A%22')"
   ],
   "metadata": {
    "collapsed": false
   },
   "id": "12f5b6aec8317f18"
  },
  {
   "cell_type": "code",
   "execution_count": null,
   "outputs": [],
   "source": [
    "pd.read_csv(stats.replace('%2C', ',').replace('%22', '\"').replace('%20', ' ').replace('%0A', '\\n'))"
   ],
   "metadata": {
    "collapsed": false
   },
   "id": "4dc057f6f17b52e5"
  },
  {
   "cell_type": "code",
   "execution_count": null,
   "outputs": [],
   "source": [
    "pd.read_csv(soup.find('a', class_='data-export')['href'])"
   ],
   "metadata": {
    "collapsed": false
   },
   "id": "359861ffed29f4c4"
  }
 ],
 "metadata": {
  "kernelspec": {
   "display_name": "Python 3 (ipykernel)",
   "language": "python",
   "name": "python3"
  },
  "language_info": {
   "codemirror_mode": {
    "name": "ipython",
    "version": 3
   },
   "file_extension": ".py",
   "mimetype": "text/x-python",
   "name": "python",
   "nbconvert_exporter": "python",
   "pygments_lexer": "ipython3",
   "version": "3.12.0"
  },
  "colab": {
   "provenance": []
  }
 },
 "nbformat": 4,
 "nbformat_minor": 5
}
